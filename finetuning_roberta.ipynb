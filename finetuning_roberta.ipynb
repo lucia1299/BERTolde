{
  "nbformat": 4,
  "nbformat_minor": 0,
  "metadata": {
    "colab": {
      "provenance": [],
      "gpuType": "T4",
      "include_colab_link": true
    },
    "kernelspec": {
      "name": "python3",
      "display_name": "Python 3"
    },
    "language_info": {
      "name": "python"
    },
    "widgets": {
      "application/vnd.jupyter.widget-state+json": {
        "277e1456af2a4c5f8b3c9c22f83a14ed": {
          "model_module": "@jupyter-widgets/controls",
          "model_name": "HBoxModel",
          "model_module_version": "1.5.0",
          "state": {
            "_dom_classes": [],
            "_model_module": "@jupyter-widgets/controls",
            "_model_module_version": "1.5.0",
            "_model_name": "HBoxModel",
            "_view_count": null,
            "_view_module": "@jupyter-widgets/controls",
            "_view_module_version": "1.5.0",
            "_view_name": "HBoxView",
            "box_style": "",
            "children": [
              "IPY_MODEL_d63f39bcc8cb4837b447ae421e1a86ce",
              "IPY_MODEL_31e3ebe7ec6f42d685ebfed63ee94262",
              "IPY_MODEL_1ddecb7a254046d5a78e5f29efa29059"
            ],
            "layout": "IPY_MODEL_8eb9c4430a3b43a09512938db54f5650"
          }
        },
        "d63f39bcc8cb4837b447ae421e1a86ce": {
          "model_module": "@jupyter-widgets/controls",
          "model_name": "HTMLModel",
          "model_module_version": "1.5.0",
          "state": {
            "_dom_classes": [],
            "_model_module": "@jupyter-widgets/controls",
            "_model_module_version": "1.5.0",
            "_model_name": "HTMLModel",
            "_view_count": null,
            "_view_module": "@jupyter-widgets/controls",
            "_view_module_version": "1.5.0",
            "_view_name": "HTMLView",
            "description": "",
            "description_tooltip": null,
            "layout": "IPY_MODEL_116078d2beec4b8c9c36d066c0ac858f",
            "placeholder": "​",
            "style": "IPY_MODEL_cb9a7eaf8293481993e0039a4d0fef1c",
            "value": "Map: 100%"
          }
        },
        "31e3ebe7ec6f42d685ebfed63ee94262": {
          "model_module": "@jupyter-widgets/controls",
          "model_name": "FloatProgressModel",
          "model_module_version": "1.5.0",
          "state": {
            "_dom_classes": [],
            "_model_module": "@jupyter-widgets/controls",
            "_model_module_version": "1.5.0",
            "_model_name": "FloatProgressModel",
            "_view_count": null,
            "_view_module": "@jupyter-widgets/controls",
            "_view_module_version": "1.5.0",
            "_view_name": "ProgressView",
            "bar_style": "success",
            "description": "",
            "description_tooltip": null,
            "layout": "IPY_MODEL_7037a9b126a04b2ea1ef9218fc4f6bfd",
            "max": 11227,
            "min": 0,
            "orientation": "horizontal",
            "style": "IPY_MODEL_324b51c13f45484c850e056b75081601",
            "value": 11227
          }
        },
        "1ddecb7a254046d5a78e5f29efa29059": {
          "model_module": "@jupyter-widgets/controls",
          "model_name": "HTMLModel",
          "model_module_version": "1.5.0",
          "state": {
            "_dom_classes": [],
            "_model_module": "@jupyter-widgets/controls",
            "_model_module_version": "1.5.0",
            "_model_name": "HTMLModel",
            "_view_count": null,
            "_view_module": "@jupyter-widgets/controls",
            "_view_module_version": "1.5.0",
            "_view_name": "HTMLView",
            "description": "",
            "description_tooltip": null,
            "layout": "IPY_MODEL_0f80705d473147659a5c0d27767cf984",
            "placeholder": "​",
            "style": "IPY_MODEL_d2281c3ef0a34928b4960222869ef43d",
            "value": " 11227/11227 [00:06&lt;00:00, 2563.21 examples/s]"
          }
        },
        "8eb9c4430a3b43a09512938db54f5650": {
          "model_module": "@jupyter-widgets/base",
          "model_name": "LayoutModel",
          "model_module_version": "1.2.0",
          "state": {
            "_model_module": "@jupyter-widgets/base",
            "_model_module_version": "1.2.0",
            "_model_name": "LayoutModel",
            "_view_count": null,
            "_view_module": "@jupyter-widgets/base",
            "_view_module_version": "1.2.0",
            "_view_name": "LayoutView",
            "align_content": null,
            "align_items": null,
            "align_self": null,
            "border": null,
            "bottom": null,
            "display": null,
            "flex": null,
            "flex_flow": null,
            "grid_area": null,
            "grid_auto_columns": null,
            "grid_auto_flow": null,
            "grid_auto_rows": null,
            "grid_column": null,
            "grid_gap": null,
            "grid_row": null,
            "grid_template_areas": null,
            "grid_template_columns": null,
            "grid_template_rows": null,
            "height": null,
            "justify_content": null,
            "justify_items": null,
            "left": null,
            "margin": null,
            "max_height": null,
            "max_width": null,
            "min_height": null,
            "min_width": null,
            "object_fit": null,
            "object_position": null,
            "order": null,
            "overflow": null,
            "overflow_x": null,
            "overflow_y": null,
            "padding": null,
            "right": null,
            "top": null,
            "visibility": null,
            "width": null
          }
        },
        "116078d2beec4b8c9c36d066c0ac858f": {
          "model_module": "@jupyter-widgets/base",
          "model_name": "LayoutModel",
          "model_module_version": "1.2.0",
          "state": {
            "_model_module": "@jupyter-widgets/base",
            "_model_module_version": "1.2.0",
            "_model_name": "LayoutModel",
            "_view_count": null,
            "_view_module": "@jupyter-widgets/base",
            "_view_module_version": "1.2.0",
            "_view_name": "LayoutView",
            "align_content": null,
            "align_items": null,
            "align_self": null,
            "border": null,
            "bottom": null,
            "display": null,
            "flex": null,
            "flex_flow": null,
            "grid_area": null,
            "grid_auto_columns": null,
            "grid_auto_flow": null,
            "grid_auto_rows": null,
            "grid_column": null,
            "grid_gap": null,
            "grid_row": null,
            "grid_template_areas": null,
            "grid_template_columns": null,
            "grid_template_rows": null,
            "height": null,
            "justify_content": null,
            "justify_items": null,
            "left": null,
            "margin": null,
            "max_height": null,
            "max_width": null,
            "min_height": null,
            "min_width": null,
            "object_fit": null,
            "object_position": null,
            "order": null,
            "overflow": null,
            "overflow_x": null,
            "overflow_y": null,
            "padding": null,
            "right": null,
            "top": null,
            "visibility": null,
            "width": null
          }
        },
        "cb9a7eaf8293481993e0039a4d0fef1c": {
          "model_module": "@jupyter-widgets/controls",
          "model_name": "DescriptionStyleModel",
          "model_module_version": "1.5.0",
          "state": {
            "_model_module": "@jupyter-widgets/controls",
            "_model_module_version": "1.5.0",
            "_model_name": "DescriptionStyleModel",
            "_view_count": null,
            "_view_module": "@jupyter-widgets/base",
            "_view_module_version": "1.2.0",
            "_view_name": "StyleView",
            "description_width": ""
          }
        },
        "7037a9b126a04b2ea1ef9218fc4f6bfd": {
          "model_module": "@jupyter-widgets/base",
          "model_name": "LayoutModel",
          "model_module_version": "1.2.0",
          "state": {
            "_model_module": "@jupyter-widgets/base",
            "_model_module_version": "1.2.0",
            "_model_name": "LayoutModel",
            "_view_count": null,
            "_view_module": "@jupyter-widgets/base",
            "_view_module_version": "1.2.0",
            "_view_name": "LayoutView",
            "align_content": null,
            "align_items": null,
            "align_self": null,
            "border": null,
            "bottom": null,
            "display": null,
            "flex": null,
            "flex_flow": null,
            "grid_area": null,
            "grid_auto_columns": null,
            "grid_auto_flow": null,
            "grid_auto_rows": null,
            "grid_column": null,
            "grid_gap": null,
            "grid_row": null,
            "grid_template_areas": null,
            "grid_template_columns": null,
            "grid_template_rows": null,
            "height": null,
            "justify_content": null,
            "justify_items": null,
            "left": null,
            "margin": null,
            "max_height": null,
            "max_width": null,
            "min_height": null,
            "min_width": null,
            "object_fit": null,
            "object_position": null,
            "order": null,
            "overflow": null,
            "overflow_x": null,
            "overflow_y": null,
            "padding": null,
            "right": null,
            "top": null,
            "visibility": null,
            "width": null
          }
        },
        "324b51c13f45484c850e056b75081601": {
          "model_module": "@jupyter-widgets/controls",
          "model_name": "ProgressStyleModel",
          "model_module_version": "1.5.0",
          "state": {
            "_model_module": "@jupyter-widgets/controls",
            "_model_module_version": "1.5.0",
            "_model_name": "ProgressStyleModel",
            "_view_count": null,
            "_view_module": "@jupyter-widgets/base",
            "_view_module_version": "1.2.0",
            "_view_name": "StyleView",
            "bar_color": null,
            "description_width": ""
          }
        },
        "0f80705d473147659a5c0d27767cf984": {
          "model_module": "@jupyter-widgets/base",
          "model_name": "LayoutModel",
          "model_module_version": "1.2.0",
          "state": {
            "_model_module": "@jupyter-widgets/base",
            "_model_module_version": "1.2.0",
            "_model_name": "LayoutModel",
            "_view_count": null,
            "_view_module": "@jupyter-widgets/base",
            "_view_module_version": "1.2.0",
            "_view_name": "LayoutView",
            "align_content": null,
            "align_items": null,
            "align_self": null,
            "border": null,
            "bottom": null,
            "display": null,
            "flex": null,
            "flex_flow": null,
            "grid_area": null,
            "grid_auto_columns": null,
            "grid_auto_flow": null,
            "grid_auto_rows": null,
            "grid_column": null,
            "grid_gap": null,
            "grid_row": null,
            "grid_template_areas": null,
            "grid_template_columns": null,
            "grid_template_rows": null,
            "height": null,
            "justify_content": null,
            "justify_items": null,
            "left": null,
            "margin": null,
            "max_height": null,
            "max_width": null,
            "min_height": null,
            "min_width": null,
            "object_fit": null,
            "object_position": null,
            "order": null,
            "overflow": null,
            "overflow_x": null,
            "overflow_y": null,
            "padding": null,
            "right": null,
            "top": null,
            "visibility": null,
            "width": null
          }
        },
        "d2281c3ef0a34928b4960222869ef43d": {
          "model_module": "@jupyter-widgets/controls",
          "model_name": "DescriptionStyleModel",
          "model_module_version": "1.5.0",
          "state": {
            "_model_module": "@jupyter-widgets/controls",
            "_model_module_version": "1.5.0",
            "_model_name": "DescriptionStyleModel",
            "_view_count": null,
            "_view_module": "@jupyter-widgets/base",
            "_view_module_version": "1.2.0",
            "_view_name": "StyleView",
            "description_width": ""
          }
        },
        "fd092db5713d48d893468d7a13f87bd3": {
          "model_module": "@jupyter-widgets/controls",
          "model_name": "HBoxModel",
          "model_module_version": "1.5.0",
          "state": {
            "_dom_classes": [],
            "_model_module": "@jupyter-widgets/controls",
            "_model_module_version": "1.5.0",
            "_model_name": "HBoxModel",
            "_view_count": null,
            "_view_module": "@jupyter-widgets/controls",
            "_view_module_version": "1.5.0",
            "_view_name": "HBoxView",
            "box_style": "",
            "children": [
              "IPY_MODEL_149a0e189b954a51b1ce446c2bf1ed0a",
              "IPY_MODEL_7129e267610d4451a45346cf2c25afef",
              "IPY_MODEL_aba0798eceb642d88492fb3966c7afbe"
            ],
            "layout": "IPY_MODEL_55bfd7508b0f4573ad94d83fdc7ee747"
          }
        },
        "149a0e189b954a51b1ce446c2bf1ed0a": {
          "model_module": "@jupyter-widgets/controls",
          "model_name": "HTMLModel",
          "model_module_version": "1.5.0",
          "state": {
            "_dom_classes": [],
            "_model_module": "@jupyter-widgets/controls",
            "_model_module_version": "1.5.0",
            "_model_name": "HTMLModel",
            "_view_count": null,
            "_view_module": "@jupyter-widgets/controls",
            "_view_module_version": "1.5.0",
            "_view_name": "HTMLView",
            "description": "",
            "description_tooltip": null,
            "layout": "IPY_MODEL_c00cbd05ce1342d19c8ec3c31471f343",
            "placeholder": "​",
            "style": "IPY_MODEL_d04c7aef16be42669aa4f119d3c09f3a",
            "value": "Map: 100%"
          }
        },
        "7129e267610d4451a45346cf2c25afef": {
          "model_module": "@jupyter-widgets/controls",
          "model_name": "FloatProgressModel",
          "model_module_version": "1.5.0",
          "state": {
            "_dom_classes": [],
            "_model_module": "@jupyter-widgets/controls",
            "_model_module_version": "1.5.0",
            "_model_name": "FloatProgressModel",
            "_view_count": null,
            "_view_module": "@jupyter-widgets/controls",
            "_view_module_version": "1.5.0",
            "_view_name": "ProgressView",
            "bar_style": "success",
            "description": "",
            "description_tooltip": null,
            "layout": "IPY_MODEL_f14cf62390c64f5b818fc555cfd6db56",
            "max": 4136,
            "min": 0,
            "orientation": "horizontal",
            "style": "IPY_MODEL_14bdd7e25a25485799c488f6f0a9a142",
            "value": 4136
          }
        },
        "aba0798eceb642d88492fb3966c7afbe": {
          "model_module": "@jupyter-widgets/controls",
          "model_name": "HTMLModel",
          "model_module_version": "1.5.0",
          "state": {
            "_dom_classes": [],
            "_model_module": "@jupyter-widgets/controls",
            "_model_module_version": "1.5.0",
            "_model_name": "HTMLModel",
            "_view_count": null,
            "_view_module": "@jupyter-widgets/controls",
            "_view_module_version": "1.5.0",
            "_view_name": "HTMLView",
            "description": "",
            "description_tooltip": null,
            "layout": "IPY_MODEL_c81fc10a3c9047698893c4049607da1e",
            "placeholder": "​",
            "style": "IPY_MODEL_6c8f24098ee44412b3181dc74b4ab02d",
            "value": " 4136/4136 [00:01&lt;00:00, 3136.30 examples/s]"
          }
        },
        "55bfd7508b0f4573ad94d83fdc7ee747": {
          "model_module": "@jupyter-widgets/base",
          "model_name": "LayoutModel",
          "model_module_version": "1.2.0",
          "state": {
            "_model_module": "@jupyter-widgets/base",
            "_model_module_version": "1.2.0",
            "_model_name": "LayoutModel",
            "_view_count": null,
            "_view_module": "@jupyter-widgets/base",
            "_view_module_version": "1.2.0",
            "_view_name": "LayoutView",
            "align_content": null,
            "align_items": null,
            "align_self": null,
            "border": null,
            "bottom": null,
            "display": null,
            "flex": null,
            "flex_flow": null,
            "grid_area": null,
            "grid_auto_columns": null,
            "grid_auto_flow": null,
            "grid_auto_rows": null,
            "grid_column": null,
            "grid_gap": null,
            "grid_row": null,
            "grid_template_areas": null,
            "grid_template_columns": null,
            "grid_template_rows": null,
            "height": null,
            "justify_content": null,
            "justify_items": null,
            "left": null,
            "margin": null,
            "max_height": null,
            "max_width": null,
            "min_height": null,
            "min_width": null,
            "object_fit": null,
            "object_position": null,
            "order": null,
            "overflow": null,
            "overflow_x": null,
            "overflow_y": null,
            "padding": null,
            "right": null,
            "top": null,
            "visibility": null,
            "width": null
          }
        },
        "c00cbd05ce1342d19c8ec3c31471f343": {
          "model_module": "@jupyter-widgets/base",
          "model_name": "LayoutModel",
          "model_module_version": "1.2.0",
          "state": {
            "_model_module": "@jupyter-widgets/base",
            "_model_module_version": "1.2.0",
            "_model_name": "LayoutModel",
            "_view_count": null,
            "_view_module": "@jupyter-widgets/base",
            "_view_module_version": "1.2.0",
            "_view_name": "LayoutView",
            "align_content": null,
            "align_items": null,
            "align_self": null,
            "border": null,
            "bottom": null,
            "display": null,
            "flex": null,
            "flex_flow": null,
            "grid_area": null,
            "grid_auto_columns": null,
            "grid_auto_flow": null,
            "grid_auto_rows": null,
            "grid_column": null,
            "grid_gap": null,
            "grid_row": null,
            "grid_template_areas": null,
            "grid_template_columns": null,
            "grid_template_rows": null,
            "height": null,
            "justify_content": null,
            "justify_items": null,
            "left": null,
            "margin": null,
            "max_height": null,
            "max_width": null,
            "min_height": null,
            "min_width": null,
            "object_fit": null,
            "object_position": null,
            "order": null,
            "overflow": null,
            "overflow_x": null,
            "overflow_y": null,
            "padding": null,
            "right": null,
            "top": null,
            "visibility": null,
            "width": null
          }
        },
        "d04c7aef16be42669aa4f119d3c09f3a": {
          "model_module": "@jupyter-widgets/controls",
          "model_name": "DescriptionStyleModel",
          "model_module_version": "1.5.0",
          "state": {
            "_model_module": "@jupyter-widgets/controls",
            "_model_module_version": "1.5.0",
            "_model_name": "DescriptionStyleModel",
            "_view_count": null,
            "_view_module": "@jupyter-widgets/base",
            "_view_module_version": "1.2.0",
            "_view_name": "StyleView",
            "description_width": ""
          }
        },
        "f14cf62390c64f5b818fc555cfd6db56": {
          "model_module": "@jupyter-widgets/base",
          "model_name": "LayoutModel",
          "model_module_version": "1.2.0",
          "state": {
            "_model_module": "@jupyter-widgets/base",
            "_model_module_version": "1.2.0",
            "_model_name": "LayoutModel",
            "_view_count": null,
            "_view_module": "@jupyter-widgets/base",
            "_view_module_version": "1.2.0",
            "_view_name": "LayoutView",
            "align_content": null,
            "align_items": null,
            "align_self": null,
            "border": null,
            "bottom": null,
            "display": null,
            "flex": null,
            "flex_flow": null,
            "grid_area": null,
            "grid_auto_columns": null,
            "grid_auto_flow": null,
            "grid_auto_rows": null,
            "grid_column": null,
            "grid_gap": null,
            "grid_row": null,
            "grid_template_areas": null,
            "grid_template_columns": null,
            "grid_template_rows": null,
            "height": null,
            "justify_content": null,
            "justify_items": null,
            "left": null,
            "margin": null,
            "max_height": null,
            "max_width": null,
            "min_height": null,
            "min_width": null,
            "object_fit": null,
            "object_position": null,
            "order": null,
            "overflow": null,
            "overflow_x": null,
            "overflow_y": null,
            "padding": null,
            "right": null,
            "top": null,
            "visibility": null,
            "width": null
          }
        },
        "14bdd7e25a25485799c488f6f0a9a142": {
          "model_module": "@jupyter-widgets/controls",
          "model_name": "ProgressStyleModel",
          "model_module_version": "1.5.0",
          "state": {
            "_model_module": "@jupyter-widgets/controls",
            "_model_module_version": "1.5.0",
            "_model_name": "ProgressStyleModel",
            "_view_count": null,
            "_view_module": "@jupyter-widgets/base",
            "_view_module_version": "1.2.0",
            "_view_name": "StyleView",
            "bar_color": null,
            "description_width": ""
          }
        },
        "c81fc10a3c9047698893c4049607da1e": {
          "model_module": "@jupyter-widgets/base",
          "model_name": "LayoutModel",
          "model_module_version": "1.2.0",
          "state": {
            "_model_module": "@jupyter-widgets/base",
            "_model_module_version": "1.2.0",
            "_model_name": "LayoutModel",
            "_view_count": null,
            "_view_module": "@jupyter-widgets/base",
            "_view_module_version": "1.2.0",
            "_view_name": "LayoutView",
            "align_content": null,
            "align_items": null,
            "align_self": null,
            "border": null,
            "bottom": null,
            "display": null,
            "flex": null,
            "flex_flow": null,
            "grid_area": null,
            "grid_auto_columns": null,
            "grid_auto_flow": null,
            "grid_auto_rows": null,
            "grid_column": null,
            "grid_gap": null,
            "grid_row": null,
            "grid_template_areas": null,
            "grid_template_columns": null,
            "grid_template_rows": null,
            "height": null,
            "justify_content": null,
            "justify_items": null,
            "left": null,
            "margin": null,
            "max_height": null,
            "max_width": null,
            "min_height": null,
            "min_width": null,
            "object_fit": null,
            "object_position": null,
            "order": null,
            "overflow": null,
            "overflow_x": null,
            "overflow_y": null,
            "padding": null,
            "right": null,
            "top": null,
            "visibility": null,
            "width": null
          }
        },
        "6c8f24098ee44412b3181dc74b4ab02d": {
          "model_module": "@jupyter-widgets/controls",
          "model_name": "DescriptionStyleModel",
          "model_module_version": "1.5.0",
          "state": {
            "_model_module": "@jupyter-widgets/controls",
            "_model_module_version": "1.5.0",
            "_model_name": "DescriptionStyleModel",
            "_view_count": null,
            "_view_module": "@jupyter-widgets/base",
            "_view_module_version": "1.2.0",
            "_view_name": "StyleView",
            "description_width": ""
          }
        },
        "e39e6744e2bb43fe8c697d763d9f709d": {
          "model_module": "@jupyter-widgets/controls",
          "model_name": "HBoxModel",
          "model_module_version": "1.5.0",
          "state": {
            "_dom_classes": [],
            "_model_module": "@jupyter-widgets/controls",
            "_model_module_version": "1.5.0",
            "_model_name": "HBoxModel",
            "_view_count": null,
            "_view_module": "@jupyter-widgets/controls",
            "_view_module_version": "1.5.0",
            "_view_name": "HBoxView",
            "box_style": "",
            "children": [
              "IPY_MODEL_a65ed84b34fe43e7a3bc9bc83505d863",
              "IPY_MODEL_0d519cb1425e4d839c9730c1e3ef6634",
              "IPY_MODEL_bfd73f474165463d96c4b2889e5e78e1"
            ],
            "layout": "IPY_MODEL_26bb34e533594386b58270c69abe962b"
          }
        },
        "a65ed84b34fe43e7a3bc9bc83505d863": {
          "model_module": "@jupyter-widgets/controls",
          "model_name": "HTMLModel",
          "model_module_version": "1.5.0",
          "state": {
            "_dom_classes": [],
            "_model_module": "@jupyter-widgets/controls",
            "_model_module_version": "1.5.0",
            "_model_name": "HTMLModel",
            "_view_count": null,
            "_view_module": "@jupyter-widgets/controls",
            "_view_module_version": "1.5.0",
            "_view_name": "HTMLView",
            "description": "",
            "description_tooltip": null,
            "layout": "IPY_MODEL_79ab1200fe4144a5935cbdc07e54fef4",
            "placeholder": "​",
            "style": "IPY_MODEL_ce037bbbea624a00af1c9d2bb3e849c7",
            "value": "Downloading builder script: "
          }
        },
        "0d519cb1425e4d839c9730c1e3ef6634": {
          "model_module": "@jupyter-widgets/controls",
          "model_name": "FloatProgressModel",
          "model_module_version": "1.5.0",
          "state": {
            "_dom_classes": [],
            "_model_module": "@jupyter-widgets/controls",
            "_model_module_version": "1.5.0",
            "_model_name": "FloatProgressModel",
            "_view_count": null,
            "_view_module": "@jupyter-widgets/controls",
            "_view_module_version": "1.5.0",
            "_view_name": "ProgressView",
            "bar_style": "success",
            "description": "",
            "description_tooltip": null,
            "layout": "IPY_MODEL_0c168cd8996b43bab04ad0a5a8ce9e6b",
            "max": 2472,
            "min": 0,
            "orientation": "horizontal",
            "style": "IPY_MODEL_75c98ca6967544759c7dbf34f2e66871",
            "value": 2472
          }
        },
        "bfd73f474165463d96c4b2889e5e78e1": {
          "model_module": "@jupyter-widgets/controls",
          "model_name": "HTMLModel",
          "model_module_version": "1.5.0",
          "state": {
            "_dom_classes": [],
            "_model_module": "@jupyter-widgets/controls",
            "_model_module_version": "1.5.0",
            "_model_name": "HTMLModel",
            "_view_count": null,
            "_view_module": "@jupyter-widgets/controls",
            "_view_module_version": "1.5.0",
            "_view_name": "HTMLView",
            "description": "",
            "description_tooltip": null,
            "layout": "IPY_MODEL_d995dd7af706417895a3e2ff0bfe02ab",
            "placeholder": "​",
            "style": "IPY_MODEL_1a14bca267ac4e26a14ed45cfb793c24",
            "value": " 6.33k/? [00:00&lt;00:00, 263kB/s]"
          }
        },
        "26bb34e533594386b58270c69abe962b": {
          "model_module": "@jupyter-widgets/base",
          "model_name": "LayoutModel",
          "model_module_version": "1.2.0",
          "state": {
            "_model_module": "@jupyter-widgets/base",
            "_model_module_version": "1.2.0",
            "_model_name": "LayoutModel",
            "_view_count": null,
            "_view_module": "@jupyter-widgets/base",
            "_view_module_version": "1.2.0",
            "_view_name": "LayoutView",
            "align_content": null,
            "align_items": null,
            "align_self": null,
            "border": null,
            "bottom": null,
            "display": null,
            "flex": null,
            "flex_flow": null,
            "grid_area": null,
            "grid_auto_columns": null,
            "grid_auto_flow": null,
            "grid_auto_rows": null,
            "grid_column": null,
            "grid_gap": null,
            "grid_row": null,
            "grid_template_areas": null,
            "grid_template_columns": null,
            "grid_template_rows": null,
            "height": null,
            "justify_content": null,
            "justify_items": null,
            "left": null,
            "margin": null,
            "max_height": null,
            "max_width": null,
            "min_height": null,
            "min_width": null,
            "object_fit": null,
            "object_position": null,
            "order": null,
            "overflow": null,
            "overflow_x": null,
            "overflow_y": null,
            "padding": null,
            "right": null,
            "top": null,
            "visibility": null,
            "width": null
          }
        },
        "79ab1200fe4144a5935cbdc07e54fef4": {
          "model_module": "@jupyter-widgets/base",
          "model_name": "LayoutModel",
          "model_module_version": "1.2.0",
          "state": {
            "_model_module": "@jupyter-widgets/base",
            "_model_module_version": "1.2.0",
            "_model_name": "LayoutModel",
            "_view_count": null,
            "_view_module": "@jupyter-widgets/base",
            "_view_module_version": "1.2.0",
            "_view_name": "LayoutView",
            "align_content": null,
            "align_items": null,
            "align_self": null,
            "border": null,
            "bottom": null,
            "display": null,
            "flex": null,
            "flex_flow": null,
            "grid_area": null,
            "grid_auto_columns": null,
            "grid_auto_flow": null,
            "grid_auto_rows": null,
            "grid_column": null,
            "grid_gap": null,
            "grid_row": null,
            "grid_template_areas": null,
            "grid_template_columns": null,
            "grid_template_rows": null,
            "height": null,
            "justify_content": null,
            "justify_items": null,
            "left": null,
            "margin": null,
            "max_height": null,
            "max_width": null,
            "min_height": null,
            "min_width": null,
            "object_fit": null,
            "object_position": null,
            "order": null,
            "overflow": null,
            "overflow_x": null,
            "overflow_y": null,
            "padding": null,
            "right": null,
            "top": null,
            "visibility": null,
            "width": null
          }
        },
        "ce037bbbea624a00af1c9d2bb3e849c7": {
          "model_module": "@jupyter-widgets/controls",
          "model_name": "DescriptionStyleModel",
          "model_module_version": "1.5.0",
          "state": {
            "_model_module": "@jupyter-widgets/controls",
            "_model_module_version": "1.5.0",
            "_model_name": "DescriptionStyleModel",
            "_view_count": null,
            "_view_module": "@jupyter-widgets/base",
            "_view_module_version": "1.2.0",
            "_view_name": "StyleView",
            "description_width": ""
          }
        },
        "0c168cd8996b43bab04ad0a5a8ce9e6b": {
          "model_module": "@jupyter-widgets/base",
          "model_name": "LayoutModel",
          "model_module_version": "1.2.0",
          "state": {
            "_model_module": "@jupyter-widgets/base",
            "_model_module_version": "1.2.0",
            "_model_name": "LayoutModel",
            "_view_count": null,
            "_view_module": "@jupyter-widgets/base",
            "_view_module_version": "1.2.0",
            "_view_name": "LayoutView",
            "align_content": null,
            "align_items": null,
            "align_self": null,
            "border": null,
            "bottom": null,
            "display": null,
            "flex": null,
            "flex_flow": null,
            "grid_area": null,
            "grid_auto_columns": null,
            "grid_auto_flow": null,
            "grid_auto_rows": null,
            "grid_column": null,
            "grid_gap": null,
            "grid_row": null,
            "grid_template_areas": null,
            "grid_template_columns": null,
            "grid_template_rows": null,
            "height": null,
            "justify_content": null,
            "justify_items": null,
            "left": null,
            "margin": null,
            "max_height": null,
            "max_width": null,
            "min_height": null,
            "min_width": null,
            "object_fit": null,
            "object_position": null,
            "order": null,
            "overflow": null,
            "overflow_x": null,
            "overflow_y": null,
            "padding": null,
            "right": null,
            "top": null,
            "visibility": null,
            "width": null
          }
        },
        "75c98ca6967544759c7dbf34f2e66871": {
          "model_module": "@jupyter-widgets/controls",
          "model_name": "ProgressStyleModel",
          "model_module_version": "1.5.0",
          "state": {
            "_model_module": "@jupyter-widgets/controls",
            "_model_module_version": "1.5.0",
            "_model_name": "ProgressStyleModel",
            "_view_count": null,
            "_view_module": "@jupyter-widgets/base",
            "_view_module_version": "1.2.0",
            "_view_name": "StyleView",
            "bar_color": null,
            "description_width": ""
          }
        },
        "d995dd7af706417895a3e2ff0bfe02ab": {
          "model_module": "@jupyter-widgets/base",
          "model_name": "LayoutModel",
          "model_module_version": "1.2.0",
          "state": {
            "_model_module": "@jupyter-widgets/base",
            "_model_module_version": "1.2.0",
            "_model_name": "LayoutModel",
            "_view_count": null,
            "_view_module": "@jupyter-widgets/base",
            "_view_module_version": "1.2.0",
            "_view_name": "LayoutView",
            "align_content": null,
            "align_items": null,
            "align_self": null,
            "border": null,
            "bottom": null,
            "display": null,
            "flex": null,
            "flex_flow": null,
            "grid_area": null,
            "grid_auto_columns": null,
            "grid_auto_flow": null,
            "grid_auto_rows": null,
            "grid_column": null,
            "grid_gap": null,
            "grid_row": null,
            "grid_template_areas": null,
            "grid_template_columns": null,
            "grid_template_rows": null,
            "height": null,
            "justify_content": null,
            "justify_items": null,
            "left": null,
            "margin": null,
            "max_height": null,
            "max_width": null,
            "min_height": null,
            "min_width": null,
            "object_fit": null,
            "object_position": null,
            "order": null,
            "overflow": null,
            "overflow_x": null,
            "overflow_y": null,
            "padding": null,
            "right": null,
            "top": null,
            "visibility": null,
            "width": null
          }
        },
        "1a14bca267ac4e26a14ed45cfb793c24": {
          "model_module": "@jupyter-widgets/controls",
          "model_name": "DescriptionStyleModel",
          "model_module_version": "1.5.0",
          "state": {
            "_model_module": "@jupyter-widgets/controls",
            "_model_module_version": "1.5.0",
            "_model_name": "DescriptionStyleModel",
            "_view_count": null,
            "_view_module": "@jupyter-widgets/base",
            "_view_module_version": "1.2.0",
            "_view_name": "StyleView",
            "description_width": ""
          }
        }
      }
    },
    "accelerator": "GPU"
  },
  "cells": [
    {
      "cell_type": "markdown",
      "metadata": {
        "id": "view-in-github",
        "colab_type": "text"
      },
      "source": [
        "<a href=\"https://colab.research.google.com/github/lucia1299/BERTolde/blob/main/finetuning_roberta.ipynb\" target=\"_parent\"><img src=\"https://colab.research.google.com/assets/colab-badge.svg\" alt=\"Open In Colab\"/></a>"
      ]
    },
    {
      "cell_type": "code",
      "execution_count": 1,
      "metadata": {
        "id": "wkVbkFwj66F7"
      },
      "outputs": [],
      "source": [
        "!pip install transformers datasets tokenizers seqeval -q"
      ]
    },
    {
      "cell_type": "code",
      "source": [
        "import datasets\n",
        "import numpy as np\n",
        "from transformers import RobertaTokenizerFast, DataCollatorForTokenClassification, RobertaForTokenClassification"
      ],
      "metadata": {
        "id": "fz26Mt5M7Kdt"
      },
      "execution_count": 2,
      "outputs": []
    },
    {
      "cell_type": "code",
      "source": [
        "from datasets import Dataset, ClassLabel, Features, Sequence, Value, DatasetDict\n",
        "\n",
        "def creationdictionary(data, posdict, nerdict, pos_tags_list, ner_tags_list):\n",
        "    container_list = []\n",
        "\n",
        "    while data:\n",
        "        container_dict = {}\n",
        "        pos_list = []\n",
        "        ner_list = []\n",
        "        words_list = []\n",
        "\n",
        "        index_of_empty_list = data.index([]) if [] in data else len(data)\n",
        "        tokenized_data1 = data[0: index_of_empty_list]\n",
        "        for n in tokenized_data1:\n",
        "            if 'id' not in container_dict:\n",
        "                container_dict['id'] = 0\n",
        "            else:\n",
        "                container_dict['id'] += 1\n",
        "            if n[1] in posdict:\n",
        "                pos_list.append(posdict[n[1]])\n",
        "            if n[3] in nerdict:\n",
        "                ner_list.append(nerdict[n[3]])\n",
        "            words_list.append(n[0])\n",
        "\n",
        "        container_dict['pos'] = pos_list\n",
        "        container_dict['ner_tags'] = ner_list\n",
        "        container_dict['tokens'] = words_list\n",
        "        container_dict['issueid'] = tokenized_data1[0][2]\n",
        "        container_dict['id'] = str(container_dict['id'])\n",
        "\n",
        "        container_list.append(container_dict)\n",
        "\n",
        "        data = data[index_of_empty_list + 1:]\n",
        "\n",
        "    container_dict = {key: [d[key] for d in container_list] for key in container_list[0]}\n",
        "\n",
        "    ds = Dataset.from_dict(container_dict, features=Features({\n",
        "        'pos': Sequence(ClassLabel(names=pos_tags_list)),\n",
        "        'ner_tags': Sequence(ClassLabel(names=ner_tags_list)),\n",
        "        'tokens': Sequence(Value(dtype='string')),\n",
        "        'issueid': Value(dtype='string'),\n",
        "        'id': Value(dtype='string')\n",
        "        }))\n",
        "\n",
        "    return ds\n",
        "\n",
        "def posconversion(data):\n",
        "    posdict = {}\n",
        "    set1 = set()\n",
        "    for i in data:\n",
        "        if len(i) >= 1:\n",
        "            pos_tag = i[1]\n",
        "            set1.add(pos_tag)\n",
        "    pos_tags_list = list(set1)\n",
        "    v = 0\n",
        "    for i in set1:\n",
        "        posdict[i] = v\n",
        "        v +=1\n",
        "    return posdict, pos_tags_list\n",
        "\n",
        "def nerconversion(data):\n",
        "    nerdict = {}\n",
        "    set1 = set()\n",
        "    for i in data:\n",
        "        if len(i) >= 4:\n",
        "            ner_tag = i[3]\n",
        "            set1.add(ner_tag)\n",
        "    ner_tags_list = list(set1)\n",
        "    v = 0\n",
        "    for i in set1:\n",
        "        nerdict[i] = v\n",
        "        v +=1\n",
        "    return nerdict, ner_tags_list\n",
        "\n",
        "file_path_training = '/content/I-CAB-evalita09-NER-training.iob2'\n",
        "file_path_test = '/content/I-CAB-evalita09-NER-test.iob2'\n",
        "\n",
        "def read_iob_data(file_path):\n",
        "     with open(file_path, 'r', encoding='ISO-8859-1') as file:\n",
        "         iob_data = file.readlines()\n",
        "\n",
        "     data = [line.strip().split() for line in iob_data]\n",
        "     return data\n",
        "\n",
        "data_training = read_iob_data(file_path_training)\n",
        "posdict, pos_tags_list = posconversion(data_training)\n",
        "nerdict, ner_tags_list = nerconversion(data_training)\n",
        "result_training = creationdictionary(data_training, posdict, nerdict, pos_tags_list, ner_tags_list)\n",
        "\n",
        "data_test = read_iob_data(file_path_test)\n",
        "posdict, pos_tags_list = posconversion(data_test)\n",
        "nerdict, ner_tags_list = nerconversion(data_test)\n",
        "result_test = creationdictionary(data_test, posdict, nerdict, pos_tags_list, ner_tags_list)\n",
        "\n",
        "main_dataset = DatasetDict({\"train\": result_training, \"test\": result_test})\n",
        "print(main_dataset)"
      ],
      "metadata": {
        "colab": {
          "base_uri": "https://localhost:8080/"
        },
        "id": "YkAtprgH7dJ6",
        "outputId": "66f636f4-d38b-425b-c057-b9fa807d70f5"
      },
      "execution_count": 3,
      "outputs": [
        {
          "output_type": "stream",
          "name": "stdout",
          "text": [
            "DatasetDict({\n",
            "    train: Dataset({\n",
            "        features: ['id', 'pos', 'ner_tags', 'tokens', 'issueid'],\n",
            "        num_rows: 11227\n",
            "    })\n",
            "    test: Dataset({\n",
            "        features: ['id', 'pos', 'ner_tags', 'tokens', 'issueid'],\n",
            "        num_rows: 4136\n",
            "    })\n",
            "})\n"
          ]
        }
      ]
    },
    {
      "cell_type": "code",
      "source": [
        "main_dataset.shape"
      ],
      "metadata": {
        "colab": {
          "base_uri": "https://localhost:8080/"
        },
        "id": "D_gzLGfR79Sb",
        "outputId": "f7291fd9-5798-4f12-9701-f4ac8ac4b496"
      },
      "execution_count": 4,
      "outputs": [
        {
          "output_type": "execute_result",
          "data": {
            "text/plain": [
              "{'train': (11227, 5), 'test': (4136, 5)}"
            ]
          },
          "metadata": {},
          "execution_count": 4
        }
      ]
    },
    {
      "cell_type": "code",
      "source": [
        "main_dataset['train'][1]"
      ],
      "metadata": {
        "colab": {
          "base_uri": "https://localhost:8080/"
        },
        "id": "ltsXMzzE8DAN",
        "outputId": "b319d3ee-43c1-41d6-c6ae-81170870fb74"
      },
      "execution_count": 5,
      "outputs": [
        {
          "output_type": "execute_result",
          "data": {
            "text/plain": [
              "{'id': '6',\n",
              " 'pos': [12, 55, 12, 42, 28, 9, 53],\n",
              " 'ner_tags': [7, 7, 7, 7, 7, 7, 3],\n",
              " 'tokens': ['Latte', 'al', 'seno', ',', 'sos', 'di', 'Pedrotti'],\n",
              " 'issueid': 'adige20041007_id413942'}"
            ]
          },
          "metadata": {},
          "execution_count": 5
        }
      ]
    },
    {
      "cell_type": "code",
      "source": [
        "main_dataset['train'].features['ner_tags']"
      ],
      "metadata": {
        "colab": {
          "base_uri": "https://localhost:8080/"
        },
        "id": "PWHpzENC8L81",
        "outputId": "083c0e5d-4573-47df-b521-2414d9ee7152"
      },
      "execution_count": 6,
      "outputs": [
        {
          "output_type": "execute_result",
          "data": {
            "text/plain": [
              "Sequence(feature=ClassLabel(names=['B-ORG', 'I-PER', 'I-LOC', 'B-PER', 'B-LOC', 'B-GPE', 'I-GPE', 'O', 'I-ORG'], id=None), length=-1, id=None)"
            ]
          },
          "metadata": {},
          "execution_count": 6
        }
      ]
    },
    {
      "cell_type": "code",
      "source": [
        "tokenizer = RobertaTokenizerFast.from_pretrained('roberta-base', add_prefix_space=True)\n",
        "\n",
        "#add_prefix_space needs to be used because this is how the instatiation of RobertaTokenizerFast works"
      ],
      "metadata": {
        "id": "ACQAL-EI8TZi"
      },
      "execution_count": 7,
      "outputs": []
    },
    {
      "cell_type": "code",
      "source": [
        "example_text = main_dataset['train'][1]\n",
        "\n",
        "tokenized_input = tokenizer(example_text['tokens'], is_split_into_words=True)\n",
        "\n",
        "tokens = tokenizer.convert_ids_to_tokens(tokenized_input['input_ids'])\n",
        "\n",
        "word_ids = tokenized_input.word_ids()\n",
        "\n",
        "#ValueError: word_ids() is not available when using non-fast tokenizers (e.g. instance of a `XxxTokenizerFast` class).\n",
        "#this is why we need to use TokenizersFast also for Roberta\n",
        "\n",
        "word_ids\n"
      ],
      "metadata": {
        "colab": {
          "base_uri": "https://localhost:8080/"
        },
        "id": "XhXTKUH28pgm",
        "outputId": "4345470f-2acb-4eca-a7be-e441222140c7"
      },
      "execution_count": 8,
      "outputs": [
        {
          "output_type": "execute_result",
          "data": {
            "text/plain": [
              "[None, 0, 0, 1, 2, 2, 3, 4, 4, 5, 6, 6, None]"
            ]
          },
          "metadata": {},
          "execution_count": 8
        }
      ]
    },
    {
      "cell_type": "code",
      "source": [
        "tokens = tokenizer.convert_ids_to_tokens(tokenized_input['input_ids'])\n",
        "tokens\n",
        "\n",
        "#<s> and </s> are mapped to NONE because the they are \"special tokens\""
      ],
      "metadata": {
        "colab": {
          "base_uri": "https://localhost:8080/"
        },
        "id": "kwgNOOGZ_tfM",
        "outputId": "785a6308-96ec-4cca-a940-dc1b01b69f89"
      },
      "execution_count": 9,
      "outputs": [
        {
          "output_type": "execute_result",
          "data": {
            "text/plain": [
              "['<s>',\n",
              " 'ĠLat',\n",
              " 'te',\n",
              " 'Ġal',\n",
              " 'Ġsen',\n",
              " 'o',\n",
              " 'Ġ,',\n",
              " 'Ġs',\n",
              " 'os',\n",
              " 'Ġdi',\n",
              " 'ĠPedro',\n",
              " 'tti',\n",
              " '</s>']"
            ]
          },
          "metadata": {},
          "execution_count": 9
        }
      ]
    },
    {
      "cell_type": "markdown",
      "source": [
        "We note a problem with the BERT tokenizer - the same problem exists in Roberta and Umberto.\n",
        "\n",
        "Possible solution: as a tokenizer, use spacy. And as a model, use Bert/Roberta/Umberto - especially Bert and Umberto, that are fine tuned for Italian"
      ],
      "metadata": {
        "id": "YiC1LCo3jxlc"
      }
    },
    {
      "cell_type": "code",
      "source": [
        "len(example_text['ner_tags']), len(tokenized_input['input_ids'])"
      ],
      "metadata": {
        "colab": {
          "base_uri": "https://localhost:8080/"
        },
        "id": "rpE2Vuj79SWb",
        "outputId": "bee9ffa6-ec54-4bb6-b407-6f29ec8448cb"
      },
      "execution_count": 10,
      "outputs": [
        {
          "output_type": "execute_result",
          "data": {
            "text/plain": [
              "(7, 13)"
            ]
          },
          "metadata": {},
          "execution_count": 10
        }
      ]
    },
    {
      "cell_type": "markdown",
      "source": [
        "the lenght is different : the problem of sub token!\n",
        "\n",
        "the input ids returned by the tokenizer are longer versus the labels of the dataset\n",
        "\n",
        "the transformers are often pre trained with sub words tokenizers, so even if the input is already split into words each of those words could be split again by the tokenizer - so we need to do some processing on the labels because the input ids returned by the tokenizer are longer than the list of labels our dataset contains\n",
        "\n",
        "this happens because some special tokens might be added and because of possible splits of words into multiple tokens\n",
        "\n",
        "we are going to map the tokens that would be mapped to NONE to MINUS 100 becuase it's an index that it is ignored by pytorch during training + mask the subword representation after the first subword +align the labels with the token ids"
      ],
      "metadata": {
        "id": "rFUejpjF9oL-"
      }
    },
    {
      "cell_type": "code",
      "source": [
        "def tokenize_and_align_labels(example, label_all_tokens =True):\n",
        "    tokenized_input = tokenizer(example['tokens'], truncation=True, is_split_into_words=True)\n",
        "\n",
        "    labels = []\n",
        "\n",
        "    for i, label in enumerate(example['ner_tags']):\n",
        "        word_ids = tokenized_input.word_ids(batch_index=i)\n",
        "        #it returns a list indicating the word corresponding to each token\n",
        "        previous_word_idx = None\n",
        "\n",
        "        label_ids =[]\n",
        "\n",
        "        for word_idx in word_ids:\n",
        "            if word_idx is None:\n",
        "                #special tokens\n",
        "                label_ids.append(-100)\n",
        "            elif word_idx != previous_word_idx:\n",
        "                #regular case\n",
        "                label_ids.append(label[word_idx])\n",
        "            else:\n",
        "                #subword case\n",
        "                label_ids.append(label[word_idx] if label_all_tokens else -100)\n",
        "            previous_word_idx = word_idx\n",
        "        labels.append(label_ids)\n",
        "    tokenized_input['labels'] = labels\n",
        "    return tokenized_input"
      ],
      "metadata": {
        "id": "wHIlfAFg-jSe"
      },
      "execution_count": 11,
      "outputs": []
    },
    {
      "cell_type": "code",
      "source": [
        "q = tokenize_and_align_labels(main_dataset['train'][4:5])\n",
        "print(q)"
      ],
      "metadata": {
        "colab": {
          "base_uri": "https://localhost:8080/"
        },
        "id": "WP5L8ha9Bee-",
        "outputId": "c814d140-361c-4c71-ed19-f8cc922ac245"
      },
      "execution_count": 12,
      "outputs": [
        {
          "output_type": "stream",
          "name": "stdout",
          "text": [
            "{'input_ids': [[0, 384, 6149, 118, 22626, 601, 4, 541, 1076, 7838, 1001, 12308, 710, 1627, 208, 4, 12718, 1742, 3391, 2242, 1371, 5269, 2269, 70, 2611, 5511, 139, 11, 10977, 1696, 2156, 2269, 475, 424, 1794, 2764, 326, 10865, 30180, 5605, 2156, 2269, 22239, 3648, 10, 740, 3371, 786, 9031, 5234, 952, 11423, 821, 19112, 4842, 7675, 19855, 29765, 70, 102, 34161, 3572, 1688, 1076, 8913, 1222, 8525, 479, 2]], 'attention_mask': [[1, 1, 1, 1, 1, 1, 1, 1, 1, 1, 1, 1, 1, 1, 1, 1, 1, 1, 1, 1, 1, 1, 1, 1, 1, 1, 1, 1, 1, 1, 1, 1, 1, 1, 1, 1, 1, 1, 1, 1, 1, 1, 1, 1, 1, 1, 1, 1, 1, 1, 1, 1, 1, 1, 1, 1, 1, 1, 1, 1, 1, 1, 1, 1, 1, 1, 1, 1, 1]], 'labels': [[-100, 7, 7, 7, 7, 7, 7, 7, 7, 7, 7, 7, 7, 7, 7, 7, 7, 7, 7, 7, 7, 7, 7, 7, 7, 7, 7, 7, 5, 5, 7, 7, 7, 7, 7, 7, 7, 7, 7, 7, 7, 7, 7, 7, 7, 7, 7, 7, 7, 7, 7, 7, 7, 7, 7, 7, 7, 7, 7, 7, 7, 7, 7, 7, 7, 7, 7, 7, -100]]}\n"
          ]
        }
      ]
    },
    {
      "cell_type": "code",
      "source": [
        "for token, label in zip(tokenizer.convert_ids_to_tokens(q['input_ids'][0]), (q['labels'][0])):\n",
        "    print(f\"{token:_<40} {label}\")"
      ],
      "metadata": {
        "colab": {
          "base_uri": "https://localhost:8080/"
        },
        "id": "POVz5UwuB1sH",
        "outputId": "5890a354-2b72-4e35-f304-d12513469fdc"
      },
      "execution_count": 13,
      "outputs": [
        {
          "output_type": "stream",
          "name": "stdout",
          "text": [
            "<s>_____________________________________ -100\n",
            "ĠO______________________________________ 7\n",
            "gg______________________________________ 7\n",
            "i_______________________________________ 7\n",
            "Ġalle___________________________________ 7\n",
            "Ġ17_____________________________________ 7\n",
            "._______________________________________ 7\n",
            "30______________________________________ 7\n",
            "Ġal_____________________________________ 7\n",
            "ĠCent___________________________________ 7\n",
            "ro______________________________________ 7\n",
            "Ġcult___________________________________ 7\n",
            "ur______________________________________ 7\n",
            "ale_____________________________________ 7\n",
            "ĠS______________________________________ 7\n",
            "._______________________________________ 7\n",
            "ĠChi____________________________________ 7\n",
            "ara_____________________________________ 7\n",
            "Ġsi_____________________________________ 7\n",
            "Ġpar____________________________________ 7\n",
            "ler_____________________________________ 7\n",
            "Ãł______________________________________ 7\n",
            "Ġdi_____________________________________ 7\n",
            "Ġall____________________________________ 7\n",
            "att_____________________________________ 7\n",
            "ament___________________________________ 7\n",
            "o_______________________________________ 7\n",
            "Ġin_____________________________________ 7\n",
            "ĠTrent__________________________________ 5\n",
            "ino_____________________________________ 5\n",
            "Ġ,______________________________________ 7\n",
            "Ġdi_____________________________________ 7\n",
            "Ġm______________________________________ 7\n",
            "am______________________________________ 7\n",
            "me______________________________________ 7\n",
            "Ġcon____________________________________ 7\n",
            "Ġt______________________________________ 7\n",
            "anti____________________________________ 7\n",
            "Ġdub____________________________________ 7\n",
            "bi______________________________________ 7\n",
            "Ġ,______________________________________ 7\n",
            "Ġdi_____________________________________ 7\n",
            "Ġneon___________________________________ 7\n",
            "ati_____________________________________ 7\n",
            "Ġa______________________________________ 7\n",
            "Ġc______________________________________ 7\n",
            "ui______________________________________ 7\n",
            "Ġnon____________________________________ 7\n",
            "Ġsem____________________________________ 7\n",
            "pre_____________________________________ 7\n",
            "ĠÃ______________________________________ 7\n",
            "¨_______________________________________ 7\n",
            "Ġg______________________________________ 7\n",
            "arant___________________________________ 7\n",
            "ito_____________________________________ 7\n",
            "Ġil_____________________________________ 7\n",
            "Ġdir____________________________________ 7\n",
            "itto____________________________________ 7\n",
            "Ġall____________________________________ 7\n",
            "a_______________________________________ 7\n",
            "Ġmig____________________________________ 7\n",
            "li______________________________________ 7\n",
            "ore_____________________________________ 7\n",
            "Ġal_____________________________________ 7\n",
            "iment___________________________________ 7\n",
            "az______________________________________ 7\n",
            "ione____________________________________ 7\n",
            "Ġ.______________________________________ 7\n",
            "</s>____________________________________ -100\n"
          ]
        }
      ]
    },
    {
      "cell_type": "code",
      "source": [
        "tokenized_dataset = main_dataset.map(tokenize_and_align_labels, batched=True)"
      ],
      "metadata": {
        "colab": {
          "base_uri": "https://localhost:8080/",
          "height": 81,
          "referenced_widgets": [
            "277e1456af2a4c5f8b3c9c22f83a14ed",
            "d63f39bcc8cb4837b447ae421e1a86ce",
            "31e3ebe7ec6f42d685ebfed63ee94262",
            "1ddecb7a254046d5a78e5f29efa29059",
            "8eb9c4430a3b43a09512938db54f5650",
            "116078d2beec4b8c9c36d066c0ac858f",
            "cb9a7eaf8293481993e0039a4d0fef1c",
            "7037a9b126a04b2ea1ef9218fc4f6bfd",
            "324b51c13f45484c850e056b75081601",
            "0f80705d473147659a5c0d27767cf984",
            "d2281c3ef0a34928b4960222869ef43d",
            "fd092db5713d48d893468d7a13f87bd3",
            "149a0e189b954a51b1ce446c2bf1ed0a",
            "7129e267610d4451a45346cf2c25afef",
            "aba0798eceb642d88492fb3966c7afbe",
            "55bfd7508b0f4573ad94d83fdc7ee747",
            "c00cbd05ce1342d19c8ec3c31471f343",
            "d04c7aef16be42669aa4f119d3c09f3a",
            "f14cf62390c64f5b818fc555cfd6db56",
            "14bdd7e25a25485799c488f6f0a9a142",
            "c81fc10a3c9047698893c4049607da1e",
            "6c8f24098ee44412b3181dc74b4ab02d"
          ]
        },
        "id": "sCTG0BXkCosA",
        "outputId": "acf02376-94d0-485b-a10a-12bd2db8a9f6"
      },
      "execution_count": 14,
      "outputs": [
        {
          "output_type": "display_data",
          "data": {
            "text/plain": [
              "Map:   0%|          | 0/11227 [00:00<?, ? examples/s]"
            ],
            "application/vnd.jupyter.widget-view+json": {
              "version_major": 2,
              "version_minor": 0,
              "model_id": "277e1456af2a4c5f8b3c9c22f83a14ed"
            }
          },
          "metadata": {}
        },
        {
          "output_type": "display_data",
          "data": {
            "text/plain": [
              "Map:   0%|          | 0/4136 [00:00<?, ? examples/s]"
            ],
            "application/vnd.jupyter.widget-view+json": {
              "version_major": 2,
              "version_minor": 0,
              "model_id": "fd092db5713d48d893468d7a13f87bd3"
            }
          },
          "metadata": {}
        }
      ]
    },
    {
      "cell_type": "code",
      "source": [
        "num_labels = main_dataset['train'].features['ner_tags'].feature.num_classes\n",
        "num_labels"
      ],
      "metadata": {
        "colab": {
          "base_uri": "https://localhost:8080/"
        },
        "id": "KhrHaitQDJ7u",
        "outputId": "6b07983d-af53-4263-ee9e-b478f1e9c62a"
      },
      "execution_count": 15,
      "outputs": [
        {
          "output_type": "execute_result",
          "data": {
            "text/plain": [
              "9"
            ]
          },
          "metadata": {},
          "execution_count": 15
        }
      ]
    },
    {
      "cell_type": "code",
      "source": [
        "model = RobertaForTokenClassification.from_pretrained('roberta-base', num_labels = num_labels)"
      ],
      "metadata": {
        "colab": {
          "base_uri": "https://localhost:8080/"
        },
        "id": "dedA-YxfC7GA",
        "outputId": "359cef8b-d2ea-4930-bd8d-30b444f092a0"
      },
      "execution_count": 16,
      "outputs": [
        {
          "output_type": "stream",
          "name": "stderr",
          "text": [
            "Some weights of RobertaForTokenClassification were not initialized from the model checkpoint at roberta-base and are newly initialized: ['classifier.weight', 'classifier.bias']\n",
            "You should probably TRAIN this model on a down-stream task to be able to use it for predictions and inference.\n"
          ]
        }
      ]
    },
    {
      "cell_type": "markdown",
      "source": [
        "We now need to accelerate the GPU (?) with !pip install accelerate -U and pip install transformers [torch]. After doing that, it is necessary to restart the runtime and restart the whole process."
      ],
      "metadata": {
        "id": "M2u5MvkakdRj"
      }
    },
    {
      "cell_type": "code",
      "source": [
        "!pip install accelerate -U"
      ],
      "metadata": {
        "colab": {
          "base_uri": "https://localhost:8080/"
        },
        "id": "3Ym83mLclFQp",
        "outputId": "88e3076f-bcb2-4041-81d4-503a4d863e26"
      },
      "execution_count": 17,
      "outputs": [
        {
          "output_type": "stream",
          "name": "stdout",
          "text": [
            "Requirement already satisfied: accelerate in /usr/local/lib/python3.10/dist-packages (0.25.0)\n",
            "Requirement already satisfied: numpy>=1.17 in /usr/local/lib/python3.10/dist-packages (from accelerate) (1.23.5)\n",
            "Requirement already satisfied: packaging>=20.0 in /usr/local/lib/python3.10/dist-packages (from accelerate) (23.2)\n",
            "Requirement already satisfied: psutil in /usr/local/lib/python3.10/dist-packages (from accelerate) (5.9.5)\n",
            "Requirement already satisfied: pyyaml in /usr/local/lib/python3.10/dist-packages (from accelerate) (6.0.1)\n",
            "Requirement already satisfied: torch>=1.10.0 in /usr/local/lib/python3.10/dist-packages (from accelerate) (2.1.0+cu118)\n",
            "Requirement already satisfied: huggingface-hub in /usr/local/lib/python3.10/dist-packages (from accelerate) (0.19.4)\n",
            "Requirement already satisfied: safetensors>=0.3.1 in /usr/local/lib/python3.10/dist-packages (from accelerate) (0.4.1)\n",
            "Requirement already satisfied: filelock in /usr/local/lib/python3.10/dist-packages (from torch>=1.10.0->accelerate) (3.13.1)\n",
            "Requirement already satisfied: typing-extensions in /usr/local/lib/python3.10/dist-packages (from torch>=1.10.0->accelerate) (4.5.0)\n",
            "Requirement already satisfied: sympy in /usr/local/lib/python3.10/dist-packages (from torch>=1.10.0->accelerate) (1.12)\n",
            "Requirement already satisfied: networkx in /usr/local/lib/python3.10/dist-packages (from torch>=1.10.0->accelerate) (3.2.1)\n",
            "Requirement already satisfied: jinja2 in /usr/local/lib/python3.10/dist-packages (from torch>=1.10.0->accelerate) (3.1.2)\n",
            "Requirement already satisfied: fsspec in /usr/local/lib/python3.10/dist-packages (from torch>=1.10.0->accelerate) (2023.6.0)\n",
            "Requirement already satisfied: triton==2.1.0 in /usr/local/lib/python3.10/dist-packages (from torch>=1.10.0->accelerate) (2.1.0)\n",
            "Requirement already satisfied: requests in /usr/local/lib/python3.10/dist-packages (from huggingface-hub->accelerate) (2.31.0)\n",
            "Requirement already satisfied: tqdm>=4.42.1 in /usr/local/lib/python3.10/dist-packages (from huggingface-hub->accelerate) (4.66.1)\n",
            "Requirement already satisfied: MarkupSafe>=2.0 in /usr/local/lib/python3.10/dist-packages (from jinja2->torch>=1.10.0->accelerate) (2.1.3)\n",
            "Requirement already satisfied: charset-normalizer<4,>=2 in /usr/local/lib/python3.10/dist-packages (from requests->huggingface-hub->accelerate) (3.3.2)\n",
            "Requirement already satisfied: idna<4,>=2.5 in /usr/local/lib/python3.10/dist-packages (from requests->huggingface-hub->accelerate) (3.6)\n",
            "Requirement already satisfied: urllib3<3,>=1.21.1 in /usr/local/lib/python3.10/dist-packages (from requests->huggingface-hub->accelerate) (2.0.7)\n",
            "Requirement already satisfied: certifi>=2017.4.17 in /usr/local/lib/python3.10/dist-packages (from requests->huggingface-hub->accelerate) (2023.11.17)\n",
            "Requirement already satisfied: mpmath>=0.19 in /usr/local/lib/python3.10/dist-packages (from sympy->torch>=1.10.0->accelerate) (1.3.0)\n"
          ]
        }
      ]
    },
    {
      "cell_type": "code",
      "source": [
        "pip install transformers[torch]"
      ],
      "metadata": {
        "colab": {
          "base_uri": "https://localhost:8080/"
        },
        "id": "oCWT7BUKlTfq",
        "outputId": "d2fc6f32-d6f9-43c1-9ecb-6f5887d406c2"
      },
      "execution_count": 18,
      "outputs": [
        {
          "output_type": "stream",
          "name": "stdout",
          "text": [
            "Requirement already satisfied: transformers[torch] in /usr/local/lib/python3.10/dist-packages (4.35.2)\n",
            "Requirement already satisfied: filelock in /usr/local/lib/python3.10/dist-packages (from transformers[torch]) (3.13.1)\n",
            "Requirement already satisfied: huggingface-hub<1.0,>=0.16.4 in /usr/local/lib/python3.10/dist-packages (from transformers[torch]) (0.19.4)\n",
            "Requirement already satisfied: numpy>=1.17 in /usr/local/lib/python3.10/dist-packages (from transformers[torch]) (1.23.5)\n",
            "Requirement already satisfied: packaging>=20.0 in /usr/local/lib/python3.10/dist-packages (from transformers[torch]) (23.2)\n",
            "Requirement already satisfied: pyyaml>=5.1 in /usr/local/lib/python3.10/dist-packages (from transformers[torch]) (6.0.1)\n",
            "Requirement already satisfied: regex!=2019.12.17 in /usr/local/lib/python3.10/dist-packages (from transformers[torch]) (2023.6.3)\n",
            "Requirement already satisfied: requests in /usr/local/lib/python3.10/dist-packages (from transformers[torch]) (2.31.0)\n",
            "Requirement already satisfied: tokenizers<0.19,>=0.14 in /usr/local/lib/python3.10/dist-packages (from transformers[torch]) (0.15.0)\n",
            "Requirement already satisfied: safetensors>=0.3.1 in /usr/local/lib/python3.10/dist-packages (from transformers[torch]) (0.4.1)\n",
            "Requirement already satisfied: tqdm>=4.27 in /usr/local/lib/python3.10/dist-packages (from transformers[torch]) (4.66.1)\n",
            "Requirement already satisfied: torch!=1.12.0,>=1.10 in /usr/local/lib/python3.10/dist-packages (from transformers[torch]) (2.1.0+cu118)\n",
            "Requirement already satisfied: accelerate>=0.20.3 in /usr/local/lib/python3.10/dist-packages (from transformers[torch]) (0.25.0)\n",
            "Requirement already satisfied: psutil in /usr/local/lib/python3.10/dist-packages (from accelerate>=0.20.3->transformers[torch]) (5.9.5)\n",
            "Requirement already satisfied: fsspec>=2023.5.0 in /usr/local/lib/python3.10/dist-packages (from huggingface-hub<1.0,>=0.16.4->transformers[torch]) (2023.6.0)\n",
            "Requirement already satisfied: typing-extensions>=3.7.4.3 in /usr/local/lib/python3.10/dist-packages (from huggingface-hub<1.0,>=0.16.4->transformers[torch]) (4.5.0)\n",
            "Requirement already satisfied: sympy in /usr/local/lib/python3.10/dist-packages (from torch!=1.12.0,>=1.10->transformers[torch]) (1.12)\n",
            "Requirement already satisfied: networkx in /usr/local/lib/python3.10/dist-packages (from torch!=1.12.0,>=1.10->transformers[torch]) (3.2.1)\n",
            "Requirement already satisfied: jinja2 in /usr/local/lib/python3.10/dist-packages (from torch!=1.12.0,>=1.10->transformers[torch]) (3.1.2)\n",
            "Requirement already satisfied: triton==2.1.0 in /usr/local/lib/python3.10/dist-packages (from torch!=1.12.0,>=1.10->transformers[torch]) (2.1.0)\n",
            "Requirement already satisfied: charset-normalizer<4,>=2 in /usr/local/lib/python3.10/dist-packages (from requests->transformers[torch]) (3.3.2)\n",
            "Requirement already satisfied: idna<4,>=2.5 in /usr/local/lib/python3.10/dist-packages (from requests->transformers[torch]) (3.6)\n",
            "Requirement already satisfied: urllib3<3,>=1.21.1 in /usr/local/lib/python3.10/dist-packages (from requests->transformers[torch]) (2.0.7)\n",
            "Requirement already satisfied: certifi>=2017.4.17 in /usr/local/lib/python3.10/dist-packages (from requests->transformers[torch]) (2023.11.17)\n",
            "Requirement already satisfied: MarkupSafe>=2.0 in /usr/local/lib/python3.10/dist-packages (from jinja2->torch!=1.12.0,>=1.10->transformers[torch]) (2.1.3)\n",
            "Requirement already satisfied: mpmath>=0.19 in /usr/local/lib/python3.10/dist-packages (from sympy->torch!=1.12.0,>=1.10->transformers[torch]) (1.3.0)\n"
          ]
        }
      ]
    },
    {
      "cell_type": "code",
      "source": [
        "from transformers import TrainingArguments, AdamW, get_linear_schedule_with_warmup\n",
        "\n",
        "optimizer = AdamW(model.parameters(), lr=2e-5)\n",
        "\n",
        "scheduler = get_linear_schedule_with_warmup(optimizer, 24000, 500000)\n",
        "#scheduler (optimizer, num_steps, num_warmup_steps, num_training_steps)"
      ],
      "metadata": {
        "id": "Dnh5Vc-DLJJW",
        "colab": {
          "base_uri": "https://localhost:8080/"
        },
        "outputId": "7525b495-9b53-4fe8-bbe1-1f14d8508373"
      },
      "execution_count": 19,
      "outputs": [
        {
          "output_type": "stream",
          "name": "stderr",
          "text": [
            "/usr/local/lib/python3.10/dist-packages/transformers/optimization.py:411: FutureWarning: This implementation of AdamW is deprecated and will be removed in a future version. Use the PyTorch implementation torch.optim.AdamW instead, or set `no_deprecation_warning=True` to disable this warning\n",
            "  warnings.warn(\n"
          ]
        }
      ]
    },
    {
      "cell_type": "markdown",
      "source": [
        "*   Number of Training Steps: A training step is one gradient update, where in one step, a batch of examples is processed. The number of training steps indicates how many times the weights of the network are updated. It is often used in the context of specifying the duration of training, and the model is trained for a certain number of steps.\n",
        "*   Number of Epochs: An epoch is a complete pass through the entire training dataset. It consists of one or more batches. The number of epochs defines how many times the learning algorithm will work through the entire training dataset. It is a hyperparameter that is traditionally set to a large number, allowing the learning algorithm to run until the error from the model has been sufficiently minimized."
      ],
      "metadata": {
        "id": "vAysDnIy_ixq"
      }
    },
    {
      "cell_type": "code",
      "source": [
        "#define training arguments parameters\n",
        "from transformers import TrainingArguments, Trainer\n",
        "\n",
        "args = TrainingArguments(\n",
        "    \"test-ner\",\n",
        "    evaluation_strategy=\"epoch\",\n",
        "    per_device_train_batch_size=4,\n",
        "    per_device_eval_batch_size=4,\n",
        "    num_train_epochs=6,\n",
        "    weight_decay=0.01,\n",
        ")"
      ],
      "metadata": {
        "id": "gZGaI19ADSCu"
      },
      "execution_count": 20,
      "outputs": []
    },
    {
      "cell_type": "code",
      "source": [
        "data_collator = DataCollatorForTokenClassification(tokenizer)\n",
        "#objects that will form a batch by using a list of dataset elements as input - they are the same type of the elements of the trian dataset"
      ],
      "metadata": {
        "id": "kJ_-UpQTEwCv"
      },
      "execution_count": 21,
      "outputs": []
    },
    {
      "cell_type": "code",
      "source": [
        "metric = datasets.load_metric('seqeval')\n",
        "#utureWarning: load_metric is deprecated and will be removed in the next major version of datasets.\n",
        "# Use 'evaluate.load' instead, from the new library 🤗\n",
        "example = main_dataset['train'][0]"
      ],
      "metadata": {
        "id": "r4THUkMiFL98",
        "colab": {
          "base_uri": "https://localhost:8080/",
          "height": 104,
          "referenced_widgets": [
            "e39e6744e2bb43fe8c697d763d9f709d",
            "a65ed84b34fe43e7a3bc9bc83505d863",
            "0d519cb1425e4d839c9730c1e3ef6634",
            "bfd73f474165463d96c4b2889e5e78e1",
            "26bb34e533594386b58270c69abe962b",
            "79ab1200fe4144a5935cbdc07e54fef4",
            "ce037bbbea624a00af1c9d2bb3e849c7",
            "0c168cd8996b43bab04ad0a5a8ce9e6b",
            "75c98ca6967544759c7dbf34f2e66871",
            "d995dd7af706417895a3e2ff0bfe02ab",
            "1a14bca267ac4e26a14ed45cfb793c24"
          ]
        },
        "outputId": "85f27544-5bff-4b91-9150-2de638b781d7"
      },
      "execution_count": 22,
      "outputs": [
        {
          "output_type": "stream",
          "name": "stderr",
          "text": [
            "<ipython-input-22-1a25687c91d7>:1: FutureWarning: load_metric is deprecated and will be removed in the next major version of datasets. Use 'evaluate.load' instead, from the new library 🤗 Evaluate: https://huggingface.co/docs/evaluate\n",
            "  metric = datasets.load_metric('seqeval')\n"
          ]
        },
        {
          "output_type": "display_data",
          "data": {
            "text/plain": [
              "Downloading builder script:   0%|          | 0.00/2.47k [00:00<?, ?B/s]"
            ],
            "application/vnd.jupyter.widget-view+json": {
              "version_major": 2,
              "version_minor": 0,
              "model_id": "e39e6744e2bb43fe8c697d763d9f709d"
            }
          },
          "metadata": {}
        }
      ]
    },
    {
      "cell_type": "code",
      "source": [
        "label_list = main_dataset['train'].features['ner_tags'].feature.names\n",
        "label_list"
      ],
      "metadata": {
        "colab": {
          "base_uri": "https://localhost:8080/"
        },
        "id": "mbqYW3FKFTkF",
        "outputId": "855496c9-3f9a-4f14-9c02-2df42476cd56"
      },
      "execution_count": 23,
      "outputs": [
        {
          "output_type": "execute_result",
          "data": {
            "text/plain": [
              "['B-ORG', 'I-PER', 'I-LOC', 'B-PER', 'B-LOC', 'B-GPE', 'I-GPE', 'O', 'I-ORG']"
            ]
          },
          "metadata": {},
          "execution_count": 23
        }
      ]
    },
    {
      "cell_type": "code",
      "source": [
        "example = main_dataset['train'][1]"
      ],
      "metadata": {
        "id": "1xrheOc6GvMC"
      },
      "execution_count": 24,
      "outputs": []
    },
    {
      "cell_type": "code",
      "source": [
        "#calculate the metric on a single example (the first of the train dataset)\n",
        "labels = [label_list[i] for i in example['ner_tags']]\n",
        "labels"
      ],
      "metadata": {
        "colab": {
          "base_uri": "https://localhost:8080/"
        },
        "id": "KGkApBvuGMli",
        "outputId": "bffae959-4050-402b-8488-614ac118980c"
      },
      "execution_count": 25,
      "outputs": [
        {
          "output_type": "execute_result",
          "data": {
            "text/plain": [
              "['O', 'O', 'O', 'O', 'O', 'O', 'B-PER']"
            ]
          },
          "metadata": {},
          "execution_count": 25
        }
      ]
    },
    {
      "cell_type": "code",
      "source": [
        "#check metric.compute works\n",
        "metric.compute(predictions=[labels], references=[labels])\n",
        "#the score of this is very high because I pass the same list to both my predictions and references"
      ],
      "metadata": {
        "colab": {
          "base_uri": "https://localhost:8080/"
        },
        "id": "T-ZEzI6OGz11",
        "outputId": "562958fd-ffd7-4401-f79d-7560f7440e73"
      },
      "execution_count": 26,
      "outputs": [
        {
          "output_type": "execute_result",
          "data": {
            "text/plain": [
              "{'PER': {'precision': 1.0, 'recall': 1.0, 'f1': 1.0, 'number': 1},\n",
              " 'overall_precision': 1.0,\n",
              " 'overall_recall': 1.0,\n",
              " 'overall_f1': 1.0,\n",
              " 'overall_accuracy': 1.0}"
            ]
          },
          "metadata": {},
          "execution_count": 26
        }
      ]
    },
    {
      "cell_type": "code",
      "source": [
        "def compute_metrics(eval_preds):\n",
        "    pred_logits, labels = eval_preds\n",
        "\n",
        "    # pred_logits are obtained by passing numpy.argmax\n",
        "    pred_logits = np.argmax(pred_logits, axis=2)\n",
        "    # the logits and the probabilities are in the same order,\n",
        "    # so we don’t need to apply the softmax\n",
        "\n",
        "    # We remove all the values where the label is -100\n",
        "    # define the variable prediction here\n",
        "    predictions = [\n",
        "        [label_list[eval_preds] for (eval_preds, l) in zip(prediction, label) if l != -100]\n",
        "        for prediction, label in zip(pred_logits, labels)\n",
        "    ]\n",
        "    # define the variable true_labels here\n",
        "    true_labels = [\n",
        "      [label_list[l] for (eval_preds, l) in zip(prediction, label) if l != -100]\n",
        "       for prediction, label in zip(pred_logits, labels)\n",
        "    ]\n",
        "    results = metric.compute(predictions=predictions, references=true_labels)\n",
        "\n",
        "    global stored_predictions, stored_labels\n",
        "    stored_predictions.extend(predictions)\n",
        "    stored_labels.extend(true_labels)\n",
        "\n",
        "    return {\n",
        "   \"precision\": results[\"overall_precision\"],\n",
        "   \"recall\": results[\"overall_recall\"],\n",
        "   \"f1\": results[\"overall_f1\"],\n",
        "    \"accuracy\": results[\"overall_accuracy\"],\n",
        "  }"
      ],
      "metadata": {
        "id": "JAn7-31bHMEG"
      },
      "execution_count": 27,
      "outputs": []
    },
    {
      "cell_type": "code",
      "source": [
        "stored_predictions = []\n",
        "stored_labels = []"
      ],
      "metadata": {
        "id": "Bev5zJI0nqM7"
      },
      "execution_count": 28,
      "outputs": []
    },
    {
      "cell_type": "code",
      "source": [
        "trainer = Trainer (\n",
        "    model,\n",
        "    args,\n",
        "    optimizers=(optimizer, scheduler),\n",
        "    train_dataset=tokenized_dataset[\"train\"],\n",
        "    eval_dataset=tokenized_dataset[\"test\"],\n",
        "    data_collator=data_collator,\n",
        "    tokenizer=tokenizer,\n",
        "    compute_metrics=compute_metrics\n",
        ")"
      ],
      "metadata": {
        "id": "SvQZcRLpHMJ4"
      },
      "execution_count": 29,
      "outputs": []
    },
    {
      "cell_type": "code",
      "source": [
        "trainer.train()\n",
        "\n",
        "model.save_pretrained('ner_model')\n",
        "\n",
        "tokenizer.save_pretrained('tokenizer')"
      ],
      "metadata": {
        "colab": {
          "base_uri": "https://localhost:8080/",
          "height": 440
        },
        "id": "y0z5_wItJftt",
        "outputId": "ee8497f0-de2f-48a3-9fc7-b0a4861c1425"
      },
      "execution_count": 30,
      "outputs": [
        {
          "output_type": "stream",
          "name": "stderr",
          "text": [
            "You're using a RobertaTokenizerFast tokenizer. Please note that with a fast tokenizer, using the `__call__` method is faster than using a method to encode the text followed by a call to the `pad` method to get a padded encoding.\n"
          ]
        },
        {
          "output_type": "display_data",
          "data": {
            "text/plain": [
              "<IPython.core.display.HTML object>"
            ],
            "text/html": [
              "\n",
              "    <div>\n",
              "      \n",
              "      <progress value='16842' max='16842' style='width:300px; height:20px; vertical-align: middle;'></progress>\n",
              "      [16842/16842 32:57, Epoch 6/6]\n",
              "    </div>\n",
              "    <table border=\"1\" class=\"dataframe\">\n",
              "  <thead>\n",
              " <tr style=\"text-align: left;\">\n",
              "      <th>Epoch</th>\n",
              "      <th>Training Loss</th>\n",
              "      <th>Validation Loss</th>\n",
              "      <th>Precision</th>\n",
              "      <th>Recall</th>\n",
              "      <th>F1</th>\n",
              "      <th>Accuracy</th>\n",
              "    </tr>\n",
              "  </thead>\n",
              "  <tbody>\n",
              "    <tr>\n",
              "      <td>1</td>\n",
              "      <td>0.200700</td>\n",
              "      <td>0.172349</td>\n",
              "      <td>0.634448</td>\n",
              "      <td>0.670970</td>\n",
              "      <td>0.652198</td>\n",
              "      <td>0.959935</td>\n",
              "    </tr>\n",
              "    <tr>\n",
              "      <td>2</td>\n",
              "      <td>0.138900</td>\n",
              "      <td>0.137475</td>\n",
              "      <td>0.759266</td>\n",
              "      <td>0.757185</td>\n",
              "      <td>0.758224</td>\n",
              "      <td>0.970214</td>\n",
              "    </tr>\n",
              "    <tr>\n",
              "      <td>3</td>\n",
              "      <td>0.108600</td>\n",
              "      <td>0.146986</td>\n",
              "      <td>0.744976</td>\n",
              "      <td>0.783447</td>\n",
              "      <td>0.763727</td>\n",
              "      <td>0.972100</td>\n",
              "    </tr>\n",
              "    <tr>\n",
              "      <td>4</td>\n",
              "      <td>0.095800</td>\n",
              "      <td>0.141401</td>\n",
              "      <td>0.805113</td>\n",
              "      <td>0.782474</td>\n",
              "      <td>0.793632</td>\n",
              "      <td>0.973900</td>\n",
              "    </tr>\n",
              "    <tr>\n",
              "      <td>5</td>\n",
              "      <td>0.084500</td>\n",
              "      <td>0.156682</td>\n",
              "      <td>0.804255</td>\n",
              "      <td>0.802193</td>\n",
              "      <td>0.803223</td>\n",
              "      <td>0.975841</td>\n",
              "    </tr>\n",
              "    <tr>\n",
              "      <td>6</td>\n",
              "      <td>0.062700</td>\n",
              "      <td>0.165822</td>\n",
              "      <td>0.808847</td>\n",
              "      <td>0.795473</td>\n",
              "      <td>0.802104</td>\n",
              "      <td>0.975165</td>\n",
              "    </tr>\n",
              "  </tbody>\n",
              "</table><p>"
            ]
          },
          "metadata": {}
        },
        {
          "output_type": "stream",
          "name": "stderr",
          "text": [
            "/usr/local/lib/python3.10/dist-packages/seqeval/metrics/v1.py:57: UndefinedMetricWarning: Precision and F-score are ill-defined and being set to 0.0 in labels with no predicted samples. Use `zero_division` parameter to control this behavior.\n",
            "  _warn_prf(average, modifier, msg_start, len(result))\n"
          ]
        },
        {
          "output_type": "execute_result",
          "data": {
            "text/plain": [
              "('tokenizer/tokenizer_config.json',\n",
              " 'tokenizer/special_tokens_map.json',\n",
              " 'tokenizer/vocab.json',\n",
              " 'tokenizer/merges.txt',\n",
              " 'tokenizer/added_tokens.json',\n",
              " 'tokenizer/tokenizer.json')"
            ]
          },
          "metadata": {},
          "execution_count": 30
        }
      ]
    },
    {
      "cell_type": "code",
      "source": [
        "from conlleval import evaluate\n",
        "\n",
        "true_flat = [item for sublist in stored_labels for item in sublist]\n",
        "pred_flat = [item for sublist in stored_predictions for item in sublist]\n",
        "\n",
        "# print out the table as above\n",
        "evaluate(true_flat, pred_flat, verbose=True)\n",
        "\n",
        "# calculate overall metrics\n",
        "prec, rec, f1 = evaluate(true_flat, pred_flat, verbose=False)"
      ],
      "metadata": {
        "id": "eWE56N7bnvEZ",
        "colab": {
          "base_uri": "https://localhost:8080/"
        },
        "outputId": "e66127da-e141-401c-a6dd-a5ddd56aba2f"
      },
      "execution_count": 31,
      "outputs": [
        {
          "output_type": "stream",
          "name": "stdout",
          "text": [
            "processed 986448 tokens with 67854 phrases; found: 68524 phrases; correct: 51928.\n",
            "accuracy:  78.75%; (non-O)\n",
            "accuracy:  97.12%; precision:  75.78%; recall:  76.53%; FB1:  76.15\n",
            "              GPE: precision:  69.90%; recall:  78.05%; FB1:  73.75  17278\n",
            "              LOC: precision:  37.67%; recall:  20.82%; FB1:  26.82  1038\n",
            "              ORG: precision:  64.10%; recall:  66.44%; FB1:  65.25  18656\n",
            "              PER: precision:  87.16%; recall:  84.61%; FB1:  85.87  31552\n"
          ]
        }
      ]
    },
    {
      "cell_type": "code",
      "source": [
        "import seaborn as sns\n",
        "import matplotlib.pyplot as plt\n",
        "from sklearn.metrics import confusion_matrix\n",
        "\n",
        "conf_matrix = confusion_matrix(np.concatenate(stored_labels), np.concatenate(stored_predictions))\n",
        "labels = sorted(list(set(np.concatenate(stored_labels))))\n",
        "\n",
        "plt.figure(figsize=(10, 8))\n",
        "sns.heatmap(conf_matrix, annot=True, fmt='d', cmap='Blues', xticklabels=labels, yticklabels=labels)\n",
        "plt.xlabel('Predicted labels')\n",
        "plt.ylabel('True labels')\n",
        "plt.title('Confusion Matrix')\n",
        "plt.show()"
      ],
      "metadata": {
        "id": "78zwc7M-nxMB",
        "colab": {
          "base_uri": "https://localhost:8080/",
          "height": 718
        },
        "outputId": "b0e33c94-79ba-480c-e9d7-b88c6a5c791a"
      },
      "execution_count": 33,
      "outputs": [
        {
          "output_type": "display_data",
          "data": {
            "text/plain": [
              "<Figure size 1000x800 with 2 Axes>"
            ],
            "image/png": "[encoded data removed]"
          },
          "metadata": {}
        }
      ]
    },
    {
      "cell_type": "markdown",
      "source": [
        "You're using a RobertaTokenizerFast tokenizer. Please note that with a fast tokenizer, using the `__call__` method is faster than using a method to encode the text followed by a call to the `pad` method to get a padded encoding.\n",
        "\n",
        "Credo che questo salti fuori (anche con BERT) perchè noi non stiamo tokenizzando direttamente il testo. Il fatto è che non lo stiamo facendo perché appunto ci sono dei token che vengono mappati a NONE e questo va evitato pre-processando il dataset.\n",
        "\n",
        "NOTA: usando ROBERTA come tokenizer e come modello, il training sembra andare lentissimo (quasi 3 ore per completare la prima epoca: da investigare!!!)"
      ],
      "metadata": {
        "id": "D9i02yRw1Ha0"
      }
    },
    {
      "cell_type": "code",
      "source": [
        "id2label= {\n",
        "    str(i):label for i, label in enumerate(label_list)\n",
        "}\n",
        "\n",
        "label2id = {\n",
        "    label:str(i) for i, label in enumerate(label_list)\n",
        "}"
      ],
      "metadata": {
        "id": "N-dS1d5uJp7w"
      },
      "execution_count": 34,
      "outputs": []
    },
    {
      "cell_type": "code",
      "source": [
        "import json\n",
        "\n",
        "config = json.load(open('ner_model/config.json'))"
      ],
      "metadata": {
        "id": "jp24MUoyJ6hH"
      },
      "execution_count": 35,
      "outputs": []
    },
    {
      "cell_type": "code",
      "source": [
        "config['id2label'] = id2label\n",
        "config['label2id'] = label2id\n",
        "\n",
        "json.dump(config, open('ner_model/config.json', 'w'))\n",
        "\n",
        "model_fine_tuned = RobertaForTokenClassification.from_pretrained(\"ner_model\")"
      ],
      "metadata": {
        "id": "u__Uew-AKQ5i"
      },
      "execution_count": 36,
      "outputs": []
    },
    {
      "cell_type": "markdown",
      "source": [
        "test on evaluation text"
      ],
      "metadata": {
        "id": "aSUh33sgKPsR"
      }
    },
    {
      "cell_type": "code",
      "source": [
        "from transformers import pipeline"
      ],
      "metadata": {
        "id": "Kfe0ZK-lKqAn"
      },
      "execution_count": 37,
      "outputs": []
    },
    {
      "cell_type": "code",
      "source": [
        "nlp = pipeline(\"ner\", model=model_fine_tuned, tokenizer=tokenizer)\n",
        "\n",
        "example = \"Gianmarco ha trovato un fiore in Trentino e l'ha portato all'ONU ma a loro non è piaciuto quindi Pedrotti si è indispettito\"\n",
        "\n",
        "ner_results = nlp(example)\n",
        "\n",
        "print(ner_results)"
      ],
      "metadata": {
        "id": "PTNWb2YYKwfS",
        "colab": {
          "base_uri": "https://localhost:8080/"
        },
        "outputId": "df6c062a-a35e-4fa6-d968-6bfad597ae68"
      },
      "execution_count": 39,
      "outputs": [
        {
          "output_type": "stream",
          "name": "stdout",
          "text": [
            "[{'entity': 'B-PER', 'score': 0.9993299, 'index': 1, 'word': 'ĠGian', 'start': 0, 'end': 4}, {'entity': 'B-PER', 'score': 0.99924964, 'index': 2, 'word': 'mar', 'start': 4, 'end': 7}, {'entity': 'B-PER', 'score': 0.9992556, 'index': 3, 'word': 'co', 'start': 7, 'end': 9}, {'entity': 'B-GPE', 'score': 0.9951866, 'index': 12, 'word': 'ĠTrent', 'start': 33, 'end': 38}, {'entity': 'B-GPE', 'score': 0.99564075, 'index': 13, 'word': 'ino', 'start': 38, 'end': 41}, {'entity': 'B-ORG', 'score': 0.9831646, 'index': 22, 'word': 'ON', 'start': 61, 'end': 63}, {'entity': 'B-ORG', 'score': 0.9845487, 'index': 23, 'word': 'U', 'start': 63, 'end': 64}, {'entity': 'B-PER', 'score': 0.9992823, 'index': 38, 'word': 'ĠPedro', 'start': 97, 'end': 102}, {'entity': 'B-PER', 'score': 0.9992586, 'index': 39, 'word': 'tti', 'start': 102, 'end': 105}]\n"
          ]
        }
      ]
    }
  ]
}