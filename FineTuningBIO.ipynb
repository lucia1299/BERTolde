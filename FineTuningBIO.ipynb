{
  "cells": [
    {
      "cell_type": "markdown",
      "metadata": {
        "id": "view-in-github",
        "colab_type": "text"
      },
      "source": [
        "<a href=\"https://colab.research.google.com/github/lucia1299/BERTolde/blob/main/FineTuningBIO.ipynb\" target=\"_parent\"><img src=\"https://colab.research.google.com/assets/colab-badge.svg\" alt=\"Open In Colab\"/></a>"
      ]
    },
    {
      "cell_type": "code",
      "execution_count": null,
      "metadata": {
        "colab": {
          "base_uri": "https://localhost:8080/"
        },
        "id": "xuYfoh66eAT8",
        "outputId": "a469f166-ae0e-43aa-cbab-eba41ade0b94"
      },
      "outputs": [
        {
          "output_type": "stream",
          "name": "stdout",
          "text": [
            "Requirement already satisfied: seqeval in /usr/local/lib/python3.10/dist-packages (1.2.2)\n",
            "Requirement already satisfied: numpy>=1.14.0 in /usr/local/lib/python3.10/dist-packages (from seqeval) (1.26.4)\n",
            "Requirement already satisfied: scikit-learn>=0.21.3 in /usr/local/lib/python3.10/dist-packages (from seqeval) (1.5.2)\n",
            "Requirement already satisfied: scipy>=1.6.0 in /usr/local/lib/python3.10/dist-packages (from scikit-learn>=0.21.3->seqeval) (1.13.1)\n",
            "Requirement already satisfied: joblib>=1.2.0 in /usr/local/lib/python3.10/dist-packages (from scikit-learn>=0.21.3->seqeval) (1.4.2)\n",
            "Requirement already satisfied: threadpoolctl>=3.1.0 in /usr/local/lib/python3.10/dist-packages (from scikit-learn>=0.21.3->seqeval) (3.5.0)\n"
          ]
        }
      ],
      "source": [
        "!pip install seqeval"
      ]
    },
    {
      "cell_type": "code",
      "execution_count": null,
      "metadata": {
        "colab": {
          "base_uri": "https://localhost:8080/"
        },
        "id": "zCye1_6El626",
        "outputId": "03cccf49-a56e-4dec-a92f-7830b706c99d"
      },
      "outputs": [
        {
          "output_type": "stream",
          "name": "stdout",
          "text": [
            "Requirement already satisfied: evaluate in /usr/local/lib/python3.10/dist-packages (0.4.3)\n",
            "Requirement already satisfied: datasets>=2.0.0 in /usr/local/lib/python3.10/dist-packages (from evaluate) (3.0.0)\n",
            "Requirement already satisfied: numpy>=1.17 in /usr/local/lib/python3.10/dist-packages (from evaluate) (1.26.4)\n",
            "Requirement already satisfied: dill in /usr/local/lib/python3.10/dist-packages (from evaluate) (0.3.8)\n",
            "Requirement already satisfied: pandas in /usr/local/lib/python3.10/dist-packages (from evaluate) (2.1.4)\n",
            "Requirement already satisfied: requests>=2.19.0 in /usr/local/lib/python3.10/dist-packages (from evaluate) (2.32.3)\n",
            "Requirement already satisfied: tqdm>=4.62.1 in /usr/local/lib/python3.10/dist-packages (from evaluate) (4.66.5)\n",
            "Requirement already satisfied: xxhash in /usr/local/lib/python3.10/dist-packages (from evaluate) (3.5.0)\n",
            "Requirement already satisfied: multiprocess in /usr/local/lib/python3.10/dist-packages (from evaluate) (0.70.16)\n",
            "Requirement already satisfied: fsspec>=2021.05.0 in /usr/local/lib/python3.10/dist-packages (from fsspec[http]>=2021.05.0->evaluate) (2024.6.1)\n",
            "Requirement already satisfied: huggingface-hub>=0.7.0 in /usr/local/lib/python3.10/dist-packages (from evaluate) (0.24.7)\n",
            "Requirement already satisfied: packaging in /usr/local/lib/python3.10/dist-packages (from evaluate) (24.1)\n",
            "Requirement already satisfied: filelock in /usr/local/lib/python3.10/dist-packages (from datasets>=2.0.0->evaluate) (3.16.1)\n",
            "Requirement already satisfied: pyarrow>=15.0.0 in /usr/local/lib/python3.10/dist-packages (from datasets>=2.0.0->evaluate) (17.0.0)\n",
            "Requirement already satisfied: aiohttp in /usr/local/lib/python3.10/dist-packages (from datasets>=2.0.0->evaluate) (3.10.5)\n",
            "Requirement already satisfied: pyyaml>=5.1 in /usr/local/lib/python3.10/dist-packages (from datasets>=2.0.0->evaluate) (6.0.2)\n",
            "Requirement already satisfied: typing-extensions>=3.7.4.3 in /usr/local/lib/python3.10/dist-packages (from huggingface-hub>=0.7.0->evaluate) (4.12.2)\n",
            "Requirement already satisfied: charset-normalizer<4,>=2 in /usr/local/lib/python3.10/dist-packages (from requests>=2.19.0->evaluate) (3.3.2)\n",
            "Requirement already satisfied: idna<4,>=2.5 in /usr/local/lib/python3.10/dist-packages (from requests>=2.19.0->evaluate) (3.10)\n",
            "Requirement already satisfied: urllib3<3,>=1.21.1 in /usr/local/lib/python3.10/dist-packages (from requests>=2.19.0->evaluate) (2.2.3)\n",
            "Requirement already satisfied: certifi>=2017.4.17 in /usr/local/lib/python3.10/dist-packages (from requests>=2.19.0->evaluate) (2024.8.30)\n",
            "Requirement already satisfied: python-dateutil>=2.8.2 in /usr/local/lib/python3.10/dist-packages (from pandas->evaluate) (2.8.2)\n",
            "Requirement already satisfied: pytz>=2020.1 in /usr/local/lib/python3.10/dist-packages (from pandas->evaluate) (2024.2)\n",
            "Requirement already satisfied: tzdata>=2022.1 in /usr/local/lib/python3.10/dist-packages (from pandas->evaluate) (2024.1)\n",
            "Requirement already satisfied: aiohappyeyeballs>=2.3.0 in /usr/local/lib/python3.10/dist-packages (from aiohttp->datasets>=2.0.0->evaluate) (2.4.0)\n",
            "Requirement already satisfied: aiosignal>=1.1.2 in /usr/local/lib/python3.10/dist-packages (from aiohttp->datasets>=2.0.0->evaluate) (1.3.1)\n",
            "Requirement already satisfied: attrs>=17.3.0 in /usr/local/lib/python3.10/dist-packages (from aiohttp->datasets>=2.0.0->evaluate) (24.2.0)\n",
            "Requirement already satisfied: frozenlist>=1.1.1 in /usr/local/lib/python3.10/dist-packages (from aiohttp->datasets>=2.0.0->evaluate) (1.4.1)\n",
            "Requirement already satisfied: multidict<7.0,>=4.5 in /usr/local/lib/python3.10/dist-packages (from aiohttp->datasets>=2.0.0->evaluate) (6.1.0)\n",
            "Requirement already satisfied: yarl<2.0,>=1.0 in /usr/local/lib/python3.10/dist-packages (from aiohttp->datasets>=2.0.0->evaluate) (1.11.1)\n",
            "Requirement already satisfied: async-timeout<5.0,>=4.0 in /usr/local/lib/python3.10/dist-packages (from aiohttp->datasets>=2.0.0->evaluate) (4.0.3)\n",
            "Requirement already satisfied: six>=1.5 in /usr/local/lib/python3.10/dist-packages (from python-dateutil>=2.8.2->pandas->evaluate) (1.16.0)\n"
          ]
        }
      ],
      "source": [
        "!pip install evaluate"
      ]
    },
    {
      "cell_type": "code",
      "execution_count": null,
      "metadata": {
        "colab": {
          "base_uri": "https://localhost:8080/"
        },
        "id": "m5Pn5Gkpn266",
        "outputId": "4412a209-7384-4811-de51-efdf7adcdae3"
      },
      "outputs": [
        {
          "output_type": "stream",
          "name": "stdout",
          "text": [
            "Requirement already satisfied: accelerate in /usr/local/lib/python3.10/dist-packages (0.34.2)\n",
            "Requirement already satisfied: numpy<3.0.0,>=1.17 in /usr/local/lib/python3.10/dist-packages (from accelerate) (1.26.4)\n",
            "Requirement already satisfied: packaging>=20.0 in /usr/local/lib/python3.10/dist-packages (from accelerate) (24.1)\n",
            "Requirement already satisfied: psutil in /usr/local/lib/python3.10/dist-packages (from accelerate) (5.9.5)\n",
            "Requirement already satisfied: pyyaml in /usr/local/lib/python3.10/dist-packages (from accelerate) (6.0.2)\n",
            "Requirement already satisfied: torch>=1.10.0 in /usr/local/lib/python3.10/dist-packages (from accelerate) (2.4.1+cu121)\n",
            "Requirement already satisfied: huggingface-hub>=0.21.0 in /usr/local/lib/python3.10/dist-packages (from accelerate) (0.24.7)\n",
            "Requirement already satisfied: safetensors>=0.4.3 in /usr/local/lib/python3.10/dist-packages (from accelerate) (0.4.5)\n",
            "Requirement already satisfied: filelock in /usr/local/lib/python3.10/dist-packages (from huggingface-hub>=0.21.0->accelerate) (3.16.1)\n",
            "Requirement already satisfied: fsspec>=2023.5.0 in /usr/local/lib/python3.10/dist-packages (from huggingface-hub>=0.21.0->accelerate) (2024.6.1)\n",
            "Requirement already satisfied: requests in /usr/local/lib/python3.10/dist-packages (from huggingface-hub>=0.21.0->accelerate) (2.32.3)\n",
            "Requirement already satisfied: tqdm>=4.42.1 in /usr/local/lib/python3.10/dist-packages (from huggingface-hub>=0.21.0->accelerate) (4.66.5)\n",
            "Requirement already satisfied: typing-extensions>=3.7.4.3 in /usr/local/lib/python3.10/dist-packages (from huggingface-hub>=0.21.0->accelerate) (4.12.2)\n",
            "Requirement already satisfied: sympy in /usr/local/lib/python3.10/dist-packages (from torch>=1.10.0->accelerate) (1.13.3)\n",
            "Requirement already satisfied: networkx in /usr/local/lib/python3.10/dist-packages (from torch>=1.10.0->accelerate) (3.3)\n",
            "Requirement already satisfied: jinja2 in /usr/local/lib/python3.10/dist-packages (from torch>=1.10.0->accelerate) (3.1.4)\n",
            "Requirement already satisfied: MarkupSafe>=2.0 in /usr/local/lib/python3.10/dist-packages (from jinja2->torch>=1.10.0->accelerate) (2.1.5)\n",
            "Requirement already satisfied: charset-normalizer<4,>=2 in /usr/local/lib/python3.10/dist-packages (from requests->huggingface-hub>=0.21.0->accelerate) (3.3.2)\n",
            "Requirement already satisfied: idna<4,>=2.5 in /usr/local/lib/python3.10/dist-packages (from requests->huggingface-hub>=0.21.0->accelerate) (3.10)\n",
            "Requirement already satisfied: urllib3<3,>=1.21.1 in /usr/local/lib/python3.10/dist-packages (from requests->huggingface-hub>=0.21.0->accelerate) (2.2.3)\n",
            "Requirement already satisfied: certifi>=2017.4.17 in /usr/local/lib/python3.10/dist-packages (from requests->huggingface-hub>=0.21.0->accelerate) (2024.8.30)\n",
            "Requirement already satisfied: mpmath<1.4,>=1.1.0 in /usr/local/lib/python3.10/dist-packages (from sympy->torch>=1.10.0->accelerate) (1.3.0)\n"
          ]
        }
      ],
      "source": [
        "!pip install accelerate -U"
      ]
    },
    {
      "cell_type": "code",
      "execution_count": null,
      "metadata": {
        "colab": {
          "base_uri": "https://localhost:8080/"
        },
        "id": "v_lMnq2jlRho",
        "outputId": "42eb39e4-747a-4903-b19c-5be529c0b87d"
      },
      "outputs": [
        {
          "output_type": "stream",
          "name": "stdout",
          "text": [
            "Requirement already satisfied: transformers[torch] in /usr/local/lib/python3.10/dist-packages (4.44.2)\n",
            "Requirement already satisfied: filelock in /usr/local/lib/python3.10/dist-packages (from transformers[torch]) (3.16.1)\n",
            "Requirement already satisfied: huggingface-hub<1.0,>=0.23.2 in /usr/local/lib/python3.10/dist-packages (from transformers[torch]) (0.24.7)\n",
            "Requirement already satisfied: numpy>=1.17 in /usr/local/lib/python3.10/dist-packages (from transformers[torch]) (1.26.4)\n",
            "Requirement already satisfied: packaging>=20.0 in /usr/local/lib/python3.10/dist-packages (from transformers[torch]) (24.1)\n",
            "Requirement already satisfied: pyyaml>=5.1 in /usr/local/lib/python3.10/dist-packages (from transformers[torch]) (6.0.2)\n",
            "Requirement already satisfied: regex!=2019.12.17 in /usr/local/lib/python3.10/dist-packages (from transformers[torch]) (2024.9.11)\n",
            "Requirement already satisfied: requests in /usr/local/lib/python3.10/dist-packages (from transformers[torch]) (2.32.3)\n",
            "Requirement already satisfied: safetensors>=0.4.1 in /usr/local/lib/python3.10/dist-packages (from transformers[torch]) (0.4.5)\n",
            "Requirement already satisfied: tokenizers<0.20,>=0.19 in /usr/local/lib/python3.10/dist-packages (from transformers[torch]) (0.19.1)\n",
            "Requirement already satisfied: tqdm>=4.27 in /usr/local/lib/python3.10/dist-packages (from transformers[torch]) (4.66.5)\n",
            "Requirement already satisfied: accelerate>=0.21.0 in /usr/local/lib/python3.10/dist-packages (from transformers[torch]) (0.34.2)\n",
            "Requirement already satisfied: torch in /usr/local/lib/python3.10/dist-packages (from transformers[torch]) (2.4.1+cu121)\n",
            "Requirement already satisfied: psutil in /usr/local/lib/python3.10/dist-packages (from accelerate>=0.21.0->transformers[torch]) (5.9.5)\n",
            "Requirement already satisfied: fsspec>=2023.5.0 in /usr/local/lib/python3.10/dist-packages (from huggingface-hub<1.0,>=0.23.2->transformers[torch]) (2024.6.1)\n",
            "Requirement already satisfied: typing-extensions>=3.7.4.3 in /usr/local/lib/python3.10/dist-packages (from huggingface-hub<1.0,>=0.23.2->transformers[torch]) (4.12.2)\n",
            "Requirement already satisfied: sympy in /usr/local/lib/python3.10/dist-packages (from torch->transformers[torch]) (1.13.3)\n",
            "Requirement already satisfied: networkx in /usr/local/lib/python3.10/dist-packages (from torch->transformers[torch]) (3.3)\n",
            "Requirement already satisfied: jinja2 in /usr/local/lib/python3.10/dist-packages (from torch->transformers[torch]) (3.1.4)\n",
            "Requirement already satisfied: charset-normalizer<4,>=2 in /usr/local/lib/python3.10/dist-packages (from requests->transformers[torch]) (3.3.2)\n",
            "Requirement already satisfied: idna<4,>=2.5 in /usr/local/lib/python3.10/dist-packages (from requests->transformers[torch]) (3.10)\n",
            "Requirement already satisfied: urllib3<3,>=1.21.1 in /usr/local/lib/python3.10/dist-packages (from requests->transformers[torch]) (2.2.3)\n",
            "Requirement already satisfied: certifi>=2017.4.17 in /usr/local/lib/python3.10/dist-packages (from requests->transformers[torch]) (2024.8.30)\n",
            "Requirement already satisfied: MarkupSafe>=2.0 in /usr/local/lib/python3.10/dist-packages (from jinja2->torch->transformers[torch]) (2.1.5)\n",
            "Requirement already satisfied: mpmath<1.4,>=1.1.0 in /usr/local/lib/python3.10/dist-packages (from sympy->torch->transformers[torch]) (1.3.0)\n"
          ]
        }
      ],
      "source": [
        "!pip install transformers[torch]"
      ]
    },
    {
      "cell_type": "code",
      "execution_count": null,
      "metadata": {
        "colab": {
          "base_uri": "https://localhost:8080/"
        },
        "id": "lMQFIeK-SXQA",
        "outputId": "1c9e2b5e-4203-4e89-e799-93409f47ebf5"
      },
      "outputs": [
        {
          "output_type": "stream",
          "name": "stdout",
          "text": [
            "Requirement already satisfied: datasets in /usr/local/lib/python3.10/dist-packages (3.0.0)\n",
            "Requirement already satisfied: filelock in /usr/local/lib/python3.10/dist-packages (from datasets) (3.16.1)\n",
            "Requirement already satisfied: numpy>=1.17 in /usr/local/lib/python3.10/dist-packages (from datasets) (1.26.4)\n",
            "Requirement already satisfied: pyarrow>=15.0.0 in /usr/local/lib/python3.10/dist-packages (from datasets) (17.0.0)\n",
            "Requirement already satisfied: dill<0.3.9,>=0.3.0 in /usr/local/lib/python3.10/dist-packages (from datasets) (0.3.8)\n",
            "Requirement already satisfied: pandas in /usr/local/lib/python3.10/dist-packages (from datasets) (2.1.4)\n",
            "Requirement already satisfied: requests>=2.32.2 in /usr/local/lib/python3.10/dist-packages (from datasets) (2.32.3)\n",
            "Requirement already satisfied: tqdm>=4.66.3 in /usr/local/lib/python3.10/dist-packages (from datasets) (4.66.5)\n",
            "Requirement already satisfied: xxhash in /usr/local/lib/python3.10/dist-packages (from datasets) (3.5.0)\n",
            "Requirement already satisfied: multiprocess in /usr/local/lib/python3.10/dist-packages (from datasets) (0.70.16)\n",
            "Requirement already satisfied: fsspec<=2024.6.1,>=2023.1.0 in /usr/local/lib/python3.10/dist-packages (from fsspec[http]<=2024.6.1,>=2023.1.0->datasets) (2024.6.1)\n",
            "Requirement already satisfied: aiohttp in /usr/local/lib/python3.10/dist-packages (from datasets) (3.10.5)\n",
            "Requirement already satisfied: huggingface-hub>=0.22.0 in /usr/local/lib/python3.10/dist-packages (from datasets) (0.24.7)\n",
            "Requirement already satisfied: packaging in /usr/local/lib/python3.10/dist-packages (from datasets) (24.1)\n",
            "Requirement already satisfied: pyyaml>=5.1 in /usr/local/lib/python3.10/dist-packages (from datasets) (6.0.2)\n",
            "Requirement already satisfied: aiohappyeyeballs>=2.3.0 in /usr/local/lib/python3.10/dist-packages (from aiohttp->datasets) (2.4.0)\n",
            "Requirement already satisfied: aiosignal>=1.1.2 in /usr/local/lib/python3.10/dist-packages (from aiohttp->datasets) (1.3.1)\n",
            "Requirement already satisfied: attrs>=17.3.0 in /usr/local/lib/python3.10/dist-packages (from aiohttp->datasets) (24.2.0)\n",
            "Requirement already satisfied: frozenlist>=1.1.1 in /usr/local/lib/python3.10/dist-packages (from aiohttp->datasets) (1.4.1)\n",
            "Requirement already satisfied: multidict<7.0,>=4.5 in /usr/local/lib/python3.10/dist-packages (from aiohttp->datasets) (6.1.0)\n",
            "Requirement already satisfied: yarl<2.0,>=1.0 in /usr/local/lib/python3.10/dist-packages (from aiohttp->datasets) (1.11.1)\n",
            "Requirement already satisfied: async-timeout<5.0,>=4.0 in /usr/local/lib/python3.10/dist-packages (from aiohttp->datasets) (4.0.3)\n",
            "Requirement already satisfied: typing-extensions>=3.7.4.3 in /usr/local/lib/python3.10/dist-packages (from huggingface-hub>=0.22.0->datasets) (4.12.2)\n",
            "Requirement already satisfied: charset-normalizer<4,>=2 in /usr/local/lib/python3.10/dist-packages (from requests>=2.32.2->datasets) (3.3.2)\n",
            "Requirement already satisfied: idna<4,>=2.5 in /usr/local/lib/python3.10/dist-packages (from requests>=2.32.2->datasets) (3.10)\n",
            "Requirement already satisfied: urllib3<3,>=1.21.1 in /usr/local/lib/python3.10/dist-packages (from requests>=2.32.2->datasets) (2.2.3)\n",
            "Requirement already satisfied: certifi>=2017.4.17 in /usr/local/lib/python3.10/dist-packages (from requests>=2.32.2->datasets) (2024.8.30)\n",
            "Requirement already satisfied: python-dateutil>=2.8.2 in /usr/local/lib/python3.10/dist-packages (from pandas->datasets) (2.8.2)\n",
            "Requirement already satisfied: pytz>=2020.1 in /usr/local/lib/python3.10/dist-packages (from pandas->datasets) (2024.2)\n",
            "Requirement already satisfied: tzdata>=2022.1 in /usr/local/lib/python3.10/dist-packages (from pandas->datasets) (2024.1)\n",
            "Requirement already satisfied: six>=1.5 in /usr/local/lib/python3.10/dist-packages (from python-dateutil>=2.8.2->pandas->datasets) (1.16.0)\n"
          ]
        }
      ],
      "source": [
        "!pip install datasets"
      ]
    },
    {
      "cell_type": "code",
      "source": [
        "!pip install -U scikit-learn"
      ],
      "metadata": {
        "colab": {
          "base_uri": "https://localhost:8080/"
        },
        "id": "dNYa2DAxVYBY",
        "outputId": "677347ed-a31a-4493-cf2e-526306f8eb73"
      },
      "execution_count": null,
      "outputs": [
        {
          "output_type": "stream",
          "name": "stdout",
          "text": [
            "Requirement already satisfied: scikit-learn in /usr/local/lib/python3.10/dist-packages (1.5.2)\n",
            "Requirement already satisfied: numpy>=1.19.5 in /usr/local/lib/python3.10/dist-packages (from scikit-learn) (1.26.4)\n",
            "Requirement already satisfied: scipy>=1.6.0 in /usr/local/lib/python3.10/dist-packages (from scikit-learn) (1.13.1)\n",
            "Requirement already satisfied: joblib>=1.2.0 in /usr/local/lib/python3.10/dist-packages (from scikit-learn) (1.4.2)\n",
            "Requirement already satisfied: threadpoolctl>=3.1.0 in /usr/local/lib/python3.10/dist-packages (from scikit-learn) (3.5.0)\n"
          ]
        }
      ]
    },
    {
      "cell_type": "code",
      "execution_count": null,
      "metadata": {
        "id": "iEsbLrc6SiVZ"
      },
      "outputs": [],
      "source": [
        "import numpy as np\n",
        "import torch\n",
        "from datasets import load_from_disk\n",
        "from transformers import AutoTokenizer, BertTokenizerFast, BertForSequenceClassification, BertForTokenClassification, DataCollatorForTokenClassification, AutoModelForSequenceClassification, AutoModelForTokenClassification"
      ]
    },
    {
      "cell_type": "code",
      "execution_count": null,
      "metadata": {
        "id": "uowWbw09AmAH",
        "colab": {
          "base_uri": "https://localhost:8080/"
        },
        "outputId": "de8822bd-a4a6-4651-bc19-322ce2319aae"
      },
      "outputs": [
        {
          "output_type": "stream",
          "name": "stdout",
          "text": [
            "Mounted at /content/drive\n"
          ]
        }
      ],
      "source": [
        "from google.colab import drive\n",
        "drive.mount('/content/drive')"
      ]
    },
    {
      "cell_type": "code",
      "execution_count": null,
      "metadata": {
        "id": "H9-SeeDISmks"
      },
      "outputs": [],
      "source": [
        "train_dataset = load_from_disk('/content/drive/MyDrive/Colab Notebooks/TESI/tryout/BIOtraining')\n",
        "validation_dataset = load_from_disk('/content/drive/MyDrive/Colab Notebooks/TESI/tryout/BIOevaluating')\n",
        "test_dataset = load_from_disk('/content/drive/MyDrive/Colab Notebooks/TESI/tryout/BIOtesting')"
      ]
    },
    {
      "cell_type": "code",
      "execution_count": null,
      "metadata": {
        "id": "rlQ5RKXThv7G",
        "colab": {
          "base_uri": "https://localhost:8080/",
          "height": 168,
          "referenced_widgets": [
            "c6a770887a2043cfa04138645744f98d",
            "5ec66f456ecd4596bdf0e45dae18198e",
            "93b9961f5e1f444697226d7462ef5f9a",
            "f4d2b2472ffd4ec9933d5cda75cc98c6",
            "e61fcc9d400d47d4abe017ef8cb11515",
            "1f32731f90ef4f48a65e79bc9a5b5f7c",
            "1cb6d2e81cf045788477b315a097ed91",
            "4e3e304d293c4d72a63bda07229a5c62",
            "2570066ebb3847b0aafc157327d85a99",
            "7e0532d47b18460e8bd4bca9d97a3441",
            "a7c3fd876dbf4d3a9fabe81d33886e21",
            "974751ba5f2d45d0899fb9251444990b",
            "ee79d8478a1d464bad0023c334ad03dc",
            "8bfa465ec1004bff8f94cae37836c286",
            "b9dc193fdfdb468db7771e80ad0d8e90",
            "b5c263f25e434bdcb68c2a8abbd988dd",
            "7783cf8a8d094dd7860f9378c1286e70",
            "8845df34e7754594a4ffa7f75c20399b",
            "06cd078e3f244507955367028a864832",
            "8d324a53653e4de3ac97499087b10e65",
            "2e2022efa9814886834830c156f045b5",
            "a1e10abbe5b445fab2e58a2a8e0b01fc",
            "321acec2d4ce4c6a886a1ad1d89f4402",
            "9ced5ea41b7f40e8a92d6bacacec9769",
            "133c38c7de0f4f32834a3906bae68ef1",
            "13d2c91d8de54ca5922808a1c593eae0",
            "861d6808c80d45df949d4597b57a5ac6",
            "a907ab5e431c4976a28cb7da2a1c9b79",
            "9f817cb5549a4a47b56473dc6b2d5f90",
            "56ba737cc71b4eac981ec7d2bfd67f98",
            "b948ef6824754b0aba866dae65a47368",
            "53efa2a13f0841fb8bece03647e35e37",
            "75069f944f03482f981a0776f87b1440"
          ]
        },
        "outputId": "f2b23c8f-ba4e-4910-c41c-bcded2a6a570"
      },
      "outputs": [
        {
          "output_type": "display_data",
          "data": {
            "text/plain": [
              "tokenizer_config.json:   0%|          | 0.00/59.0 [00:00<?, ?B/s]"
            ],
            "application/vnd.jupyter.widget-view+json": {
              "version_major": 2,
              "version_minor": 0,
              "model_id": "c6a770887a2043cfa04138645744f98d"
            }
          },
          "metadata": {}
        },
        {
          "output_type": "display_data",
          "data": {
            "text/plain": [
              "config.json:   0%|          | 0.00/433 [00:00<?, ?B/s]"
            ],
            "application/vnd.jupyter.widget-view+json": {
              "version_major": 2,
              "version_minor": 0,
              "model_id": "974751ba5f2d45d0899fb9251444990b"
            }
          },
          "metadata": {}
        },
        {
          "output_type": "display_data",
          "data": {
            "text/plain": [
              "vocab.txt:   0%|          | 0.00/235k [00:00<?, ?B/s]"
            ],
            "application/vnd.jupyter.widget-view+json": {
              "version_major": 2,
              "version_minor": 0,
              "model_id": "321acec2d4ce4c6a886a1ad1d89f4402"
            }
          },
          "metadata": {}
        },
        {
          "output_type": "stream",
          "name": "stderr",
          "text": [
            "/usr/local/lib/python3.10/dist-packages/transformers/tokenization_utils_base.py:1601: FutureWarning: `clean_up_tokenization_spaces` was not set. It will be set to `True` by default. This behavior will be depracted in transformers v4.45, and will be then set to `False` by default. For more details check this issue: https://github.com/huggingface/transformers/issues/31884\n",
            "  warnings.warn(\n"
          ]
        }
      ],
      "source": [
        "tokenizer=AutoTokenizer.from_pretrained('dbmdz/bert-base-italian-cased')"
      ]
    },
    {
      "cell_type": "code",
      "execution_count": null,
      "metadata": {
        "id": "8N6CyQzDifT-",
        "colab": {
          "base_uri": "https://localhost:8080/"
        },
        "outputId": "57ba5740-a4d9-48d0-c7a4-d86aa8af41a9"
      },
      "outputs": [
        {
          "output_type": "execute_result",
          "data": {
            "text/plain": [
              "{'sentence_id': ['2618'],\n",
              " 'tokens': ['Proprio',\n",
              "  \"l'\",\n",
              "  'esperienza',\n",
              "  'degli',\n",
              "  'anni',\n",
              "  '80',\n",
              "  'e',\n",
              "  'dei',\n",
              "  'primi',\n",
              "  'anni',\n",
              "  '90',\n",
              "  'indica',\n",
              "  'come',\n",
              "  'ben',\n",
              "  \"piu'\",\n",
              "  \"dell'\",\n",
              "  \"entita'\",\n",
              "  'degli',\n",
              "  'interventi',\n",
              "  'conti',\n",
              "  'la',\n",
              "  'loro',\n",
              "  \"qualita'\",\n",
              "  'e',\n",
              "  'il',\n",
              "  'rispetto',\n",
              "  ',',\n",
              "  'da',\n",
              "  'parte',\n",
              "  'del',\n",
              "  'Governo',\n",
              "  ',',\n",
              "  'degli',\n",
              "  'impegni',\n",
              "  'presi',\n",
              "  '.'],\n",
              " 'words_ids': ['word_309',\n",
              "  'word_310',\n",
              "  'word_311',\n",
              "  'word_312',\n",
              "  'word_313',\n",
              "  'word_314',\n",
              "  'word_315',\n",
              "  'word_316',\n",
              "  'word_317',\n",
              "  'word_318',\n",
              "  'word_319',\n",
              "  'word_320',\n",
              "  'word_321',\n",
              "  'word_322',\n",
              "  'word_323',\n",
              "  'word_324',\n",
              "  'word_325',\n",
              "  'word_326',\n",
              "  'word_327',\n",
              "  'word_328',\n",
              "  'word_329',\n",
              "  'word_330',\n",
              "  'word_331',\n",
              "  'word_332',\n",
              "  'word_333',\n",
              "  'word_334',\n",
              "  'word_335',\n",
              "  'word_336',\n",
              "  'word_337',\n",
              "  'word_338',\n",
              "  'word_339',\n",
              "  'word_340',\n",
              "  'word_341',\n",
              "  'word_342',\n",
              "  'word_343',\n",
              "  'word_344'],\n",
              " 'tag': [8,\n",
              "  8,\n",
              "  8,\n",
              "  8,\n",
              "  8,\n",
              "  8,\n",
              "  8,\n",
              "  8,\n",
              "  8,\n",
              "  8,\n",
              "  8,\n",
              "  8,\n",
              "  8,\n",
              "  8,\n",
              "  8,\n",
              "  8,\n",
              "  8,\n",
              "  8,\n",
              "  8,\n",
              "  8,\n",
              "  8,\n",
              "  8,\n",
              "  8,\n",
              "  8,\n",
              "  8,\n",
              "  8,\n",
              "  8,\n",
              "  8,\n",
              "  8,\n",
              "  8,\n",
              "  8,\n",
              "  8,\n",
              "  8,\n",
              "  8,\n",
              "  8,\n",
              "  8]}"
            ]
          },
          "metadata": {},
          "execution_count": 11
        }
      ],
      "source": [
        "example_text=train_dataset[1]\n",
        "example_text"
      ]
    },
    {
      "cell_type": "code",
      "execution_count": null,
      "metadata": {
        "id": "_3n-2oV2eqcm",
        "colab": {
          "base_uri": "https://localhost:8080/"
        },
        "outputId": "917f7996-973f-47fa-f12d-ad5a890dfb08"
      },
      "outputs": [
        {
          "output_type": "execute_result",
          "data": {
            "text/plain": [
              "Sequence(feature=ClassLabel(names=['B-cue', 'B-source', 'B-supplement', 'B-content', 'I-cue', 'I-source', 'I-supplement', 'I-content', 'O'], id=None), length=-1, id=None)"
            ]
          },
          "metadata": {},
          "execution_count": 12
        }
      ],
      "source": [
        "train_dataset.features['tag']"
      ]
    },
    {
      "cell_type": "code",
      "execution_count": null,
      "metadata": {
        "id": "SNodDY5FitUn",
        "colab": {
          "base_uri": "https://localhost:8080/"
        },
        "outputId": "27301880-f869-46bf-eece-4d9c74f7f4b3"
      },
      "outputs": [
        {
          "output_type": "execute_result",
          "data": {
            "text/plain": [
              "[None,\n",
              " 0,\n",
              " 1,\n",
              " 1,\n",
              " 2,\n",
              " 3,\n",
              " 4,\n",
              " 5,\n",
              " 6,\n",
              " 7,\n",
              " 8,\n",
              " 9,\n",
              " 10,\n",
              " 11,\n",
              " 12,\n",
              " 13,\n",
              " 14,\n",
              " 14,\n",
              " 15,\n",
              " 15,\n",
              " 16,\n",
              " 16,\n",
              " 16,\n",
              " 17,\n",
              " 18,\n",
              " 19,\n",
              " 20,\n",
              " 21,\n",
              " 22,\n",
              " 22,\n",
              " 23,\n",
              " 24,\n",
              " 25,\n",
              " 26,\n",
              " 27,\n",
              " 28,\n",
              " 29,\n",
              " 30,\n",
              " 31,\n",
              " 32,\n",
              " 33,\n",
              " 34,\n",
              " 35,\n",
              " None]"
            ]
          },
          "metadata": {},
          "execution_count": 13
        }
      ],
      "source": [
        "tokenized_input=tokenizer(example_text['tokens'], is_split_into_words=True)\n",
        "tokens=tokenizer.convert_ids_to_tokens(tokenized_input['input_ids'])\n",
        "word_ids=tokenized_input.word_ids()\n",
        "word_ids"
      ]
    },
    {
      "cell_type": "code",
      "execution_count": null,
      "metadata": {
        "id": "vbLWB_zxjbjX",
        "colab": {
          "base_uri": "https://localhost:8080/"
        },
        "outputId": "4aa4313d-9578-45d9-a5b8-772695ff2fc0"
      },
      "outputs": [
        {
          "output_type": "execute_result",
          "data": {
            "text/plain": [
              "['[CLS]',\n",
              " 'Proprio',\n",
              " 'l',\n",
              " \"'\",\n",
              " 'esperienza',\n",
              " 'degli',\n",
              " 'anni',\n",
              " '80',\n",
              " 'e',\n",
              " 'dei',\n",
              " 'primi',\n",
              " 'anni',\n",
              " '90',\n",
              " 'indica',\n",
              " 'come',\n",
              " 'ben',\n",
              " 'piu',\n",
              " \"'\",\n",
              " 'dell',\n",
              " \"'\",\n",
              " 'enti',\n",
              " '##ta',\n",
              " \"'\",\n",
              " 'degli',\n",
              " 'interventi',\n",
              " 'conti',\n",
              " 'la',\n",
              " 'loro',\n",
              " 'qualita',\n",
              " \"'\",\n",
              " 'e',\n",
              " 'il',\n",
              " 'rispetto',\n",
              " ',',\n",
              " 'da',\n",
              " 'parte',\n",
              " 'del',\n",
              " 'Governo',\n",
              " ',',\n",
              " 'degli',\n",
              " 'impegni',\n",
              " 'presi',\n",
              " '.',\n",
              " '[SEP]']"
            ]
          },
          "metadata": {},
          "execution_count": 14
        }
      ],
      "source": [
        "tokens=tokenizer.convert_ids_to_tokens(tokenized_input['input_ids'])\n",
        "tokens"
      ]
    },
    {
      "cell_type": "code",
      "execution_count": null,
      "metadata": {
        "id": "vDulldZOjpkK",
        "colab": {
          "base_uri": "https://localhost:8080/"
        },
        "outputId": "d626d828-48c7-4b94-dde1-40c95a7e7eb8"
      },
      "outputs": [
        {
          "output_type": "execute_result",
          "data": {
            "text/plain": [
              "(36, 44)"
            ]
          },
          "metadata": {},
          "execution_count": 15
        }
      ],
      "source": [
        "len(example_text['tag']), len(tokenized_input['input_ids'])"
      ]
    },
    {
      "cell_type": "code",
      "execution_count": null,
      "metadata": {
        "id": "ksHSDuzuBMo2"
      },
      "outputs": [],
      "source": [
        "def tokenize_and_align_labels(example, label_all_tokens=True):\n",
        "    tokenized_input = tokenizer(example['tokens'], padding='max_length', truncation=True, return_tensors='pt', is_split_into_words=True)\n",
        "    labels = []\n",
        "\n",
        "    for i, label in enumerate(example['tag']):\n",
        "        word_ids = tokenized_input.word_ids(batch_index=i)\n",
        "        previous_word_idx = None\n",
        "        label_ids = []\n",
        "\n",
        "        for word_idx in word_ids:\n",
        "            if word_idx is None:\n",
        "                label_ids.append(-100)\n",
        "            elif word_idx != previous_word_idx:\n",
        "                label_ids.append(label[word_idx])\n",
        "            else:\n",
        "                label_ids.append(label[word_idx] if label_all_tokens else -100)\n",
        "            previous_word_idx = word_idx\n",
        "\n",
        "        labels.append(label_ids)\n",
        "\n",
        "    labels = torch.tensor(labels).reshape(tokenized_input[\"input_ids\"].shape)\n",
        "    tokenized_input['labels'] = labels\n",
        "\n",
        "    return tokenized_input"
      ]
    },
    {
      "cell_type": "code",
      "execution_count": null,
      "metadata": {
        "id": "NKaHAOfERg4a",
        "colab": {
          "base_uri": "https://localhost:8080/"
        },
        "outputId": "ef8fc6b1-d078-4c9f-f4e9-c7be663968ed"
      },
      "outputs": [
        {
          "output_type": "stream",
          "name": "stdout",
          "text": [
            "{'input_ids': tensor([[  102,  5149,   181,  1553,  3926,   483,   578,  4957,   126,   292,\n",
            "          2352,   578,  4046,  1731,   342,  1599,   851,  1553,   298,  1553,\n",
            "          5410,   115,  1553,   483,  5876,  5330,   146,   504, 22143,  1553,\n",
            "           126,   162,  1527,  1307,   203,   439,   136, 10832,  1307,   483,\n",
            "          7656,  6761,   697,   103,     0,     0,     0,     0,     0,     0,\n",
            "             0,     0,     0,     0,     0,     0,     0,     0,     0,     0,\n",
            "             0,     0,     0,     0,     0,     0,     0,     0,     0,     0,\n",
            "             0,     0,     0,     0,     0,     0,     0,     0,     0,     0,\n",
            "             0,     0,     0,     0,     0,     0,     0,     0,     0,     0,\n",
            "             0,     0,     0,     0,     0,     0,     0,     0,     0,     0,\n",
            "             0,     0,     0,     0,     0,     0,     0,     0,     0,     0,\n",
            "             0,     0,     0,     0,     0,     0,     0,     0,     0,     0,\n",
            "             0,     0,     0,     0,     0,     0,     0,     0,     0,     0,\n",
            "             0,     0,     0,     0,     0,     0,     0,     0,     0,     0,\n",
            "             0,     0,     0,     0,     0,     0,     0,     0,     0,     0,\n",
            "             0,     0,     0,     0,     0,     0,     0,     0,     0,     0,\n",
            "             0,     0,     0,     0,     0,     0,     0,     0,     0,     0,\n",
            "             0,     0,     0,     0,     0,     0,     0,     0,     0,     0,\n",
            "             0,     0,     0,     0,     0,     0,     0,     0,     0,     0,\n",
            "             0,     0,     0,     0,     0,     0,     0,     0,     0,     0,\n",
            "             0,     0,     0,     0,     0,     0,     0,     0,     0,     0,\n",
            "             0,     0,     0,     0,     0,     0,     0,     0,     0,     0,\n",
            "             0,     0,     0,     0,     0,     0,     0,     0,     0,     0,\n",
            "             0,     0,     0,     0,     0,     0,     0,     0,     0,     0,\n",
            "             0,     0,     0,     0,     0,     0,     0,     0,     0,     0,\n",
            "             0,     0,     0,     0,     0,     0,     0,     0,     0,     0,\n",
            "             0,     0,     0,     0,     0,     0,     0,     0,     0,     0,\n",
            "             0,     0,     0,     0,     0,     0,     0,     0,     0,     0,\n",
            "             0,     0,     0,     0,     0,     0,     0,     0,     0,     0,\n",
            "             0,     0,     0,     0,     0,     0,     0,     0,     0,     0,\n",
            "             0,     0,     0,     0,     0,     0,     0,     0,     0,     0,\n",
            "             0,     0,     0,     0,     0,     0,     0,     0,     0,     0,\n",
            "             0,     0,     0,     0,     0,     0,     0,     0,     0,     0,\n",
            "             0,     0,     0,     0,     0,     0,     0,     0,     0,     0,\n",
            "             0,     0,     0,     0,     0,     0,     0,     0,     0,     0,\n",
            "             0,     0,     0,     0,     0,     0,     0,     0,     0,     0,\n",
            "             0,     0,     0,     0,     0,     0,     0,     0,     0,     0,\n",
            "             0,     0,     0,     0,     0,     0,     0,     0,     0,     0,\n",
            "             0,     0,     0,     0,     0,     0,     0,     0,     0,     0,\n",
            "             0,     0,     0,     0,     0,     0,     0,     0,     0,     0,\n",
            "             0,     0,     0,     0,     0,     0,     0,     0,     0,     0,\n",
            "             0,     0,     0,     0,     0,     0,     0,     0,     0,     0,\n",
            "             0,     0,     0,     0,     0,     0,     0,     0,     0,     0,\n",
            "             0,     0,     0,     0,     0,     0,     0,     0,     0,     0,\n",
            "             0,     0,     0,     0,     0,     0,     0,     0,     0,     0,\n",
            "             0,     0,     0,     0,     0,     0,     0,     0,     0,     0,\n",
            "             0,     0,     0,     0,     0,     0,     0,     0,     0,     0,\n",
            "             0,     0,     0,     0,     0,     0,     0,     0,     0,     0,\n",
            "             0,     0,     0,     0,     0,     0,     0,     0,     0,     0,\n",
            "             0,     0,     0,     0,     0,     0,     0,     0,     0,     0,\n",
            "             0,     0,     0,     0,     0,     0,     0,     0,     0,     0,\n",
            "             0,     0]]), 'token_type_ids': tensor([[0, 0, 0, 0, 0, 0, 0, 0, 0, 0, 0, 0, 0, 0, 0, 0, 0, 0, 0, 0, 0, 0, 0, 0,\n",
            "         0, 0, 0, 0, 0, 0, 0, 0, 0, 0, 0, 0, 0, 0, 0, 0, 0, 0, 0, 0, 0, 0, 0, 0,\n",
            "         0, 0, 0, 0, 0, 0, 0, 0, 0, 0, 0, 0, 0, 0, 0, 0, 0, 0, 0, 0, 0, 0, 0, 0,\n",
            "         0, 0, 0, 0, 0, 0, 0, 0, 0, 0, 0, 0, 0, 0, 0, 0, 0, 0, 0, 0, 0, 0, 0, 0,\n",
            "         0, 0, 0, 0, 0, 0, 0, 0, 0, 0, 0, 0, 0, 0, 0, 0, 0, 0, 0, 0, 0, 0, 0, 0,\n",
            "         0, 0, 0, 0, 0, 0, 0, 0, 0, 0, 0, 0, 0, 0, 0, 0, 0, 0, 0, 0, 0, 0, 0, 0,\n",
            "         0, 0, 0, 0, 0, 0, 0, 0, 0, 0, 0, 0, 0, 0, 0, 0, 0, 0, 0, 0, 0, 0, 0, 0,\n",
            "         0, 0, 0, 0, 0, 0, 0, 0, 0, 0, 0, 0, 0, 0, 0, 0, 0, 0, 0, 0, 0, 0, 0, 0,\n",
            "         0, 0, 0, 0, 0, 0, 0, 0, 0, 0, 0, 0, 0, 0, 0, 0, 0, 0, 0, 0, 0, 0, 0, 0,\n",
            "         0, 0, 0, 0, 0, 0, 0, 0, 0, 0, 0, 0, 0, 0, 0, 0, 0, 0, 0, 0, 0, 0, 0, 0,\n",
            "         0, 0, 0, 0, 0, 0, 0, 0, 0, 0, 0, 0, 0, 0, 0, 0, 0, 0, 0, 0, 0, 0, 0, 0,\n",
            "         0, 0, 0, 0, 0, 0, 0, 0, 0, 0, 0, 0, 0, 0, 0, 0, 0, 0, 0, 0, 0, 0, 0, 0,\n",
            "         0, 0, 0, 0, 0, 0, 0, 0, 0, 0, 0, 0, 0, 0, 0, 0, 0, 0, 0, 0, 0, 0, 0, 0,\n",
            "         0, 0, 0, 0, 0, 0, 0, 0, 0, 0, 0, 0, 0, 0, 0, 0, 0, 0, 0, 0, 0, 0, 0, 0,\n",
            "         0, 0, 0, 0, 0, 0, 0, 0, 0, 0, 0, 0, 0, 0, 0, 0, 0, 0, 0, 0, 0, 0, 0, 0,\n",
            "         0, 0, 0, 0, 0, 0, 0, 0, 0, 0, 0, 0, 0, 0, 0, 0, 0, 0, 0, 0, 0, 0, 0, 0,\n",
            "         0, 0, 0, 0, 0, 0, 0, 0, 0, 0, 0, 0, 0, 0, 0, 0, 0, 0, 0, 0, 0, 0, 0, 0,\n",
            "         0, 0, 0, 0, 0, 0, 0, 0, 0, 0, 0, 0, 0, 0, 0, 0, 0, 0, 0, 0, 0, 0, 0, 0,\n",
            "         0, 0, 0, 0, 0, 0, 0, 0, 0, 0, 0, 0, 0, 0, 0, 0, 0, 0, 0, 0, 0, 0, 0, 0,\n",
            "         0, 0, 0, 0, 0, 0, 0, 0, 0, 0, 0, 0, 0, 0, 0, 0, 0, 0, 0, 0, 0, 0, 0, 0,\n",
            "         0, 0, 0, 0, 0, 0, 0, 0, 0, 0, 0, 0, 0, 0, 0, 0, 0, 0, 0, 0, 0, 0, 0, 0,\n",
            "         0, 0, 0, 0, 0, 0, 0, 0]]), 'attention_mask': tensor([[1, 1, 1, 1, 1, 1, 1, 1, 1, 1, 1, 1, 1, 1, 1, 1, 1, 1, 1, 1, 1, 1, 1, 1,\n",
            "         1, 1, 1, 1, 1, 1, 1, 1, 1, 1, 1, 1, 1, 1, 1, 1, 1, 1, 1, 1, 0, 0, 0, 0,\n",
            "         0, 0, 0, 0, 0, 0, 0, 0, 0, 0, 0, 0, 0, 0, 0, 0, 0, 0, 0, 0, 0, 0, 0, 0,\n",
            "         0, 0, 0, 0, 0, 0, 0, 0, 0, 0, 0, 0, 0, 0, 0, 0, 0, 0, 0, 0, 0, 0, 0, 0,\n",
            "         0, 0, 0, 0, 0, 0, 0, 0, 0, 0, 0, 0, 0, 0, 0, 0, 0, 0, 0, 0, 0, 0, 0, 0,\n",
            "         0, 0, 0, 0, 0, 0, 0, 0, 0, 0, 0, 0, 0, 0, 0, 0, 0, 0, 0, 0, 0, 0, 0, 0,\n",
            "         0, 0, 0, 0, 0, 0, 0, 0, 0, 0, 0, 0, 0, 0, 0, 0, 0, 0, 0, 0, 0, 0, 0, 0,\n",
            "         0, 0, 0, 0, 0, 0, 0, 0, 0, 0, 0, 0, 0, 0, 0, 0, 0, 0, 0, 0, 0, 0, 0, 0,\n",
            "         0, 0, 0, 0, 0, 0, 0, 0, 0, 0, 0, 0, 0, 0, 0, 0, 0, 0, 0, 0, 0, 0, 0, 0,\n",
            "         0, 0, 0, 0, 0, 0, 0, 0, 0, 0, 0, 0, 0, 0, 0, 0, 0, 0, 0, 0, 0, 0, 0, 0,\n",
            "         0, 0, 0, 0, 0, 0, 0, 0, 0, 0, 0, 0, 0, 0, 0, 0, 0, 0, 0, 0, 0, 0, 0, 0,\n",
            "         0, 0, 0, 0, 0, 0, 0, 0, 0, 0, 0, 0, 0, 0, 0, 0, 0, 0, 0, 0, 0, 0, 0, 0,\n",
            "         0, 0, 0, 0, 0, 0, 0, 0, 0, 0, 0, 0, 0, 0, 0, 0, 0, 0, 0, 0, 0, 0, 0, 0,\n",
            "         0, 0, 0, 0, 0, 0, 0, 0, 0, 0, 0, 0, 0, 0, 0, 0, 0, 0, 0, 0, 0, 0, 0, 0,\n",
            "         0, 0, 0, 0, 0, 0, 0, 0, 0, 0, 0, 0, 0, 0, 0, 0, 0, 0, 0, 0, 0, 0, 0, 0,\n",
            "         0, 0, 0, 0, 0, 0, 0, 0, 0, 0, 0, 0, 0, 0, 0, 0, 0, 0, 0, 0, 0, 0, 0, 0,\n",
            "         0, 0, 0, 0, 0, 0, 0, 0, 0, 0, 0, 0, 0, 0, 0, 0, 0, 0, 0, 0, 0, 0, 0, 0,\n",
            "         0, 0, 0, 0, 0, 0, 0, 0, 0, 0, 0, 0, 0, 0, 0, 0, 0, 0, 0, 0, 0, 0, 0, 0,\n",
            "         0, 0, 0, 0, 0, 0, 0, 0, 0, 0, 0, 0, 0, 0, 0, 0, 0, 0, 0, 0, 0, 0, 0, 0,\n",
            "         0, 0, 0, 0, 0, 0, 0, 0, 0, 0, 0, 0, 0, 0, 0, 0, 0, 0, 0, 0, 0, 0, 0, 0,\n",
            "         0, 0, 0, 0, 0, 0, 0, 0, 0, 0, 0, 0, 0, 0, 0, 0, 0, 0, 0, 0, 0, 0, 0, 0,\n",
            "         0, 0, 0, 0, 0, 0, 0, 0]]), 'labels': tensor([[-100,    8,    8,    8,    8,    8,    8,    8,    8,    8,    8,    8,\n",
            "            8,    8,    8,    8,    8,    8,    8,    8,    8,    8,    8,    8,\n",
            "            8,    8,    8,    8,    8,    8,    8,    8,    8,    8,    8,    8,\n",
            "            8,    8,    8,    8,    8,    8,    8, -100, -100, -100, -100, -100,\n",
            "         -100, -100, -100, -100, -100, -100, -100, -100, -100, -100, -100, -100,\n",
            "         -100, -100, -100, -100, -100, -100, -100, -100, -100, -100, -100, -100,\n",
            "         -100, -100, -100, -100, -100, -100, -100, -100, -100, -100, -100, -100,\n",
            "         -100, -100, -100, -100, -100, -100, -100, -100, -100, -100, -100, -100,\n",
            "         -100, -100, -100, -100, -100, -100, -100, -100, -100, -100, -100, -100,\n",
            "         -100, -100, -100, -100, -100, -100, -100, -100, -100, -100, -100, -100,\n",
            "         -100, -100, -100, -100, -100, -100, -100, -100, -100, -100, -100, -100,\n",
            "         -100, -100, -100, -100, -100, -100, -100, -100, -100, -100, -100, -100,\n",
            "         -100, -100, -100, -100, -100, -100, -100, -100, -100, -100, -100, -100,\n",
            "         -100, -100, -100, -100, -100, -100, -100, -100, -100, -100, -100, -100,\n",
            "         -100, -100, -100, -100, -100, -100, -100, -100, -100, -100, -100, -100,\n",
            "         -100, -100, -100, -100, -100, -100, -100, -100, -100, -100, -100, -100,\n",
            "         -100, -100, -100, -100, -100, -100, -100, -100, -100, -100, -100, -100,\n",
            "         -100, -100, -100, -100, -100, -100, -100, -100, -100, -100, -100, -100,\n",
            "         -100, -100, -100, -100, -100, -100, -100, -100, -100, -100, -100, -100,\n",
            "         -100, -100, -100, -100, -100, -100, -100, -100, -100, -100, -100, -100,\n",
            "         -100, -100, -100, -100, -100, -100, -100, -100, -100, -100, -100, -100,\n",
            "         -100, -100, -100, -100, -100, -100, -100, -100, -100, -100, -100, -100,\n",
            "         -100, -100, -100, -100, -100, -100, -100, -100, -100, -100, -100, -100,\n",
            "         -100, -100, -100, -100, -100, -100, -100, -100, -100, -100, -100, -100,\n",
            "         -100, -100, -100, -100, -100, -100, -100, -100, -100, -100, -100, -100,\n",
            "         -100, -100, -100, -100, -100, -100, -100, -100, -100, -100, -100, -100,\n",
            "         -100, -100, -100, -100, -100, -100, -100, -100, -100, -100, -100, -100,\n",
            "         -100, -100, -100, -100, -100, -100, -100, -100, -100, -100, -100, -100,\n",
            "         -100, -100, -100, -100, -100, -100, -100, -100, -100, -100, -100, -100,\n",
            "         -100, -100, -100, -100, -100, -100, -100, -100, -100, -100, -100, -100,\n",
            "         -100, -100, -100, -100, -100, -100, -100, -100, -100, -100, -100, -100,\n",
            "         -100, -100, -100, -100, -100, -100, -100, -100, -100, -100, -100, -100,\n",
            "         -100, -100, -100, -100, -100, -100, -100, -100, -100, -100, -100, -100,\n",
            "         -100, -100, -100, -100, -100, -100, -100, -100, -100, -100, -100, -100,\n",
            "         -100, -100, -100, -100, -100, -100, -100, -100, -100, -100, -100, -100,\n",
            "         -100, -100, -100, -100, -100, -100, -100, -100, -100, -100, -100, -100,\n",
            "         -100, -100, -100, -100, -100, -100, -100, -100, -100, -100, -100, -100,\n",
            "         -100, -100, -100, -100, -100, -100, -100, -100, -100, -100, -100, -100,\n",
            "         -100, -100, -100, -100, -100, -100, -100, -100, -100, -100, -100, -100,\n",
            "         -100, -100, -100, -100, -100, -100, -100, -100, -100, -100, -100, -100,\n",
            "         -100, -100, -100, -100, -100, -100, -100, -100, -100, -100, -100, -100,\n",
            "         -100, -100, -100, -100, -100, -100, -100, -100, -100, -100, -100, -100,\n",
            "         -100, -100, -100, -100, -100, -100, -100, -100]])}\n"
          ]
        }
      ],
      "source": [
        "q = tokenize_and_align_labels(train_dataset[1:2])\n",
        "print(q)"
      ]
    },
    {
      "cell_type": "code",
      "execution_count": null,
      "metadata": {
        "id": "RIFS42yPRyJD",
        "colab": {
          "base_uri": "https://localhost:8080/"
        },
        "outputId": "ba2ea614-dece-44b8-df97-44319c1cf5ad"
      },
      "outputs": [
        {
          "output_type": "stream",
          "name": "stdout",
          "text": [
            "[CLS]___________________________________ -100\n",
            "Proprio_________________________________ 8\n",
            "l_______________________________________ 8\n",
            "'_______________________________________ 8\n",
            "esperienza______________________________ 8\n",
            "degli___________________________________ 8\n",
            "anni____________________________________ 8\n",
            "80______________________________________ 8\n",
            "e_______________________________________ 8\n",
            "dei_____________________________________ 8\n",
            "primi___________________________________ 8\n",
            "anni____________________________________ 8\n",
            "90______________________________________ 8\n",
            "indica__________________________________ 8\n",
            "come____________________________________ 8\n",
            "ben_____________________________________ 8\n",
            "piu_____________________________________ 8\n",
            "'_______________________________________ 8\n",
            "dell____________________________________ 8\n",
            "'_______________________________________ 8\n",
            "enti____________________________________ 8\n",
            "##ta____________________________________ 8\n",
            "'_______________________________________ 8\n",
            "degli___________________________________ 8\n",
            "interventi______________________________ 8\n",
            "conti___________________________________ 8\n",
            "la______________________________________ 8\n",
            "loro____________________________________ 8\n",
            "qualita_________________________________ 8\n",
            "'_______________________________________ 8\n",
            "e_______________________________________ 8\n",
            "il______________________________________ 8\n",
            "rispetto________________________________ 8\n",
            ",_______________________________________ 8\n",
            "da______________________________________ 8\n",
            "parte___________________________________ 8\n",
            "del_____________________________________ 8\n",
            "Governo_________________________________ 8\n",
            ",_______________________________________ 8\n",
            "degli___________________________________ 8\n",
            "impegni_________________________________ 8\n",
            "presi___________________________________ 8\n",
            "._______________________________________ 8\n",
            "[SEP]___________________________________ -100\n",
            "[PAD]___________________________________ -100\n",
            "[PAD]___________________________________ -100\n",
            "[PAD]___________________________________ -100\n",
            "[PAD]___________________________________ -100\n",
            "[PAD]___________________________________ -100\n",
            "[PAD]___________________________________ -100\n",
            "[PAD]___________________________________ -100\n",
            "[PAD]___________________________________ -100\n",
            "[PAD]___________________________________ -100\n",
            "[PAD]___________________________________ -100\n",
            "[PAD]___________________________________ -100\n",
            "[PAD]___________________________________ -100\n",
            "[PAD]___________________________________ -100\n",
            "[PAD]___________________________________ -100\n",
            "[PAD]___________________________________ -100\n",
            "[PAD]___________________________________ -100\n",
            "[PAD]___________________________________ -100\n",
            "[PAD]___________________________________ -100\n",
            "[PAD]___________________________________ -100\n",
            "[PAD]___________________________________ -100\n",
            "[PAD]___________________________________ -100\n",
            "[PAD]___________________________________ -100\n",
            "[PAD]___________________________________ -100\n",
            "[PAD]___________________________________ -100\n",
            "[PAD]___________________________________ -100\n",
            "[PAD]___________________________________ -100\n",
            "[PAD]___________________________________ -100\n",
            "[PAD]___________________________________ -100\n",
            "[PAD]___________________________________ -100\n",
            "[PAD]___________________________________ -100\n",
            "[PAD]___________________________________ -100\n",
            "[PAD]___________________________________ -100\n",
            "[PAD]___________________________________ -100\n",
            "[PAD]___________________________________ -100\n",
            "[PAD]___________________________________ -100\n",
            "[PAD]___________________________________ -100\n",
            "[PAD]___________________________________ -100\n",
            "[PAD]___________________________________ -100\n",
            "[PAD]___________________________________ -100\n",
            "[PAD]___________________________________ -100\n",
            "[PAD]___________________________________ -100\n",
            "[PAD]___________________________________ -100\n",
            "[PAD]___________________________________ -100\n",
            "[PAD]___________________________________ -100\n",
            "[PAD]___________________________________ -100\n",
            "[PAD]___________________________________ -100\n",
            "[PAD]___________________________________ -100\n",
            "[PAD]___________________________________ -100\n",
            "[PAD]___________________________________ -100\n",
            "[PAD]___________________________________ -100\n",
            "[PAD]___________________________________ -100\n",
            "[PAD]___________________________________ -100\n",
            "[PAD]___________________________________ -100\n",
            "[PAD]___________________________________ -100\n",
            "[PAD]___________________________________ -100\n",
            "[PAD]___________________________________ -100\n",
            "[PAD]___________________________________ -100\n",
            "[PAD]___________________________________ -100\n",
            "[PAD]___________________________________ -100\n",
            "[PAD]___________________________________ -100\n",
            "[PAD]___________________________________ -100\n",
            "[PAD]___________________________________ -100\n",
            "[PAD]___________________________________ -100\n",
            "[PAD]___________________________________ -100\n",
            "[PAD]___________________________________ -100\n",
            "[PAD]___________________________________ -100\n",
            "[PAD]___________________________________ -100\n",
            "[PAD]___________________________________ -100\n",
            "[PAD]___________________________________ -100\n",
            "[PAD]___________________________________ -100\n",
            "[PAD]___________________________________ -100\n",
            "[PAD]___________________________________ -100\n",
            "[PAD]___________________________________ -100\n",
            "[PAD]___________________________________ -100\n",
            "[PAD]___________________________________ -100\n",
            "[PAD]___________________________________ -100\n",
            "[PAD]___________________________________ -100\n",
            "[PAD]___________________________________ -100\n",
            "[PAD]___________________________________ -100\n",
            "[PAD]___________________________________ -100\n",
            "[PAD]___________________________________ -100\n",
            "[PAD]___________________________________ -100\n",
            "[PAD]___________________________________ -100\n",
            "[PAD]___________________________________ -100\n",
            "[PAD]___________________________________ -100\n",
            "[PAD]___________________________________ -100\n",
            "[PAD]___________________________________ -100\n",
            "[PAD]___________________________________ -100\n",
            "[PAD]___________________________________ -100\n",
            "[PAD]___________________________________ -100\n",
            "[PAD]___________________________________ -100\n",
            "[PAD]___________________________________ -100\n",
            "[PAD]___________________________________ -100\n",
            "[PAD]___________________________________ -100\n",
            "[PAD]___________________________________ -100\n",
            "[PAD]___________________________________ -100\n",
            "[PAD]___________________________________ -100\n",
            "[PAD]___________________________________ -100\n",
            "[PAD]___________________________________ -100\n",
            "[PAD]___________________________________ -100\n",
            "[PAD]___________________________________ -100\n",
            "[PAD]___________________________________ -100\n",
            "[PAD]___________________________________ -100\n",
            "[PAD]___________________________________ -100\n",
            "[PAD]___________________________________ -100\n",
            "[PAD]___________________________________ -100\n",
            "[PAD]___________________________________ -100\n",
            "[PAD]___________________________________ -100\n",
            "[PAD]___________________________________ -100\n",
            "[PAD]___________________________________ -100\n",
            "[PAD]___________________________________ -100\n",
            "[PAD]___________________________________ -100\n",
            "[PAD]___________________________________ -100\n",
            "[PAD]___________________________________ -100\n",
            "[PAD]___________________________________ -100\n",
            "[PAD]___________________________________ -100\n",
            "[PAD]___________________________________ -100\n",
            "[PAD]___________________________________ -100\n",
            "[PAD]___________________________________ -100\n",
            "[PAD]___________________________________ -100\n",
            "[PAD]___________________________________ -100\n",
            "[PAD]___________________________________ -100\n",
            "[PAD]___________________________________ -100\n",
            "[PAD]___________________________________ -100\n",
            "[PAD]___________________________________ -100\n",
            "[PAD]___________________________________ -100\n",
            "[PAD]___________________________________ -100\n",
            "[PAD]___________________________________ -100\n",
            "[PAD]___________________________________ -100\n",
            "[PAD]___________________________________ -100\n",
            "[PAD]___________________________________ -100\n",
            "[PAD]___________________________________ -100\n",
            "[PAD]___________________________________ -100\n",
            "[PAD]___________________________________ -100\n",
            "[PAD]___________________________________ -100\n",
            "[PAD]___________________________________ -100\n",
            "[PAD]___________________________________ -100\n",
            "[PAD]___________________________________ -100\n",
            "[PAD]___________________________________ -100\n",
            "[PAD]___________________________________ -100\n",
            "[PAD]___________________________________ -100\n",
            "[PAD]___________________________________ -100\n",
            "[PAD]___________________________________ -100\n",
            "[PAD]___________________________________ -100\n",
            "[PAD]___________________________________ -100\n",
            "[PAD]___________________________________ -100\n",
            "[PAD]___________________________________ -100\n",
            "[PAD]___________________________________ -100\n",
            "[PAD]___________________________________ -100\n",
            "[PAD]___________________________________ -100\n",
            "[PAD]___________________________________ -100\n",
            "[PAD]___________________________________ -100\n",
            "[PAD]___________________________________ -100\n",
            "[PAD]___________________________________ -100\n",
            "[PAD]___________________________________ -100\n",
            "[PAD]___________________________________ -100\n",
            "[PAD]___________________________________ -100\n",
            "[PAD]___________________________________ -100\n",
            "[PAD]___________________________________ -100\n",
            "[PAD]___________________________________ -100\n",
            "[PAD]___________________________________ -100\n",
            "[PAD]___________________________________ -100\n",
            "[PAD]___________________________________ -100\n",
            "[PAD]___________________________________ -100\n",
            "[PAD]___________________________________ -100\n",
            "[PAD]___________________________________ -100\n",
            "[PAD]___________________________________ -100\n",
            "[PAD]___________________________________ -100\n",
            "[PAD]___________________________________ -100\n",
            "[PAD]___________________________________ -100\n",
            "[PAD]___________________________________ -100\n",
            "[PAD]___________________________________ -100\n",
            "[PAD]___________________________________ -100\n",
            "[PAD]___________________________________ -100\n",
            "[PAD]___________________________________ -100\n",
            "[PAD]___________________________________ -100\n",
            "[PAD]___________________________________ -100\n",
            "[PAD]___________________________________ -100\n",
            "[PAD]___________________________________ -100\n",
            "[PAD]___________________________________ -100\n",
            "[PAD]___________________________________ -100\n",
            "[PAD]___________________________________ -100\n",
            "[PAD]___________________________________ -100\n",
            "[PAD]___________________________________ -100\n",
            "[PAD]___________________________________ -100\n",
            "[PAD]___________________________________ -100\n",
            "[PAD]___________________________________ -100\n",
            "[PAD]___________________________________ -100\n",
            "[PAD]___________________________________ -100\n",
            "[PAD]___________________________________ -100\n",
            "[PAD]___________________________________ -100\n",
            "[PAD]___________________________________ -100\n",
            "[PAD]___________________________________ -100\n",
            "[PAD]___________________________________ -100\n",
            "[PAD]___________________________________ -100\n",
            "[PAD]___________________________________ -100\n",
            "[PAD]___________________________________ -100\n",
            "[PAD]___________________________________ -100\n",
            "[PAD]___________________________________ -100\n",
            "[PAD]___________________________________ -100\n",
            "[PAD]___________________________________ -100\n",
            "[PAD]___________________________________ -100\n",
            "[PAD]___________________________________ -100\n",
            "[PAD]___________________________________ -100\n",
            "[PAD]___________________________________ -100\n",
            "[PAD]___________________________________ -100\n",
            "[PAD]___________________________________ -100\n",
            "[PAD]___________________________________ -100\n",
            "[PAD]___________________________________ -100\n",
            "[PAD]___________________________________ -100\n",
            "[PAD]___________________________________ -100\n",
            "[PAD]___________________________________ -100\n",
            "[PAD]___________________________________ -100\n",
            "[PAD]___________________________________ -100\n",
            "[PAD]___________________________________ -100\n",
            "[PAD]___________________________________ -100\n",
            "[PAD]___________________________________ -100\n",
            "[PAD]___________________________________ -100\n",
            "[PAD]___________________________________ -100\n",
            "[PAD]___________________________________ -100\n",
            "[PAD]___________________________________ -100\n",
            "[PAD]___________________________________ -100\n",
            "[PAD]___________________________________ -100\n",
            "[PAD]___________________________________ -100\n",
            "[PAD]___________________________________ -100\n",
            "[PAD]___________________________________ -100\n",
            "[PAD]___________________________________ -100\n",
            "[PAD]___________________________________ -100\n",
            "[PAD]___________________________________ -100\n",
            "[PAD]___________________________________ -100\n",
            "[PAD]___________________________________ -100\n",
            "[PAD]___________________________________ -100\n",
            "[PAD]___________________________________ -100\n",
            "[PAD]___________________________________ -100\n",
            "[PAD]___________________________________ -100\n",
            "[PAD]___________________________________ -100\n",
            "[PAD]___________________________________ -100\n",
            "[PAD]___________________________________ -100\n",
            "[PAD]___________________________________ -100\n",
            "[PAD]___________________________________ -100\n",
            "[PAD]___________________________________ -100\n",
            "[PAD]___________________________________ -100\n",
            "[PAD]___________________________________ -100\n",
            "[PAD]___________________________________ -100\n",
            "[PAD]___________________________________ -100\n",
            "[PAD]___________________________________ -100\n",
            "[PAD]___________________________________ -100\n",
            "[PAD]___________________________________ -100\n",
            "[PAD]___________________________________ -100\n",
            "[PAD]___________________________________ -100\n",
            "[PAD]___________________________________ -100\n",
            "[PAD]___________________________________ -100\n",
            "[PAD]___________________________________ -100\n",
            "[PAD]___________________________________ -100\n",
            "[PAD]___________________________________ -100\n",
            "[PAD]___________________________________ -100\n",
            "[PAD]___________________________________ -100\n",
            "[PAD]___________________________________ -100\n",
            "[PAD]___________________________________ -100\n",
            "[PAD]___________________________________ -100\n",
            "[PAD]___________________________________ -100\n",
            "[PAD]___________________________________ -100\n",
            "[PAD]___________________________________ -100\n",
            "[PAD]___________________________________ -100\n",
            "[PAD]___________________________________ -100\n",
            "[PAD]___________________________________ -100\n",
            "[PAD]___________________________________ -100\n",
            "[PAD]___________________________________ -100\n",
            "[PAD]___________________________________ -100\n",
            "[PAD]___________________________________ -100\n",
            "[PAD]___________________________________ -100\n",
            "[PAD]___________________________________ -100\n",
            "[PAD]___________________________________ -100\n",
            "[PAD]___________________________________ -100\n",
            "[PAD]___________________________________ -100\n",
            "[PAD]___________________________________ -100\n",
            "[PAD]___________________________________ -100\n",
            "[PAD]___________________________________ -100\n",
            "[PAD]___________________________________ -100\n",
            "[PAD]___________________________________ -100\n",
            "[PAD]___________________________________ -100\n",
            "[PAD]___________________________________ -100\n",
            "[PAD]___________________________________ -100\n",
            "[PAD]___________________________________ -100\n",
            "[PAD]___________________________________ -100\n",
            "[PAD]___________________________________ -100\n",
            "[PAD]___________________________________ -100\n",
            "[PAD]___________________________________ -100\n",
            "[PAD]___________________________________ -100\n",
            "[PAD]___________________________________ -100\n",
            "[PAD]___________________________________ -100\n",
            "[PAD]___________________________________ -100\n",
            "[PAD]___________________________________ -100\n",
            "[PAD]___________________________________ -100\n",
            "[PAD]___________________________________ -100\n",
            "[PAD]___________________________________ -100\n",
            "[PAD]___________________________________ -100\n",
            "[PAD]___________________________________ -100\n",
            "[PAD]___________________________________ -100\n",
            "[PAD]___________________________________ -100\n",
            "[PAD]___________________________________ -100\n",
            "[PAD]___________________________________ -100\n",
            "[PAD]___________________________________ -100\n",
            "[PAD]___________________________________ -100\n",
            "[PAD]___________________________________ -100\n",
            "[PAD]___________________________________ -100\n",
            "[PAD]___________________________________ -100\n",
            "[PAD]___________________________________ -100\n",
            "[PAD]___________________________________ -100\n",
            "[PAD]___________________________________ -100\n",
            "[PAD]___________________________________ -100\n",
            "[PAD]___________________________________ -100\n",
            "[PAD]___________________________________ -100\n",
            "[PAD]___________________________________ -100\n",
            "[PAD]___________________________________ -100\n",
            "[PAD]___________________________________ -100\n",
            "[PAD]___________________________________ -100\n",
            "[PAD]___________________________________ -100\n",
            "[PAD]___________________________________ -100\n",
            "[PAD]___________________________________ -100\n",
            "[PAD]___________________________________ -100\n",
            "[PAD]___________________________________ -100\n",
            "[PAD]___________________________________ -100\n",
            "[PAD]___________________________________ -100\n",
            "[PAD]___________________________________ -100\n",
            "[PAD]___________________________________ -100\n",
            "[PAD]___________________________________ -100\n",
            "[PAD]___________________________________ -100\n",
            "[PAD]___________________________________ -100\n",
            "[PAD]___________________________________ -100\n",
            "[PAD]___________________________________ -100\n",
            "[PAD]___________________________________ -100\n",
            "[PAD]___________________________________ -100\n",
            "[PAD]___________________________________ -100\n",
            "[PAD]___________________________________ -100\n",
            "[PAD]___________________________________ -100\n",
            "[PAD]___________________________________ -100\n",
            "[PAD]___________________________________ -100\n",
            "[PAD]___________________________________ -100\n",
            "[PAD]___________________________________ -100\n",
            "[PAD]___________________________________ -100\n",
            "[PAD]___________________________________ -100\n",
            "[PAD]___________________________________ -100\n",
            "[PAD]___________________________________ -100\n",
            "[PAD]___________________________________ -100\n",
            "[PAD]___________________________________ -100\n",
            "[PAD]___________________________________ -100\n",
            "[PAD]___________________________________ -100\n",
            "[PAD]___________________________________ -100\n",
            "[PAD]___________________________________ -100\n",
            "[PAD]___________________________________ -100\n",
            "[PAD]___________________________________ -100\n",
            "[PAD]___________________________________ -100\n",
            "[PAD]___________________________________ -100\n",
            "[PAD]___________________________________ -100\n",
            "[PAD]___________________________________ -100\n",
            "[PAD]___________________________________ -100\n",
            "[PAD]___________________________________ -100\n",
            "[PAD]___________________________________ -100\n",
            "[PAD]___________________________________ -100\n",
            "[PAD]___________________________________ -100\n",
            "[PAD]___________________________________ -100\n",
            "[PAD]___________________________________ -100\n",
            "[PAD]___________________________________ -100\n",
            "[PAD]___________________________________ -100\n",
            "[PAD]___________________________________ -100\n",
            "[PAD]___________________________________ -100\n",
            "[PAD]___________________________________ -100\n",
            "[PAD]___________________________________ -100\n",
            "[PAD]___________________________________ -100\n",
            "[PAD]___________________________________ -100\n",
            "[PAD]___________________________________ -100\n",
            "[PAD]___________________________________ -100\n",
            "[PAD]___________________________________ -100\n",
            "[PAD]___________________________________ -100\n",
            "[PAD]___________________________________ -100\n",
            "[PAD]___________________________________ -100\n",
            "[PAD]___________________________________ -100\n",
            "[PAD]___________________________________ -100\n",
            "[PAD]___________________________________ -100\n",
            "[PAD]___________________________________ -100\n",
            "[PAD]___________________________________ -100\n",
            "[PAD]___________________________________ -100\n",
            "[PAD]___________________________________ -100\n",
            "[PAD]___________________________________ -100\n",
            "[PAD]___________________________________ -100\n",
            "[PAD]___________________________________ -100\n",
            "[PAD]___________________________________ -100\n",
            "[PAD]___________________________________ -100\n",
            "[PAD]___________________________________ -100\n",
            "[PAD]___________________________________ -100\n",
            "[PAD]___________________________________ -100\n",
            "[PAD]___________________________________ -100\n",
            "[PAD]___________________________________ -100\n",
            "[PAD]___________________________________ -100\n",
            "[PAD]___________________________________ -100\n",
            "[PAD]___________________________________ -100\n",
            "[PAD]___________________________________ -100\n",
            "[PAD]___________________________________ -100\n",
            "[PAD]___________________________________ -100\n",
            "[PAD]___________________________________ -100\n",
            "[PAD]___________________________________ -100\n",
            "[PAD]___________________________________ -100\n",
            "[PAD]___________________________________ -100\n",
            "[PAD]___________________________________ -100\n",
            "[PAD]___________________________________ -100\n",
            "[PAD]___________________________________ -100\n",
            "[PAD]___________________________________ -100\n",
            "[PAD]___________________________________ -100\n",
            "[PAD]___________________________________ -100\n",
            "[PAD]___________________________________ -100\n",
            "[PAD]___________________________________ -100\n",
            "[PAD]___________________________________ -100\n",
            "[PAD]___________________________________ -100\n",
            "[PAD]___________________________________ -100\n",
            "[PAD]___________________________________ -100\n",
            "[PAD]___________________________________ -100\n",
            "[PAD]___________________________________ -100\n",
            "[PAD]___________________________________ -100\n",
            "[PAD]___________________________________ -100\n",
            "[PAD]___________________________________ -100\n",
            "[PAD]___________________________________ -100\n",
            "[PAD]___________________________________ -100\n",
            "[PAD]___________________________________ -100\n",
            "[PAD]___________________________________ -100\n",
            "[PAD]___________________________________ -100\n",
            "[PAD]___________________________________ -100\n",
            "[PAD]___________________________________ -100\n",
            "[PAD]___________________________________ -100\n",
            "[PAD]___________________________________ -100\n",
            "[PAD]___________________________________ -100\n",
            "[PAD]___________________________________ -100\n",
            "[PAD]___________________________________ -100\n",
            "[PAD]___________________________________ -100\n",
            "[PAD]___________________________________ -100\n",
            "[PAD]___________________________________ -100\n",
            "[PAD]___________________________________ -100\n",
            "[PAD]___________________________________ -100\n",
            "[PAD]___________________________________ -100\n",
            "[PAD]___________________________________ -100\n",
            "[PAD]___________________________________ -100\n",
            "[PAD]___________________________________ -100\n",
            "[PAD]___________________________________ -100\n",
            "[PAD]___________________________________ -100\n",
            "[PAD]___________________________________ -100\n",
            "[PAD]___________________________________ -100\n",
            "[PAD]___________________________________ -100\n",
            "[PAD]___________________________________ -100\n",
            "[PAD]___________________________________ -100\n",
            "[PAD]___________________________________ -100\n",
            "[PAD]___________________________________ -100\n",
            "[PAD]___________________________________ -100\n",
            "[PAD]___________________________________ -100\n",
            "[PAD]___________________________________ -100\n",
            "[PAD]___________________________________ -100\n",
            "[PAD]___________________________________ -100\n",
            "[PAD]___________________________________ -100\n",
            "[PAD]___________________________________ -100\n",
            "[PAD]___________________________________ -100\n",
            "[PAD]___________________________________ -100\n",
            "[PAD]___________________________________ -100\n",
            "[PAD]___________________________________ -100\n",
            "[PAD]___________________________________ -100\n",
            "[PAD]___________________________________ -100\n",
            "[PAD]___________________________________ -100\n",
            "[PAD]___________________________________ -100\n",
            "[PAD]___________________________________ -100\n",
            "[PAD]___________________________________ -100\n"
          ]
        }
      ],
      "source": [
        "for token, label in zip(tokenizer.convert_ids_to_tokens(q['input_ids'][0]), (q['labels'][0])):\n",
        "    print(f\"{token:_<40} {label}\")"
      ]
    },
    {
      "cell_type": "code",
      "execution_count": null,
      "metadata": {
        "id": "Fvd-IqOtkNwL"
      },
      "outputs": [],
      "source": [
        "tokenized_train = train_dataset.map(tokenize_and_align_labels, batched=True)\n",
        "tokenized_eval = validation_dataset.map(tokenize_and_align_labels, batched=True)\n",
        "tokenized_test = test_dataset.map(tokenize_and_align_labels, batched=True)"
      ]
    },
    {
      "cell_type": "code",
      "execution_count": null,
      "metadata": {
        "id": "qSF3e95BEXqE",
        "colab": {
          "base_uri": "https://localhost:8080/"
        },
        "outputId": "6f846096-5320-4ca6-b417-c3a6c87be133"
      },
      "outputs": [
        {
          "output_type": "execute_result",
          "data": {
            "text/plain": [
              "956"
            ]
          },
          "metadata": {},
          "execution_count": 20
        }
      ],
      "source": [
        "len(tokenized_train['input_ids'])"
      ]
    },
    {
      "cell_type": "code",
      "source": [
        "for i in range(len(tokenized_train)):\n",
        "    try:\n",
        "        example = tokenized_train[i]\n",
        "        input_batch = {\n",
        "            'input_ids': example['input_ids'],\n",
        "            'token_type_ids': example['token_type_ids'],\n",
        "            'attention_mask': example['attention_mask']\n",
        "        }\n",
        "        target_batch = example['labels']\n",
        "\n",
        "        input_batch_size = len(input_batch['input_ids'])\n",
        "        target_batch_size = len(target_batch)\n",
        "\n",
        "        if input_batch_size != target_batch_size:\n",
        "            raise ValueError(f\"Input batch size ({input_batch_size}) does not match target batch size ({target_batch_size}) at index {i}\")\n",
        "    except Exception as e:\n",
        "        print(\"Exception occurred:\", e)\n",
        "        break\n"
      ],
      "metadata": {
        "id": "Y058SIBGS5ij"
      },
      "execution_count": null,
      "outputs": []
    },
    {
      "cell_type": "code",
      "execution_count": null,
      "metadata": {
        "id": "rmfCLqTlfHH3",
        "colab": {
          "base_uri": "https://localhost:8080/"
        },
        "outputId": "c679becc-65c2-43be-eb08-83dd68aba4f0"
      },
      "outputs": [
        {
          "output_type": "stream",
          "name": "stdout",
          "text": [
            "<class 'datasets.arrow_dataset.Dataset'>\n"
          ]
        }
      ],
      "source": [
        "print(type(tokenized_train))"
      ]
    },
    {
      "cell_type": "code",
      "execution_count": null,
      "metadata": {
        "id": "4zOGT66wXUUT",
        "colab": {
          "base_uri": "https://localhost:8080/"
        },
        "outputId": "d0b6116f-7863-4829-e1f6-48b18801a94a"
      },
      "outputs": [
        {
          "output_type": "execute_result",
          "data": {
            "text/plain": [
              "(956, 8)"
            ]
          },
          "metadata": {},
          "execution_count": 23
        }
      ],
      "source": [
        "tokenized_train.shape"
      ]
    },
    {
      "cell_type": "code",
      "execution_count": null,
      "metadata": {
        "id": "tT30uvSYXYEJ",
        "colab": {
          "base_uri": "https://localhost:8080/"
        },
        "outputId": "c649ea4b-181b-4955-9a81-b2f63294c8fd"
      },
      "outputs": [
        {
          "output_type": "execute_result",
          "data": {
            "text/plain": [
              "(240, 8)"
            ]
          },
          "metadata": {},
          "execution_count": 24
        }
      ],
      "source": [
        "tokenized_eval.shape"
      ]
    },
    {
      "cell_type": "code",
      "execution_count": null,
      "metadata": {
        "id": "S1-vIW_1XbpQ",
        "colab": {
          "base_uri": "https://localhost:8080/"
        },
        "outputId": "630a5c59-52e8-42ea-ab29-6c3064693109"
      },
      "outputs": [
        {
          "output_type": "execute_result",
          "data": {
            "text/plain": [
              "(299, 8)"
            ]
          },
          "metadata": {},
          "execution_count": 25
        }
      ],
      "source": [
        "tokenized_test.shape"
      ]
    },
    {
      "cell_type": "code",
      "execution_count": null,
      "metadata": {
        "id": "6o4wMV-OW4lf",
        "colab": {
          "base_uri": "https://localhost:8080/"
        },
        "outputId": "2164c7c0-4943-4fb3-d92c-b0066f517d36"
      },
      "outputs": [
        {
          "output_type": "execute_result",
          "data": {
            "text/plain": [
              "Dataset({\n",
              "    features: ['sentence_id', 'tokens', 'words_ids', 'tag', 'input_ids', 'token_type_ids', 'attention_mask', 'labels'],\n",
              "    num_rows: 240\n",
              "})"
            ]
          },
          "metadata": {},
          "execution_count": 26
        }
      ],
      "source": [
        "tokenized_eval"
      ]
    },
    {
      "cell_type": "code",
      "execution_count": null,
      "metadata": {
        "id": "VOHQnRFxk4Gn",
        "colab": {
          "base_uri": "https://localhost:8080/"
        },
        "outputId": "6e3a9ed0-c63b-4efd-af12-7e973ff23530"
      },
      "outputs": [
        {
          "output_type": "execute_result",
          "data": {
            "text/plain": [
              "9"
            ]
          },
          "metadata": {},
          "execution_count": 27
        }
      ],
      "source": [
        "num_labels = train_dataset.features['tag'].feature.num_classes\n",
        "num_labels"
      ]
    },
    {
      "cell_type": "code",
      "execution_count": null,
      "metadata": {
        "id": "zY3lKB0ulLAM",
        "colab": {
          "base_uri": "https://localhost:8080/",
          "height": 136,
          "referenced_widgets": [
            "e871ff47e8c34fba9a4e025b63010e06",
            "8e21b0c5d8344036b76e065fecb34191",
            "1fcc8a563d6f4df6a7c0ea5f296c8934",
            "1540b557e3494369bc4a474e98cc33eb",
            "427e3ce3ada34333b7cd2d9051f7017e",
            "6cdce3cefaac411286daab064259239d",
            "17220d5d333c41cc89338356f40a939f",
            "86fe6f76c6a54027ae98f2eaf11bf5d3",
            "a450c52739b446a8a730b0347dbfb074",
            "8ee434a45e024581b9b9ab9e345086e0",
            "fdc540292d844d0a9d4388e4321eee58",
            "358b0f2e02564ac79d50fd915c9e64df",
            "84970165311e407c8af4e8d1cc35d747",
            "6a18d06510e44850aeb11011e1542f55",
            "26b6158b0dff45fd8c2fcb5b8e78f446",
            "f986e5cbc96e46df9512773669585175",
            "6a8c8bd8eb954efbb591d4c55747cc7f",
            "21f77c45277147e492831b7a882bc1a8",
            "f933463fc70d41f39c2d9f4ff94bc2bd",
            "850d4c1517e84994a69e9e4d2447aa21",
            "c98404b6cd894d849773161a6be0a2d9",
            "357f9930a5944be4bf3297be3178d6bc"
          ]
        },
        "outputId": "db29fdc6-396a-4527-d17d-1ec5bd127c31"
      },
      "outputs": [
        {
          "output_type": "display_data",
          "data": {
            "text/plain": [
              "config.json:   0%|          | 0.00/433 [00:00<?, ?B/s]"
            ],
            "application/vnd.jupyter.widget-view+json": {
              "version_major": 2,
              "version_minor": 0,
              "model_id": "e871ff47e8c34fba9a4e025b63010e06"
            }
          },
          "metadata": {}
        },
        {
          "output_type": "display_data",
          "data": {
            "text/plain": [
              "model.safetensors:   0%|          | 0.00/445M [00:00<?, ?B/s]"
            ],
            "application/vnd.jupyter.widget-view+json": {
              "version_major": 2,
              "version_minor": 0,
              "model_id": "358b0f2e02564ac79d50fd915c9e64df"
            }
          },
          "metadata": {}
        },
        {
          "output_type": "stream",
          "name": "stderr",
          "text": [
            "Some weights of BertForTokenClassification were not initialized from the model checkpoint at dbmdz/bert-base-italian-xxl-cased and are newly initialized: ['classifier.bias', 'classifier.weight']\n",
            "You should probably TRAIN this model on a down-stream task to be able to use it for predictions and inference.\n"
          ]
        }
      ],
      "source": [
        "model = AutoModelForTokenClassification.from_pretrained(\"dbmdz/bert-base-italian-xxl-cased\", num_labels = num_labels)"
      ]
    },
    {
      "cell_type": "code",
      "execution_count": null,
      "metadata": {
        "id": "wsDo88tal0Ge"
      },
      "outputs": [],
      "source": [
        "from transformers import TrainingArguments, Trainer"
      ]
    },
    {
      "cell_type": "code",
      "execution_count": null,
      "metadata": {
        "id": "HCALuI7MBvBv",
        "colab": {
          "base_uri": "https://localhost:8080/"
        },
        "outputId": "7b5afea9-62a4-41c9-ffc7-6cade4f037d5"
      },
      "outputs": [
        {
          "output_type": "execute_result",
          "data": {
            "text/plain": [
              "['B-cue',\n",
              " 'B-source',\n",
              " 'B-supplement',\n",
              " 'B-content',\n",
              " 'I-cue',\n",
              " 'I-source',\n",
              " 'I-supplement',\n",
              " 'I-content',\n",
              " 'O']"
            ]
          },
          "metadata": {},
          "execution_count": 30
        }
      ],
      "source": [
        "label_list = train_dataset.features['tag'].feature.names\n",
        "label_list"
      ]
    },
    {
      "cell_type": "code",
      "execution_count": null,
      "metadata": {
        "id": "koiIbqp7dlLw"
      },
      "outputs": [],
      "source": [
        "data_collator = DataCollatorForTokenClassification(tokenizer=tokenizer)"
      ]
    },
    {
      "cell_type": "code",
      "source": [
        "example = tokenized_train[1]"
      ],
      "metadata": {
        "id": "mdq1R4urtHZx"
      },
      "execution_count": null,
      "outputs": []
    },
    {
      "cell_type": "code",
      "source": [
        "labels = [label_list[i] for i in example['tag']]\n",
        "labels"
      ],
      "metadata": {
        "colab": {
          "base_uri": "https://localhost:8080/"
        },
        "id": "6onLsaGqt_j_",
        "outputId": "7850a275-93ed-4105-f6e9-2b9b5a832181"
      },
      "execution_count": null,
      "outputs": [
        {
          "output_type": "execute_result",
          "data": {
            "text/plain": [
              "['O',\n",
              " 'O',\n",
              " 'O',\n",
              " 'O',\n",
              " 'O',\n",
              " 'O',\n",
              " 'O',\n",
              " 'O',\n",
              " 'O',\n",
              " 'O',\n",
              " 'O',\n",
              " 'O',\n",
              " 'O',\n",
              " 'O',\n",
              " 'O',\n",
              " 'O',\n",
              " 'O',\n",
              " 'O',\n",
              " 'O',\n",
              " 'O',\n",
              " 'O',\n",
              " 'O',\n",
              " 'O',\n",
              " 'O',\n",
              " 'O',\n",
              " 'O',\n",
              " 'O',\n",
              " 'O',\n",
              " 'O',\n",
              " 'O',\n",
              " 'O',\n",
              " 'O',\n",
              " 'O',\n",
              " 'O',\n",
              " 'O',\n",
              " 'O']"
            ]
          },
          "metadata": {},
          "execution_count": 33
        }
      ]
    },
    {
      "cell_type": "code",
      "source": [
        "from sklearn.metrics import precision_score, recall_score, f1_score, accuracy_score\n",
        "\n",
        "def compute_multiclass_metrics(eval_preds):\n",
        "    pred_logits, labels = eval_preds\n",
        "    pred_logits = np.argmax(pred_logits, axis=2)\n",
        "\n",
        "    # Flatten the predictions and labels for sklearn metrics\n",
        "    flat_predictions = [item for sublist in pred_logits for item in sublist]\n",
        "    flat_labels = [item for sublist in labels for item in sublist]\n",
        "\n",
        "    # We remove all the values where the label is -100\n",
        "    filtered_predictions = []\n",
        "    filtered_labels = []\n",
        "    for pred, label in zip(flat_predictions, flat_labels):\n",
        "        if label != -100:\n",
        "            filtered_predictions.append(pred)\n",
        "            filtered_labels.append(label)\n",
        "\n",
        "    return {\n",
        "        \"precision\": precision_score(filtered_labels, filtered_predictions, average='macro', zero_division=1),\n",
        "        \"recall\": recall_score(filtered_labels, filtered_predictions, average='macro', zero_division=1),\n",
        "        \"f1\": f1_score(filtered_labels, filtered_predictions, average='macro', zero_division=1),\n",
        "        \"accuracy\": accuracy_score(filtered_labels, filtered_predictions),\n",
        "    }"
      ],
      "metadata": {
        "id": "7oJf8LePZNGU"
      },
      "execution_count": null,
      "outputs": []
    },
    {
      "cell_type": "code",
      "source": [
        "stored_predictions = []\n",
        "stored_labels = []"
      ],
      "metadata": {
        "id": "zY0Eh8aec9G4"
      },
      "execution_count": null,
      "outputs": []
    },
    {
      "cell_type": "code",
      "execution_count": null,
      "metadata": {
        "id": "tfnKntQHmL-L",
        "colab": {
          "base_uri": "https://localhost:8080/"
        },
        "outputId": "a1bb1d47-40df-4cad-e493-beb72f83bb71"
      },
      "outputs": [
        {
          "output_type": "stream",
          "name": "stderr",
          "text": [
            "/usr/local/lib/python3.10/dist-packages/transformers/training_args.py:1525: FutureWarning: `evaluation_strategy` is deprecated and will be removed in version 4.46 of 🤗 Transformers. Use `eval_strategy` instead\n",
            "  warnings.warn(\n"
          ]
        }
      ],
      "source": [
        "training_args = TrainingArguments(\n",
        "    output_dir=\"test_trainer\",\n",
        "    evaluation_strategy=\"epoch\",\n",
        "    learning_rate=2e-5,\n",
        "    logging_steps=1,\n",
        "    per_device_train_batch_size=8,\n",
        "    per_device_eval_batch_size=8,\n",
        "    num_train_epochs=3,\n",
        ")"
      ]
    },
    {
      "cell_type": "code",
      "execution_count": null,
      "metadata": {
        "id": "XGj8c1I5nchv"
      },
      "outputs": [],
      "source": [
        "trainer = Trainer(\n",
        "    model=model,\n",
        "    args=training_args,\n",
        "    train_dataset=tokenized_train,\n",
        "    eval_dataset=tokenized_eval,\n",
        "    data_collator=data_collator,\n",
        "    tokenizer=tokenizer,\n",
        "    compute_metrics=compute_multiclass_metrics,\n",
        ")"
      ]
    },
    {
      "cell_type": "code",
      "source": [
        "%env PYTORCH_CUDA_ALLOC_CONF=expandable_segments:True"
      ],
      "metadata": {
        "colab": {
          "base_uri": "https://localhost:8080/"
        },
        "id": "k_OzyQ7rQUYb",
        "outputId": "13ee4ba7-9210-4670-c3b0-21425807867a"
      },
      "execution_count": null,
      "outputs": [
        {
          "output_type": "stream",
          "name": "stdout",
          "text": [
            "env: PYTORCH_CUDA_ALLOC_CONF=expandable_segments:True\n"
          ]
        }
      ]
    },
    {
      "cell_type": "code",
      "source": [
        "torch.cuda.empty_cache()"
      ],
      "metadata": {
        "id": "_VH50tXgQtvk"
      },
      "execution_count": null,
      "outputs": []
    },
    {
      "cell_type": "code",
      "execution_count": null,
      "metadata": {
        "id": "vUevn6EW6yqW",
        "colab": {
          "base_uri": "https://localhost:8080/",
          "height": 221
        },
        "outputId": "f60794ef-9991-40f1-9af1-efa8107caa0e"
      },
      "outputs": [
        {
          "output_type": "display_data",
          "data": {
            "text/plain": [
              "<IPython.core.display.HTML object>"
            ],
            "text/html": [
              "\n",
              "    <div>\n",
              "      \n",
              "      <progress value='360' max='360' style='width:300px; height:20px; vertical-align: middle;'></progress>\n",
              "      [360/360 04:53, Epoch 3/3]\n",
              "    </div>\n",
              "    <table border=\"1\" class=\"dataframe\">\n",
              "  <thead>\n",
              " <tr style=\"text-align: left;\">\n",
              "      <th>Epoch</th>\n",
              "      <th>Training Loss</th>\n",
              "      <th>Validation Loss</th>\n",
              "      <th>Precision</th>\n",
              "      <th>Recall</th>\n",
              "      <th>F1</th>\n",
              "      <th>Accuracy</th>\n",
              "    </tr>\n",
              "  </thead>\n",
              "  <tbody>\n",
              "    <tr>\n",
              "      <td>1</td>\n",
              "      <td>0.003300</td>\n",
              "      <td>0.026132</td>\n",
              "      <td>0.998862</td>\n",
              "      <td>0.333333</td>\n",
              "      <td>0.332763</td>\n",
              "      <td>0.996587</td>\n",
              "    </tr>\n",
              "    <tr>\n",
              "      <td>2</td>\n",
              "      <td>0.004100</td>\n",
              "      <td>0.025761</td>\n",
              "      <td>0.998862</td>\n",
              "      <td>0.333333</td>\n",
              "      <td>0.332763</td>\n",
              "      <td>0.996587</td>\n",
              "    </tr>\n",
              "    <tr>\n",
              "      <td>3</td>\n",
              "      <td>0.004400</td>\n",
              "      <td>0.025787</td>\n",
              "      <td>0.998862</td>\n",
              "      <td>0.333333</td>\n",
              "      <td>0.332763</td>\n",
              "      <td>0.996587</td>\n",
              "    </tr>\n",
              "  </tbody>\n",
              "</table><p>"
            ]
          },
          "metadata": {}
        },
        {
          "output_type": "execute_result",
          "data": {
            "text/plain": [
              "TrainOutput(global_step=360, training_loss=0.08979900339877026, metrics={'train_runtime': 295.7546, 'train_samples_per_second': 9.697, 'train_steps_per_second': 1.217, 'total_flos': 749446525218816.0, 'train_loss': 0.08979900339877026, 'epoch': 3.0})"
            ]
          },
          "metadata": {},
          "execution_count": 40
        }
      ],
      "source": [
        "trainer.train()"
      ]
    },
    {
      "cell_type": "code",
      "source": [
        "model.save_pretrained('/content/drive/MyDrive/Colab Notebooks/TESI/tryout/BIOquote_model')\n",
        "\n",
        "tokenizer.save_pretrained('/content/drive/MyDrive/Colab Notebooks/TESI/tryout/BIOquote_tokenizer')"
      ],
      "metadata": {
        "colab": {
          "base_uri": "https://localhost:8080/"
        },
        "id": "r3iwzyD6EsO8",
        "outputId": "db4bdffc-374d-4c86-9626-6aec567647d0"
      },
      "execution_count": null,
      "outputs": [
        {
          "output_type": "execute_result",
          "data": {
            "text/plain": [
              "('/content/drive/MyDrive/Colab Notebooks/TESI/tryout/BIOquote_tokenizer/tokenizer_config.json',\n",
              " '/content/drive/MyDrive/Colab Notebooks/TESI/tryout/BIOquote_tokenizer/special_tokens_map.json',\n",
              " '/content/drive/MyDrive/Colab Notebooks/TESI/tryout/BIOquote_tokenizer/vocab.txt',\n",
              " '/content/drive/MyDrive/Colab Notebooks/TESI/tryout/BIOquote_tokenizer/added_tokens.json',\n",
              " '/content/drive/MyDrive/Colab Notebooks/TESI/tryout/BIOquote_tokenizer/tokenizer.json')"
            ]
          },
          "metadata": {},
          "execution_count": 41
        }
      ]
    },
    {
      "cell_type": "code",
      "source": [
        "from transformers import pipeline"
      ],
      "metadata": {
        "id": "-ST7S53ZJex3"
      },
      "execution_count": null,
      "outputs": []
    },
    {
      "cell_type": "code",
      "source": [
        "model_fine_tuned = AutoModelForTokenClassification.from_pretrained('/content/drive/MyDrive/Colab Notebooks/TESI/tryout/BIOquote_model')"
      ],
      "metadata": {
        "id": "R8ZsX7_bKC_f"
      },
      "execution_count": null,
      "outputs": []
    },
    {
      "cell_type": "code",
      "source": [
        "import json\n",
        "\n",
        "config = json.load(open('/content/drive/MyDrive/Colab Notebooks/TESI/tryout/BIOquote_model/config.json'))"
      ],
      "metadata": {
        "id": "2JtQTpe_Kttw"
      },
      "execution_count": null,
      "outputs": []
    },
    {
      "cell_type": "code",
      "source": [
        "id2label= {\n",
        "    str(i):label for i, label in enumerate(label_list)\n",
        "}\n",
        "\n",
        "label2id = {\n",
        "    label:str(i) for i, label in enumerate(label_list)\n",
        "}"
      ],
      "metadata": {
        "id": "Us3rIPCcK2Yf"
      },
      "execution_count": null,
      "outputs": []
    },
    {
      "cell_type": "code",
      "source": [
        "config['id2label'] = id2label\n",
        "config['label2id'] = label2id\n",
        "\n",
        "# json.dump(config, open('/content/drive/MyDrive/Colab Notebooks/TESI/tryout/BIOquote_model/config.json', 'w'))"
      ],
      "metadata": {
        "id": "cMSBDAVBK3nI"
      },
      "execution_count": null,
      "outputs": []
    },
    {
      "cell_type": "code",
      "source": [
        "nlp = pipeline('ner', model=model_fine_tuned, tokenizer=tokenizer)\n",
        "\n",
        "example = \"\"\"\n",
        "Il 22 aprile 2024, a New York, il CEO John Smith di TechCorp e il CFO Jane Doe di Innovate Inc. hanno annunciato alla Global Tech Conference: 'La nostra missione è innovare e guidare l'industria tecnologica verso il futuro'.\n",
        "\"\"\"\n",
        "\n",
        "quote_results = nlp (example)\n",
        "\n",
        "print(quote_results)"
      ],
      "metadata": {
        "colab": {
          "base_uri": "https://localhost:8080/"
        },
        "id": "4BflY-dmJ5f9",
        "outputId": "1a623871-09ad-4ea6-b820-f0fc2872a050"
      },
      "execution_count": null,
      "outputs": [
        {
          "output_type": "stream",
          "name": "stderr",
          "text": [
            "Hardware accelerator e.g. GPU is available in the environment, but no `device` argument is passed to the `Pipeline` object. Model will be on CPU.\n"
          ]
        },
        {
          "output_type": "stream",
          "name": "stdout",
          "text": [
            "[{'entity': 'LABEL_8', 'score': 0.99412954, 'index': 1, 'word': 'Il', 'start': 1, 'end': 3}, {'entity': 'LABEL_8', 'score': 0.9940633, 'index': 2, 'word': '22', 'start': 4, 'end': 6}, {'entity': 'LABEL_8', 'score': 0.994242, 'index': 3, 'word': 'aprile', 'start': 7, 'end': 13}, {'entity': 'LABEL_8', 'score': 0.99430907, 'index': 4, 'word': '202', 'start': 14, 'end': 17}, {'entity': 'LABEL_8', 'score': 0.9938704, 'index': 5, 'word': '##4', 'start': 17, 'end': 18}, {'entity': 'LABEL_8', 'score': 0.9943845, 'index': 6, 'word': ',', 'start': 18, 'end': 19}, {'entity': 'LABEL_8', 'score': 0.9941385, 'index': 7, 'word': 'a', 'start': 20, 'end': 21}, {'entity': 'LABEL_8', 'score': 0.9939545, 'index': 8, 'word': 'New', 'start': 22, 'end': 25}, {'entity': 'LABEL_8', 'score': 0.9936691, 'index': 9, 'word': 'York', 'start': 26, 'end': 30}, {'entity': 'LABEL_8', 'score': 0.9943962, 'index': 10, 'word': ',', 'start': 30, 'end': 31}, {'entity': 'LABEL_8', 'score': 0.9942351, 'index': 11, 'word': 'il', 'start': 32, 'end': 34}, {'entity': 'LABEL_8', 'score': 0.9936646, 'index': 12, 'word': 'CE', 'start': 35, 'end': 37}, {'entity': 'LABEL_8', 'score': 0.9935694, 'index': 13, 'word': '##O', 'start': 37, 'end': 38}, {'entity': 'LABEL_8', 'score': 0.9942524, 'index': 14, 'word': 'John', 'start': 39, 'end': 43}, {'entity': 'LABEL_8', 'score': 0.99388736, 'index': 15, 'word': 'Smith', 'start': 44, 'end': 49}, {'entity': 'LABEL_8', 'score': 0.99396825, 'index': 16, 'word': 'di', 'start': 50, 'end': 52}, {'entity': 'LABEL_8', 'score': 0.9938159, 'index': 17, 'word': 'Tech', 'start': 53, 'end': 57}, {'entity': 'LABEL_8', 'score': 0.9941056, 'index': 18, 'word': '##Cor', 'start': 57, 'end': 60}, {'entity': 'LABEL_8', 'score': 0.9939276, 'index': 19, 'word': '##p', 'start': 60, 'end': 61}, {'entity': 'LABEL_8', 'score': 0.99416095, 'index': 20, 'word': 'e', 'start': 62, 'end': 63}, {'entity': 'LABEL_8', 'score': 0.99430156, 'index': 21, 'word': 'il', 'start': 64, 'end': 66}, {'entity': 'LABEL_8', 'score': 0.9939564, 'index': 22, 'word': 'C', 'start': 67, 'end': 68}, {'entity': 'LABEL_8', 'score': 0.99387205, 'index': 23, 'word': '##FO', 'start': 68, 'end': 70}, {'entity': 'LABEL_8', 'score': 0.99364823, 'index': 24, 'word': 'Jane', 'start': 71, 'end': 75}, {'entity': 'LABEL_8', 'score': 0.9941858, 'index': 25, 'word': 'Do', 'start': 76, 'end': 78}, {'entity': 'LABEL_8', 'score': 0.99422485, 'index': 26, 'word': '##e', 'start': 78, 'end': 79}, {'entity': 'LABEL_8', 'score': 0.9940659, 'index': 27, 'word': 'di', 'start': 80, 'end': 82}, {'entity': 'LABEL_8', 'score': 0.9941315, 'index': 28, 'word': 'Inno', 'start': 83, 'end': 87}, {'entity': 'LABEL_8', 'score': 0.9941116, 'index': 29, 'word': '##vate', 'start': 87, 'end': 91}, {'entity': 'LABEL_8', 'score': 0.99389464, 'index': 30, 'word': 'Inc', 'start': 92, 'end': 95}, {'entity': 'LABEL_8', 'score': 0.99356294, 'index': 31, 'word': '.', 'start': 95, 'end': 96}, {'entity': 'LABEL_8', 'score': 0.9940287, 'index': 32, 'word': 'hanno', 'start': 97, 'end': 102}, {'entity': 'LABEL_8', 'score': 0.99341124, 'index': 33, 'word': 'annunciato', 'start': 103, 'end': 113}, {'entity': 'LABEL_8', 'score': 0.99343127, 'index': 34, 'word': 'alla', 'start': 114, 'end': 118}, {'entity': 'LABEL_8', 'score': 0.993266, 'index': 35, 'word': 'Global', 'start': 119, 'end': 125}, {'entity': 'LABEL_8', 'score': 0.99358267, 'index': 36, 'word': 'Tech', 'start': 126, 'end': 130}, {'entity': 'LABEL_8', 'score': 0.9929536, 'index': 37, 'word': 'Conference', 'start': 131, 'end': 141}, {'entity': 'LABEL_8', 'score': 0.9936754, 'index': 38, 'word': ':', 'start': 141, 'end': 142}, {'entity': 'LABEL_8', 'score': 0.99396545, 'index': 39, 'word': \"'\", 'start': 143, 'end': 144}, {'entity': 'LABEL_8', 'score': 0.9939633, 'index': 40, 'word': 'La', 'start': 144, 'end': 146}, {'entity': 'LABEL_8', 'score': 0.99393, 'index': 41, 'word': 'nostra', 'start': 147, 'end': 153}, {'entity': 'LABEL_8', 'score': 0.99340534, 'index': 42, 'word': 'missione', 'start': 154, 'end': 162}, {'entity': 'LABEL_8', 'score': 0.99437016, 'index': 43, 'word': 'è', 'start': 163, 'end': 164}, {'entity': 'LABEL_8', 'score': 0.99399203, 'index': 44, 'word': 'innova', 'start': 165, 'end': 171}, {'entity': 'LABEL_8', 'score': 0.99448687, 'index': 45, 'word': '##re', 'start': 171, 'end': 173}, {'entity': 'LABEL_8', 'score': 0.99497956, 'index': 46, 'word': 'e', 'start': 174, 'end': 175}, {'entity': 'LABEL_8', 'score': 0.99422306, 'index': 47, 'word': 'guidare', 'start': 176, 'end': 183}, {'entity': 'LABEL_8', 'score': 0.99464095, 'index': 48, 'word': 'l', 'start': 184, 'end': 185}, {'entity': 'LABEL_8', 'score': 0.9942001, 'index': 49, 'word': \"'\", 'start': 185, 'end': 186}, {'entity': 'LABEL_8', 'score': 0.99429756, 'index': 50, 'word': 'industria', 'start': 186, 'end': 195}, {'entity': 'LABEL_8', 'score': 0.99434495, 'index': 51, 'word': 'tecnologica', 'start': 196, 'end': 207}, {'entity': 'LABEL_8', 'score': 0.99397284, 'index': 52, 'word': 'verso', 'start': 208, 'end': 213}, {'entity': 'LABEL_8', 'score': 0.99444556, 'index': 53, 'word': 'il', 'start': 214, 'end': 216}, {'entity': 'LABEL_8', 'score': 0.99398744, 'index': 54, 'word': 'futuro', 'start': 217, 'end': 223}, {'entity': 'LABEL_8', 'score': 0.9945042, 'index': 55, 'word': \"'\", 'start': 223, 'end': 224}, {'entity': 'LABEL_8', 'score': 0.99388885, 'index': 56, 'word': '.', 'start': 224, 'end': 225}]\n"
          ]
        }
      ]
    },
    {
      "cell_type": "code",
      "source": [
        "print(type(quote_results))"
      ],
      "metadata": {
        "colab": {
          "base_uri": "https://localhost:8080/"
        },
        "id": "OlUIyrfALUu3",
        "outputId": "3b7b444f-4aa2-4449-cd92-6b25f34b1edf"
      },
      "execution_count": null,
      "outputs": [
        {
          "output_type": "stream",
          "name": "stdout",
          "text": [
            "<class 'list'>\n"
          ]
        }
      ]
    },
    {
      "cell_type": "code",
      "source": [
        "x=0\n",
        "y=0\n",
        "\n",
        "for my_dict in quote_results:\n",
        "    if my_dict['entity'] == \"LABEL_8\":\n",
        "        x += 1\n",
        "    else:\n",
        "        y += 1\n",
        "print(y)"
      ],
      "metadata": {
        "colab": {
          "base_uri": "https://localhost:8080/"
        },
        "id": "-WdqhQ2lLZH0",
        "outputId": "67a84425-b7e3-4f4f-e816-37da6b20d929"
      },
      "execution_count": null,
      "outputs": [
        {
          "output_type": "stream",
          "name": "stdout",
          "text": [
            "0\n"
          ]
        }
      ]
    }
  ],
  "metadata": {
    "accelerator": "GPU",
    "colab": {
      "gpuType": "T4",
      "provenance": [],
      "include_colab_link": true
    },
    "kernelspec": {
      "display_name": "Python 3",
      "name": "python3"
    },
    "language_info": {
      "name": "python"
    },
    "widgets": {
      "application/vnd.jupyter.widget-state+json": {
        "c6a770887a2043cfa04138645744f98d": {
          "model_module": "@jupyter-widgets/controls",
          "model_name": "HBoxModel",
          "model_module_version": "1.5.0",
          "state": {
            "_dom_classes": [],
            "_model_module": "@jupyter-widgets/controls",
            "_model_module_version": "1.5.0",
            "_model_name": "HBoxModel",
            "_view_count": null,
            "_view_module": "@jupyter-widgets/controls",
            "_view_module_version": "1.5.0",
            "_view_name": "HBoxView",
            "box_style": "",
            "children": [
              "IPY_MODEL_5ec66f456ecd4596bdf0e45dae18198e",
              "IPY_MODEL_93b9961f5e1f444697226d7462ef5f9a",
              "IPY_MODEL_f4d2b2472ffd4ec9933d5cda75cc98c6"
            ],
            "layout": "IPY_MODEL_e61fcc9d400d47d4abe017ef8cb11515"
          }
        },
        "5ec66f456ecd4596bdf0e45dae18198e": {
          "model_module": "@jupyter-widgets/controls",
          "model_name": "HTMLModel",
          "model_module_version": "1.5.0",
          "state": {
            "_dom_classes": [],
            "_model_module": "@jupyter-widgets/controls",
            "_model_module_version": "1.5.0",
            "_model_name": "HTMLModel",
            "_view_count": null,
            "_view_module": "@jupyter-widgets/controls",
            "_view_module_version": "1.5.0",
            "_view_name": "HTMLView",
            "description": "",
            "description_tooltip": null,
            "layout": "IPY_MODEL_1f32731f90ef4f48a65e79bc9a5b5f7c",
            "placeholder": "​",
            "style": "IPY_MODEL_1cb6d2e81cf045788477b315a097ed91",
            "value": "tokenizer_config.json: 100%"
          }
        },
        "93b9961f5e1f444697226d7462ef5f9a": {
          "model_module": "@jupyter-widgets/controls",
          "model_name": "FloatProgressModel",
          "model_module_version": "1.5.0",
          "state": {
            "_dom_classes": [],
            "_model_module": "@jupyter-widgets/controls",
            "_model_module_version": "1.5.0",
            "_model_name": "FloatProgressModel",
            "_view_count": null,
            "_view_module": "@jupyter-widgets/controls",
            "_view_module_version": "1.5.0",
            "_view_name": "ProgressView",
            "bar_style": "success",
            "description": "",
            "description_tooltip": null,
            "layout": "IPY_MODEL_4e3e304d293c4d72a63bda07229a5c62",
            "max": 59,
            "min": 0,
            "orientation": "horizontal",
            "style": "IPY_MODEL_2570066ebb3847b0aafc157327d85a99",
            "value": 59
          }
        },
        "f4d2b2472ffd4ec9933d5cda75cc98c6": {
          "model_module": "@jupyter-widgets/controls",
          "model_name": "HTMLModel",
          "model_module_version": "1.5.0",
          "state": {
            "_dom_classes": [],
            "_model_module": "@jupyter-widgets/controls",
            "_model_module_version": "1.5.0",
            "_model_name": "HTMLModel",
            "_view_count": null,
            "_view_module": "@jupyter-widgets/controls",
            "_view_module_version": "1.5.0",
            "_view_name": "HTMLView",
            "description": "",
            "description_tooltip": null,
            "layout": "IPY_MODEL_7e0532d47b18460e8bd4bca9d97a3441",
            "placeholder": "​",
            "style": "IPY_MODEL_a7c3fd876dbf4d3a9fabe81d33886e21",
            "value": " 59.0/59.0 [00:00&lt;00:00, 2.92kB/s]"
          }
        },
        "e61fcc9d400d47d4abe017ef8cb11515": {
          "model_module": "@jupyter-widgets/base",
          "model_name": "LayoutModel",
          "model_module_version": "1.2.0",
          "state": {
            "_model_module": "@jupyter-widgets/base",
            "_model_module_version": "1.2.0",
            "_model_name": "LayoutModel",
            "_view_count": null,
            "_view_module": "@jupyter-widgets/base",
            "_view_module_version": "1.2.0",
            "_view_name": "LayoutView",
            "align_content": null,
            "align_items": null,
            "align_self": null,
            "border": null,
            "bottom": null,
            "display": null,
            "flex": null,
            "flex_flow": null,
            "grid_area": null,
            "grid_auto_columns": null,
            "grid_auto_flow": null,
            "grid_auto_rows": null,
            "grid_column": null,
            "grid_gap": null,
            "grid_row": null,
            "grid_template_areas": null,
            "grid_template_columns": null,
            "grid_template_rows": null,
            "height": null,
            "justify_content": null,
            "justify_items": null,
            "left": null,
            "margin": null,
            "max_height": null,
            "max_width": null,
            "min_height": null,
            "min_width": null,
            "object_fit": null,
            "object_position": null,
            "order": null,
            "overflow": null,
            "overflow_x": null,
            "overflow_y": null,
            "padding": null,
            "right": null,
            "top": null,
            "visibility": null,
            "width": null
          }
        },
        "1f32731f90ef4f48a65e79bc9a5b5f7c": {
          "model_module": "@jupyter-widgets/base",
          "model_name": "LayoutModel",
          "model_module_version": "1.2.0",
          "state": {
            "_model_module": "@jupyter-widgets/base",
            "_model_module_version": "1.2.0",
            "_model_name": "LayoutModel",
            "_view_count": null,
            "_view_module": "@jupyter-widgets/base",
            "_view_module_version": "1.2.0",
            "_view_name": "LayoutView",
            "align_content": null,
            "align_items": null,
            "align_self": null,
            "border": null,
            "bottom": null,
            "display": null,
            "flex": null,
            "flex_flow": null,
            "grid_area": null,
            "grid_auto_columns": null,
            "grid_auto_flow": null,
            "grid_auto_rows": null,
            "grid_column": null,
            "grid_gap": null,
            "grid_row": null,
            "grid_template_areas": null,
            "grid_template_columns": null,
            "grid_template_rows": null,
            "height": null,
            "justify_content": null,
            "justify_items": null,
            "left": null,
            "margin": null,
            "max_height": null,
            "max_width": null,
            "min_height": null,
            "min_width": null,
            "object_fit": null,
            "object_position": null,
            "order": null,
            "overflow": null,
            "overflow_x": null,
            "overflow_y": null,
            "padding": null,
            "right": null,
            "top": null,
            "visibility": null,
            "width": null
          }
        },
        "1cb6d2e81cf045788477b315a097ed91": {
          "model_module": "@jupyter-widgets/controls",
          "model_name": "DescriptionStyleModel",
          "model_module_version": "1.5.0",
          "state": {
            "_model_module": "@jupyter-widgets/controls",
            "_model_module_version": "1.5.0",
            "_model_name": "DescriptionStyleModel",
            "_view_count": null,
            "_view_module": "@jupyter-widgets/base",
            "_view_module_version": "1.2.0",
            "_view_name": "StyleView",
            "description_width": ""
          }
        },
        "4e3e304d293c4d72a63bda07229a5c62": {
          "model_module": "@jupyter-widgets/base",
          "model_name": "LayoutModel",
          "model_module_version": "1.2.0",
          "state": {
            "_model_module": "@jupyter-widgets/base",
            "_model_module_version": "1.2.0",
            "_model_name": "LayoutModel",
            "_view_count": null,
            "_view_module": "@jupyter-widgets/base",
            "_view_module_version": "1.2.0",
            "_view_name": "LayoutView",
            "align_content": null,
            "align_items": null,
            "align_self": null,
            "border": null,
            "bottom": null,
            "display": null,
            "flex": null,
            "flex_flow": null,
            "grid_area": null,
            "grid_auto_columns": null,
            "grid_auto_flow": null,
            "grid_auto_rows": null,
            "grid_column": null,
            "grid_gap": null,
            "grid_row": null,
            "grid_template_areas": null,
            "grid_template_columns": null,
            "grid_template_rows": null,
            "height": null,
            "justify_content": null,
            "justify_items": null,
            "left": null,
            "margin": null,
            "max_height": null,
            "max_width": null,
            "min_height": null,
            "min_width": null,
            "object_fit": null,
            "object_position": null,
            "order": null,
            "overflow": null,
            "overflow_x": null,
            "overflow_y": null,
            "padding": null,
            "right": null,
            "top": null,
            "visibility": null,
            "width": null
          }
        },
        "2570066ebb3847b0aafc157327d85a99": {
          "model_module": "@jupyter-widgets/controls",
          "model_name": "ProgressStyleModel",
          "model_module_version": "1.5.0",
          "state": {
            "_model_module": "@jupyter-widgets/controls",
            "_model_module_version": "1.5.0",
            "_model_name": "ProgressStyleModel",
            "_view_count": null,
            "_view_module": "@jupyter-widgets/base",
            "_view_module_version": "1.2.0",
            "_view_name": "StyleView",
            "bar_color": null,
            "description_width": ""
          }
        },
        "7e0532d47b18460e8bd4bca9d97a3441": {
          "model_module": "@jupyter-widgets/base",
          "model_name": "LayoutModel",
          "model_module_version": "1.2.0",
          "state": {
            "_model_module": "@jupyter-widgets/base",
            "_model_module_version": "1.2.0",
            "_model_name": "LayoutModel",
            "_view_count": null,
            "_view_module": "@jupyter-widgets/base",
            "_view_module_version": "1.2.0",
            "_view_name": "LayoutView",
            "align_content": null,
            "align_items": null,
            "align_self": null,
            "border": null,
            "bottom": null,
            "display": null,
            "flex": null,
            "flex_flow": null,
            "grid_area": null,
            "grid_auto_columns": null,
            "grid_auto_flow": null,
            "grid_auto_rows": null,
            "grid_column": null,
            "grid_gap": null,
            "grid_row": null,
            "grid_template_areas": null,
            "grid_template_columns": null,
            "grid_template_rows": null,
            "height": null,
            "justify_content": null,
            "justify_items": null,
            "left": null,
            "margin": null,
            "max_height": null,
            "max_width": null,
            "min_height": null,
            "min_width": null,
            "object_fit": null,
            "object_position": null,
            "order": null,
            "overflow": null,
            "overflow_x": null,
            "overflow_y": null,
            "padding": null,
            "right": null,
            "top": null,
            "visibility": null,
            "width": null
          }
        },
        "a7c3fd876dbf4d3a9fabe81d33886e21": {
          "model_module": "@jupyter-widgets/controls",
          "model_name": "DescriptionStyleModel",
          "model_module_version": "1.5.0",
          "state": {
            "_model_module": "@jupyter-widgets/controls",
            "_model_module_version": "1.5.0",
            "_model_name": "DescriptionStyleModel",
            "_view_count": null,
            "_view_module": "@jupyter-widgets/base",
            "_view_module_version": "1.2.0",
            "_view_name": "StyleView",
            "description_width": ""
          }
        },
        "974751ba5f2d45d0899fb9251444990b": {
          "model_module": "@jupyter-widgets/controls",
          "model_name": "HBoxModel",
          "model_module_version": "1.5.0",
          "state": {
            "_dom_classes": [],
            "_model_module": "@jupyter-widgets/controls",
            "_model_module_version": "1.5.0",
            "_model_name": "HBoxModel",
            "_view_count": null,
            "_view_module": "@jupyter-widgets/controls",
            "_view_module_version": "1.5.0",
            "_view_name": "HBoxView",
            "box_style": "",
            "children": [
              "IPY_MODEL_ee79d8478a1d464bad0023c334ad03dc",
              "IPY_MODEL_8bfa465ec1004bff8f94cae37836c286",
              "IPY_MODEL_b9dc193fdfdb468db7771e80ad0d8e90"
            ],
            "layout": "IPY_MODEL_b5c263f25e434bdcb68c2a8abbd988dd"
          }
        },
        "ee79d8478a1d464bad0023c334ad03dc": {
          "model_module": "@jupyter-widgets/controls",
          "model_name": "HTMLModel",
          "model_module_version": "1.5.0",
          "state": {
            "_dom_classes": [],
            "_model_module": "@jupyter-widgets/controls",
            "_model_module_version": "1.5.0",
            "_model_name": "HTMLModel",
            "_view_count": null,
            "_view_module": "@jupyter-widgets/controls",
            "_view_module_version": "1.5.0",
            "_view_name": "HTMLView",
            "description": "",
            "description_tooltip": null,
            "layout": "IPY_MODEL_7783cf8a8d094dd7860f9378c1286e70",
            "placeholder": "​",
            "style": "IPY_MODEL_8845df34e7754594a4ffa7f75c20399b",
            "value": "config.json: 100%"
          }
        },
        "8bfa465ec1004bff8f94cae37836c286": {
          "model_module": "@jupyter-widgets/controls",
          "model_name": "FloatProgressModel",
          "model_module_version": "1.5.0",
          "state": {
            "_dom_classes": [],
            "_model_module": "@jupyter-widgets/controls",
            "_model_module_version": "1.5.0",
            "_model_name": "FloatProgressModel",
            "_view_count": null,
            "_view_module": "@jupyter-widgets/controls",
            "_view_module_version": "1.5.0",
            "_view_name": "ProgressView",
            "bar_style": "success",
            "description": "",
            "description_tooltip": null,
            "layout": "IPY_MODEL_06cd078e3f244507955367028a864832",
            "max": 433,
            "min": 0,
            "orientation": "horizontal",
            "style": "IPY_MODEL_8d324a53653e4de3ac97499087b10e65",
            "value": 433
          }
        },
        "b9dc193fdfdb468db7771e80ad0d8e90": {
          "model_module": "@jupyter-widgets/controls",
          "model_name": "HTMLModel",
          "model_module_version": "1.5.0",
          "state": {
            "_dom_classes": [],
            "_model_module": "@jupyter-widgets/controls",
            "_model_module_version": "1.5.0",
            "_model_name": "HTMLModel",
            "_view_count": null,
            "_view_module": "@jupyter-widgets/controls",
            "_view_module_version": "1.5.0",
            "_view_name": "HTMLView",
            "description": "",
            "description_tooltip": null,
            "layout": "IPY_MODEL_2e2022efa9814886834830c156f045b5",
            "placeholder": "​",
            "style": "IPY_MODEL_a1e10abbe5b445fab2e58a2a8e0b01fc",
            "value": " 433/433 [00:00&lt;00:00, 19.4kB/s]"
          }
        },
        "b5c263f25e434bdcb68c2a8abbd988dd": {
          "model_module": "@jupyter-widgets/base",
          "model_name": "LayoutModel",
          "model_module_version": "1.2.0",
          "state": {
            "_model_module": "@jupyter-widgets/base",
            "_model_module_version": "1.2.0",
            "_model_name": "LayoutModel",
            "_view_count": null,
            "_view_module": "@jupyter-widgets/base",
            "_view_module_version": "1.2.0",
            "_view_name": "LayoutView",
            "align_content": null,
            "align_items": null,
            "align_self": null,
            "border": null,
            "bottom": null,
            "display": null,
            "flex": null,
            "flex_flow": null,
            "grid_area": null,
            "grid_auto_columns": null,
            "grid_auto_flow": null,
            "grid_auto_rows": null,
            "grid_column": null,
            "grid_gap": null,
            "grid_row": null,
            "grid_template_areas": null,
            "grid_template_columns": null,
            "grid_template_rows": null,
            "height": null,
            "justify_content": null,
            "justify_items": null,
            "left": null,
            "margin": null,
            "max_height": null,
            "max_width": null,
            "min_height": null,
            "min_width": null,
            "object_fit": null,
            "object_position": null,
            "order": null,
            "overflow": null,
            "overflow_x": null,
            "overflow_y": null,
            "padding": null,
            "right": null,
            "top": null,
            "visibility": null,
            "width": null
          }
        },
        "7783cf8a8d094dd7860f9378c1286e70": {
          "model_module": "@jupyter-widgets/base",
          "model_name": "LayoutModel",
          "model_module_version": "1.2.0",
          "state": {
            "_model_module": "@jupyter-widgets/base",
            "_model_module_version": "1.2.0",
            "_model_name": "LayoutModel",
            "_view_count": null,
            "_view_module": "@jupyter-widgets/base",
            "_view_module_version": "1.2.0",
            "_view_name": "LayoutView",
            "align_content": null,
            "align_items": null,
            "align_self": null,
            "border": null,
            "bottom": null,
            "display": null,
            "flex": null,
            "flex_flow": null,
            "grid_area": null,
            "grid_auto_columns": null,
            "grid_auto_flow": null,
            "grid_auto_rows": null,
            "grid_column": null,
            "grid_gap": null,
            "grid_row": null,
            "grid_template_areas": null,
            "grid_template_columns": null,
            "grid_template_rows": null,
            "height": null,
            "justify_content": null,
            "justify_items": null,
            "left": null,
            "margin": null,
            "max_height": null,
            "max_width": null,
            "min_height": null,
            "min_width": null,
            "object_fit": null,
            "object_position": null,
            "order": null,
            "overflow": null,
            "overflow_x": null,
            "overflow_y": null,
            "padding": null,
            "right": null,
            "top": null,
            "visibility": null,
            "width": null
          }
        },
        "8845df34e7754594a4ffa7f75c20399b": {
          "model_module": "@jupyter-widgets/controls",
          "model_name": "DescriptionStyleModel",
          "model_module_version": "1.5.0",
          "state": {
            "_model_module": "@jupyter-widgets/controls",
            "_model_module_version": "1.5.0",
            "_model_name": "DescriptionStyleModel",
            "_view_count": null,
            "_view_module": "@jupyter-widgets/base",
            "_view_module_version": "1.2.0",
            "_view_name": "StyleView",
            "description_width": ""
          }
        },
        "06cd078e3f244507955367028a864832": {
          "model_module": "@jupyter-widgets/base",
          "model_name": "LayoutModel",
          "model_module_version": "1.2.0",
          "state": {
            "_model_module": "@jupyter-widgets/base",
            "_model_module_version": "1.2.0",
            "_model_name": "LayoutModel",
            "_view_count": null,
            "_view_module": "@jupyter-widgets/base",
            "_view_module_version": "1.2.0",
            "_view_name": "LayoutView",
            "align_content": null,
            "align_items": null,
            "align_self": null,
            "border": null,
            "bottom": null,
            "display": null,
            "flex": null,
            "flex_flow": null,
            "grid_area": null,
            "grid_auto_columns": null,
            "grid_auto_flow": null,
            "grid_auto_rows": null,
            "grid_column": null,
            "grid_gap": null,
            "grid_row": null,
            "grid_template_areas": null,
            "grid_template_columns": null,
            "grid_template_rows": null,
            "height": null,
            "justify_content": null,
            "justify_items": null,
            "left": null,
            "margin": null,
            "max_height": null,
            "max_width": null,
            "min_height": null,
            "min_width": null,
            "object_fit": null,
            "object_position": null,
            "order": null,
            "overflow": null,
            "overflow_x": null,
            "overflow_y": null,
            "padding": null,
            "right": null,
            "top": null,
            "visibility": null,
            "width": null
          }
        },
        "8d324a53653e4de3ac97499087b10e65": {
          "model_module": "@jupyter-widgets/controls",
          "model_name": "ProgressStyleModel",
          "model_module_version": "1.5.0",
          "state": {
            "_model_module": "@jupyter-widgets/controls",
            "_model_module_version": "1.5.0",
            "_model_name": "ProgressStyleModel",
            "_view_count": null,
            "_view_module": "@jupyter-widgets/base",
            "_view_module_version": "1.2.0",
            "_view_name": "StyleView",
            "bar_color": null,
            "description_width": ""
          }
        },
        "2e2022efa9814886834830c156f045b5": {
          "model_module": "@jupyter-widgets/base",
          "model_name": "LayoutModel",
          "model_module_version": "1.2.0",
          "state": {
            "_model_module": "@jupyter-widgets/base",
            "_model_module_version": "1.2.0",
            "_model_name": "LayoutModel",
            "_view_count": null,
            "_view_module": "@jupyter-widgets/base",
            "_view_module_version": "1.2.0",
            "_view_name": "LayoutView",
            "align_content": null,
            "align_items": null,
            "align_self": null,
            "border": null,
            "bottom": null,
            "display": null,
            "flex": null,
            "flex_flow": null,
            "grid_area": null,
            "grid_auto_columns": null,
            "grid_auto_flow": null,
            "grid_auto_rows": null,
            "grid_column": null,
            "grid_gap": null,
            "grid_row": null,
            "grid_template_areas": null,
            "grid_template_columns": null,
            "grid_template_rows": null,
            "height": null,
            "justify_content": null,
            "justify_items": null,
            "left": null,
            "margin": null,
            "max_height": null,
            "max_width": null,
            "min_height": null,
            "min_width": null,
            "object_fit": null,
            "object_position": null,
            "order": null,
            "overflow": null,
            "overflow_x": null,
            "overflow_y": null,
            "padding": null,
            "right": null,
            "top": null,
            "visibility": null,
            "width": null
          }
        },
        "a1e10abbe5b445fab2e58a2a8e0b01fc": {
          "model_module": "@jupyter-widgets/controls",
          "model_name": "DescriptionStyleModel",
          "model_module_version": "1.5.0",
          "state": {
            "_model_module": "@jupyter-widgets/controls",
            "_model_module_version": "1.5.0",
            "_model_name": "DescriptionStyleModel",
            "_view_count": null,
            "_view_module": "@jupyter-widgets/base",
            "_view_module_version": "1.2.0",
            "_view_name": "StyleView",
            "description_width": ""
          }
        },
        "321acec2d4ce4c6a886a1ad1d89f4402": {
          "model_module": "@jupyter-widgets/controls",
          "model_name": "HBoxModel",
          "model_module_version": "1.5.0",
          "state": {
            "_dom_classes": [],
            "_model_module": "@jupyter-widgets/controls",
            "_model_module_version": "1.5.0",
            "_model_name": "HBoxModel",
            "_view_count": null,
            "_view_module": "@jupyter-widgets/controls",
            "_view_module_version": "1.5.0",
            "_view_name": "HBoxView",
            "box_style": "",
            "children": [
              "IPY_MODEL_9ced5ea41b7f40e8a92d6bacacec9769",
              "IPY_MODEL_133c38c7de0f4f32834a3906bae68ef1",
              "IPY_MODEL_13d2c91d8de54ca5922808a1c593eae0"
            ],
            "layout": "IPY_MODEL_861d6808c80d45df949d4597b57a5ac6"
          }
        },
        "9ced5ea41b7f40e8a92d6bacacec9769": {
          "model_module": "@jupyter-widgets/controls",
          "model_name": "HTMLModel",
          "model_module_version": "1.5.0",
          "state": {
            "_dom_classes": [],
            "_model_module": "@jupyter-widgets/controls",
            "_model_module_version": "1.5.0",
            "_model_name": "HTMLModel",
            "_view_count": null,
            "_view_module": "@jupyter-widgets/controls",
            "_view_module_version": "1.5.0",
            "_view_name": "HTMLView",
            "description": "",
            "description_tooltip": null,
            "layout": "IPY_MODEL_a907ab5e431c4976a28cb7da2a1c9b79",
            "placeholder": "​",
            "style": "IPY_MODEL_9f817cb5549a4a47b56473dc6b2d5f90",
            "value": "vocab.txt: 100%"
          }
        },
        "133c38c7de0f4f32834a3906bae68ef1": {
          "model_module": "@jupyter-widgets/controls",
          "model_name": "FloatProgressModel",
          "model_module_version": "1.5.0",
          "state": {
            "_dom_classes": [],
            "_model_module": "@jupyter-widgets/controls",
            "_model_module_version": "1.5.0",
            "_model_name": "FloatProgressModel",
            "_view_count": null,
            "_view_module": "@jupyter-widgets/controls",
            "_view_module_version": "1.5.0",
            "_view_name": "ProgressView",
            "bar_style": "success",
            "description": "",
            "description_tooltip": null,
            "layout": "IPY_MODEL_56ba737cc71b4eac981ec7d2bfd67f98",
            "max": 235127,
            "min": 0,
            "orientation": "horizontal",
            "style": "IPY_MODEL_b948ef6824754b0aba866dae65a47368",
            "value": 235127
          }
        },
        "13d2c91d8de54ca5922808a1c593eae0": {
          "model_module": "@jupyter-widgets/controls",
          "model_name": "HTMLModel",
          "model_module_version": "1.5.0",
          "state": {
            "_dom_classes": [],
            "_model_module": "@jupyter-widgets/controls",
            "_model_module_version": "1.5.0",
            "_model_name": "HTMLModel",
            "_view_count": null,
            "_view_module": "@jupyter-widgets/controls",
            "_view_module_version": "1.5.0",
            "_view_name": "HTMLView",
            "description": "",
            "description_tooltip": null,
            "layout": "IPY_MODEL_53efa2a13f0841fb8bece03647e35e37",
            "placeholder": "​",
            "style": "IPY_MODEL_75069f944f03482f981a0776f87b1440",
            "value": " 235k/235k [00:00&lt;00:00, 11.0MB/s]"
          }
        },
        "861d6808c80d45df949d4597b57a5ac6": {
          "model_module": "@jupyter-widgets/base",
          "model_name": "LayoutModel",
          "model_module_version": "1.2.0",
          "state": {
            "_model_module": "@jupyter-widgets/base",
            "_model_module_version": "1.2.0",
            "_model_name": "LayoutModel",
            "_view_count": null,
            "_view_module": "@jupyter-widgets/base",
            "_view_module_version": "1.2.0",
            "_view_name": "LayoutView",
            "align_content": null,
            "align_items": null,
            "align_self": null,
            "border": null,
            "bottom": null,
            "display": null,
            "flex": null,
            "flex_flow": null,
            "grid_area": null,
            "grid_auto_columns": null,
            "grid_auto_flow": null,
            "grid_auto_rows": null,
            "grid_column": null,
            "grid_gap": null,
            "grid_row": null,
            "grid_template_areas": null,
            "grid_template_columns": null,
            "grid_template_rows": null,
            "height": null,
            "justify_content": null,
            "justify_items": null,
            "left": null,
            "margin": null,
            "max_height": null,
            "max_width": null,
            "min_height": null,
            "min_width": null,
            "object_fit": null,
            "object_position": null,
            "order": null,
            "overflow": null,
            "overflow_x": null,
            "overflow_y": null,
            "padding": null,
            "right": null,
            "top": null,
            "visibility": null,
            "width": null
          }
        },
        "a907ab5e431c4976a28cb7da2a1c9b79": {
          "model_module": "@jupyter-widgets/base",
          "model_name": "LayoutModel",
          "model_module_version": "1.2.0",
          "state": {
            "_model_module": "@jupyter-widgets/base",
            "_model_module_version": "1.2.0",
            "_model_name": "LayoutModel",
            "_view_count": null,
            "_view_module": "@jupyter-widgets/base",
            "_view_module_version": "1.2.0",
            "_view_name": "LayoutView",
            "align_content": null,
            "align_items": null,
            "align_self": null,
            "border": null,
            "bottom": null,
            "display": null,
            "flex": null,
            "flex_flow": null,
            "grid_area": null,
            "grid_auto_columns": null,
            "grid_auto_flow": null,
            "grid_auto_rows": null,
            "grid_column": null,
            "grid_gap": null,
            "grid_row": null,
            "grid_template_areas": null,
            "grid_template_columns": null,
            "grid_template_rows": null,
            "height": null,
            "justify_content": null,
            "justify_items": null,
            "left": null,
            "margin": null,
            "max_height": null,
            "max_width": null,
            "min_height": null,
            "min_width": null,
            "object_fit": null,
            "object_position": null,
            "order": null,
            "overflow": null,
            "overflow_x": null,
            "overflow_y": null,
            "padding": null,
            "right": null,
            "top": null,
            "visibility": null,
            "width": null
          }
        },
        "9f817cb5549a4a47b56473dc6b2d5f90": {
          "model_module": "@jupyter-widgets/controls",
          "model_name": "DescriptionStyleModel",
          "model_module_version": "1.5.0",
          "state": {
            "_model_module": "@jupyter-widgets/controls",
            "_model_module_version": "1.5.0",
            "_model_name": "DescriptionStyleModel",
            "_view_count": null,
            "_view_module": "@jupyter-widgets/base",
            "_view_module_version": "1.2.0",
            "_view_name": "StyleView",
            "description_width": ""
          }
        },
        "56ba737cc71b4eac981ec7d2bfd67f98": {
          "model_module": "@jupyter-widgets/base",
          "model_name": "LayoutModel",
          "model_module_version": "1.2.0",
          "state": {
            "_model_module": "@jupyter-widgets/base",
            "_model_module_version": "1.2.0",
            "_model_name": "LayoutModel",
            "_view_count": null,
            "_view_module": "@jupyter-widgets/base",
            "_view_module_version": "1.2.0",
            "_view_name": "LayoutView",
            "align_content": null,
            "align_items": null,
            "align_self": null,
            "border": null,
            "bottom": null,
            "display": null,
            "flex": null,
            "flex_flow": null,
            "grid_area": null,
            "grid_auto_columns": null,
            "grid_auto_flow": null,
            "grid_auto_rows": null,
            "grid_column": null,
            "grid_gap": null,
            "grid_row": null,
            "grid_template_areas": null,
            "grid_template_columns": null,
            "grid_template_rows": null,
            "height": null,
            "justify_content": null,
            "justify_items": null,
            "left": null,
            "margin": null,
            "max_height": null,
            "max_width": null,
            "min_height": null,
            "min_width": null,
            "object_fit": null,
            "object_position": null,
            "order": null,
            "overflow": null,
            "overflow_x": null,
            "overflow_y": null,
            "padding": null,
            "right": null,
            "top": null,
            "visibility": null,
            "width": null
          }
        },
        "b948ef6824754b0aba866dae65a47368": {
          "model_module": "@jupyter-widgets/controls",
          "model_name": "ProgressStyleModel",
          "model_module_version": "1.5.0",
          "state": {
            "_model_module": "@jupyter-widgets/controls",
            "_model_module_version": "1.5.0",
            "_model_name": "ProgressStyleModel",
            "_view_count": null,
            "_view_module": "@jupyter-widgets/base",
            "_view_module_version": "1.2.0",
            "_view_name": "StyleView",
            "bar_color": null,
            "description_width": ""
          }
        },
        "53efa2a13f0841fb8bece03647e35e37": {
          "model_module": "@jupyter-widgets/base",
          "model_name": "LayoutModel",
          "model_module_version": "1.2.0",
          "state": {
            "_model_module": "@jupyter-widgets/base",
            "_model_module_version": "1.2.0",
            "_model_name": "LayoutModel",
            "_view_count": null,
            "_view_module": "@jupyter-widgets/base",
            "_view_module_version": "1.2.0",
            "_view_name": "LayoutView",
            "align_content": null,
            "align_items": null,
            "align_self": null,
            "border": null,
            "bottom": null,
            "display": null,
            "flex": null,
            "flex_flow": null,
            "grid_area": null,
            "grid_auto_columns": null,
            "grid_auto_flow": null,
            "grid_auto_rows": null,
            "grid_column": null,
            "grid_gap": null,
            "grid_row": null,
            "grid_template_areas": null,
            "grid_template_columns": null,
            "grid_template_rows": null,
            "height": null,
            "justify_content": null,
            "justify_items": null,
            "left": null,
            "margin": null,
            "max_height": null,
            "max_width": null,
            "min_height": null,
            "min_width": null,
            "object_fit": null,
            "object_position": null,
            "order": null,
            "overflow": null,
            "overflow_x": null,
            "overflow_y": null,
            "padding": null,
            "right": null,
            "top": null,
            "visibility": null,
            "width": null
          }
        },
        "75069f944f03482f981a0776f87b1440": {
          "model_module": "@jupyter-widgets/controls",
          "model_name": "DescriptionStyleModel",
          "model_module_version": "1.5.0",
          "state": {
            "_model_module": "@jupyter-widgets/controls",
            "_model_module_version": "1.5.0",
            "_model_name": "DescriptionStyleModel",
            "_view_count": null,
            "_view_module": "@jupyter-widgets/base",
            "_view_module_version": "1.2.0",
            "_view_name": "StyleView",
            "description_width": ""
          }
        },
        "e871ff47e8c34fba9a4e025b63010e06": {
          "model_module": "@jupyter-widgets/controls",
          "model_name": "HBoxModel",
          "model_module_version": "1.5.0",
          "state": {
            "_dom_classes": [],
            "_model_module": "@jupyter-widgets/controls",
            "_model_module_version": "1.5.0",
            "_model_name": "HBoxModel",
            "_view_count": null,
            "_view_module": "@jupyter-widgets/controls",
            "_view_module_version": "1.5.0",
            "_view_name": "HBoxView",
            "box_style": "",
            "children": [
              "IPY_MODEL_8e21b0c5d8344036b76e065fecb34191",
              "IPY_MODEL_1fcc8a563d6f4df6a7c0ea5f296c8934",
              "IPY_MODEL_1540b557e3494369bc4a474e98cc33eb"
            ],
            "layout": "IPY_MODEL_427e3ce3ada34333b7cd2d9051f7017e"
          }
        },
        "8e21b0c5d8344036b76e065fecb34191": {
          "model_module": "@jupyter-widgets/controls",
          "model_name": "HTMLModel",
          "model_module_version": "1.5.0",
          "state": {
            "_dom_classes": [],
            "_model_module": "@jupyter-widgets/controls",
            "_model_module_version": "1.5.0",
            "_model_name": "HTMLModel",
            "_view_count": null,
            "_view_module": "@jupyter-widgets/controls",
            "_view_module_version": "1.5.0",
            "_view_name": "HTMLView",
            "description": "",
            "description_tooltip": null,
            "layout": "IPY_MODEL_6cdce3cefaac411286daab064259239d",
            "placeholder": "​",
            "style": "IPY_MODEL_17220d5d333c41cc89338356f40a939f",
            "value": "config.json: 100%"
          }
        },
        "1fcc8a563d6f4df6a7c0ea5f296c8934": {
          "model_module": "@jupyter-widgets/controls",
          "model_name": "FloatProgressModel",
          "model_module_version": "1.5.0",
          "state": {
            "_dom_classes": [],
            "_model_module": "@jupyter-widgets/controls",
            "_model_module_version": "1.5.0",
            "_model_name": "FloatProgressModel",
            "_view_count": null,
            "_view_module": "@jupyter-widgets/controls",
            "_view_module_version": "1.5.0",
            "_view_name": "ProgressView",
            "bar_style": "success",
            "description": "",
            "description_tooltip": null,
            "layout": "IPY_MODEL_86fe6f76c6a54027ae98f2eaf11bf5d3",
            "max": 433,
            "min": 0,
            "orientation": "horizontal",
            "style": "IPY_MODEL_a450c52739b446a8a730b0347dbfb074",
            "value": 433
          }
        },
        "1540b557e3494369bc4a474e98cc33eb": {
          "model_module": "@jupyter-widgets/controls",
          "model_name": "HTMLModel",
          "model_module_version": "1.5.0",
          "state": {
            "_dom_classes": [],
            "_model_module": "@jupyter-widgets/controls",
            "_model_module_version": "1.5.0",
            "_model_name": "HTMLModel",
            "_view_count": null,
            "_view_module": "@jupyter-widgets/controls",
            "_view_module_version": "1.5.0",
            "_view_name": "HTMLView",
            "description": "",
            "description_tooltip": null,
            "layout": "IPY_MODEL_8ee434a45e024581b9b9ab9e345086e0",
            "placeholder": "​",
            "style": "IPY_MODEL_fdc540292d844d0a9d4388e4321eee58",
            "value": " 433/433 [00:00&lt;00:00, 30.6kB/s]"
          }
        },
        "427e3ce3ada34333b7cd2d9051f7017e": {
          "model_module": "@jupyter-widgets/base",
          "model_name": "LayoutModel",
          "model_module_version": "1.2.0",
          "state": {
            "_model_module": "@jupyter-widgets/base",
            "_model_module_version": "1.2.0",
            "_model_name": "LayoutModel",
            "_view_count": null,
            "_view_module": "@jupyter-widgets/base",
            "_view_module_version": "1.2.0",
            "_view_name": "LayoutView",
            "align_content": null,
            "align_items": null,
            "align_self": null,
            "border": null,
            "bottom": null,
            "display": null,
            "flex": null,
            "flex_flow": null,
            "grid_area": null,
            "grid_auto_columns": null,
            "grid_auto_flow": null,
            "grid_auto_rows": null,
            "grid_column": null,
            "grid_gap": null,
            "grid_row": null,
            "grid_template_areas": null,
            "grid_template_columns": null,
            "grid_template_rows": null,
            "height": null,
            "justify_content": null,
            "justify_items": null,
            "left": null,
            "margin": null,
            "max_height": null,
            "max_width": null,
            "min_height": null,
            "min_width": null,
            "object_fit": null,
            "object_position": null,
            "order": null,
            "overflow": null,
            "overflow_x": null,
            "overflow_y": null,
            "padding": null,
            "right": null,
            "top": null,
            "visibility": null,
            "width": null
          }
        },
        "6cdce3cefaac411286daab064259239d": {
          "model_module": "@jupyter-widgets/base",
          "model_name": "LayoutModel",
          "model_module_version": "1.2.0",
          "state": {
            "_model_module": "@jupyter-widgets/base",
            "_model_module_version": "1.2.0",
            "_model_name": "LayoutModel",
            "_view_count": null,
            "_view_module": "@jupyter-widgets/base",
            "_view_module_version": "1.2.0",
            "_view_name": "LayoutView",
            "align_content": null,
            "align_items": null,
            "align_self": null,
            "border": null,
            "bottom": null,
            "display": null,
            "flex": null,
            "flex_flow": null,
            "grid_area": null,
            "grid_auto_columns": null,
            "grid_auto_flow": null,
            "grid_auto_rows": null,
            "grid_column": null,
            "grid_gap": null,
            "grid_row": null,
            "grid_template_areas": null,
            "grid_template_columns": null,
            "grid_template_rows": null,
            "height": null,
            "justify_content": null,
            "justify_items": null,
            "left": null,
            "margin": null,
            "max_height": null,
            "max_width": null,
            "min_height": null,
            "min_width": null,
            "object_fit": null,
            "object_position": null,
            "order": null,
            "overflow": null,
            "overflow_x": null,
            "overflow_y": null,
            "padding": null,
            "right": null,
            "top": null,
            "visibility": null,
            "width": null
          }
        },
        "17220d5d333c41cc89338356f40a939f": {
          "model_module": "@jupyter-widgets/controls",
          "model_name": "DescriptionStyleModel",
          "model_module_version": "1.5.0",
          "state": {
            "_model_module": "@jupyter-widgets/controls",
            "_model_module_version": "1.5.0",
            "_model_name": "DescriptionStyleModel",
            "_view_count": null,
            "_view_module": "@jupyter-widgets/base",
            "_view_module_version": "1.2.0",
            "_view_name": "StyleView",
            "description_width": ""
          }
        },
        "86fe6f76c6a54027ae98f2eaf11bf5d3": {
          "model_module": "@jupyter-widgets/base",
          "model_name": "LayoutModel",
          "model_module_version": "1.2.0",
          "state": {
            "_model_module": "@jupyter-widgets/base",
            "_model_module_version": "1.2.0",
            "_model_name": "LayoutModel",
            "_view_count": null,
            "_view_module": "@jupyter-widgets/base",
            "_view_module_version": "1.2.0",
            "_view_name": "LayoutView",
            "align_content": null,
            "align_items": null,
            "align_self": null,
            "border": null,
            "bottom": null,
            "display": null,
            "flex": null,
            "flex_flow": null,
            "grid_area": null,
            "grid_auto_columns": null,
            "grid_auto_flow": null,
            "grid_auto_rows": null,
            "grid_column": null,
            "grid_gap": null,
            "grid_row": null,
            "grid_template_areas": null,
            "grid_template_columns": null,
            "grid_template_rows": null,
            "height": null,
            "justify_content": null,
            "justify_items": null,
            "left": null,
            "margin": null,
            "max_height": null,
            "max_width": null,
            "min_height": null,
            "min_width": null,
            "object_fit": null,
            "object_position": null,
            "order": null,
            "overflow": null,
            "overflow_x": null,
            "overflow_y": null,
            "padding": null,
            "right": null,
            "top": null,
            "visibility": null,
            "width": null
          }
        },
        "a450c52739b446a8a730b0347dbfb074": {
          "model_module": "@jupyter-widgets/controls",
          "model_name": "ProgressStyleModel",
          "model_module_version": "1.5.0",
          "state": {
            "_model_module": "@jupyter-widgets/controls",
            "_model_module_version": "1.5.0",
            "_model_name": "ProgressStyleModel",
            "_view_count": null,
            "_view_module": "@jupyter-widgets/base",
            "_view_module_version": "1.2.0",
            "_view_name": "StyleView",
            "bar_color": null,
            "description_width": ""
          }
        },
        "8ee434a45e024581b9b9ab9e345086e0": {
          "model_module": "@jupyter-widgets/base",
          "model_name": "LayoutModel",
          "model_module_version": "1.2.0",
          "state": {
            "_model_module": "@jupyter-widgets/base",
            "_model_module_version": "1.2.0",
            "_model_name": "LayoutModel",
            "_view_count": null,
            "_view_module": "@jupyter-widgets/base",
            "_view_module_version": "1.2.0",
            "_view_name": "LayoutView",
            "align_content": null,
            "align_items": null,
            "align_self": null,
            "border": null,
            "bottom": null,
            "display": null,
            "flex": null,
            "flex_flow": null,
            "grid_area": null,
            "grid_auto_columns": null,
            "grid_auto_flow": null,
            "grid_auto_rows": null,
            "grid_column": null,
            "grid_gap": null,
            "grid_row": null,
            "grid_template_areas": null,
            "grid_template_columns": null,
            "grid_template_rows": null,
            "height": null,
            "justify_content": null,
            "justify_items": null,
            "left": null,
            "margin": null,
            "max_height": null,
            "max_width": null,
            "min_height": null,
            "min_width": null,
            "object_fit": null,
            "object_position": null,
            "order": null,
            "overflow": null,
            "overflow_x": null,
            "overflow_y": null,
            "padding": null,
            "right": null,
            "top": null,
            "visibility": null,
            "width": null
          }
        },
        "fdc540292d844d0a9d4388e4321eee58": {
          "model_module": "@jupyter-widgets/controls",
          "model_name": "DescriptionStyleModel",
          "model_module_version": "1.5.0",
          "state": {
            "_model_module": "@jupyter-widgets/controls",
            "_model_module_version": "1.5.0",
            "_model_name": "DescriptionStyleModel",
            "_view_count": null,
            "_view_module": "@jupyter-widgets/base",
            "_view_module_version": "1.2.0",
            "_view_name": "StyleView",
            "description_width": ""
          }
        },
        "358b0f2e02564ac79d50fd915c9e64df": {
          "model_module": "@jupyter-widgets/controls",
          "model_name": "HBoxModel",
          "model_module_version": "1.5.0",
          "state": {
            "_dom_classes": [],
            "_model_module": "@jupyter-widgets/controls",
            "_model_module_version": "1.5.0",
            "_model_name": "HBoxModel",
            "_view_count": null,
            "_view_module": "@jupyter-widgets/controls",
            "_view_module_version": "1.5.0",
            "_view_name": "HBoxView",
            "box_style": "",
            "children": [
              "IPY_MODEL_84970165311e407c8af4e8d1cc35d747",
              "IPY_MODEL_6a18d06510e44850aeb11011e1542f55",
              "IPY_MODEL_26b6158b0dff45fd8c2fcb5b8e78f446"
            ],
            "layout": "IPY_MODEL_f986e5cbc96e46df9512773669585175"
          }
        },
        "84970165311e407c8af4e8d1cc35d747": {
          "model_module": "@jupyter-widgets/controls",
          "model_name": "HTMLModel",
          "model_module_version": "1.5.0",
          "state": {
            "_dom_classes": [],
            "_model_module": "@jupyter-widgets/controls",
            "_model_module_version": "1.5.0",
            "_model_name": "HTMLModel",
            "_view_count": null,
            "_view_module": "@jupyter-widgets/controls",
            "_view_module_version": "1.5.0",
            "_view_name": "HTMLView",
            "description": "",
            "description_tooltip": null,
            "layout": "IPY_MODEL_6a8c8bd8eb954efbb591d4c55747cc7f",
            "placeholder": "​",
            "style": "IPY_MODEL_21f77c45277147e492831b7a882bc1a8",
            "value": "model.safetensors: 100%"
          }
        },
        "6a18d06510e44850aeb11011e1542f55": {
          "model_module": "@jupyter-widgets/controls",
          "model_name": "FloatProgressModel",
          "model_module_version": "1.5.0",
          "state": {
            "_dom_classes": [],
            "_model_module": "@jupyter-widgets/controls",
            "_model_module_version": "1.5.0",
            "_model_name": "FloatProgressModel",
            "_view_count": null,
            "_view_module": "@jupyter-widgets/controls",
            "_view_module_version": "1.5.0",
            "_view_name": "ProgressView",
            "bar_style": "success",
            "description": "",
            "description_tooltip": null,
            "layout": "IPY_MODEL_f933463fc70d41f39c2d9f4ff94bc2bd",
            "max": 445309892,
            "min": 0,
            "orientation": "horizontal",
            "style": "IPY_MODEL_850d4c1517e84994a69e9e4d2447aa21",
            "value": 445309892
          }
        },
        "26b6158b0dff45fd8c2fcb5b8e78f446": {
          "model_module": "@jupyter-widgets/controls",
          "model_name": "HTMLModel",
          "model_module_version": "1.5.0",
          "state": {
            "_dom_classes": [],
            "_model_module": "@jupyter-widgets/controls",
            "_model_module_version": "1.5.0",
            "_model_name": "HTMLModel",
            "_view_count": null,
            "_view_module": "@jupyter-widgets/controls",
            "_view_module_version": "1.5.0",
            "_view_name": "HTMLView",
            "description": "",
            "description_tooltip": null,
            "layout": "IPY_MODEL_c98404b6cd894d849773161a6be0a2d9",
            "placeholder": "​",
            "style": "IPY_MODEL_357f9930a5944be4bf3297be3178d6bc",
            "value": " 445M/445M [00:19&lt;00:00, 22.3MB/s]"
          }
        },
        "f986e5cbc96e46df9512773669585175": {
          "model_module": "@jupyter-widgets/base",
          "model_name": "LayoutModel",
          "model_module_version": "1.2.0",
          "state": {
            "_model_module": "@jupyter-widgets/base",
            "_model_module_version": "1.2.0",
            "_model_name": "LayoutModel",
            "_view_count": null,
            "_view_module": "@jupyter-widgets/base",
            "_view_module_version": "1.2.0",
            "_view_name": "LayoutView",
            "align_content": null,
            "align_items": null,
            "align_self": null,
            "border": null,
            "bottom": null,
            "display": null,
            "flex": null,
            "flex_flow": null,
            "grid_area": null,
            "grid_auto_columns": null,
            "grid_auto_flow": null,
            "grid_auto_rows": null,
            "grid_column": null,
            "grid_gap": null,
            "grid_row": null,
            "grid_template_areas": null,
            "grid_template_columns": null,
            "grid_template_rows": null,
            "height": null,
            "justify_content": null,
            "justify_items": null,
            "left": null,
            "margin": null,
            "max_height": null,
            "max_width": null,
            "min_height": null,
            "min_width": null,
            "object_fit": null,
            "object_position": null,
            "order": null,
            "overflow": null,
            "overflow_x": null,
            "overflow_y": null,
            "padding": null,
            "right": null,
            "top": null,
            "visibility": null,
            "width": null
          }
        },
        "6a8c8bd8eb954efbb591d4c55747cc7f": {
          "model_module": "@jupyter-widgets/base",
          "model_name": "LayoutModel",
          "model_module_version": "1.2.0",
          "state": {
            "_model_module": "@jupyter-widgets/base",
            "_model_module_version": "1.2.0",
            "_model_name": "LayoutModel",
            "_view_count": null,
            "_view_module": "@jupyter-widgets/base",
            "_view_module_version": "1.2.0",
            "_view_name": "LayoutView",
            "align_content": null,
            "align_items": null,
            "align_self": null,
            "border": null,
            "bottom": null,
            "display": null,
            "flex": null,
            "flex_flow": null,
            "grid_area": null,
            "grid_auto_columns": null,
            "grid_auto_flow": null,
            "grid_auto_rows": null,
            "grid_column": null,
            "grid_gap": null,
            "grid_row": null,
            "grid_template_areas": null,
            "grid_template_columns": null,
            "grid_template_rows": null,
            "height": null,
            "justify_content": null,
            "justify_items": null,
            "left": null,
            "margin": null,
            "max_height": null,
            "max_width": null,
            "min_height": null,
            "min_width": null,
            "object_fit": null,
            "object_position": null,
            "order": null,
            "overflow": null,
            "overflow_x": null,
            "overflow_y": null,
            "padding": null,
            "right": null,
            "top": null,
            "visibility": null,
            "width": null
          }
        },
        "21f77c45277147e492831b7a882bc1a8": {
          "model_module": "@jupyter-widgets/controls",
          "model_name": "DescriptionStyleModel",
          "model_module_version": "1.5.0",
          "state": {
            "_model_module": "@jupyter-widgets/controls",
            "_model_module_version": "1.5.0",
            "_model_name": "DescriptionStyleModel",
            "_view_count": null,
            "_view_module": "@jupyter-widgets/base",
            "_view_module_version": "1.2.0",
            "_view_name": "StyleView",
            "description_width": ""
          }
        },
        "f933463fc70d41f39c2d9f4ff94bc2bd": {
          "model_module": "@jupyter-widgets/base",
          "model_name": "LayoutModel",
          "model_module_version": "1.2.0",
          "state": {
            "_model_module": "@jupyter-widgets/base",
            "_model_module_version": "1.2.0",
            "_model_name": "LayoutModel",
            "_view_count": null,
            "_view_module": "@jupyter-widgets/base",
            "_view_module_version": "1.2.0",
            "_view_name": "LayoutView",
            "align_content": null,
            "align_items": null,
            "align_self": null,
            "border": null,
            "bottom": null,
            "display": null,
            "flex": null,
            "flex_flow": null,
            "grid_area": null,
            "grid_auto_columns": null,
            "grid_auto_flow": null,
            "grid_auto_rows": null,
            "grid_column": null,
            "grid_gap": null,
            "grid_row": null,
            "grid_template_areas": null,
            "grid_template_columns": null,
            "grid_template_rows": null,
            "height": null,
            "justify_content": null,
            "justify_items": null,
            "left": null,
            "margin": null,
            "max_height": null,
            "max_width": null,
            "min_height": null,
            "min_width": null,
            "object_fit": null,
            "object_position": null,
            "order": null,
            "overflow": null,
            "overflow_x": null,
            "overflow_y": null,
            "padding": null,
            "right": null,
            "top": null,
            "visibility": null,
            "width": null
          }
        },
        "850d4c1517e84994a69e9e4d2447aa21": {
          "model_module": "@jupyter-widgets/controls",
          "model_name": "ProgressStyleModel",
          "model_module_version": "1.5.0",
          "state": {
            "_model_module": "@jupyter-widgets/controls",
            "_model_module_version": "1.5.0",
            "_model_name": "ProgressStyleModel",
            "_view_count": null,
            "_view_module": "@jupyter-widgets/base",
            "_view_module_version": "1.2.0",
            "_view_name": "StyleView",
            "bar_color": null,
            "description_width": ""
          }
        },
        "c98404b6cd894d849773161a6be0a2d9": {
          "model_module": "@jupyter-widgets/base",
          "model_name": "LayoutModel",
          "model_module_version": "1.2.0",
          "state": {
            "_model_module": "@jupyter-widgets/base",
            "_model_module_version": "1.2.0",
            "_model_name": "LayoutModel",
            "_view_count": null,
            "_view_module": "@jupyter-widgets/base",
            "_view_module_version": "1.2.0",
            "_view_name": "LayoutView",
            "align_content": null,
            "align_items": null,
            "align_self": null,
            "border": null,
            "bottom": null,
            "display": null,
            "flex": null,
            "flex_flow": null,
            "grid_area": null,
            "grid_auto_columns": null,
            "grid_auto_flow": null,
            "grid_auto_rows": null,
            "grid_column": null,
            "grid_gap": null,
            "grid_row": null,
            "grid_template_areas": null,
            "grid_template_columns": null,
            "grid_template_rows": null,
            "height": null,
            "justify_content": null,
            "justify_items": null,
            "left": null,
            "margin": null,
            "max_height": null,
            "max_width": null,
            "min_height": null,
            "min_width": null,
            "object_fit": null,
            "object_position": null,
            "order": null,
            "overflow": null,
            "overflow_x": null,
            "overflow_y": null,
            "padding": null,
            "right": null,
            "top": null,
            "visibility": null,
            "width": null
          }
        },
        "357f9930a5944be4bf3297be3178d6bc": {
          "model_module": "@jupyter-widgets/controls",
          "model_name": "DescriptionStyleModel",
          "model_module_version": "1.5.0",
          "state": {
            "_model_module": "@jupyter-widgets/controls",
            "_model_module_version": "1.5.0",
            "_model_name": "DescriptionStyleModel",
            "_view_count": null,
            "_view_module": "@jupyter-widgets/base",
            "_view_module_version": "1.2.0",
            "_view_name": "StyleView",
            "description_width": ""
          }
        }
      }
    }
  },
  "nbformat": 4,
  "nbformat_minor": 0
}