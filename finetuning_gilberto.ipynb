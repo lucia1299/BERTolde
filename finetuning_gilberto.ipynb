{
  "nbformat": 4,
  "nbformat_minor": 0,
  "metadata": {
    "colab": {
      "provenance": [],
      "gpuType": "T4",
      "include_colab_link": true
    },
    "kernelspec": {
      "name": "python3",
      "display_name": "Python 3"
    },
    "language_info": {
      "name": "python"
    },
    "widgets": {
      "application/vnd.jupyter.widget-state+json": {
        "c957e8f564a74e1a98f7620773e49db5": {
          "model_module": "@jupyter-widgets/controls",
          "model_name": "HBoxModel",
          "model_module_version": "1.5.0",
          "state": {
            "_dom_classes": [],
            "_model_module": "@jupyter-widgets/controls",
            "_model_module_version": "1.5.0",
            "_model_name": "HBoxModel",
            "_view_count": null,
            "_view_module": "@jupyter-widgets/controls",
            "_view_module_version": "1.5.0",
            "_view_name": "HBoxView",
            "box_style": "",
            "children": [
              "IPY_MODEL_388ae97cd75d486bbf141046a1fdbd11",
              "IPY_MODEL_f85ea9bab97a418c8c200d8d5ecb7484",
              "IPY_MODEL_25237464d6a24c709d139657a30dff6c"
            ],
            "layout": "IPY_MODEL_f9d2e31e05ab49169874347e0fa44abe"
          }
        },
        "388ae97cd75d486bbf141046a1fdbd11": {
          "model_module": "@jupyter-widgets/controls",
          "model_name": "HTMLModel",
          "model_module_version": "1.5.0",
          "state": {
            "_dom_classes": [],
            "_model_module": "@jupyter-widgets/controls",
            "_model_module_version": "1.5.0",
            "_model_name": "HTMLModel",
            "_view_count": null,
            "_view_module": "@jupyter-widgets/controls",
            "_view_module_version": "1.5.0",
            "_view_name": "HTMLView",
            "description": "",
            "description_tooltip": null,
            "layout": "IPY_MODEL_aacb2d93c7ca4df6a0fda50e15c179a7",
            "placeholder": "​",
            "style": "IPY_MODEL_7631bfc1269c41568c0a2a1064cb81cc",
            "value": "Map: 100%"
          }
        },
        "f85ea9bab97a418c8c200d8d5ecb7484": {
          "model_module": "@jupyter-widgets/controls",
          "model_name": "FloatProgressModel",
          "model_module_version": "1.5.0",
          "state": {
            "_dom_classes": [],
            "_model_module": "@jupyter-widgets/controls",
            "_model_module_version": "1.5.0",
            "_model_name": "FloatProgressModel",
            "_view_count": null,
            "_view_module": "@jupyter-widgets/controls",
            "_view_module_version": "1.5.0",
            "_view_name": "ProgressView",
            "bar_style": "success",
            "description": "",
            "description_tooltip": null,
            "layout": "IPY_MODEL_ca1bcf95215a4d789817fe9f498f9b2b",
            "max": 11227,
            "min": 0,
            "orientation": "horizontal",
            "style": "IPY_MODEL_ef740645939145d6b91697405d9f5b1f",
            "value": 11227
          }
        },
        "25237464d6a24c709d139657a30dff6c": {
          "model_module": "@jupyter-widgets/controls",
          "model_name": "HTMLModel",
          "model_module_version": "1.5.0",
          "state": {
            "_dom_classes": [],
            "_model_module": "@jupyter-widgets/controls",
            "_model_module_version": "1.5.0",
            "_model_name": "HTMLModel",
            "_view_count": null,
            "_view_module": "@jupyter-widgets/controls",
            "_view_module_version": "1.5.0",
            "_view_name": "HTMLView",
            "description": "",
            "description_tooltip": null,
            "layout": "IPY_MODEL_b21bf4d694214c4b8c541e772b775417",
            "placeholder": "​",
            "style": "IPY_MODEL_a354511814894592ae4ec65a604ad380",
            "value": " 11227/11227 [00:03&lt;00:00, 4938.22 examples/s]"
          }
        },
        "f9d2e31e05ab49169874347e0fa44abe": {
          "model_module": "@jupyter-widgets/base",
          "model_name": "LayoutModel",
          "model_module_version": "1.2.0",
          "state": {
            "_model_module": "@jupyter-widgets/base",
            "_model_module_version": "1.2.0",
            "_model_name": "LayoutModel",
            "_view_count": null,
            "_view_module": "@jupyter-widgets/base",
            "_view_module_version": "1.2.0",
            "_view_name": "LayoutView",
            "align_content": null,
            "align_items": null,
            "align_self": null,
            "border": null,
            "bottom": null,
            "display": null,
            "flex": null,
            "flex_flow": null,
            "grid_area": null,
            "grid_auto_columns": null,
            "grid_auto_flow": null,
            "grid_auto_rows": null,
            "grid_column": null,
            "grid_gap": null,
            "grid_row": null,
            "grid_template_areas": null,
            "grid_template_columns": null,
            "grid_template_rows": null,
            "height": null,
            "justify_content": null,
            "justify_items": null,
            "left": null,
            "margin": null,
            "max_height": null,
            "max_width": null,
            "min_height": null,
            "min_width": null,
            "object_fit": null,
            "object_position": null,
            "order": null,
            "overflow": null,
            "overflow_x": null,
            "overflow_y": null,
            "padding": null,
            "right": null,
            "top": null,
            "visibility": null,
            "width": null
          }
        },
        "aacb2d93c7ca4df6a0fda50e15c179a7": {
          "model_module": "@jupyter-widgets/base",
          "model_name": "LayoutModel",
          "model_module_version": "1.2.0",
          "state": {
            "_model_module": "@jupyter-widgets/base",
            "_model_module_version": "1.2.0",
            "_model_name": "LayoutModel",
            "_view_count": null,
            "_view_module": "@jupyter-widgets/base",
            "_view_module_version": "1.2.0",
            "_view_name": "LayoutView",
            "align_content": null,
            "align_items": null,
            "align_self": null,
            "border": null,
            "bottom": null,
            "display": null,
            "flex": null,
            "flex_flow": null,
            "grid_area": null,
            "grid_auto_columns": null,
            "grid_auto_flow": null,
            "grid_auto_rows": null,
            "grid_column": null,
            "grid_gap": null,
            "grid_row": null,
            "grid_template_areas": null,
            "grid_template_columns": null,
            "grid_template_rows": null,
            "height": null,
            "justify_content": null,
            "justify_items": null,
            "left": null,
            "margin": null,
            "max_height": null,
            "max_width": null,
            "min_height": null,
            "min_width": null,
            "object_fit": null,
            "object_position": null,
            "order": null,
            "overflow": null,
            "overflow_x": null,
            "overflow_y": null,
            "padding": null,
            "right": null,
            "top": null,
            "visibility": null,
            "width": null
          }
        },
        "7631bfc1269c41568c0a2a1064cb81cc": {
          "model_module": "@jupyter-widgets/controls",
          "model_name": "DescriptionStyleModel",
          "model_module_version": "1.5.0",
          "state": {
            "_model_module": "@jupyter-widgets/controls",
            "_model_module_version": "1.5.0",
            "_model_name": "DescriptionStyleModel",
            "_view_count": null,
            "_view_module": "@jupyter-widgets/base",
            "_view_module_version": "1.2.0",
            "_view_name": "StyleView",
            "description_width": ""
          }
        },
        "ca1bcf95215a4d789817fe9f498f9b2b": {
          "model_module": "@jupyter-widgets/base",
          "model_name": "LayoutModel",
          "model_module_version": "1.2.0",
          "state": {
            "_model_module": "@jupyter-widgets/base",
            "_model_module_version": "1.2.0",
            "_model_name": "LayoutModel",
            "_view_count": null,
            "_view_module": "@jupyter-widgets/base",
            "_view_module_version": "1.2.0",
            "_view_name": "LayoutView",
            "align_content": null,
            "align_items": null,
            "align_self": null,
            "border": null,
            "bottom": null,
            "display": null,
            "flex": null,
            "flex_flow": null,
            "grid_area": null,
            "grid_auto_columns": null,
            "grid_auto_flow": null,
            "grid_auto_rows": null,
            "grid_column": null,
            "grid_gap": null,
            "grid_row": null,
            "grid_template_areas": null,
            "grid_template_columns": null,
            "grid_template_rows": null,
            "height": null,
            "justify_content": null,
            "justify_items": null,
            "left": null,
            "margin": null,
            "max_height": null,
            "max_width": null,
            "min_height": null,
            "min_width": null,
            "object_fit": null,
            "object_position": null,
            "order": null,
            "overflow": null,
            "overflow_x": null,
            "overflow_y": null,
            "padding": null,
            "right": null,
            "top": null,
            "visibility": null,
            "width": null
          }
        },
        "ef740645939145d6b91697405d9f5b1f": {
          "model_module": "@jupyter-widgets/controls",
          "model_name": "ProgressStyleModel",
          "model_module_version": "1.5.0",
          "state": {
            "_model_module": "@jupyter-widgets/controls",
            "_model_module_version": "1.5.0",
            "_model_name": "ProgressStyleModel",
            "_view_count": null,
            "_view_module": "@jupyter-widgets/base",
            "_view_module_version": "1.2.0",
            "_view_name": "StyleView",
            "bar_color": null,
            "description_width": ""
          }
        },
        "b21bf4d694214c4b8c541e772b775417": {
          "model_module": "@jupyter-widgets/base",
          "model_name": "LayoutModel",
          "model_module_version": "1.2.0",
          "state": {
            "_model_module": "@jupyter-widgets/base",
            "_model_module_version": "1.2.0",
            "_model_name": "LayoutModel",
            "_view_count": null,
            "_view_module": "@jupyter-widgets/base",
            "_view_module_version": "1.2.0",
            "_view_name": "LayoutView",
            "align_content": null,
            "align_items": null,
            "align_self": null,
            "border": null,
            "bottom": null,
            "display": null,
            "flex": null,
            "flex_flow": null,
            "grid_area": null,
            "grid_auto_columns": null,
            "grid_auto_flow": null,
            "grid_auto_rows": null,
            "grid_column": null,
            "grid_gap": null,
            "grid_row": null,
            "grid_template_areas": null,
            "grid_template_columns": null,
            "grid_template_rows": null,
            "height": null,
            "justify_content": null,
            "justify_items": null,
            "left": null,
            "margin": null,
            "max_height": null,
            "max_width": null,
            "min_height": null,
            "min_width": null,
            "object_fit": null,
            "object_position": null,
            "order": null,
            "overflow": null,
            "overflow_x": null,
            "overflow_y": null,
            "padding": null,
            "right": null,
            "top": null,
            "visibility": null,
            "width": null
          }
        },
        "a354511814894592ae4ec65a604ad380": {
          "model_module": "@jupyter-widgets/controls",
          "model_name": "DescriptionStyleModel",
          "model_module_version": "1.5.0",
          "state": {
            "_model_module": "@jupyter-widgets/controls",
            "_model_module_version": "1.5.0",
            "_model_name": "DescriptionStyleModel",
            "_view_count": null,
            "_view_module": "@jupyter-widgets/base",
            "_view_module_version": "1.2.0",
            "_view_name": "StyleView",
            "description_width": ""
          }
        },
        "7aaa797c01d34500a94500a4f252dc44": {
          "model_module": "@jupyter-widgets/controls",
          "model_name": "HBoxModel",
          "model_module_version": "1.5.0",
          "state": {
            "_dom_classes": [],
            "_model_module": "@jupyter-widgets/controls",
            "_model_module_version": "1.5.0",
            "_model_name": "HBoxModel",
            "_view_count": null,
            "_view_module": "@jupyter-widgets/controls",
            "_view_module_version": "1.5.0",
            "_view_name": "HBoxView",
            "box_style": "",
            "children": [
              "IPY_MODEL_6917c2949659453994293872cc942a5a",
              "IPY_MODEL_2a896f22520449d3a76a2dbf1119f2ce",
              "IPY_MODEL_ec21d927c01a4d53b456eba7459208b8"
            ],
            "layout": "IPY_MODEL_24c0918942dd49f491a9a9920e12c350"
          }
        },
        "6917c2949659453994293872cc942a5a": {
          "model_module": "@jupyter-widgets/controls",
          "model_name": "HTMLModel",
          "model_module_version": "1.5.0",
          "state": {
            "_dom_classes": [],
            "_model_module": "@jupyter-widgets/controls",
            "_model_module_version": "1.5.0",
            "_model_name": "HTMLModel",
            "_view_count": null,
            "_view_module": "@jupyter-widgets/controls",
            "_view_module_version": "1.5.0",
            "_view_name": "HTMLView",
            "description": "",
            "description_tooltip": null,
            "layout": "IPY_MODEL_2a8d76a83f0243f794eee403d70bdcdd",
            "placeholder": "​",
            "style": "IPY_MODEL_cf6dff58b99f497ea496ed64b8cf88f5",
            "value": "Map: 100%"
          }
        },
        "2a896f22520449d3a76a2dbf1119f2ce": {
          "model_module": "@jupyter-widgets/controls",
          "model_name": "FloatProgressModel",
          "model_module_version": "1.5.0",
          "state": {
            "_dom_classes": [],
            "_model_module": "@jupyter-widgets/controls",
            "_model_module_version": "1.5.0",
            "_model_name": "FloatProgressModel",
            "_view_count": null,
            "_view_module": "@jupyter-widgets/controls",
            "_view_module_version": "1.5.0",
            "_view_name": "ProgressView",
            "bar_style": "success",
            "description": "",
            "description_tooltip": null,
            "layout": "IPY_MODEL_e52cf7d52075413fbfb0786f586af3c6",
            "max": 4136,
            "min": 0,
            "orientation": "horizontal",
            "style": "IPY_MODEL_e34a030630074e938e0b139ebbc5ba79",
            "value": 4136
          }
        },
        "ec21d927c01a4d53b456eba7459208b8": {
          "model_module": "@jupyter-widgets/controls",
          "model_name": "HTMLModel",
          "model_module_version": "1.5.0",
          "state": {
            "_dom_classes": [],
            "_model_module": "@jupyter-widgets/controls",
            "_model_module_version": "1.5.0",
            "_model_name": "HTMLModel",
            "_view_count": null,
            "_view_module": "@jupyter-widgets/controls",
            "_view_module_version": "1.5.0",
            "_view_name": "HTMLView",
            "description": "",
            "description_tooltip": null,
            "layout": "IPY_MODEL_40d938fd39f84a6ca8b55064bce8b5b6",
            "placeholder": "​",
            "style": "IPY_MODEL_9470e155b2974b019dfceee6e6c42954",
            "value": " 4136/4136 [00:00&lt;00:00, 5770.92 examples/s]"
          }
        },
        "24c0918942dd49f491a9a9920e12c350": {
          "model_module": "@jupyter-widgets/base",
          "model_name": "LayoutModel",
          "model_module_version": "1.2.0",
          "state": {
            "_model_module": "@jupyter-widgets/base",
            "_model_module_version": "1.2.0",
            "_model_name": "LayoutModel",
            "_view_count": null,
            "_view_module": "@jupyter-widgets/base",
            "_view_module_version": "1.2.0",
            "_view_name": "LayoutView",
            "align_content": null,
            "align_items": null,
            "align_self": null,
            "border": null,
            "bottom": null,
            "display": null,
            "flex": null,
            "flex_flow": null,
            "grid_area": null,
            "grid_auto_columns": null,
            "grid_auto_flow": null,
            "grid_auto_rows": null,
            "grid_column": null,
            "grid_gap": null,
            "grid_row": null,
            "grid_template_areas": null,
            "grid_template_columns": null,
            "grid_template_rows": null,
            "height": null,
            "justify_content": null,
            "justify_items": null,
            "left": null,
            "margin": null,
            "max_height": null,
            "max_width": null,
            "min_height": null,
            "min_width": null,
            "object_fit": null,
            "object_position": null,
            "order": null,
            "overflow": null,
            "overflow_x": null,
            "overflow_y": null,
            "padding": null,
            "right": null,
            "top": null,
            "visibility": null,
            "width": null
          }
        },
        "2a8d76a83f0243f794eee403d70bdcdd": {
          "model_module": "@jupyter-widgets/base",
          "model_name": "LayoutModel",
          "model_module_version": "1.2.0",
          "state": {
            "_model_module": "@jupyter-widgets/base",
            "_model_module_version": "1.2.0",
            "_model_name": "LayoutModel",
            "_view_count": null,
            "_view_module": "@jupyter-widgets/base",
            "_view_module_version": "1.2.0",
            "_view_name": "LayoutView",
            "align_content": null,
            "align_items": null,
            "align_self": null,
            "border": null,
            "bottom": null,
            "display": null,
            "flex": null,
            "flex_flow": null,
            "grid_area": null,
            "grid_auto_columns": null,
            "grid_auto_flow": null,
            "grid_auto_rows": null,
            "grid_column": null,
            "grid_gap": null,
            "grid_row": null,
            "grid_template_areas": null,
            "grid_template_columns": null,
            "grid_template_rows": null,
            "height": null,
            "justify_content": null,
            "justify_items": null,
            "left": null,
            "margin": null,
            "max_height": null,
            "max_width": null,
            "min_height": null,
            "min_width": null,
            "object_fit": null,
            "object_position": null,
            "order": null,
            "overflow": null,
            "overflow_x": null,
            "overflow_y": null,
            "padding": null,
            "right": null,
            "top": null,
            "visibility": null,
            "width": null
          }
        },
        "cf6dff58b99f497ea496ed64b8cf88f5": {
          "model_module": "@jupyter-widgets/controls",
          "model_name": "DescriptionStyleModel",
          "model_module_version": "1.5.0",
          "state": {
            "_model_module": "@jupyter-widgets/controls",
            "_model_module_version": "1.5.0",
            "_model_name": "DescriptionStyleModel",
            "_view_count": null,
            "_view_module": "@jupyter-widgets/base",
            "_view_module_version": "1.2.0",
            "_view_name": "StyleView",
            "description_width": ""
          }
        },
        "e52cf7d52075413fbfb0786f586af3c6": {
          "model_module": "@jupyter-widgets/base",
          "model_name": "LayoutModel",
          "model_module_version": "1.2.0",
          "state": {
            "_model_module": "@jupyter-widgets/base",
            "_model_module_version": "1.2.0",
            "_model_name": "LayoutModel",
            "_view_count": null,
            "_view_module": "@jupyter-widgets/base",
            "_view_module_version": "1.2.0",
            "_view_name": "LayoutView",
            "align_content": null,
            "align_items": null,
            "align_self": null,
            "border": null,
            "bottom": null,
            "display": null,
            "flex": null,
            "flex_flow": null,
            "grid_area": null,
            "grid_auto_columns": null,
            "grid_auto_flow": null,
            "grid_auto_rows": null,
            "grid_column": null,
            "grid_gap": null,
            "grid_row": null,
            "grid_template_areas": null,
            "grid_template_columns": null,
            "grid_template_rows": null,
            "height": null,
            "justify_content": null,
            "justify_items": null,
            "left": null,
            "margin": null,
            "max_height": null,
            "max_width": null,
            "min_height": null,
            "min_width": null,
            "object_fit": null,
            "object_position": null,
            "order": null,
            "overflow": null,
            "overflow_x": null,
            "overflow_y": null,
            "padding": null,
            "right": null,
            "top": null,
            "visibility": null,
            "width": null
          }
        },
        "e34a030630074e938e0b139ebbc5ba79": {
          "model_module": "@jupyter-widgets/controls",
          "model_name": "ProgressStyleModel",
          "model_module_version": "1.5.0",
          "state": {
            "_model_module": "@jupyter-widgets/controls",
            "_model_module_version": "1.5.0",
            "_model_name": "ProgressStyleModel",
            "_view_count": null,
            "_view_module": "@jupyter-widgets/base",
            "_view_module_version": "1.2.0",
            "_view_name": "StyleView",
            "bar_color": null,
            "description_width": ""
          }
        },
        "40d938fd39f84a6ca8b55064bce8b5b6": {
          "model_module": "@jupyter-widgets/base",
          "model_name": "LayoutModel",
          "model_module_version": "1.2.0",
          "state": {
            "_model_module": "@jupyter-widgets/base",
            "_model_module_version": "1.2.0",
            "_model_name": "LayoutModel",
            "_view_count": null,
            "_view_module": "@jupyter-widgets/base",
            "_view_module_version": "1.2.0",
            "_view_name": "LayoutView",
            "align_content": null,
            "align_items": null,
            "align_self": null,
            "border": null,
            "bottom": null,
            "display": null,
            "flex": null,
            "flex_flow": null,
            "grid_area": null,
            "grid_auto_columns": null,
            "grid_auto_flow": null,
            "grid_auto_rows": null,
            "grid_column": null,
            "grid_gap": null,
            "grid_row": null,
            "grid_template_areas": null,
            "grid_template_columns": null,
            "grid_template_rows": null,
            "height": null,
            "justify_content": null,
            "justify_items": null,
            "left": null,
            "margin": null,
            "max_height": null,
            "max_width": null,
            "min_height": null,
            "min_width": null,
            "object_fit": null,
            "object_position": null,
            "order": null,
            "overflow": null,
            "overflow_x": null,
            "overflow_y": null,
            "padding": null,
            "right": null,
            "top": null,
            "visibility": null,
            "width": null
          }
        },
        "9470e155b2974b019dfceee6e6c42954": {
          "model_module": "@jupyter-widgets/controls",
          "model_name": "DescriptionStyleModel",
          "model_module_version": "1.5.0",
          "state": {
            "_model_module": "@jupyter-widgets/controls",
            "_model_module_version": "1.5.0",
            "_model_name": "DescriptionStyleModel",
            "_view_count": null,
            "_view_module": "@jupyter-widgets/base",
            "_view_module_version": "1.2.0",
            "_view_name": "StyleView",
            "description_width": ""
          }
        },
        "33b886e74be74b25bb6df9a9a46bf1d6": {
          "model_module": "@jupyter-widgets/controls",
          "model_name": "HBoxModel",
          "model_module_version": "1.5.0",
          "state": {
            "_dom_classes": [],
            "_model_module": "@jupyter-widgets/controls",
            "_model_module_version": "1.5.0",
            "_model_name": "HBoxModel",
            "_view_count": null,
            "_view_module": "@jupyter-widgets/controls",
            "_view_module_version": "1.5.0",
            "_view_name": "HBoxView",
            "box_style": "",
            "children": [
              "IPY_MODEL_e4b9b090de7a4ecabde5822542c69459",
              "IPY_MODEL_469c878537b34128a13e81107c98ab4b",
              "IPY_MODEL_2bc4fa2f1b47466fb3fa2d3a6083de34"
            ],
            "layout": "IPY_MODEL_0ed6dd4a03e84550b7f08ea097d31661"
          }
        },
        "e4b9b090de7a4ecabde5822542c69459": {
          "model_module": "@jupyter-widgets/controls",
          "model_name": "HTMLModel",
          "model_module_version": "1.5.0",
          "state": {
            "_dom_classes": [],
            "_model_module": "@jupyter-widgets/controls",
            "_model_module_version": "1.5.0",
            "_model_name": "HTMLModel",
            "_view_count": null,
            "_view_module": "@jupyter-widgets/controls",
            "_view_module_version": "1.5.0",
            "_view_name": "HTMLView",
            "description": "",
            "description_tooltip": null,
            "layout": "IPY_MODEL_f61beea939534698820b3589e953da25",
            "placeholder": "​",
            "style": "IPY_MODEL_2764760293974d49b9c9194349fea389",
            "value": "Downloading builder script: "
          }
        },
        "469c878537b34128a13e81107c98ab4b": {
          "model_module": "@jupyter-widgets/controls",
          "model_name": "FloatProgressModel",
          "model_module_version": "1.5.0",
          "state": {
            "_dom_classes": [],
            "_model_module": "@jupyter-widgets/controls",
            "_model_module_version": "1.5.0",
            "_model_name": "FloatProgressModel",
            "_view_count": null,
            "_view_module": "@jupyter-widgets/controls",
            "_view_module_version": "1.5.0",
            "_view_name": "ProgressView",
            "bar_style": "success",
            "description": "",
            "description_tooltip": null,
            "layout": "IPY_MODEL_d2596deae8424290aa54364e512c490c",
            "max": 2472,
            "min": 0,
            "orientation": "horizontal",
            "style": "IPY_MODEL_4203c1c9b39249cc8907885290917d73",
            "value": 2472
          }
        },
        "2bc4fa2f1b47466fb3fa2d3a6083de34": {
          "model_module": "@jupyter-widgets/controls",
          "model_name": "HTMLModel",
          "model_module_version": "1.5.0",
          "state": {
            "_dom_classes": [],
            "_model_module": "@jupyter-widgets/controls",
            "_model_module_version": "1.5.0",
            "_model_name": "HTMLModel",
            "_view_count": null,
            "_view_module": "@jupyter-widgets/controls",
            "_view_module_version": "1.5.0",
            "_view_name": "HTMLView",
            "description": "",
            "description_tooltip": null,
            "layout": "IPY_MODEL_ad6c2a2981d047baaf000372f040e7b1",
            "placeholder": "​",
            "style": "IPY_MODEL_2da55bb491a44a1a9b09f8ac93776dc4",
            "value": " 6.33k/? [00:00&lt;00:00, 394kB/s]"
          }
        },
        "0ed6dd4a03e84550b7f08ea097d31661": {
          "model_module": "@jupyter-widgets/base",
          "model_name": "LayoutModel",
          "model_module_version": "1.2.0",
          "state": {
            "_model_module": "@jupyter-widgets/base",
            "_model_module_version": "1.2.0",
            "_model_name": "LayoutModel",
            "_view_count": null,
            "_view_module": "@jupyter-widgets/base",
            "_view_module_version": "1.2.0",
            "_view_name": "LayoutView",
            "align_content": null,
            "align_items": null,
            "align_self": null,
            "border": null,
            "bottom": null,
            "display": null,
            "flex": null,
            "flex_flow": null,
            "grid_area": null,
            "grid_auto_columns": null,
            "grid_auto_flow": null,
            "grid_auto_rows": null,
            "grid_column": null,
            "grid_gap": null,
            "grid_row": null,
            "grid_template_areas": null,
            "grid_template_columns": null,
            "grid_template_rows": null,
            "height": null,
            "justify_content": null,
            "justify_items": null,
            "left": null,
            "margin": null,
            "max_height": null,
            "max_width": null,
            "min_height": null,
            "min_width": null,
            "object_fit": null,
            "object_position": null,
            "order": null,
            "overflow": null,
            "overflow_x": null,
            "overflow_y": null,
            "padding": null,
            "right": null,
            "top": null,
            "visibility": null,
            "width": null
          }
        },
        "f61beea939534698820b3589e953da25": {
          "model_module": "@jupyter-widgets/base",
          "model_name": "LayoutModel",
          "model_module_version": "1.2.0",
          "state": {
            "_model_module": "@jupyter-widgets/base",
            "_model_module_version": "1.2.0",
            "_model_name": "LayoutModel",
            "_view_count": null,
            "_view_module": "@jupyter-widgets/base",
            "_view_module_version": "1.2.0",
            "_view_name": "LayoutView",
            "align_content": null,
            "align_items": null,
            "align_self": null,
            "border": null,
            "bottom": null,
            "display": null,
            "flex": null,
            "flex_flow": null,
            "grid_area": null,
            "grid_auto_columns": null,
            "grid_auto_flow": null,
            "grid_auto_rows": null,
            "grid_column": null,
            "grid_gap": null,
            "grid_row": null,
            "grid_template_areas": null,
            "grid_template_columns": null,
            "grid_template_rows": null,
            "height": null,
            "justify_content": null,
            "justify_items": null,
            "left": null,
            "margin": null,
            "max_height": null,
            "max_width": null,
            "min_height": null,
            "min_width": null,
            "object_fit": null,
            "object_position": null,
            "order": null,
            "overflow": null,
            "overflow_x": null,
            "overflow_y": null,
            "padding": null,
            "right": null,
            "top": null,
            "visibility": null,
            "width": null
          }
        },
        "2764760293974d49b9c9194349fea389": {
          "model_module": "@jupyter-widgets/controls",
          "model_name": "DescriptionStyleModel",
          "model_module_version": "1.5.0",
          "state": {
            "_model_module": "@jupyter-widgets/controls",
            "_model_module_version": "1.5.0",
            "_model_name": "DescriptionStyleModel",
            "_view_count": null,
            "_view_module": "@jupyter-widgets/base",
            "_view_module_version": "1.2.0",
            "_view_name": "StyleView",
            "description_width": ""
          }
        },
        "d2596deae8424290aa54364e512c490c": {
          "model_module": "@jupyter-widgets/base",
          "model_name": "LayoutModel",
          "model_module_version": "1.2.0",
          "state": {
            "_model_module": "@jupyter-widgets/base",
            "_model_module_version": "1.2.0",
            "_model_name": "LayoutModel",
            "_view_count": null,
            "_view_module": "@jupyter-widgets/base",
            "_view_module_version": "1.2.0",
            "_view_name": "LayoutView",
            "align_content": null,
            "align_items": null,
            "align_self": null,
            "border": null,
            "bottom": null,
            "display": null,
            "flex": null,
            "flex_flow": null,
            "grid_area": null,
            "grid_auto_columns": null,
            "grid_auto_flow": null,
            "grid_auto_rows": null,
            "grid_column": null,
            "grid_gap": null,
            "grid_row": null,
            "grid_template_areas": null,
            "grid_template_columns": null,
            "grid_template_rows": null,
            "height": null,
            "justify_content": null,
            "justify_items": null,
            "left": null,
            "margin": null,
            "max_height": null,
            "max_width": null,
            "min_height": null,
            "min_width": null,
            "object_fit": null,
            "object_position": null,
            "order": null,
            "overflow": null,
            "overflow_x": null,
            "overflow_y": null,
            "padding": null,
            "right": null,
            "top": null,
            "visibility": null,
            "width": null
          }
        },
        "4203c1c9b39249cc8907885290917d73": {
          "model_module": "@jupyter-widgets/controls",
          "model_name": "ProgressStyleModel",
          "model_module_version": "1.5.0",
          "state": {
            "_model_module": "@jupyter-widgets/controls",
            "_model_module_version": "1.5.0",
            "_model_name": "ProgressStyleModel",
            "_view_count": null,
            "_view_module": "@jupyter-widgets/base",
            "_view_module_version": "1.2.0",
            "_view_name": "StyleView",
            "bar_color": null,
            "description_width": ""
          }
        },
        "ad6c2a2981d047baaf000372f040e7b1": {
          "model_module": "@jupyter-widgets/base",
          "model_name": "LayoutModel",
          "model_module_version": "1.2.0",
          "state": {
            "_model_module": "@jupyter-widgets/base",
            "_model_module_version": "1.2.0",
            "_model_name": "LayoutModel",
            "_view_count": null,
            "_view_module": "@jupyter-widgets/base",
            "_view_module_version": "1.2.0",
            "_view_name": "LayoutView",
            "align_content": null,
            "align_items": null,
            "align_self": null,
            "border": null,
            "bottom": null,
            "display": null,
            "flex": null,
            "flex_flow": null,
            "grid_area": null,
            "grid_auto_columns": null,
            "grid_auto_flow": null,
            "grid_auto_rows": null,
            "grid_column": null,
            "grid_gap": null,
            "grid_row": null,
            "grid_template_areas": null,
            "grid_template_columns": null,
            "grid_template_rows": null,
            "height": null,
            "justify_content": null,
            "justify_items": null,
            "left": null,
            "margin": null,
            "max_height": null,
            "max_width": null,
            "min_height": null,
            "min_width": null,
            "object_fit": null,
            "object_position": null,
            "order": null,
            "overflow": null,
            "overflow_x": null,
            "overflow_y": null,
            "padding": null,
            "right": null,
            "top": null,
            "visibility": null,
            "width": null
          }
        },
        "2da55bb491a44a1a9b09f8ac93776dc4": {
          "model_module": "@jupyter-widgets/controls",
          "model_name": "DescriptionStyleModel",
          "model_module_version": "1.5.0",
          "state": {
            "_model_module": "@jupyter-widgets/controls",
            "_model_module_version": "1.5.0",
            "_model_name": "DescriptionStyleModel",
            "_view_count": null,
            "_view_module": "@jupyter-widgets/base",
            "_view_module_version": "1.2.0",
            "_view_name": "StyleView",
            "description_width": ""
          }
        }
      }
    },
    "accelerator": "GPU"
  },
  "cells": [
    {
      "cell_type": "markdown",
      "metadata": {
        "id": "view-in-github",
        "colab_type": "text"
      },
      "source": [
        "<a href=\"https://colab.research.google.com/github/lucia1299/BERTolde/blob/main/finetuning_gilberto.ipynb\" target=\"_parent\"><img src=\"https://colab.research.google.com/assets/colab-badge.svg\" alt=\"Open In Colab\"/></a>"
      ]
    },
    {
      "cell_type": "code",
      "execution_count": null,
      "metadata": {
        "id": "wkVbkFwj66F7"
      },
      "outputs": [],
      "source": [
        "!pip install transformers datasets tokenizers seqeval -q"
      ]
    },
    {
      "cell_type": "code",
      "source": [
        "import datasets\n",
        "import numpy as np\n",
        "from transformers import AutoTokenizer, DataCollatorForTokenClassification, AutoModelForTokenClassification\n",
        "import seaborn as sns\n",
        "import matplotlib.pyplot as plt\n",
        "from sklearn.metrics import confusion_matrix"
      ],
      "metadata": {
        "id": "fz26Mt5M7Kdt"
      },
      "execution_count": null,
      "outputs": []
    },
    {
      "cell_type": "code",
      "source": [
        "from datasets import Dataset, ClassLabel, Features, Sequence, Value, DatasetDict\n",
        "\n",
        "def creationdictionary(data, posdict, nerdict, pos_tags_list, ner_tags_list):\n",
        "    container_list = []\n",
        "\n",
        "    while data:\n",
        "        container_dict = {}\n",
        "        pos_list = []\n",
        "        ner_list = []\n",
        "        words_list = []\n",
        "\n",
        "        index_of_empty_list = data.index([]) if [] in data else len(data)\n",
        "        tokenized_data1 = data[0: index_of_empty_list]\n",
        "        for n in tokenized_data1:\n",
        "            if 'id' not in container_dict:\n",
        "                container_dict['id'] = 0\n",
        "            else:\n",
        "                container_dict['id'] += 1\n",
        "            if n[1] in posdict:\n",
        "                pos_list.append(posdict[n[1]])\n",
        "            if n[3] in nerdict:\n",
        "                ner_list.append(nerdict[n[3]])\n",
        "            words_list.append(n[0])\n",
        "\n",
        "        container_dict['pos'] = pos_list\n",
        "        container_dict['ner_tags'] = ner_list\n",
        "        container_dict['tokens'] = words_list\n",
        "        container_dict['issueid'] = tokenized_data1[0][2]\n",
        "        container_dict['id'] = str(container_dict['id'])\n",
        "\n",
        "        container_list.append(container_dict)\n",
        "\n",
        "        data = data[index_of_empty_list + 1:]\n",
        "\n",
        "    container_dict = {key: [d[key] for d in container_list] for key in container_list[0]}\n",
        "\n",
        "    ds = Dataset.from_dict(container_dict, features=Features({\n",
        "        'pos': Sequence(ClassLabel(names=pos_tags_list)),\n",
        "        'ner_tags': Sequence(ClassLabel(names=ner_tags_list)),\n",
        "        'tokens': Sequence(Value(dtype='string')),\n",
        "        'issueid': Value(dtype='string'),\n",
        "        'id': Value(dtype='string')\n",
        "        }))\n",
        "\n",
        "    return ds\n",
        "\n",
        "def posconversion(data):\n",
        "    posdict = {}\n",
        "    set1 = set()\n",
        "    for i in data:\n",
        "        if len(i) >= 1:\n",
        "            pos_tag = i[1]\n",
        "            set1.add(pos_tag)\n",
        "    pos_tags_list = list(set1)\n",
        "    v = 0\n",
        "    for i in set1:\n",
        "        posdict[i] = v\n",
        "        v +=1\n",
        "    return posdict, pos_tags_list\n",
        "\n",
        "def nerconversion(data):\n",
        "    nerdict = {}\n",
        "    set1 = set()\n",
        "    for i in data:\n",
        "        if len(i) >= 4:\n",
        "            ner_tag = i[3]\n",
        "            set1.add(ner_tag)\n",
        "    ner_tags_list = list(set1)\n",
        "    v = 0\n",
        "    for i in set1:\n",
        "        nerdict[i] = v\n",
        "        v +=1\n",
        "    return nerdict, ner_tags_list\n",
        "\n",
        "file_path_training = '/content/I-CAB-evalita09-NER-training.iob2'\n",
        "file_path_test = '/content/I-CAB-evalita09-NER-test.iob2'\n",
        "\n",
        "def read_iob_data(file_path):\n",
        "     with open(file_path, 'r', encoding='ISO-8859-1') as file:\n",
        "         iob_data = file.readlines()\n",
        "\n",
        "     data = [line.strip().split() for line in iob_data]\n",
        "     return data\n",
        "\n",
        "data_training = read_iob_data(file_path_training)\n",
        "posdict, pos_tags_list = posconversion(data_training)\n",
        "nerdict, ner_tags_list = nerconversion(data_training)\n",
        "result_training = creationdictionary(data_training, posdict, nerdict, pos_tags_list, ner_tags_list)\n",
        "\n",
        "data_test = read_iob_data(file_path_test)\n",
        "posdict, pos_tags_list = posconversion(data_test)\n",
        "nerdict, ner_tags_list = nerconversion(data_test)\n",
        "result_test = creationdictionary(data_test, posdict, nerdict, pos_tags_list, ner_tags_list)\n",
        "\n",
        "main_dataset = DatasetDict({\"train\": result_training, \"test\": result_test})\n",
        "print(main_dataset)"
      ],
      "metadata": {
        "colab": {
          "base_uri": "https://localhost:8080/"
        },
        "id": "YkAtprgH7dJ6",
        "outputId": "45cbbe09-d3fb-4229-fc67-bb1fad1cde60"
      },
      "execution_count": null,
      "outputs": [
        {
          "output_type": "stream",
          "name": "stdout",
          "text": [
            "DatasetDict({\n",
            "    train: Dataset({\n",
            "        features: ['id', 'pos', 'ner_tags', 'tokens', 'issueid'],\n",
            "        num_rows: 11227\n",
            "    })\n",
            "    test: Dataset({\n",
            "        features: ['id', 'pos', 'ner_tags', 'tokens', 'issueid'],\n",
            "        num_rows: 4136\n",
            "    })\n",
            "})\n"
          ]
        }
      ]
    },
    {
      "cell_type": "code",
      "source": [
        "main_dataset.shape"
      ],
      "metadata": {
        "colab": {
          "base_uri": "https://localhost:8080/"
        },
        "id": "D_gzLGfR79Sb",
        "outputId": "78ce9989-a4f2-4573-d6ab-69daa7caad02"
      },
      "execution_count": null,
      "outputs": [
        {
          "output_type": "execute_result",
          "data": {
            "text/plain": [
              "{'train': (11227, 5), 'test': (4136, 5)}"
            ]
          },
          "metadata": {},
          "execution_count": 4
        }
      ]
    },
    {
      "cell_type": "code",
      "source": [
        "main_dataset['train'][1]"
      ],
      "metadata": {
        "colab": {
          "base_uri": "https://localhost:8080/"
        },
        "id": "ltsXMzzE8DAN",
        "outputId": "7078d814-78e5-40e5-e52f-db43b0fa0dc6"
      },
      "execution_count": null,
      "outputs": [
        {
          "output_type": "execute_result",
          "data": {
            "text/plain": [
              "{'id': '6',\n",
              " 'pos': [22, 13, 22, 14, 25, 5, 6],\n",
              " 'ner_tags': [3, 3, 3, 3, 3, 3, 0],\n",
              " 'tokens': ['Latte', 'al', 'seno', ',', 'sos', 'di', 'Pedrotti'],\n",
              " 'issueid': 'adige20041007_id413942'}"
            ]
          },
          "metadata": {},
          "execution_count": 5
        }
      ]
    },
    {
      "cell_type": "code",
      "source": [
        "main_dataset['train'].features['ner_tags']"
      ],
      "metadata": {
        "colab": {
          "base_uri": "https://localhost:8080/"
        },
        "id": "PWHpzENC8L81",
        "outputId": "99fecf39-eb09-4002-d4b4-fb5e76cc6120"
      },
      "execution_count": null,
      "outputs": [
        {
          "output_type": "execute_result",
          "data": {
            "text/plain": [
              "Sequence(feature=ClassLabel(names=['B-PER', 'B-ORG', 'I-LOC', 'O', 'B-GPE', 'I-ORG', 'I-GPE', 'B-LOC', 'I-PER'], id=None), length=-1, id=None)"
            ]
          },
          "metadata": {},
          "execution_count": 6
        }
      ]
    },
    {
      "cell_type": "code",
      "source": [
        "!pip install sentencepiece"
      ],
      "metadata": {
        "colab": {
          "base_uri": "https://localhost:8080/"
        },
        "id": "U5I9S5UcCs0L",
        "outputId": "8b7dd927-64d2-49bb-e309-3d40866d989d"
      },
      "execution_count": null,
      "outputs": [
        {
          "output_type": "stream",
          "name": "stdout",
          "text": [
            "Requirement already satisfied: sentencepiece in /usr/local/lib/python3.10/dist-packages (0.1.99)\n"
          ]
        }
      ]
    },
    {
      "cell_type": "code",
      "source": [
        "tokenizer = AutoTokenizer.from_pretrained('idb-ita/gilberto-uncased-from-camembert', do_lower_case=True)\n",
        "\n",
        "#do_lower_case needs to be used because this is how the instatiation of CamembertTokenizerFast works"
      ],
      "metadata": {
        "id": "ACQAL-EI8TZi"
      },
      "execution_count": null,
      "outputs": []
    },
    {
      "cell_type": "code",
      "source": [
        "example_text = main_dataset['train'][1]\n",
        "\n",
        "tokenized_input = tokenizer(example_text['tokens'], is_split_into_words=True)\n",
        "\n",
        "tokens = tokenizer.convert_ids_to_tokens(tokenized_input['input_ids'])\n",
        "\n",
        "word_ids = tokenized_input.word_ids()\n",
        "\n",
        "#ValueError: word_ids() is not available when using non-fast tokenizers (e.g. instance of a `XxxTokenizerFast` class).\n",
        "#this is why we need to use TokenizersFast also for Roberta\n",
        "\n",
        "word_ids\n"
      ],
      "metadata": {
        "colab": {
          "base_uri": "https://localhost:8080/"
        },
        "id": "XhXTKUH28pgm",
        "outputId": "c57ca979-9d19-42d4-8921-dc1c2243b1e5"
      },
      "execution_count": null,
      "outputs": [
        {
          "output_type": "execute_result",
          "data": {
            "text/plain": [
              "[None, 0, 0, 0, 1, 2, 3, 4, 5, 6, 6, 6, 6, None]"
            ]
          },
          "metadata": {},
          "execution_count": 9
        }
      ]
    },
    {
      "cell_type": "code",
      "source": [
        "tokens = tokenizer.convert_ids_to_tokens(tokenized_input['input_ids'])\n",
        "tokens\n",
        "\n",
        "#<s> and </s> are mapped to NONE because the they are \"special tokens\""
      ],
      "metadata": {
        "colab": {
          "base_uri": "https://localhost:8080/"
        },
        "id": "kwgNOOGZ_tfM",
        "outputId": "29a6a19c-ef11-4fb7-c1b8-43b623d15aea"
      },
      "execution_count": null,
      "outputs": [
        {
          "output_type": "execute_result",
          "data": {
            "text/plain": [
              "['<s>',\n",
              " '▁',\n",
              " '<unk>',\n",
              " 'atte',\n",
              " '▁al',\n",
              " '▁seno',\n",
              " '▁,',\n",
              " '▁sos',\n",
              " '▁di',\n",
              " '▁',\n",
              " '<unk>',\n",
              " 'ed',\n",
              " 'rotti',\n",
              " '</s>']"
            ]
          },
          "metadata": {},
          "execution_count": 10
        }
      ]
    },
    {
      "cell_type": "code",
      "source": [
        "len(example_text['ner_tags']), len(tokenized_input['input_ids'])"
      ],
      "metadata": {
        "colab": {
          "base_uri": "https://localhost:8080/"
        },
        "id": "rpE2Vuj79SWb",
        "outputId": "d46dc3f4-8da5-4a2b-c5bd-218cc7bb1895"
      },
      "execution_count": null,
      "outputs": [
        {
          "output_type": "execute_result",
          "data": {
            "text/plain": [
              "(7, 14)"
            ]
          },
          "metadata": {},
          "execution_count": 11
        }
      ]
    },
    {
      "cell_type": "code",
      "source": [
        "def tokenize_and_align_labels(example, label_all_tokens =True):\n",
        "    tokenized_input = tokenizer(example['tokens'], truncation=True, is_split_into_words=True)\n",
        "\n",
        "    labels = []\n",
        "\n",
        "    for i, label in enumerate(example['ner_tags']):\n",
        "        word_ids = tokenized_input.word_ids(batch_index=i)\n",
        "        #it returns a list indicating the word corresponding to each token\n",
        "        previous_word_idx = None\n",
        "\n",
        "        label_ids =[]\n",
        "\n",
        "        for word_idx in word_ids:\n",
        "            if word_idx is None:\n",
        "                #special tokens\n",
        "                label_ids.append(-100)\n",
        "            elif word_idx != previous_word_idx:\n",
        "                #regular case\n",
        "                label_ids.append(label[word_idx])\n",
        "            else:\n",
        "                #subword case\n",
        "                label_ids.append(label[word_idx] if label_all_tokens else -100)\n",
        "            previous_word_idx = word_idx\n",
        "        labels.append(label_ids)\n",
        "    tokenized_input['labels'] = labels\n",
        "    return tokenized_input"
      ],
      "metadata": {
        "id": "wHIlfAFg-jSe"
      },
      "execution_count": null,
      "outputs": []
    },
    {
      "cell_type": "code",
      "source": [
        "q = tokenize_and_align_labels(main_dataset['train'][4:5])\n",
        "print(q)"
      ],
      "metadata": {
        "colab": {
          "base_uri": "https://localhost:8080/"
        },
        "id": "WP5L8ha9Bee-",
        "outputId": "96532159-106a-40da-8c98-b379a6532778"
      },
      "execution_count": null,
      "outputs": [
        {
          "output_type": "stream",
          "name": "stderr",
          "text": [
            "Asking to truncate to max_length but no maximum length is provided and the model has no predefined maximum length. Default to no truncation.\n"
          ]
        },
        {
          "output_type": "stream",
          "name": "stdout",
          "text": [
            "{'input_ids': [[5, 31924, 3, 222, 315, 25810, 57, 31924, 3, 6974, 2907, 31924, 3, 31944, 31924, 3, 18580, 24, 81, 18130, 21, 25538, 33, 31924, 3, 346, 1962, 777, 21, 8405, 48, 1532, 6478, 777, 21, 18264, 13, 317, 108, 425, 88, 10428, 56, 1648, 206, 1876, 6810, 1009, 6]], 'attention_mask': [[1, 1, 1, 1, 1, 1, 1, 1, 1, 1, 1, 1, 1, 1, 1, 1, 1, 1, 1, 1, 1, 1, 1, 1, 1, 1, 1, 1, 1, 1, 1, 1, 1, 1, 1, 1, 1, 1, 1, 1, 1, 1, 1, 1, 1, 1, 1, 1, 1]], 'labels': [[-100, 3, 3, 3, 3, 3, 3, 3, 3, 3, 3, 3, 3, 3, 3, 3, 3, 3, 3, 3, 3, 3, 3, 4, 4, 4, 4, 3, 3, 3, 3, 3, 3, 3, 3, 3, 3, 3, 3, 3, 3, 3, 3, 3, 3, 3, 3, 3, -100]]}\n"
          ]
        }
      ]
    },
    {
      "cell_type": "code",
      "source": [
        "for token, label in zip(tokenizer.convert_ids_to_tokens(q['input_ids'][0]), (q['labels'][0])):\n",
        "    print(f\"{token:_<40} {label}\")"
      ],
      "metadata": {
        "colab": {
          "base_uri": "https://localhost:8080/"
        },
        "id": "POVz5UwuB1sH",
        "outputId": "d25f8c17-4ee0-46bf-9eff-73a93cd12f3a"
      },
      "execution_count": null,
      "outputs": [
        {
          "output_type": "stream",
          "name": "stdout",
          "text": [
            "<s>_____________________________________ -100\n",
            "▁_______________________________________ 3\n",
            "<unk>___________________________________ 3\n",
            "ggi_____________________________________ 3\n",
            "▁alle___________________________________ 3\n",
            "▁17.30__________________________________ 3\n",
            "▁al_____________________________________ 3\n",
            "▁_______________________________________ 3\n",
            "<unk>___________________________________ 3\n",
            "entro___________________________________ 3\n",
            "▁culturale______________________________ 3\n",
            "▁_______________________________________ 3\n",
            "<unk>___________________________________ 3\n",
            "._______________________________________ 3\n",
            "▁_______________________________________ 3\n",
            "<unk>___________________________________ 3\n",
            "hia_____________________________________ 3\n",
            "ra______________________________________ 3\n",
            "▁si_____________________________________ 3\n",
            "▁parlerà________________________________ 3\n",
            "▁di_____________________________________ 3\n",
            "▁allattamento___________________________ 3\n",
            "▁in_____________________________________ 3\n",
            "▁_______________________________________ 4\n",
            "<unk>___________________________________ 4\n",
            "ren_____________________________________ 4\n",
            "tino____________________________________ 4\n",
            "▁,______________________________________ 3\n",
            "▁di_____________________________________ 3\n",
            "▁mamme__________________________________ 3\n",
            "▁con____________________________________ 3\n",
            "▁tanti__________________________________ 3\n",
            "▁dubbi__________________________________ 3\n",
            "▁,______________________________________ 3\n",
            "▁di_____________________________________ 3\n",
            "▁neonati________________________________ 3\n",
            "▁a______________________________________ 3\n",
            "▁cui____________________________________ 3\n",
            "▁non____________________________________ 3\n",
            "▁sempre_________________________________ 3\n",
            "▁è______________________________________ 3\n",
            "▁garantito______________________________ 3\n",
            "▁il_____________________________________ 3\n",
            "▁diritto________________________________ 3\n",
            "▁alla___________________________________ 3\n",
            "▁migliore_______________________________ 3\n",
            "▁alimentazione__________________________ 3\n",
            "▁.______________________________________ 3\n",
            "</s>____________________________________ -100\n"
          ]
        }
      ]
    },
    {
      "cell_type": "code",
      "source": [
        "tokenized_dataset = main_dataset.map(tokenize_and_align_labels, batched=True)"
      ],
      "metadata": {
        "colab": {
          "base_uri": "https://localhost:8080/",
          "height": 81,
          "referenced_widgets": [
            "c957e8f564a74e1a98f7620773e49db5",
            "388ae97cd75d486bbf141046a1fdbd11",
            "f85ea9bab97a418c8c200d8d5ecb7484",
            "25237464d6a24c709d139657a30dff6c",
            "f9d2e31e05ab49169874347e0fa44abe",
            "aacb2d93c7ca4df6a0fda50e15c179a7",
            "7631bfc1269c41568c0a2a1064cb81cc",
            "ca1bcf95215a4d789817fe9f498f9b2b",
            "ef740645939145d6b91697405d9f5b1f",
            "b21bf4d694214c4b8c541e772b775417",
            "a354511814894592ae4ec65a604ad380",
            "7aaa797c01d34500a94500a4f252dc44",
            "6917c2949659453994293872cc942a5a",
            "2a896f22520449d3a76a2dbf1119f2ce",
            "ec21d927c01a4d53b456eba7459208b8",
            "24c0918942dd49f491a9a9920e12c350",
            "2a8d76a83f0243f794eee403d70bdcdd",
            "cf6dff58b99f497ea496ed64b8cf88f5",
            "e52cf7d52075413fbfb0786f586af3c6",
            "e34a030630074e938e0b139ebbc5ba79",
            "40d938fd39f84a6ca8b55064bce8b5b6",
            "9470e155b2974b019dfceee6e6c42954"
          ]
        },
        "id": "sCTG0BXkCosA",
        "outputId": "0522cf97-f345-4d47-e9a3-09f86a6c61ca"
      },
      "execution_count": null,
      "outputs": [
        {
          "output_type": "display_data",
          "data": {
            "text/plain": [
              "Map:   0%|          | 0/11227 [00:00<?, ? examples/s]"
            ],
            "application/vnd.jupyter.widget-view+json": {
              "version_major": 2,
              "version_minor": 0,
              "model_id": "c957e8f564a74e1a98f7620773e49db5"
            }
          },
          "metadata": {}
        },
        {
          "output_type": "display_data",
          "data": {
            "text/plain": [
              "Map:   0%|          | 0/4136 [00:00<?, ? examples/s]"
            ],
            "application/vnd.jupyter.widget-view+json": {
              "version_major": 2,
              "version_minor": 0,
              "model_id": "7aaa797c01d34500a94500a4f252dc44"
            }
          },
          "metadata": {}
        }
      ]
    },
    {
      "cell_type": "code",
      "source": [
        "num_labels = main_dataset['train'].features['ner_tags'].feature.num_classes\n",
        "num_labels"
      ],
      "metadata": {
        "colab": {
          "base_uri": "https://localhost:8080/"
        },
        "id": "KhrHaitQDJ7u",
        "outputId": "2b6db953-cbd8-4e94-b759-db18acefad73"
      },
      "execution_count": null,
      "outputs": [
        {
          "output_type": "execute_result",
          "data": {
            "text/plain": [
              "9"
            ]
          },
          "metadata": {},
          "execution_count": 16
        }
      ]
    },
    {
      "cell_type": "code",
      "source": [
        "model = AutoModelForTokenClassification.from_pretrained(\"idb-ita/gilberto-uncased-from-camembert\", num_labels = num_labels)"
      ],
      "metadata": {
        "colab": {
          "base_uri": "https://localhost:8080/"
        },
        "id": "dedA-YxfC7GA",
        "outputId": "204fabdb-ade4-4bfe-a472-cc470833a563"
      },
      "execution_count": null,
      "outputs": [
        {
          "output_type": "stream",
          "name": "stderr",
          "text": [
            "Some weights of CamembertForTokenClassification were not initialized from the model checkpoint at idb-ita/gilberto-uncased-from-camembert and are newly initialized: ['classifier.bias', 'classifier.weight']\n",
            "You should probably TRAIN this model on a down-stream task to be able to use it for predictions and inference.\n"
          ]
        }
      ]
    },
    {
      "cell_type": "code",
      "source": [
        "!pip install accelerate -U"
      ],
      "metadata": {
        "colab": {
          "base_uri": "https://localhost:8080/"
        },
        "id": "3Ym83mLclFQp",
        "outputId": "5eabe7d7-e970-4df2-8dc6-9c83724df7b0"
      },
      "execution_count": null,
      "outputs": [
        {
          "output_type": "stream",
          "name": "stdout",
          "text": [
            "Requirement already satisfied: accelerate in /usr/local/lib/python3.10/dist-packages (0.25.0)\n",
            "Requirement already satisfied: numpy>=1.17 in /usr/local/lib/python3.10/dist-packages (from accelerate) (1.23.5)\n",
            "Requirement already satisfied: packaging>=20.0 in /usr/local/lib/python3.10/dist-packages (from accelerate) (23.2)\n",
            "Requirement already satisfied: psutil in /usr/local/lib/python3.10/dist-packages (from accelerate) (5.9.5)\n",
            "Requirement already satisfied: pyyaml in /usr/local/lib/python3.10/dist-packages (from accelerate) (6.0.1)\n",
            "Requirement already satisfied: torch>=1.10.0 in /usr/local/lib/python3.10/dist-packages (from accelerate) (2.1.0+cu118)\n",
            "Requirement already satisfied: huggingface-hub in /usr/local/lib/python3.10/dist-packages (from accelerate) (0.19.4)\n",
            "Requirement already satisfied: safetensors>=0.3.1 in /usr/local/lib/python3.10/dist-packages (from accelerate) (0.4.1)\n",
            "Requirement already satisfied: filelock in /usr/local/lib/python3.10/dist-packages (from torch>=1.10.0->accelerate) (3.13.1)\n",
            "Requirement already satisfied: typing-extensions in /usr/local/lib/python3.10/dist-packages (from torch>=1.10.0->accelerate) (4.5.0)\n",
            "Requirement already satisfied: sympy in /usr/local/lib/python3.10/dist-packages (from torch>=1.10.0->accelerate) (1.12)\n",
            "Requirement already satisfied: networkx in /usr/local/lib/python3.10/dist-packages (from torch>=1.10.0->accelerate) (3.2.1)\n",
            "Requirement already satisfied: jinja2 in /usr/local/lib/python3.10/dist-packages (from torch>=1.10.0->accelerate) (3.1.2)\n",
            "Requirement already satisfied: fsspec in /usr/local/lib/python3.10/dist-packages (from torch>=1.10.0->accelerate) (2023.6.0)\n",
            "Requirement already satisfied: triton==2.1.0 in /usr/local/lib/python3.10/dist-packages (from torch>=1.10.0->accelerate) (2.1.0)\n",
            "Requirement already satisfied: requests in /usr/local/lib/python3.10/dist-packages (from huggingface-hub->accelerate) (2.31.0)\n",
            "Requirement already satisfied: tqdm>=4.42.1 in /usr/local/lib/python3.10/dist-packages (from huggingface-hub->accelerate) (4.66.1)\n",
            "Requirement already satisfied: MarkupSafe>=2.0 in /usr/local/lib/python3.10/dist-packages (from jinja2->torch>=1.10.0->accelerate) (2.1.3)\n",
            "Requirement already satisfied: charset-normalizer<4,>=2 in /usr/local/lib/python3.10/dist-packages (from requests->huggingface-hub->accelerate) (3.3.2)\n",
            "Requirement already satisfied: idna<4,>=2.5 in /usr/local/lib/python3.10/dist-packages (from requests->huggingface-hub->accelerate) (3.6)\n",
            "Requirement already satisfied: urllib3<3,>=1.21.1 in /usr/local/lib/python3.10/dist-packages (from requests->huggingface-hub->accelerate) (2.0.7)\n",
            "Requirement already satisfied: certifi>=2017.4.17 in /usr/local/lib/python3.10/dist-packages (from requests->huggingface-hub->accelerate) (2023.11.17)\n",
            "Requirement already satisfied: mpmath>=0.19 in /usr/local/lib/python3.10/dist-packages (from sympy->torch>=1.10.0->accelerate) (1.3.0)\n"
          ]
        }
      ]
    },
    {
      "cell_type": "code",
      "source": [
        "pip install transformers[torch]"
      ],
      "metadata": {
        "colab": {
          "base_uri": "https://localhost:8080/"
        },
        "id": "oCWT7BUKlTfq",
        "outputId": "138d4e53-0bbe-4860-ea51-96db63ebe295"
      },
      "execution_count": null,
      "outputs": [
        {
          "output_type": "stream",
          "name": "stdout",
          "text": [
            "Requirement already satisfied: transformers[torch] in /usr/local/lib/python3.10/dist-packages (4.35.2)\n",
            "Requirement already satisfied: filelock in /usr/local/lib/python3.10/dist-packages (from transformers[torch]) (3.13.1)\n",
            "Requirement already satisfied: huggingface-hub<1.0,>=0.16.4 in /usr/local/lib/python3.10/dist-packages (from transformers[torch]) (0.19.4)\n",
            "Requirement already satisfied: numpy>=1.17 in /usr/local/lib/python3.10/dist-packages (from transformers[torch]) (1.23.5)\n",
            "Requirement already satisfied: packaging>=20.0 in /usr/local/lib/python3.10/dist-packages (from transformers[torch]) (23.2)\n",
            "Requirement already satisfied: pyyaml>=5.1 in /usr/local/lib/python3.10/dist-packages (from transformers[torch]) (6.0.1)\n",
            "Requirement already satisfied: regex!=2019.12.17 in /usr/local/lib/python3.10/dist-packages (from transformers[torch]) (2023.6.3)\n",
            "Requirement already satisfied: requests in /usr/local/lib/python3.10/dist-packages (from transformers[torch]) (2.31.0)\n",
            "Requirement already satisfied: tokenizers<0.19,>=0.14 in /usr/local/lib/python3.10/dist-packages (from transformers[torch]) (0.15.0)\n",
            "Requirement already satisfied: safetensors>=0.3.1 in /usr/local/lib/python3.10/dist-packages (from transformers[torch]) (0.4.1)\n",
            "Requirement already satisfied: tqdm>=4.27 in /usr/local/lib/python3.10/dist-packages (from transformers[torch]) (4.66.1)\n",
            "Requirement already satisfied: torch!=1.12.0,>=1.10 in /usr/local/lib/python3.10/dist-packages (from transformers[torch]) (2.1.0+cu118)\n",
            "Requirement already satisfied: accelerate>=0.20.3 in /usr/local/lib/python3.10/dist-packages (from transformers[torch]) (0.25.0)\n",
            "Requirement already satisfied: psutil in /usr/local/lib/python3.10/dist-packages (from accelerate>=0.20.3->transformers[torch]) (5.9.5)\n",
            "Requirement already satisfied: fsspec>=2023.5.0 in /usr/local/lib/python3.10/dist-packages (from huggingface-hub<1.0,>=0.16.4->transformers[torch]) (2023.6.0)\n",
            "Requirement already satisfied: typing-extensions>=3.7.4.3 in /usr/local/lib/python3.10/dist-packages (from huggingface-hub<1.0,>=0.16.4->transformers[torch]) (4.5.0)\n",
            "Requirement already satisfied: sympy in /usr/local/lib/python3.10/dist-packages (from torch!=1.12.0,>=1.10->transformers[torch]) (1.12)\n",
            "Requirement already satisfied: networkx in /usr/local/lib/python3.10/dist-packages (from torch!=1.12.0,>=1.10->transformers[torch]) (3.2.1)\n",
            "Requirement already satisfied: jinja2 in /usr/local/lib/python3.10/dist-packages (from torch!=1.12.0,>=1.10->transformers[torch]) (3.1.2)\n",
            "Requirement already satisfied: triton==2.1.0 in /usr/local/lib/python3.10/dist-packages (from torch!=1.12.0,>=1.10->transformers[torch]) (2.1.0)\n",
            "Requirement already satisfied: charset-normalizer<4,>=2 in /usr/local/lib/python3.10/dist-packages (from requests->transformers[torch]) (3.3.2)\n",
            "Requirement already satisfied: idna<4,>=2.5 in /usr/local/lib/python3.10/dist-packages (from requests->transformers[torch]) (3.6)\n",
            "Requirement already satisfied: urllib3<3,>=1.21.1 in /usr/local/lib/python3.10/dist-packages (from requests->transformers[torch]) (2.0.7)\n",
            "Requirement already satisfied: certifi>=2017.4.17 in /usr/local/lib/python3.10/dist-packages (from requests->transformers[torch]) (2023.11.17)\n",
            "Requirement already satisfied: MarkupSafe>=2.0 in /usr/local/lib/python3.10/dist-packages (from jinja2->torch!=1.12.0,>=1.10->transformers[torch]) (2.1.3)\n",
            "Requirement already satisfied: mpmath>=0.19 in /usr/local/lib/python3.10/dist-packages (from sympy->torch!=1.12.0,>=1.10->transformers[torch]) (1.3.0)\n"
          ]
        }
      ]
    },
    {
      "cell_type": "code",
      "source": [
        "from transformers import TrainingArguments, AdamW, get_linear_schedule_with_warmup\n",
        "\n",
        "optimizer = AdamW(model.parameters(), lr=2e-5)\n",
        "\n",
        "scheduler = get_linear_schedule_with_warmup(optimizer, 1400, 17400)\n",
        "#scheduler (optimizer, num_steps, num_warmup_steps, num_training_steps)"
      ],
      "metadata": {
        "id": "Dnh5Vc-DLJJW",
        "colab": {
          "base_uri": "https://localhost:8080/"
        },
        "outputId": "c2e1fca2-e669-4945-a61b-5f8a92d0dbd9"
      },
      "execution_count": null,
      "outputs": [
        {
          "output_type": "stream",
          "name": "stderr",
          "text": [
            "/usr/local/lib/python3.10/dist-packages/transformers/optimization.py:411: FutureWarning: This implementation of AdamW is deprecated and will be removed in a future version. Use the PyTorch implementation torch.optim.AdamW instead, or set `no_deprecation_warning=True` to disable this warning\n",
            "  warnings.warn(\n"
          ]
        }
      ]
    },
    {
      "cell_type": "markdown",
      "source": [
        "*   Number of Training Steps: A training step is one gradient update, where in one step, a batch of examples is processed. The number of training steps indicates how many times the weights of the network are updated. It is often used in the context of specifying the duration of training, and the model is trained for a certain number of steps.\n",
        "*   Number of Epochs: An epoch is a complete pass through the entire training dataset. It consists of one or more batches. The number of epochs defines how many times the learning algorithm will work through the entire training dataset. It is a hyperparameter that is traditionally set to a large number, allowing the learning algorithm to run until the error from the model has been sufficiently minimized."
      ],
      "metadata": {
        "id": "vAysDnIy_ixq"
      }
    },
    {
      "cell_type": "code",
      "source": [
        "#define training arguments parameters\n",
        "from transformers import TrainingArguments, Trainer\n",
        "\n",
        "args = TrainingArguments(\n",
        "    \"test-ner\",\n",
        "    evaluation_strategy=\"epoch\",\n",
        "    per_device_train_batch_size=4,\n",
        "    per_device_eval_batch_size=4,\n",
        "    num_train_epochs=6,\n",
        "    weight_decay=0.01,\n",
        ")"
      ],
      "metadata": {
        "id": "gZGaI19ADSCu"
      },
      "execution_count": null,
      "outputs": []
    },
    {
      "cell_type": "code",
      "source": [
        "data_collator = DataCollatorForTokenClassification(tokenizer)\n",
        "#objects that will form a batch by using a list of dataset elements as input - they are the same type of the elements of the trian dataset"
      ],
      "metadata": {
        "id": "kJ_-UpQTEwCv"
      },
      "execution_count": null,
      "outputs": []
    },
    {
      "cell_type": "code",
      "source": [
        "metric = datasets.load_metric('seqeval')\n",
        "#utureWarning: load_metric is deprecated and will be removed in the next major version of datasets.\n",
        "# Use 'evaluate.load' instead, from the new library 🤗\n",
        "example = main_dataset['train'][0]"
      ],
      "metadata": {
        "id": "r4THUkMiFL98",
        "colab": {
          "base_uri": "https://localhost:8080/",
          "height": 104,
          "referenced_widgets": [
            "33b886e74be74b25bb6df9a9a46bf1d6",
            "e4b9b090de7a4ecabde5822542c69459",
            "469c878537b34128a13e81107c98ab4b",
            "2bc4fa2f1b47466fb3fa2d3a6083de34",
            "0ed6dd4a03e84550b7f08ea097d31661",
            "f61beea939534698820b3589e953da25",
            "2764760293974d49b9c9194349fea389",
            "d2596deae8424290aa54364e512c490c",
            "4203c1c9b39249cc8907885290917d73",
            "ad6c2a2981d047baaf000372f040e7b1",
            "2da55bb491a44a1a9b09f8ac93776dc4"
          ]
        },
        "outputId": "11b85593-4fbb-4928-96c9-8c8ee199a6e9"
      },
      "execution_count": null,
      "outputs": [
        {
          "output_type": "stream",
          "name": "stderr",
          "text": [
            "<ipython-input-23-1a25687c91d7>:1: FutureWarning: load_metric is deprecated and will be removed in the next major version of datasets. Use 'evaluate.load' instead, from the new library 🤗 Evaluate: https://huggingface.co/docs/evaluate\n",
            "  metric = datasets.load_metric('seqeval')\n"
          ]
        },
        {
          "output_type": "display_data",
          "data": {
            "text/plain": [
              "Downloading builder script:   0%|          | 0.00/2.47k [00:00<?, ?B/s]"
            ],
            "application/vnd.jupyter.widget-view+json": {
              "version_major": 2,
              "version_minor": 0,
              "model_id": "33b886e74be74b25bb6df9a9a46bf1d6"
            }
          },
          "metadata": {}
        }
      ]
    },
    {
      "cell_type": "code",
      "source": [
        "label_list = main_dataset['train'].features['ner_tags'].feature.names\n",
        "label_list"
      ],
      "metadata": {
        "colab": {
          "base_uri": "https://localhost:8080/"
        },
        "id": "mbqYW3FKFTkF",
        "outputId": "d6f6d0e0-7d2e-4268-c5be-7b3220592db3"
      },
      "execution_count": null,
      "outputs": [
        {
          "output_type": "execute_result",
          "data": {
            "text/plain": [
              "['B-PER', 'B-ORG', 'I-LOC', 'O', 'B-GPE', 'I-ORG', 'I-GPE', 'B-LOC', 'I-PER']"
            ]
          },
          "metadata": {},
          "execution_count": 24
        }
      ]
    },
    {
      "cell_type": "code",
      "source": [
        "example = main_dataset['train'][1]"
      ],
      "metadata": {
        "id": "1xrheOc6GvMC"
      },
      "execution_count": null,
      "outputs": []
    },
    {
      "cell_type": "code",
      "source": [
        "#calculate the metric on a single example (the first of the train dataset)\n",
        "labels = [label_list[i] for i in example['ner_tags']]\n",
        "labels"
      ],
      "metadata": {
        "colab": {
          "base_uri": "https://localhost:8080/"
        },
        "id": "KGkApBvuGMli",
        "outputId": "2b7a8630-70d9-4d7e-cd73-f3b83f21a628"
      },
      "execution_count": null,
      "outputs": [
        {
          "output_type": "execute_result",
          "data": {
            "text/plain": [
              "['O', 'O', 'O', 'O', 'O', 'O', 'B-PER']"
            ]
          },
          "metadata": {},
          "execution_count": 26
        }
      ]
    },
    {
      "cell_type": "code",
      "source": [
        "#check metric.compute works\n",
        "metric.compute(predictions=[labels], references=[labels])\n",
        "#the score of this is very high because I pass the same list to both my predictions and references"
      ],
      "metadata": {
        "colab": {
          "base_uri": "https://localhost:8080/"
        },
        "id": "T-ZEzI6OGz11",
        "outputId": "aa1edddc-21a9-496d-f749-fbda292be0d2"
      },
      "execution_count": null,
      "outputs": [
        {
          "output_type": "execute_result",
          "data": {
            "text/plain": [
              "{'PER': {'precision': 1.0, 'recall': 1.0, 'f1': 1.0, 'number': 1},\n",
              " 'overall_precision': 1.0,\n",
              " 'overall_recall': 1.0,\n",
              " 'overall_f1': 1.0,\n",
              " 'overall_accuracy': 1.0}"
            ]
          },
          "metadata": {},
          "execution_count": 27
        }
      ]
    },
    {
      "cell_type": "code",
      "source": [
        "def compute_metrics(eval_preds):\n",
        "    pred_logits, labels = eval_preds\n",
        "\n",
        "    # pred_logits are obtained by passing numpy.argmax\n",
        "    pred_logits = np.argmax(pred_logits, axis=2)\n",
        "    # the logits and the probabilities are in the same order,\n",
        "    # so we don’t need to apply the softmax\n",
        "\n",
        "    # We remove all the values where the label is -100\n",
        "    # define the variable prediction here\n",
        "    predictions = [\n",
        "        [label_list[eval_preds] for (eval_preds, l) in zip(prediction, label) if l != -100]\n",
        "        for prediction, label in zip(pred_logits, labels)\n",
        "    ]\n",
        "    # define the variable true_labels here\n",
        "    true_labels = [\n",
        "      [label_list[l] for (eval_preds, l) in zip(prediction, label) if l != -100]\n",
        "       for prediction, label in zip(pred_logits, labels)\n",
        "    ]\n",
        "    results = metric.compute(predictions=predictions, references=true_labels)\n",
        "\n",
        "    global stored_predictions, stored_labels\n",
        "    stored_predictions.extend(predictions)\n",
        "    stored_labels.extend(true_labels)\n",
        "\n",
        "    return {\n",
        "   \"precision\": results[\"overall_precision\"],\n",
        "   \"recall\": results[\"overall_recall\"],\n",
        "   \"f1\": results[\"overall_f1\"],\n",
        "    \"accuracy\": results[\"overall_accuracy\"],\n",
        "  }"
      ],
      "metadata": {
        "id": "JAn7-31bHMEG"
      },
      "execution_count": null,
      "outputs": []
    },
    {
      "cell_type": "code",
      "source": [
        "stored_predictions = []\n",
        "stored_labels = []"
      ],
      "metadata": {
        "id": "mhU3Q3HvoA0L"
      },
      "execution_count": null,
      "outputs": []
    },
    {
      "cell_type": "code",
      "source": [
        "trainer = Trainer (\n",
        "    model,\n",
        "    args,\n",
        "    optimizers=(optimizer, scheduler),\n",
        "    train_dataset=tokenized_dataset[\"train\"],\n",
        "    eval_dataset=tokenized_dataset[\"test\"],\n",
        "    data_collator=data_collator,\n",
        "    tokenizer=tokenizer,\n",
        "    compute_metrics=compute_metrics\n",
        ")"
      ],
      "metadata": {
        "id": "SvQZcRLpHMJ4"
      },
      "execution_count": null,
      "outputs": []
    },
    {
      "cell_type": "code",
      "source": [
        "trainer.train()\n",
        "\n",
        "model.save_pretrained('ner_model')\n",
        "\n",
        "tokenizer.save_pretrained('tokenizer')"
      ],
      "metadata": {
        "colab": {
          "base_uri": "https://localhost:8080/",
          "height": 388
        },
        "id": "y0z5_wItJftt",
        "outputId": "76df865c-040c-4a66-9d37-d861d313f7bb"
      },
      "execution_count": null,
      "outputs": [
        {
          "output_type": "stream",
          "name": "stderr",
          "text": [
            "You're using a CamembertTokenizerFast tokenizer. Please note that with a fast tokenizer, using the `__call__` method is faster than using a method to encode the text followed by a call to the `pad` method to get a padded encoding.\n"
          ]
        },
        {
          "output_type": "display_data",
          "data": {
            "text/plain": [
              "<IPython.core.display.HTML object>"
            ],
            "text/html": [
              "\n",
              "    <div>\n",
              "      \n",
              "      <progress value='16842' max='16842' style='width:300px; height:20px; vertical-align: middle;'></progress>\n",
              "      [16842/16842 30:05, Epoch 6/6]\n",
              "    </div>\n",
              "    <table border=\"1\" class=\"dataframe\">\n",
              "  <thead>\n",
              " <tr style=\"text-align: left;\">\n",
              "      <th>Epoch</th>\n",
              "      <th>Training Loss</th>\n",
              "      <th>Validation Loss</th>\n",
              "      <th>Precision</th>\n",
              "      <th>Recall</th>\n",
              "      <th>F1</th>\n",
              "      <th>Accuracy</th>\n",
              "    </tr>\n",
              "  </thead>\n",
              "  <tbody>\n",
              "    <tr>\n",
              "      <td>1</td>\n",
              "      <td>0.200500</td>\n",
              "      <td>0.234282</td>\n",
              "      <td>0.818707</td>\n",
              "      <td>0.807749</td>\n",
              "      <td>0.813191</td>\n",
              "      <td>0.948174</td>\n",
              "    </tr>\n",
              "    <tr>\n",
              "      <td>2</td>\n",
              "      <td>0.132000</td>\n",
              "      <td>0.205878</td>\n",
              "      <td>0.846670</td>\n",
              "      <td>0.824271</td>\n",
              "      <td>0.835320</td>\n",
              "      <td>0.953361</td>\n",
              "    </tr>\n",
              "    <tr>\n",
              "      <td>3</td>\n",
              "      <td>0.072000</td>\n",
              "      <td>0.242150</td>\n",
              "      <td>0.840957</td>\n",
              "      <td>0.856478</td>\n",
              "      <td>0.848647</td>\n",
              "      <td>0.957102</td>\n",
              "    </tr>\n",
              "    <tr>\n",
              "      <td>4</td>\n",
              "      <td>0.035800</td>\n",
              "      <td>0.278065</td>\n",
              "      <td>0.849243</td>\n",
              "      <td>0.850308</td>\n",
              "      <td>0.849775</td>\n",
              "      <td>0.958337</td>\n",
              "    </tr>\n",
              "    <tr>\n",
              "      <td>5</td>\n",
              "      <td>0.032500</td>\n",
              "      <td>0.271927</td>\n",
              "      <td>0.852142</td>\n",
              "      <td>0.852766</td>\n",
              "      <td>0.852454</td>\n",
              "      <td>0.958549</td>\n",
              "    </tr>\n",
              "    <tr>\n",
              "      <td>6</td>\n",
              "      <td>0.011300</td>\n",
              "      <td>0.289389</td>\n",
              "      <td>0.847925</td>\n",
              "      <td>0.864373</td>\n",
              "      <td>0.856070</td>\n",
              "      <td>0.959541</td>\n",
              "    </tr>\n",
              "  </tbody>\n",
              "</table><p>"
            ]
          },
          "metadata": {}
        },
        {
          "output_type": "execute_result",
          "data": {
            "text/plain": [
              "('tokenizer/tokenizer_config.json',\n",
              " 'tokenizer/special_tokens_map.json',\n",
              " 'tokenizer/sentencepiece.bpe.model',\n",
              " 'tokenizer/added_tokens.json',\n",
              " 'tokenizer/tokenizer.json')"
            ]
          },
          "metadata": {},
          "execution_count": 31
        }
      ]
    },
    {
      "cell_type": "code",
      "source": [
        "from conlleval import evaluate\n",
        "\n",
        "true_flat = [item for sublist in stored_labels for item in sublist]\n",
        "pred_flat = [item for sublist in stored_predictions for item in sublist]\n",
        "\n",
        "# print out the table as above\n",
        "evaluate(true_flat, pred_flat, verbose=True)\n",
        "\n",
        "# calculate overall metrics\n",
        "prec, rec, f1 = evaluate(true_flat, pred_flat, verbose=False)"
      ],
      "metadata": {
        "id": "l8R8nJ-UoDkA",
        "colab": {
          "base_uri": "https://localhost:8080/"
        },
        "outputId": "a656b586-9be4-4d97-e45b-34f6edec72c0"
      },
      "execution_count": null,
      "outputs": [
        {
          "output_type": "stream",
          "name": "stdout",
          "text": [
            "processed 737928 tokens with 114756 phrases; found: 114756 phrases; correct: 96700.\n",
            "accuracy:  85.34%; (non-O)\n",
            "accuracy:  95.58%; precision:  84.27%; recall:  84.27%; FB1:  84.27\n",
            "              GPE: precision:  81.42%; recall:  81.70%; FB1:  81.56  25305\n",
            "              LOC: precision:  50.64%; recall:  31.65%; FB1:  38.96  1785\n",
            "              ORG: precision:  75.96%; recall:  77.84%; FB1:  76.89  29084\n",
            "              PER: precision:  90.65%; recall:  91.08%; FB1:  90.86  58582\n"
          ]
        }
      ]
    },
    {
      "cell_type": "code",
      "source": [
        "conf_matrix = confusion_matrix(np.concatenate(stored_labels), np.concatenate(stored_predictions))\n",
        "labels = sorted(list(set(np.concatenate(stored_labels))))\n",
        "\n",
        "plt.figure(figsize=(10, 8))\n",
        "sns.heatmap(conf_matrix, annot=True, fmt='d', cmap='Blues', xticklabels=labels, yticklabels=labels)\n",
        "plt.xlabel('Predicted labels')\n",
        "plt.ylabel('True labels')\n",
        "plt.title('Confusion Matrix')\n",
        "plt.show()"
      ],
      "metadata": {
        "id": "81JDmg2QoEVw",
        "colab": {
          "base_uri": "https://localhost:8080/",
          "height": 718
        },
        "outputId": "eab5163e-f5c5-4727-8cd4-0f537107be8a"
      },
      "execution_count": null,
      "outputs": [
        {
          "output_type": "display_data",
          "data": {
            "text/plain": [
              "<Figure size 1000x800 with 2 Axes>"
            ],
            "image/png": "[encoded data removed]"
          },
          "metadata": {}
        }
      ]
    },
    {
      "cell_type": "code",
      "source": [
        "id2label= {\n",
        "    str(i):label for i, label in enumerate(label_list)\n",
        "}\n",
        "\n",
        "label2id = {\n",
        "    label:str(i) for i, label in enumerate(label_list)\n",
        "}"
      ],
      "metadata": {
        "id": "N-dS1d5uJp7w"
      },
      "execution_count": null,
      "outputs": []
    },
    {
      "cell_type": "code",
      "source": [
        "import json\n",
        "\n",
        "config = json.load(open('ner_model/config.json'))"
      ],
      "metadata": {
        "id": "jp24MUoyJ6hH"
      },
      "execution_count": null,
      "outputs": []
    },
    {
      "cell_type": "code",
      "source": [
        "config['id2label'] = id2label\n",
        "config['label2id'] = label2id\n",
        "\n",
        "json.dump(config, open('ner_model/config.json', 'w'))\n",
        "\n",
        "model_fine_tuned = AutoModelForTokenClassification.from_pretrained(\"ner_model\")"
      ],
      "metadata": {
        "id": "u__Uew-AKQ5i"
      },
      "execution_count": null,
      "outputs": []
    },
    {
      "cell_type": "markdown",
      "source": [
        "test on evaluation text"
      ],
      "metadata": {
        "id": "aSUh33sgKPsR"
      }
    },
    {
      "cell_type": "code",
      "source": [
        "from transformers import pipeline"
      ],
      "metadata": {
        "id": "Kfe0ZK-lKqAn"
      },
      "execution_count": null,
      "outputs": []
    },
    {
      "cell_type": "code",
      "source": [
        "nlp = pipeline(\"ner\", model=model_fine_tuned, tokenizer=tokenizer)\n",
        "\n",
        "example = \"Giorgia e Lucia hanno trovato un fiore in Trentino e l'hanno portato all'ONU ma a loro non è piaciuto quindi Pedrotti le ha sgridate\"\n",
        "\n",
        "ner_results = nlp(example)\n",
        "\n",
        "print(ner_results)"
      ],
      "metadata": {
        "id": "PTNWb2YYKwfS",
        "colab": {
          "base_uri": "https://localhost:8080/"
        },
        "outputId": "fbbe2c69-501a-46fa-9e03-e4e158a160c4"
      },
      "execution_count": null,
      "outputs": [
        {
          "output_type": "stream",
          "name": "stdout",
          "text": [
            "[{'entity': 'B-PER', 'score': 0.99929345, 'index': 1, 'word': '▁', 'start': 0, 'end': 1}, {'entity': 'B-PER', 'score': 0.99928015, 'index': 2, 'word': 'G', 'start': 0, 'end': 1}, {'entity': 'B-PER', 'score': 0.99937195, 'index': 3, 'word': 'i', 'start': 1, 'end': 2}, {'entity': 'B-PER', 'score': 0.99930847, 'index': 4, 'word': 'or', 'start': 2, 'end': 4}, {'entity': 'B-PER', 'score': 0.9994473, 'index': 5, 'word': 'gia', 'start': 4, 'end': 7}, {'entity': 'B-PER', 'score': 0.99955124, 'index': 7, 'word': '▁', 'start': 9, 'end': 10}, {'entity': 'B-PER', 'score': 0.9995622, 'index': 8, 'word': 'L', 'start': 10, 'end': 11}, {'entity': 'B-PER', 'score': 0.9995221, 'index': 9, 'word': 'u', 'start': 11, 'end': 12}, {'entity': 'B-PER', 'score': 0.9995509, 'index': 10, 'word': 'cia', 'start': 12, 'end': 15}, {'entity': 'B-GPE', 'score': 0.998895, 'index': 16, 'word': '▁', 'start': 41, 'end': 42}, {'entity': 'B-GPE', 'score': 0.9989047, 'index': 17, 'word': 'T', 'start': 42, 'end': 43}, {'entity': 'B-GPE', 'score': 0.9987987, 'index': 18, 'word': 'ren', 'start': 43, 'end': 46}, {'entity': 'B-GPE', 'score': 0.9988469, 'index': 19, 'word': 'tino', 'start': 46, 'end': 50}, {'entity': 'B-PER', 'score': 0.99967813, 'index': 35, 'word': '▁', 'start': 108, 'end': 109}, {'entity': 'B-PER', 'score': 0.9996824, 'index': 36, 'word': 'P', 'start': 109, 'end': 110}, {'entity': 'B-PER', 'score': 0.999668, 'index': 37, 'word': 'ed', 'start': 110, 'end': 112}, {'entity': 'B-PER', 'score': 0.99968874, 'index': 38, 'word': 'rotti', 'start': 112, 'end': 117}]\n"
          ]
        }
      ]
    }
  ]
}