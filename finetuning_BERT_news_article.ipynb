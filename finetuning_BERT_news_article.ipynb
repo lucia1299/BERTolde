{
  "cells": [
    {
      "cell_type": "markdown",
      "metadata": {
        "id": "view-in-github",
        "colab_type": "text"
      },
      "source": [
        "<a href=\"https://colab.research.google.com/github/lucia1299/BERTolde/blob/main/finetuning_BERT_news_article.ipynb\" target=\"_parent\"><img src=\"https://colab.research.google.com/assets/colab-badge.svg\" alt=\"Open In Colab\"/></a>"
      ]
    },
    {
      "cell_type": "markdown",
      "source": [
        "**Finetuning BERT for italian**\n",
        "\n",
        "This jupyter notebook shows the process used in our project to finetune BERT, RoBERTa, UmBERTo and GilBERTo for NER in the italian language starting from the EVALITA 2009 dataset which contains journal articles published by \"L'Adige\". In this notebook the process for BERT is shown and more or less the same is used for the other models."
      ],
      "metadata": {
        "id": "0pEWzigo33Zr"
      }
    },
    {
      "cell_type": "code",
      "execution_count": null,
      "metadata": {
        "id": "wkVbkFwj66F7"
      },
      "outputs": [],
      "source": [
        "!pip install transformers datasets tokenizers seqeval -q"
      ]
    },
    {
      "cell_type": "code",
      "execution_count": null,
      "metadata": {
        "id": "fz26Mt5M7Kdt"
      },
      "outputs": [],
      "source": [
        "import datasets\n",
        "import numpy as np\n",
        "from transformers import BertTokenizerFast, DataCollatorForTokenClassification, AutoModelForTokenClassification\n",
        "import seaborn as sns\n",
        "import matplotlib.pyplot as plt\n",
        "from sklearn.metrics import confusion_matrix"
      ]
    },
    {
      "cell_type": "markdown",
      "source": [
        "Since we relied mainly on HuggingFace, there was the need to adapt the existing database in IOB format to a dataset object that could be processed later on."
      ],
      "metadata": {
        "id": "LM4DUfoh4hmO"
      }
    },
    {
      "cell_type": "code",
      "execution_count": null,
      "metadata": {
        "colab": {
          "base_uri": "https://localhost:8080/"
        },
        "id": "YkAtprgH7dJ6",
        "outputId": "4c54b155-569e-43ce-a78f-8cdae310b386"
      },
      "outputs": [
        {
          "output_type": "stream",
          "name": "stdout",
          "text": [
            "DatasetDict({\n",
            "    train: Dataset({\n",
            "        features: ['id', 'pos', 'ner_tags', 'tokens', 'issueid'],\n",
            "        num_rows: 11227\n",
            "    })\n",
            "    test: Dataset({\n",
            "        features: ['id', 'pos', 'ner_tags', 'tokens', 'issueid'],\n",
            "        num_rows: 4136\n",
            "    })\n",
            "})\n"
          ]
        }
      ],
      "source": [
        "from datasets import Dataset, ClassLabel, Features, Sequence, Value, DatasetDict\n",
        "\n",
        "def creationdictionary(data, posdict, nerdict, pos_tags_list, ner_tags_list):\n",
        "    container_list = []\n",
        "\n",
        "    while data:\n",
        "        container_dict = {}\n",
        "        pos_list = []\n",
        "        ner_list = []\n",
        "        words_list = []\n",
        "\n",
        "        index_of_empty_list = data.index([]) if [] in data else len(data)\n",
        "        tokenized_data1 = data[0: index_of_empty_list]\n",
        "        for n in tokenized_data1:\n",
        "            if 'id' not in container_dict:\n",
        "                container_dict['id'] = 0\n",
        "            else:\n",
        "                container_dict['id'] += 1\n",
        "            if n[1] in posdict:\n",
        "                pos_list.append(posdict[n[1]])\n",
        "            if n[3] in nerdict:\n",
        "                ner_list.append(nerdict[n[3]])\n",
        "            words_list.append(n[0])\n",
        "\n",
        "        container_dict['pos'] = pos_list\n",
        "        container_dict['ner_tags'] = ner_list\n",
        "        container_dict['tokens'] = words_list\n",
        "        container_dict['issueid'] = tokenized_data1[0][2]\n",
        "        container_dict['id'] = str(container_dict['id'])\n",
        "\n",
        "        container_list.append(container_dict)\n",
        "\n",
        "        data = data[index_of_empty_list + 1:]\n",
        "\n",
        "    container_dict = {key: [d[key] for d in container_list] for key in container_list[0]}\n",
        "\n",
        "    ds = Dataset.from_dict(container_dict, features=Features({\n",
        "        'pos': Sequence(ClassLabel(names=pos_tags_list)),\n",
        "        'ner_tags': Sequence(ClassLabel(names=ner_tags_list)),\n",
        "        'tokens': Sequence(Value(dtype='string')),\n",
        "        'issueid': Value(dtype='string'),\n",
        "        'id': Value(dtype='string')\n",
        "        }))\n",
        "\n",
        "    return ds\n",
        "\n",
        "def posconversion(data):\n",
        "    posdict = {}\n",
        "    set1 = set()\n",
        "    for i in data:\n",
        "        if len(i) >= 1:\n",
        "            pos_tag = i[1]\n",
        "            set1.add(pos_tag)\n",
        "    pos_tags_list = list(set1)\n",
        "    v = 0\n",
        "    for i in set1:\n",
        "        posdict[i] = v\n",
        "        v +=1\n",
        "    return posdict, pos_tags_list\n",
        "\n",
        "def nerconversion(data):\n",
        "    nerdict = {}\n",
        "    set1 = set()\n",
        "    for i in data:\n",
        "        if len(i) >= 4:\n",
        "            ner_tag = i[3]\n",
        "            set1.add(ner_tag)\n",
        "    ner_tags_list = list(set1)\n",
        "    v = 0\n",
        "    for i in set1:\n",
        "        nerdict[i] = v\n",
        "        v +=1\n",
        "    return nerdict, ner_tags_list\n",
        "\n",
        "file_path_training = '/content/I-CAB-evalita09-NER-training.iob2'\n",
        "file_path_test = '/content/I-CAB-evalita09-NER-test.iob2'\n",
        "\n",
        "def read_iob_data(file_path):\n",
        "     with open(file_path, 'r', encoding='ISO-8859-1') as file:\n",
        "         iob_data = file.readlines()\n",
        "\n",
        "     data = [line.strip().split() for line in iob_data]\n",
        "     return data\n",
        "\n",
        "data_training = read_iob_data(file_path_training)\n",
        "posdict, pos_tags_list = posconversion(data_training)\n",
        "nerdict, ner_tags_list = nerconversion(data_training)\n",
        "result_training = creationdictionary(data_training, posdict, nerdict, pos_tags_list, ner_tags_list)\n",
        "\n",
        "data_test = read_iob_data(file_path_test)\n",
        "posdict, pos_tags_list = posconversion(data_test)\n",
        "nerdict, ner_tags_list = nerconversion(data_test)\n",
        "result_test = creationdictionary(data_test, posdict, nerdict, pos_tags_list, ner_tags_list)\n",
        "\n",
        "main_dataset = DatasetDict({\"train\": result_training, \"test\": result_test})\n",
        "print(main_dataset)"
      ]
    },
    {
      "cell_type": "code",
      "execution_count": null,
      "metadata": {
        "colab": {
          "base_uri": "https://localhost:8080/"
        },
        "id": "D_gzLGfR79Sb",
        "outputId": "2594f76d-d606-49fa-fcd6-73d3282a6ed1"
      },
      "outputs": [
        {
          "output_type": "execute_result",
          "data": {
            "text/plain": [
              "{'train': (11227, 5), 'test': (4136, 5)}"
            ]
          },
          "metadata": {},
          "execution_count": 4
        }
      ],
      "source": [
        "main_dataset.shape"
      ]
    },
    {
      "cell_type": "code",
      "execution_count": null,
      "metadata": {
        "colab": {
          "base_uri": "https://localhost:8080/"
        },
        "id": "ltsXMzzE8DAN",
        "outputId": "59edcfcf-f168-43d9-b3b8-2809d403b641"
      },
      "outputs": [
        {
          "output_type": "execute_result",
          "data": {
            "text/plain": [
              "{'id': '6',\n",
              " 'pos': [21, 39, 21, 52, 4, 19, 36],\n",
              " 'ner_tags': [7, 7, 7, 7, 7, 7, 6],\n",
              " 'tokens': ['Latte', 'al', 'seno', ',', 'sos', 'di', 'Pedrotti'],\n",
              " 'issueid': 'adige20041007_id413942'}"
            ]
          },
          "metadata": {},
          "execution_count": 5
        }
      ],
      "source": [
        "main_dataset['train'][1]"
      ]
    },
    {
      "cell_type": "code",
      "execution_count": null,
      "metadata": {
        "colab": {
          "base_uri": "https://localhost:8080/"
        },
        "id": "PWHpzENC8L81",
        "outputId": "05c37c75-f6f3-4cd3-afe1-db0bb1e6318c"
      },
      "outputs": [
        {
          "output_type": "execute_result",
          "data": {
            "text/plain": [
              "Sequence(feature=ClassLabel(names=['I-PER', 'I-ORG', 'B-ORG', 'B-LOC', 'I-GPE', 'I-LOC', 'B-PER', 'O', 'B-GPE'], id=None), length=-1, id=None)"
            ]
          },
          "metadata": {},
          "execution_count": 6
        }
      ],
      "source": [
        "main_dataset['train'].features['ner_tags']"
      ]
    },
    {
      "cell_type": "code",
      "execution_count": null,
      "metadata": {
        "id": "ACQAL-EI8TZi"
      },
      "outputs": [],
      "source": [
        "tokenizer = BertTokenizerFast.from_pretrained(\"dbmdz/bert-base-italian-xxl-cased\")"
      ]
    },
    {
      "cell_type": "code",
      "execution_count": null,
      "metadata": {
        "colab": {
          "base_uri": "https://localhost:8080/"
        },
        "id": "XhXTKUH28pgm",
        "outputId": "365dc16b-2521-4528-82f6-266cd283629c"
      },
      "outputs": [
        {
          "output_type": "execute_result",
          "data": {
            "text/plain": [
              "[None, 0, 1, 2, 3, 4, 5, 6, 6, None]"
            ]
          },
          "metadata": {},
          "execution_count": 8
        }
      ],
      "source": [
        "example_text = main_dataset['train'][1]\n",
        "\n",
        "tokenized_input = tokenizer(example_text['tokens'], is_split_into_words=True)\n",
        "\n",
        "tokens = tokenizer.convert_ids_to_tokens(tokenized_input['input_ids'])\n",
        "\n",
        "word_ids = tokenized_input.word_ids()\n",
        "\n",
        "word_ids\n"
      ]
    },
    {
      "cell_type": "code",
      "execution_count": null,
      "metadata": {
        "colab": {
          "base_uri": "https://localhost:8080/"
        },
        "id": "kwgNOOGZ_tfM",
        "outputId": "05b22fcf-3f81-4d6f-9fdc-48c4195d1a22"
      },
      "outputs": [
        {
          "output_type": "execute_result",
          "data": {
            "text/plain": [
              "['[CLS]', 'Latte', 'al', 'seno', ',', 'sos', 'di', 'Pedro', '##tti', '[SEP]']"
            ]
          },
          "metadata": {},
          "execution_count": 9
        }
      ],
      "source": [
        "tokens = tokenizer.convert_ids_to_tokens(tokenized_input['input_ids'])\n",
        "tokens\n",
        "\n",
        "#CLS and SEP are mapped to NONE"
      ]
    },
    {
      "cell_type": "code",
      "execution_count": null,
      "metadata": {
        "colab": {
          "base_uri": "https://localhost:8080/"
        },
        "id": "rpE2Vuj79SWb",
        "outputId": "72c1c7d7-5af0-41e7-995b-c8e734688ce3"
      },
      "outputs": [
        {
          "output_type": "execute_result",
          "data": {
            "text/plain": [
              "(7, 10)"
            ]
          },
          "metadata": {},
          "execution_count": 10
        }
      ],
      "source": [
        "len(example_text['ner_tags']), len(tokenized_input['input_ids'])"
      ]
    },
    {
      "cell_type": "markdown",
      "metadata": {
        "id": "rFUejpjF9oL-"
      },
      "source": [
        "Here we encountered one of the main problems: subtokenization.\n",
        "The input ids returned by the tokenizer are longer versus the labels of the dataset.\n",
        "\n",
        "Transformers are often pre trained with sub words tokenizers, so even if the input is already split into words each of those words could be split again by the tokenizer - further processing is needed on the labels because the input ids returned by the tokenizer are longer than the list of labels our dataset contains.\n",
        "\n",
        "This happens because some special tokens might be added and because of possible splits of words into multiple tokens.\n",
        "\n",
        "We are going to map the tokens that would be mapped to NONE to -100 because it's an index that it is ignored by pytorch during training + mask the subword representation after the first subword + align the labels with the token ids."
      ]
    },
    {
      "cell_type": "code",
      "execution_count": null,
      "metadata": {
        "id": "wHIlfAFg-jSe"
      },
      "outputs": [],
      "source": [
        "def tokenize_and_align_labels(example, label_all_tokens =True):\n",
        "    tokenized_input = tokenizer(example['tokens'], truncation=True, is_split_into_words=True)\n",
        "    labels = []\n",
        "\n",
        "    for i, label in enumerate(example['ner_tags']):\n",
        "        word_ids = tokenized_input.word_ids(batch_index=i)\n",
        "        #it returns a list indicating the word corresponding to each token\n",
        "        previous_word_idx = None\n",
        "\n",
        "        label_ids =[]\n",
        "\n",
        "        for word_idx in word_ids:\n",
        "            if word_idx is None:\n",
        "                #special tokens\n",
        "                label_ids.append(-100)\n",
        "            elif word_idx != previous_word_idx:\n",
        "                #regular case\n",
        "                label_ids.append(label[word_idx])\n",
        "            else:\n",
        "                #subword case\n",
        "                label_ids.append(label[word_idx] if label_all_tokens else -100)\n",
        "            previous_word_idx = word_idx\n",
        "        labels.append(label_ids)\n",
        "    tokenized_input['labels'] = labels\n",
        "    return tokenized_input"
      ]
    },
    {
      "cell_type": "code",
      "execution_count": null,
      "metadata": {
        "colab": {
          "base_uri": "https://localhost:8080/"
        },
        "id": "WP5L8ha9Bee-",
        "outputId": "776f04e0-c2e3-4693-a27e-296328491253"
      },
      "outputs": [
        {
          "output_type": "stream",
          "name": "stdout",
          "text": [
            "{'input_ids': [[102, 4231, 518, 1228, 697, 1663, 157, 3442, 5328, 151, 697, 19936, 223, 10271, 1423, 120, 28301, 139, 21232, 1307, 120, 220, 2089, 153, 4334, 10465, 1307, 120, 25855, 111, 453, 212, 783, 198, 14169, 162, 1767, 334, 2031, 13881, 697, 103]], 'token_type_ids': [[0, 0, 0, 0, 0, 0, 0, 0, 0, 0, 0, 0, 0, 0, 0, 0, 0, 0, 0, 0, 0, 0, 0, 0, 0, 0, 0, 0, 0, 0, 0, 0, 0, 0, 0, 0, 0, 0, 0, 0, 0, 0]], 'attention_mask': [[1, 1, 1, 1, 1, 1, 1, 1, 1, 1, 1, 1, 1, 1, 1, 1, 1, 1, 1, 1, 1, 1, 1, 1, 1, 1, 1, 1, 1, 1, 1, 1, 1, 1, 1, 1, 1, 1, 1, 1, 1, 1]], 'labels': [[-100, 7, 7, 7, 7, 7, 7, 7, 7, 7, 7, 7, 7, 7, 7, 7, 7, 7, 8, 7, 7, 7, 7, 7, 7, 7, 7, 7, 7, 7, 7, 7, 7, 7, 7, 7, 7, 7, 7, 7, 7, -100]]}\n"
          ]
        }
      ],
      "source": [
        "q = tokenize_and_align_labels(main_dataset['train'][4:5])\n",
        "print(q)"
      ]
    },
    {
      "cell_type": "code",
      "execution_count": null,
      "metadata": {
        "colab": {
          "base_uri": "https://localhost:8080/"
        },
        "id": "POVz5UwuB1sH",
        "outputId": "cabfb60b-0acd-404c-9e6b-5b69a8c84566"
      },
      "outputs": [
        {
          "output_type": "stream",
          "name": "stdout",
          "text": [
            "[CLS]___________________________________ -100\n",
            "Oggi____________________________________ 7\n",
            "alle____________________________________ 7\n",
            "17______________________________________ 7\n",
            "._______________________________________ 7\n",
            "30______________________________________ 7\n",
            "al______________________________________ 7\n",
            "Centro__________________________________ 7\n",
            "culturale_______________________________ 7\n",
            "S_______________________________________ 7\n",
            "._______________________________________ 7\n",
            "Chiara__________________________________ 7\n",
            "si______________________________________ 7\n",
            "parl____________________________________ 7\n",
            "##erà___________________________________ 7\n",
            "di______________________________________ 7\n",
            "allattamento____________________________ 7\n",
            "in______________________________________ 7\n",
            "Trentino________________________________ 8\n",
            ",_______________________________________ 7\n",
            "di______________________________________ 7\n",
            "ma______________________________________ 7\n",
            "##mme___________________________________ 7\n",
            "con_____________________________________ 7\n",
            "tanti___________________________________ 7\n",
            "dubbi___________________________________ 7\n",
            ",_______________________________________ 7\n",
            "di______________________________________ 7\n",
            "neonati_________________________________ 7\n",
            "a_______________________________________ 7\n",
            "cui_____________________________________ 7\n",
            "non_____________________________________ 7\n",
            "sempre__________________________________ 7\n",
            "è_______________________________________ 7\n",
            "garantito_______________________________ 7\n",
            "il______________________________________ 7\n",
            "diritto_________________________________ 7\n",
            "alla____________________________________ 7\n",
            "migliore________________________________ 7\n",
            "alimentazione___________________________ 7\n",
            "._______________________________________ 7\n",
            "[SEP]___________________________________ -100\n"
          ]
        }
      ],
      "source": [
        "for token, label in zip(tokenizer.convert_ids_to_tokens(q['input_ids'][0]), (q['labels'][0])):\n",
        "    print(f\"{token:_<40} {label}\")"
      ]
    },
    {
      "cell_type": "code",
      "execution_count": null,
      "metadata": {
        "colab": {
          "base_uri": "https://localhost:8080/",
          "height": 81,
          "referenced_widgets": [
            "186bcc14d837484fb7d71ba2d4edd868",
            "3d68080f77b541269373ccee984e3376",
            "45ba187d5ea94f3da013637f75535786",
            "7e46f70900644a6da969ae610c8e91b0",
            "124989dbe21e4798937eee19020c24e1",
            "5d9b951b80ef40aa82f1aecaf55fc2d7",
            "0761269837b5405b9ca9423aee889b35",
            "f1185cd1054343acb636594d1475c66a",
            "24fe6ea26ac44a5da776ebb4040fad7b",
            "30c8301dce9a45b1a73a7ace4f23cf5e",
            "80f25080c113495da8ea57b288ade04d",
            "efdfcc7b572345f9bd31b64b9a260d3a",
            "25cfbfbc61df48f5ac412ee418338468",
            "e0eafa4dc9b240129bc35b1a75968ee0",
            "b93de2330db34c1dab743be737cc0c38",
            "5d0e45c795b94450ab811c62bac1083a",
            "5712ed56f875495aaf057a9bd929bc93",
            "c276c63e87be418a8acfe2e9b7228680",
            "02c0eb49fb68479ba3f84677a128037e",
            "c455d346097041d0a11fa1a46e23114c",
            "856bb82cb799421c9fb12f45c3aa3693",
            "58e977abd1254bf4bc84e05b52db06b1"
          ]
        },
        "id": "sCTG0BXkCosA",
        "outputId": "869a46fb-a33a-416f-ebbc-cb5bb7f30ade"
      },
      "outputs": [
        {
          "output_type": "display_data",
          "data": {
            "text/plain": [
              "Map:   0%|          | 0/11227 [00:00<?, ? examples/s]"
            ],
            "application/vnd.jupyter.widget-view+json": {
              "version_major": 2,
              "version_minor": 0,
              "model_id": "186bcc14d837484fb7d71ba2d4edd868"
            }
          },
          "metadata": {}
        },
        {
          "output_type": "display_data",
          "data": {
            "text/plain": [
              "Map:   0%|          | 0/4136 [00:00<?, ? examples/s]"
            ],
            "application/vnd.jupyter.widget-view+json": {
              "version_major": 2,
              "version_minor": 0,
              "model_id": "efdfcc7b572345f9bd31b64b9a260d3a"
            }
          },
          "metadata": {}
        }
      ],
      "source": [
        "tokenized_dataset = main_dataset.map(tokenize_and_align_labels, batched=True)"
      ]
    },
    {
      "cell_type": "code",
      "execution_count": null,
      "metadata": {
        "colab": {
          "base_uri": "https://localhost:8080/"
        },
        "id": "KhrHaitQDJ7u",
        "outputId": "07e5593c-15d2-4115-bcd2-45b4edc17cd1"
      },
      "outputs": [
        {
          "output_type": "execute_result",
          "data": {
            "text/plain": [
              "9"
            ]
          },
          "metadata": {},
          "execution_count": 15
        }
      ],
      "source": [
        "num_labels = main_dataset['train'].features['ner_tags'].feature.num_classes\n",
        "num_labels"
      ]
    },
    {
      "cell_type": "code",
      "execution_count": null,
      "metadata": {
        "colab": {
          "base_uri": "https://localhost:8080/"
        },
        "id": "dedA-YxfC7GA",
        "outputId": "e2dd52c8-1800-44d0-c30a-c4701fedef0a"
      },
      "outputs": [
        {
          "output_type": "stream",
          "name": "stderr",
          "text": [
            "Some weights of BertForTokenClassification were not initialized from the model checkpoint at dbmdz/bert-base-italian-xxl-cased and are newly initialized: ['classifier.bias', 'classifier.weight']\n",
            "You should probably TRAIN this model on a down-stream task to be able to use it for predictions and inference.\n"
          ]
        }
      ],
      "source": [
        "model = AutoModelForTokenClassification.from_pretrained(\"dbmdz/bert-base-italian-xxl-cased\", num_labels = num_labels)"
      ]
    },
    {
      "cell_type": "code",
      "execution_count": null,
      "metadata": {
        "colab": {
          "base_uri": "https://localhost:8080/"
        },
        "id": "3Ym83mLclFQp",
        "outputId": "5f172843-797e-49d3-a40e-4349539b2f3e"
      },
      "outputs": [
        {
          "output_type": "stream",
          "name": "stdout",
          "text": [
            "Requirement already satisfied: accelerate in /usr/local/lib/python3.10/dist-packages (0.25.0)\n",
            "Requirement already satisfied: numpy>=1.17 in /usr/local/lib/python3.10/dist-packages (from accelerate) (1.23.5)\n",
            "Requirement already satisfied: packaging>=20.0 in /usr/local/lib/python3.10/dist-packages (from accelerate) (23.2)\n",
            "Requirement already satisfied: psutil in /usr/local/lib/python3.10/dist-packages (from accelerate) (5.9.5)\n",
            "Requirement already satisfied: pyyaml in /usr/local/lib/python3.10/dist-packages (from accelerate) (6.0.1)\n",
            "Requirement already satisfied: torch>=1.10.0 in /usr/local/lib/python3.10/dist-packages (from accelerate) (2.1.0+cu118)\n",
            "Requirement already satisfied: huggingface-hub in /usr/local/lib/python3.10/dist-packages (from accelerate) (0.19.4)\n",
            "Requirement already satisfied: safetensors>=0.3.1 in /usr/local/lib/python3.10/dist-packages (from accelerate) (0.4.1)\n",
            "Requirement already satisfied: filelock in /usr/local/lib/python3.10/dist-packages (from torch>=1.10.0->accelerate) (3.13.1)\n",
            "Requirement already satisfied: typing-extensions in /usr/local/lib/python3.10/dist-packages (from torch>=1.10.0->accelerate) (4.5.0)\n",
            "Requirement already satisfied: sympy in /usr/local/lib/python3.10/dist-packages (from torch>=1.10.0->accelerate) (1.12)\n",
            "Requirement already satisfied: networkx in /usr/local/lib/python3.10/dist-packages (from torch>=1.10.0->accelerate) (3.2.1)\n",
            "Requirement already satisfied: jinja2 in /usr/local/lib/python3.10/dist-packages (from torch>=1.10.0->accelerate) (3.1.2)\n",
            "Requirement already satisfied: fsspec in /usr/local/lib/python3.10/dist-packages (from torch>=1.10.0->accelerate) (2023.6.0)\n",
            "Requirement already satisfied: triton==2.1.0 in /usr/local/lib/python3.10/dist-packages (from torch>=1.10.0->accelerate) (2.1.0)\n",
            "Requirement already satisfied: requests in /usr/local/lib/python3.10/dist-packages (from huggingface-hub->accelerate) (2.31.0)\n",
            "Requirement already satisfied: tqdm>=4.42.1 in /usr/local/lib/python3.10/dist-packages (from huggingface-hub->accelerate) (4.66.1)\n",
            "Requirement already satisfied: MarkupSafe>=2.0 in /usr/local/lib/python3.10/dist-packages (from jinja2->torch>=1.10.0->accelerate) (2.1.3)\n",
            "Requirement already satisfied: charset-normalizer<4,>=2 in /usr/local/lib/python3.10/dist-packages (from requests->huggingface-hub->accelerate) (3.3.2)\n",
            "Requirement already satisfied: idna<4,>=2.5 in /usr/local/lib/python3.10/dist-packages (from requests->huggingface-hub->accelerate) (3.6)\n",
            "Requirement already satisfied: urllib3<3,>=1.21.1 in /usr/local/lib/python3.10/dist-packages (from requests->huggingface-hub->accelerate) (2.0.7)\n",
            "Requirement already satisfied: certifi>=2017.4.17 in /usr/local/lib/python3.10/dist-packages (from requests->huggingface-hub->accelerate) (2023.11.17)\n",
            "Requirement already satisfied: mpmath>=0.19 in /usr/local/lib/python3.10/dist-packages (from sympy->torch>=1.10.0->accelerate) (1.3.0)\n"
          ]
        }
      ],
      "source": [
        "!pip install accelerate -U"
      ]
    },
    {
      "cell_type": "code",
      "execution_count": null,
      "metadata": {
        "colab": {
          "base_uri": "https://localhost:8080/"
        },
        "id": "oCWT7BUKlTfq",
        "outputId": "18e1aba9-5c19-4491-fcc7-413d1c6af035"
      },
      "outputs": [
        {
          "output_type": "stream",
          "name": "stdout",
          "text": [
            "Requirement already satisfied: transformers[torch] in /usr/local/lib/python3.10/dist-packages (4.35.2)\n",
            "Requirement already satisfied: filelock in /usr/local/lib/python3.10/dist-packages (from transformers[torch]) (3.13.1)\n",
            "Requirement already satisfied: huggingface-hub<1.0,>=0.16.4 in /usr/local/lib/python3.10/dist-packages (from transformers[torch]) (0.19.4)\n",
            "Requirement already satisfied: numpy>=1.17 in /usr/local/lib/python3.10/dist-packages (from transformers[torch]) (1.23.5)\n",
            "Requirement already satisfied: packaging>=20.0 in /usr/local/lib/python3.10/dist-packages (from transformers[torch]) (23.2)\n",
            "Requirement already satisfied: pyyaml>=5.1 in /usr/local/lib/python3.10/dist-packages (from transformers[torch]) (6.0.1)\n",
            "Requirement already satisfied: regex!=2019.12.17 in /usr/local/lib/python3.10/dist-packages (from transformers[torch]) (2023.6.3)\n",
            "Requirement already satisfied: requests in /usr/local/lib/python3.10/dist-packages (from transformers[torch]) (2.31.0)\n",
            "Requirement already satisfied: tokenizers<0.19,>=0.14 in /usr/local/lib/python3.10/dist-packages (from transformers[torch]) (0.15.0)\n",
            "Requirement already satisfied: safetensors>=0.3.1 in /usr/local/lib/python3.10/dist-packages (from transformers[torch]) (0.4.1)\n",
            "Requirement already satisfied: tqdm>=4.27 in /usr/local/lib/python3.10/dist-packages (from transformers[torch]) (4.66.1)\n",
            "Requirement already satisfied: torch!=1.12.0,>=1.10 in /usr/local/lib/python3.10/dist-packages (from transformers[torch]) (2.1.0+cu118)\n",
            "Requirement already satisfied: accelerate>=0.20.3 in /usr/local/lib/python3.10/dist-packages (from transformers[torch]) (0.25.0)\n",
            "Requirement already satisfied: psutil in /usr/local/lib/python3.10/dist-packages (from accelerate>=0.20.3->transformers[torch]) (5.9.5)\n",
            "Requirement already satisfied: fsspec>=2023.5.0 in /usr/local/lib/python3.10/dist-packages (from huggingface-hub<1.0,>=0.16.4->transformers[torch]) (2023.6.0)\n",
            "Requirement already satisfied: typing-extensions>=3.7.4.3 in /usr/local/lib/python3.10/dist-packages (from huggingface-hub<1.0,>=0.16.4->transformers[torch]) (4.5.0)\n",
            "Requirement already satisfied: sympy in /usr/local/lib/python3.10/dist-packages (from torch!=1.12.0,>=1.10->transformers[torch]) (1.12)\n",
            "Requirement already satisfied: networkx in /usr/local/lib/python3.10/dist-packages (from torch!=1.12.0,>=1.10->transformers[torch]) (3.2.1)\n",
            "Requirement already satisfied: jinja2 in /usr/local/lib/python3.10/dist-packages (from torch!=1.12.0,>=1.10->transformers[torch]) (3.1.2)\n",
            "Requirement already satisfied: triton==2.1.0 in /usr/local/lib/python3.10/dist-packages (from torch!=1.12.0,>=1.10->transformers[torch]) (2.1.0)\n",
            "Requirement already satisfied: charset-normalizer<4,>=2 in /usr/local/lib/python3.10/dist-packages (from requests->transformers[torch]) (3.3.2)\n",
            "Requirement already satisfied: idna<4,>=2.5 in /usr/local/lib/python3.10/dist-packages (from requests->transformers[torch]) (3.6)\n",
            "Requirement already satisfied: urllib3<3,>=1.21.1 in /usr/local/lib/python3.10/dist-packages (from requests->transformers[torch]) (2.0.7)\n",
            "Requirement already satisfied: certifi>=2017.4.17 in /usr/local/lib/python3.10/dist-packages (from requests->transformers[torch]) (2023.11.17)\n",
            "Requirement already satisfied: MarkupSafe>=2.0 in /usr/local/lib/python3.10/dist-packages (from jinja2->torch!=1.12.0,>=1.10->transformers[torch]) (2.1.3)\n",
            "Requirement already satisfied: mpmath>=0.19 in /usr/local/lib/python3.10/dist-packages (from sympy->torch!=1.12.0,>=1.10->transformers[torch]) (1.3.0)\n"
          ]
        }
      ],
      "source": [
        "pip install transformers[torch]"
      ]
    },
    {
      "cell_type": "code",
      "execution_count": null,
      "metadata": {
        "id": "gZGaI19ADSCu"
      },
      "outputs": [],
      "source": [
        "#define training arguments hyper parameters\n",
        "from transformers import TrainingArguments, Trainer\n",
        "\n",
        "args = TrainingArguments(\n",
        "    \"test-ner\",\n",
        "    evaluation_strategy=\"epoch\",\n",
        "    learning_rate=2e-5,\n",
        "    per_device_train_batch_size=4,\n",
        "    per_device_eval_batch_size=4,\n",
        "    num_train_epochs=6,\n",
        "    weight_decay=0.01,\n",
        ")"
      ]
    },
    {
      "cell_type": "code",
      "execution_count": null,
      "metadata": {
        "id": "kJ_-UpQTEwCv"
      },
      "outputs": [],
      "source": [
        "data_collator = DataCollatorForTokenClassification(tokenizer)\n",
        "#objects that will form a batch by using a list of dataset elements as input - they are the same type of the elemtns of the trian dataset"
      ]
    },
    {
      "cell_type": "code",
      "execution_count": null,
      "metadata": {
        "id": "r4THUkMiFL98",
        "colab": {
          "base_uri": "https://localhost:8080/",
          "height": 104,
          "referenced_widgets": [
            "e7574ee050e24958bf0fd66b41f133f9",
            "3666c1a03a3447de88cb75e7fb31ba1c",
            "08c2fd710a7445f38f4aa274669f7de1",
            "0b54f1fa2d5b470ebd9e7854d2dcc882",
            "2b43965618c74260937c048c8de50e9f",
            "d9b037cfabff4e4f8812a71377b3b021",
            "b64ae77e5c224793ae57dd163385edf9",
            "0288e1ffd5f54497b401d95be1de90bd",
            "4f44d83c1de04c3eae576a73cde27706",
            "584682d2359a45898f108697a22f0f97",
            "051f2195974e46d09d815f4b4507f2cb"
          ]
        },
        "outputId": "f836880b-f77c-4874-eb85-d642e9319f01"
      },
      "outputs": [
        {
          "output_type": "stream",
          "name": "stderr",
          "text": [
            "<ipython-input-21-5a350dea02ef>:1: FutureWarning: load_metric is deprecated and will be removed in the next major version of datasets. Use 'evaluate.load' instead, from the new library 🤗 Evaluate: https://huggingface.co/docs/evaluate\n",
            "  metric = datasets.load_metric('seqeval')\n"
          ]
        },
        {
          "output_type": "display_data",
          "data": {
            "text/plain": [
              "Downloading builder script:   0%|          | 0.00/2.47k [00:00<?, ?B/s]"
            ],
            "application/vnd.jupyter.widget-view+json": {
              "version_major": 2,
              "version_minor": 0,
              "model_id": "e7574ee050e24958bf0fd66b41f133f9"
            }
          },
          "metadata": {}
        }
      ],
      "source": [
        "metric = datasets.load_metric('seqeval')\n",
        "example = main_dataset['train'][0]"
      ]
    },
    {
      "cell_type": "code",
      "execution_count": null,
      "metadata": {
        "colab": {
          "base_uri": "https://localhost:8080/"
        },
        "id": "mbqYW3FKFTkF",
        "outputId": "1fca7ac8-6f22-414b-ecbe-dee19ebe2a08"
      },
      "outputs": [
        {
          "output_type": "execute_result",
          "data": {
            "text/plain": [
              "['I-PER', 'I-ORG', 'B-ORG', 'B-LOC', 'I-GPE', 'I-LOC', 'B-PER', 'O', 'B-GPE']"
            ]
          },
          "metadata": {},
          "execution_count": 22
        }
      ],
      "source": [
        "label_list = main_dataset['train'].features['ner_tags'].feature.names\n",
        "label_list"
      ]
    },
    {
      "cell_type": "code",
      "execution_count": null,
      "metadata": {
        "id": "1xrheOc6GvMC"
      },
      "outputs": [],
      "source": [
        "example = main_dataset['train'][1]"
      ]
    },
    {
      "cell_type": "code",
      "execution_count": null,
      "metadata": {
        "colab": {
          "base_uri": "https://localhost:8080/"
        },
        "id": "KGkApBvuGMli",
        "outputId": "b09cb010-d219-46f1-8438-1e35af77fc13"
      },
      "outputs": [
        {
          "output_type": "execute_result",
          "data": {
            "text/plain": [
              "['O', 'O', 'O', 'O', 'O', 'O', 'B-PER']"
            ]
          },
          "metadata": {},
          "execution_count": 24
        }
      ],
      "source": [
        "#calculate the metric on a single example (the first of the train dataset)\n",
        "labels = [label_list[i] for i in example['ner_tags']]\n",
        "labels"
      ]
    },
    {
      "cell_type": "code",
      "execution_count": null,
      "metadata": {
        "colab": {
          "base_uri": "https://localhost:8080/"
        },
        "id": "T-ZEzI6OGz11",
        "outputId": "0a8e3ec9-fd0a-471f-f8d1-2b36cc51d34b"
      },
      "outputs": [
        {
          "output_type": "execute_result",
          "data": {
            "text/plain": [
              "{'PER': {'precision': 1.0, 'recall': 1.0, 'f1': 1.0, 'number': 1},\n",
              " 'overall_precision': 1.0,\n",
              " 'overall_recall': 1.0,\n",
              " 'overall_f1': 1.0,\n",
              " 'overall_accuracy': 1.0}"
            ]
          },
          "metadata": {},
          "execution_count": 25
        }
      ],
      "source": [
        "#check if metric.compute works\n",
        "metric.compute(predictions=[labels], references=[labels])\n",
        "#the score of this is very high because I pass the same list to both my predictions and references"
      ]
    },
    {
      "cell_type": "code",
      "execution_count": null,
      "metadata": {
        "id": "JAn7-31bHMEG"
      },
      "outputs": [],
      "source": [
        "def compute_metrics(eval_preds):\n",
        "    pred_logits, labels = eval_preds\n",
        "\n",
        "    # pred_logits are obtained by passing numpy.argmax\n",
        "    pred_logits = np.argmax(pred_logits, axis=2)\n",
        "    # the logits and the probabilities are in the same order,\n",
        "    # so we don’t need to apply the softmax\n",
        "\n",
        "    # We remove all the values where the label is -100\n",
        "    # define the variable prediction\n",
        "    predictions = [\n",
        "        [label_list[eval_preds] for (eval_preds, l) in zip(prediction, label) if l != -100]\n",
        "        for prediction, label in zip(pred_logits, labels)\n",
        "    ]\n",
        "    # define the variable true_labels\n",
        "    true_labels = [\n",
        "      [label_list[l] for (eval_preds, l) in zip(prediction, label) if l != -100]\n",
        "       for prediction, label in zip(pred_logits, labels)\n",
        "    ]\n",
        "    results = metric.compute(predictions=predictions, references=true_labels)\n",
        "\n",
        "    global stored_predictions, stored_labels\n",
        "    stored_predictions.extend(predictions)\n",
        "    stored_labels.extend(true_labels)\n",
        "\n",
        "    return {\n",
        "   \"precision\": results[\"overall_precision\"],\n",
        "   \"recall\": results[\"overall_recall\"],\n",
        "   \"f1\": results[\"overall_f1\"],\n",
        "    \"accuracy\": results[\"overall_accuracy\"],\n",
        "  }\n"
      ]
    },
    {
      "cell_type": "code",
      "source": [
        "stored_predictions = []\n",
        "stored_labels = []"
      ],
      "metadata": {
        "id": "5G_ZLV0hoXGX"
      },
      "execution_count": null,
      "outputs": []
    },
    {
      "cell_type": "markdown",
      "source": [
        "We perform evaluation using the \"test\" database because we did not have a validation dataset but only train and test."
      ],
      "metadata": {
        "id": "M5K7i0FN8E2c"
      }
    },
    {
      "cell_type": "code",
      "execution_count": null,
      "metadata": {
        "id": "SvQZcRLpHMJ4"
      },
      "outputs": [],
      "source": [
        "trainer = Trainer (\n",
        "    model,\n",
        "    args,\n",
        "    train_dataset=tokenized_dataset[\"train\"],\n",
        "    eval_dataset=tokenized_dataset[\"test\"],\n",
        "    data_collator=data_collator,\n",
        "    tokenizer=tokenizer,\n",
        "    compute_metrics=compute_metrics\n",
        ")"
      ]
    },
    {
      "cell_type": "code",
      "execution_count": null,
      "metadata": {
        "colab": {
          "base_uri": "https://localhost:8080/",
          "height": 388
        },
        "id": "y0z5_wItJftt",
        "outputId": "de58ad10-8615-4402-9f6a-61d3340721d5"
      },
      "outputs": [
        {
          "output_type": "stream",
          "name": "stderr",
          "text": [
            "You're using a BertTokenizerFast tokenizer. Please note that with a fast tokenizer, using the `__call__` method is faster than using a method to encode the text followed by a call to the `pad` method to get a padded encoding.\n"
          ]
        },
        {
          "output_type": "display_data",
          "data": {
            "text/plain": [
              "<IPython.core.display.HTML object>"
            ],
            "text/html": [
              "\n",
              "    <div>\n",
              "      \n",
              "      <progress value='16842' max='16842' style='width:300px; height:20px; vertical-align: middle;'></progress>\n",
              "      [16842/16842 29:38, Epoch 6/6]\n",
              "    </div>\n",
              "    <table border=\"1\" class=\"dataframe\">\n",
              "  <thead>\n",
              " <tr style=\"text-align: left;\">\n",
              "      <th>Epoch</th>\n",
              "      <th>Training Loss</th>\n",
              "      <th>Validation Loss</th>\n",
              "      <th>Precision</th>\n",
              "      <th>Recall</th>\n",
              "      <th>F1</th>\n",
              "      <th>Accuracy</th>\n",
              "    </tr>\n",
              "  </thead>\n",
              "  <tbody>\n",
              "    <tr>\n",
              "      <td>1</td>\n",
              "      <td>0.081700</td>\n",
              "      <td>0.100095</td>\n",
              "      <td>0.863800</td>\n",
              "      <td>0.859533</td>\n",
              "      <td>0.861661</td>\n",
              "      <td>0.980064</td>\n",
              "    </tr>\n",
              "    <tr>\n",
              "      <td>2</td>\n",
              "      <td>0.049700</td>\n",
              "      <td>0.091854</td>\n",
              "      <td>0.868903</td>\n",
              "      <td>0.878172</td>\n",
              "      <td>0.873513</td>\n",
              "      <td>0.981411</td>\n",
              "    </tr>\n",
              "    <tr>\n",
              "      <td>3</td>\n",
              "      <td>0.020100</td>\n",
              "      <td>0.109841</td>\n",
              "      <td>0.864178</td>\n",
              "      <td>0.878733</td>\n",
              "      <td>0.871395</td>\n",
              "      <td>0.980422</td>\n",
              "    </tr>\n",
              "    <tr>\n",
              "      <td>4</td>\n",
              "      <td>0.009600</td>\n",
              "      <td>0.128655</td>\n",
              "      <td>0.880545</td>\n",
              "      <td>0.884797</td>\n",
              "      <td>0.882666</td>\n",
              "      <td>0.982139</td>\n",
              "    </tr>\n",
              "    <tr>\n",
              "      <td>5</td>\n",
              "      <td>0.006600</td>\n",
              "      <td>0.130664</td>\n",
              "      <td>0.876498</td>\n",
              "      <td>0.886930</td>\n",
              "      <td>0.881683</td>\n",
              "      <td>0.981567</td>\n",
              "    </tr>\n",
              "    <tr>\n",
              "      <td>6</td>\n",
              "      <td>0.002300</td>\n",
              "      <td>0.130209</td>\n",
              "      <td>0.884933</td>\n",
              "      <td>0.890299</td>\n",
              "      <td>0.887608</td>\n",
              "      <td>0.982895</td>\n",
              "    </tr>\n",
              "  </tbody>\n",
              "</table><p>"
            ]
          },
          "metadata": {}
        },
        {
          "output_type": "execute_result",
          "data": {
            "text/plain": [
              "('tokenizer/tokenizer_config.json',\n",
              " 'tokenizer/special_tokens_map.json',\n",
              " 'tokenizer/vocab.txt',\n",
              " 'tokenizer/added_tokens.json',\n",
              " 'tokenizer/tokenizer.json')"
            ]
          },
          "metadata": {},
          "execution_count": 29
        }
      ],
      "source": [
        "trainer.train()\n",
        "\n",
        "model.save_pretrained('ner_model')\n",
        "\n",
        "tokenizer.save_pretrained('tokenizer')"
      ]
    },
    {
      "cell_type": "markdown",
      "source": [
        "Here we imported the conlleval python script that allows us to get the F1 score of our model considering the CONLL-2000 shared task."
      ],
      "metadata": {
        "id": "gHdbEOat68eF"
      }
    },
    {
      "cell_type": "code",
      "source": [
        "from conlleval import evaluate\n",
        "\n",
        "true_flat = [item for sublist in stored_labels for item in sublist]\n",
        "pred_flat = [item for sublist in stored_predictions for item in sublist]\n",
        "\n",
        "# print out the table as above\n",
        "evaluate(true_flat, pred_flat, verbose=True)\n",
        "\n",
        "# calculate overall metrics\n",
        "prec, rec, f1 = evaluate(true_flat, pred_flat, verbose=False)"
      ],
      "metadata": {
        "id": "okgL18GLoNTF",
        "colab": {
          "base_uri": "https://localhost:8080/"
        },
        "outputId": "b9e486b6-c2e8-4976-fbdb-5eacff585045"
      },
      "execution_count": null,
      "outputs": [
        {
          "output_type": "stream",
          "name": "stdout",
          "text": [
            "processed 618768 tokens with 53436 phrases; found: 53840 phrases; correct: 47010.\n",
            "accuracy:  90.28%; (non-O)\n",
            "accuracy:  98.14%; precision:  87.31%; recall:  87.97%; FB1:  87.64\n",
            "              GPE: precision:  85.07%; recall:  88.59%; FB1:  86.79  11278\n",
            "              LOC: precision:  64.88%; recall:  50.96%; FB1:  57.08  1230\n",
            "              ORG: precision:  77.36%; recall:  84.38%; FB1:  80.71  14326\n",
            "              PER: precision:  94.56%; recall:  91.51%; FB1:  93.01  27006\n"
          ]
        }
      ]
    },
    {
      "cell_type": "code",
      "source": [
        "conf_matrix = confusion_matrix(np.concatenate(stored_labels), np.concatenate(stored_predictions))\n",
        "labels = sorted(list(set(np.concatenate(stored_labels))))\n",
        "\n",
        "plt.figure(figsize=(10, 8))\n",
        "sns.heatmap(conf_matrix, annot=True, fmt='d', cmap='Blues', xticklabels=labels, yticklabels=labels)\n",
        "plt.xlabel('Predicted labels')\n",
        "plt.ylabel('True labels')\n",
        "plt.title('Confusion Matrix')\n",
        "plt.show()"
      ],
      "metadata": {
        "id": "uw0IqQIQoOFi",
        "colab": {
          "base_uri": "https://localhost:8080/",
          "height": 718
        },
        "outputId": "97981653-4cb0-4d97-f386-7f9ca974a1cc"
      },
      "execution_count": null,
      "outputs": [
        {
          "output_type": "display_data",
          "data": {
            "text/plain": [
              "<Figure size 1000x800 with 2 Axes>"
            ],
            "image/png": "[encoded data removed]"
          },
          "metadata": {}
        }
      ]
    },
    {
      "cell_type": "code",
      "execution_count": null,
      "metadata": {
        "id": "N-dS1d5uJp7w"
      },
      "outputs": [],
      "source": [
        "id2label= {\n",
        "    str(i):label for i, label in enumerate(label_list)\n",
        "}\n",
        "\n",
        "label2id = {\n",
        "    label:str(i) for i, label in enumerate(label_list)\n",
        "}"
      ]
    },
    {
      "cell_type": "code",
      "execution_count": null,
      "metadata": {
        "id": "jp24MUoyJ6hH"
      },
      "outputs": [],
      "source": [
        "import json\n",
        "\n",
        "config = json.load(open('ner_model/config.json'))"
      ]
    },
    {
      "cell_type": "code",
      "execution_count": null,
      "metadata": {
        "id": "u__Uew-AKQ5i"
      },
      "outputs": [],
      "source": [
        "config['id2label'] = id2label\n",
        "config['label2id'] = label2id\n",
        "\n",
        "json.dump(config, open('ner_model/config.json', 'w'))\n",
        "\n",
        "model_fine_tuned = AutoModelForTokenClassification.from_pretrained(\"ner_model\")"
      ]
    },
    {
      "cell_type": "markdown",
      "metadata": {
        "id": "aSUh33sgKPsR"
      },
      "source": [
        "We test our finetuned model with a random input to check if it tokenizes words correctly and assigns entities to tokens."
      ]
    },
    {
      "cell_type": "code",
      "execution_count": null,
      "metadata": {
        "id": "Kfe0ZK-lKqAn"
      },
      "outputs": [],
      "source": [
        "from transformers import pipeline"
      ]
    },
    {
      "cell_type": "code",
      "execution_count": null,
      "metadata": {
        "id": "PTNWb2YYKwfS",
        "colab": {
          "base_uri": "https://localhost:8080/"
        },
        "outputId": "c330f615-aed8-4c88-a5a6-55fda21f89db"
      },
      "outputs": [
        {
          "output_type": "stream",
          "name": "stdout",
          "text": [
            "[{'entity': 'B-GPE', 'score': 0.9995315, 'index': 1, 'word': 'Venezia', 'start': 0, 'end': 7}, {'entity': 'B-GPE', 'score': 0.9995683, 'index': 10, 'word': 'Venezia', 'start': 48, 'end': 55}, {'entity': 'B-PER', 'score': 0.99982125, 'index': 36, 'word': 'Anna', 'start': 196, 'end': 200}, {'entity': 'I-PER', 'score': 0.9993492, 'index': 37, 'word': 'Bon', 'start': 201, 'end': 204}, {'entity': 'I-PER', 'score': 0.9994987, 'index': 38, 'word': '##zan', 'start': 204, 'end': 207}, {'entity': 'I-PER', 'score': 0.99939036, 'index': 39, 'word': '##ino', 'start': 207, 'end': 210}, {'entity': 'B-PER', 'score': 0.99982506, 'index': 41, 'word': 'Chiara', 'start': 212, 'end': 218}, {'entity': 'I-PER', 'score': 0.99920195, 'index': 42, 'word': 'Campo', 'start': 219, 'end': 224}, {'entity': 'I-PER', 'score': 0.9993554, 'index': 43, 'word': '##res', 'start': 224, 'end': 227}, {'entity': 'I-PER', 'score': 0.99932134, 'index': 44, 'word': '##e', 'start': 227, 'end': 228}, {'entity': 'B-PER', 'score': 0.9998167, 'index': 46, 'word': 'Cecilia', 'start': 230, 'end': 237}, {'entity': 'I-PER', 'score': 0.9989563, 'index': 47, 'word': 'Via', 'start': 238, 'end': 241}, {'entity': 'I-PER', 'score': 0.99902546, 'index': 48, 'word': '##nello', 'start': 241, 'end': 246}, {'entity': 'B-GPE', 'score': 0.99936396, 'index': 79, 'word': 'Venezia', 'start': 380, 'end': 387}, {'entity': 'B-LOC', 'score': 0.9590296, 'index': 82, 'word': 'campo', 'start': 392, 'end': 397}, {'entity': 'I-LOC', 'score': 0.9728179, 'index': 83, 'word': 'Santa', 'start': 398, 'end': 403}, {'entity': 'I-LOC', 'score': 0.96413946, 'index': 84, 'word': 'Margherita', 'start': 404, 'end': 414}, {'entity': 'B-PER', 'score': 0.9998424, 'index': 116, 'word': 'Matteo', 'start': 588, 'end': 594}, {'entity': 'I-PER', 'score': 0.99950194, 'index': 117, 'word': 'Se', 'start': 595, 'end': 597}, {'entity': 'I-PER', 'score': 0.9994035, 'index': 118, 'word': '##cchi', 'start': 597, 'end': 601}, {'entity': 'B-PER', 'score': 0.9998486, 'index': 120, 'word': 'Maria', 'start': 603, 'end': 608}, {'entity': 'I-PER', 'score': 0.99954444, 'index': 121, 'word': 'Fian', 'start': 609, 'end': 613}, {'entity': 'I-PER', 'score': 0.9996258, 'index': 122, 'word': '##o', 'start': 613, 'end': 614}, {'entity': 'B-PER', 'score': 0.9998517, 'index': 124, 'word': 'Re', 'start': 617, 'end': 619}, {'entity': 'B-PER', 'score': 0.9998641, 'index': 125, 'word': '##mi', 'start': 619, 'end': 621}, {'entity': 'I-PER', 'score': 0.9993426, 'index': 126, 'word': 'Wa', 'start': 622, 'end': 624}, {'entity': 'I-PER', 'score': 0.99957985, 'index': 127, 'word': '##co', 'start': 624, 'end': 626}, {'entity': 'I-PER', 'score': 0.9994667, 'index': 128, 'word': '##gne', 'start': 626, 'end': 629}, {'entity': 'B-ORG', 'score': 0.9995834, 'index': 135, 'word': 'O', 'start': 673, 'end': 674}, {'entity': 'B-ORG', 'score': 0.999405, 'index': 136, 'word': '##CI', 'start': 674, 'end': 676}, {'entity': 'B-ORG', 'score': 0.9990074, 'index': 137, 'word': '##O', 'start': 676, 'end': 677}, {'entity': 'B-ORG', 'score': 0.9995067, 'index': 139, 'word': 'Vene', 'start': 680, 'end': 684}, {'entity': 'B-ORG', 'score': 0.9994691, 'index': 140, 'word': '##ssia', 'start': 684, 'end': 688}, {'entity': 'B-ORG', 'score': 0.9909864, 'index': 141, 'word': '.', 'start': 688, 'end': 689}, {'entity': 'I-ORG', 'score': 0.5231578, 'index': 142, 'word': 'com', 'start': 689, 'end': 692}, {'entity': 'B-GPE', 'score': 0.99950886, 'index': 154, 'word': 'Venezia', 'start': 760, 'end': 767}, {'entity': 'B-PER', 'score': 0.9998406, 'index': 184, 'word': 'Maria', 'start': 888, 'end': 893}, {'entity': 'I-PER', 'score': 0.99953616, 'index': 185, 'word': 'Fian', 'start': 894, 'end': 898}, {'entity': 'I-PER', 'score': 0.99958545, 'index': 186, 'word': '##o', 'start': 898, 'end': 899}, {'entity': 'B-ORG', 'score': 0.9996524, 'index': 192, 'word': 'Osserva', 'start': 916, 'end': 923}, {'entity': 'B-ORG', 'score': 0.999666, 'index': 193, 'word': '##torio', 'start': 923, 'end': 928}, {'entity': 'I-ORG', 'score': 0.9990287, 'index': 194, 'word': 'civico', 'start': 929, 'end': 935}, {'entity': 'I-ORG', 'score': 0.9957287, 'index': 195, 'word': 'sulla', 'start': 936, 'end': 941}, {'entity': 'I-ORG', 'score': 0.9970439, 'index': 196, 'word': 'casa', 'start': 942, 'end': 946}, {'entity': 'I-ORG', 'score': 0.99424696, 'index': 197, 'word': 'e', 'start': 947, 'end': 948}, {'entity': 'I-ORG', 'score': 0.99550086, 'index': 198, 'word': 'la', 'start': 949, 'end': 951}, {'entity': 'I-ORG', 'score': 0.8588746, 'index': 199, 'word': 'residenza', 'start': 952, 'end': 961}, {'entity': 'B-ORG', 'score': 0.99974626, 'index': 201, 'word': 'O', 'start': 963, 'end': 964}, {'entity': 'B-ORG', 'score': 0.9997297, 'index': 202, 'word': '##CI', 'start': 964, 'end': 966}, {'entity': 'B-ORG', 'score': 0.99971384, 'index': 203, 'word': '##O', 'start': 966, 'end': 967}, {'entity': 'B-ORG', 'score': 0.99974257, 'index': 212, 'word': 'O', 'start': 998, 'end': 999}, {'entity': 'B-ORG', 'score': 0.9997745, 'index': 213, 'word': '##CI', 'start': 999, 'end': 1001}, {'entity': 'B-ORG', 'score': 0.99977297, 'index': 214, 'word': '##O', 'start': 1001, 'end': 1002}, {'entity': 'B-ORG', 'score': 0.9993204, 'index': 232, 'word': 'Vene', 'start': 1088, 'end': 1092}, {'entity': 'B-ORG', 'score': 0.9994355, 'index': 233, 'word': '##ssia', 'start': 1092, 'end': 1096}, {'entity': 'B-ORG', 'score': 0.94948137, 'index': 234, 'word': '.', 'start': 1096, 'end': 1097}, {'entity': 'I-ORG', 'score': 0.69045097, 'index': 235, 'word': 'com', 'start': 1097, 'end': 1100}, {'entity': 'B-LOC', 'score': 0.9984388, 'index': 237, 'word': 'Campo', 'start': 1104, 'end': 1109}, {'entity': 'I-LOC', 'score': 0.99183476, 'index': 238, 'word': 'San', 'start': 1110, 'end': 1113}, {'entity': 'I-LOC', 'score': 0.99257225, 'index': 239, 'word': 'Bor', 'start': 1114, 'end': 1117}, {'entity': 'I-LOC', 'score': 0.9934862, 'index': 240, 'word': '##tolo', 'start': 1117, 'end': 1121}, {'entity': 'I-LOC', 'score': 0.98703396, 'index': 241, 'word': '##mio', 'start': 1121, 'end': 1124}, {'entity': 'B-GPE', 'score': 0.9995351, 'index': 254, 'word': 'Venezia', 'start': 1176, 'end': 1183}, {'entity': 'B-GPE', 'score': 0.99957484, 'index': 311, 'word': 'Venezia', 'start': 1453, 'end': 1460}, {'entity': 'B-PER', 'score': 0.99984086, 'index': 326, 'word': 'Matteo', 'start': 1533, 'end': 1539}, {'entity': 'I-PER', 'score': 0.99951315, 'index': 327, 'word': 'Se', 'start': 1540, 'end': 1542}, {'entity': 'I-PER', 'score': 0.99936205, 'index': 328, 'word': '##cchi', 'start': 1542, 'end': 1546}, {'entity': 'B-ORG', 'score': 0.99966466, 'index': 332, 'word': 'Vene', 'start': 1558, 'end': 1562}, {'entity': 'B-ORG', 'score': 0.9996636, 'index': 333, 'word': '##ssia', 'start': 1562, 'end': 1566}, {'entity': 'B-ORG', 'score': 0.96912706, 'index': 334, 'word': '.', 'start': 1566, 'end': 1567}, {'entity': 'I-ORG', 'score': 0.7532182, 'index': 335, 'word': 'com', 'start': 1567, 'end': 1570}, {'entity': 'B-GPE', 'score': 0.99959904, 'index': 366, 'word': 'Venezia', 'start': 1726, 'end': 1733}, {'entity': 'B-GPE', 'score': 0.9996407, 'index': 393, 'word': 'Venezia', 'start': 1863, 'end': 1870}, {'entity': 'B-ORG', 'score': 0.9997004, 'index': 488, 'word': 'O', 'start': 2349, 'end': 2350}, {'entity': 'B-ORG', 'score': 0.99964464, 'index': 489, 'word': '##CI', 'start': 2350, 'end': 2352}, {'entity': 'B-ORG', 'score': 0.99948597, 'index': 490, 'word': '##O', 'start': 2352, 'end': 2353}, {'entity': 'B-ORG', 'score': 0.9997105, 'index': 502, 'word': 'O', 'start': 2405, 'end': 2406}, {'entity': 'B-ORG', 'score': 0.9997414, 'index': 503, 'word': '##CI', 'start': 2406, 'end': 2408}, {'entity': 'B-ORG', 'score': 0.99968493, 'index': 504, 'word': '##O', 'start': 2408, 'end': 2409}, {'entity': 'I-ORG', 'score': 0.99744886, 'index': 505, 'word': 'Venezia', 'start': 2410, 'end': 2417}]\n"
          ]
        }
      ],
      "source": [
        "nlp = pipeline(\"ner\", model=model_fine_tuned, tokenizer=tokenizer)\n",
        "\n",
        "example = \"/content/articolo_scomodo.txt\"\n",
        "\n",
        "with open(example, 'r') as file:\n",
        "    content = file.read()\n",
        "    ner_results = nlp(content)\n",
        "\n",
        "print(ner_results)"
      ]
    }
  ],
  "metadata": {
    "accelerator": "GPU",
    "colab": {
      "provenance": [],
      "include_colab_link": true
    },
    "kernelspec": {
      "display_name": "Python 3",
      "name": "python3"
    },
    "language_info": {
      "name": "python"
    },
    "widgets": {
      "application/vnd.jupyter.widget-state+json": {
        "186bcc14d837484fb7d71ba2d4edd868": {
          "model_module": "@jupyter-widgets/controls",
          "model_name": "HBoxModel",
          "model_module_version": "1.5.0",
          "state": {
            "_dom_classes": [],
            "_model_module": "@jupyter-widgets/controls",
            "_model_module_version": "1.5.0",
            "_model_name": "HBoxModel",
            "_view_count": null,
            "_view_module": "@jupyter-widgets/controls",
            "_view_module_version": "1.5.0",
            "_view_name": "HBoxView",
            "box_style": "",
            "children": [
              "IPY_MODEL_3d68080f77b541269373ccee984e3376",
              "IPY_MODEL_45ba187d5ea94f3da013637f75535786",
              "IPY_MODEL_7e46f70900644a6da969ae610c8e91b0"
            ],
            "layout": "IPY_MODEL_124989dbe21e4798937eee19020c24e1"
          }
        },
        "3d68080f77b541269373ccee984e3376": {
          "model_module": "@jupyter-widgets/controls",
          "model_name": "HTMLModel",
          "model_module_version": "1.5.0",
          "state": {
            "_dom_classes": [],
            "_model_module": "@jupyter-widgets/controls",
            "_model_module_version": "1.5.0",
            "_model_name": "HTMLModel",
            "_view_count": null,
            "_view_module": "@jupyter-widgets/controls",
            "_view_module_version": "1.5.0",
            "_view_name": "HTMLView",
            "description": "",
            "description_tooltip": null,
            "layout": "IPY_MODEL_5d9b951b80ef40aa82f1aecaf55fc2d7",
            "placeholder": "​",
            "style": "IPY_MODEL_0761269837b5405b9ca9423aee889b35",
            "value": "Map: 100%"
          }
        },
        "45ba187d5ea94f3da013637f75535786": {
          "model_module": "@jupyter-widgets/controls",
          "model_name": "FloatProgressModel",
          "model_module_version": "1.5.0",
          "state": {
            "_dom_classes": [],
            "_model_module": "@jupyter-widgets/controls",
            "_model_module_version": "1.5.0",
            "_model_name": "FloatProgressModel",
            "_view_count": null,
            "_view_module": "@jupyter-widgets/controls",
            "_view_module_version": "1.5.0",
            "_view_name": "ProgressView",
            "bar_style": "success",
            "description": "",
            "description_tooltip": null,
            "layout": "IPY_MODEL_f1185cd1054343acb636594d1475c66a",
            "max": 11227,
            "min": 0,
            "orientation": "horizontal",
            "style": "IPY_MODEL_24fe6ea26ac44a5da776ebb4040fad7b",
            "value": 11227
          }
        },
        "7e46f70900644a6da969ae610c8e91b0": {
          "model_module": "@jupyter-widgets/controls",
          "model_name": "HTMLModel",
          "model_module_version": "1.5.0",
          "state": {
            "_dom_classes": [],
            "_model_module": "@jupyter-widgets/controls",
            "_model_module_version": "1.5.0",
            "_model_name": "HTMLModel",
            "_view_count": null,
            "_view_module": "@jupyter-widgets/controls",
            "_view_module_version": "1.5.0",
            "_view_name": "HTMLView",
            "description": "",
            "description_tooltip": null,
            "layout": "IPY_MODEL_30c8301dce9a45b1a73a7ace4f23cf5e",
            "placeholder": "​",
            "style": "IPY_MODEL_80f25080c113495da8ea57b288ade04d",
            "value": " 11227/11227 [00:03&lt;00:00, 3255.71 examples/s]"
          }
        },
        "124989dbe21e4798937eee19020c24e1": {
          "model_module": "@jupyter-widgets/base",
          "model_name": "LayoutModel",
          "model_module_version": "1.2.0",
          "state": {
            "_model_module": "@jupyter-widgets/base",
            "_model_module_version": "1.2.0",
            "_model_name": "LayoutModel",
            "_view_count": null,
            "_view_module": "@jupyter-widgets/base",
            "_view_module_version": "1.2.0",
            "_view_name": "LayoutView",
            "align_content": null,
            "align_items": null,
            "align_self": null,
            "border": null,
            "bottom": null,
            "display": null,
            "flex": null,
            "flex_flow": null,
            "grid_area": null,
            "grid_auto_columns": null,
            "grid_auto_flow": null,
            "grid_auto_rows": null,
            "grid_column": null,
            "grid_gap": null,
            "grid_row": null,
            "grid_template_areas": null,
            "grid_template_columns": null,
            "grid_template_rows": null,
            "height": null,
            "justify_content": null,
            "justify_items": null,
            "left": null,
            "margin": null,
            "max_height": null,
            "max_width": null,
            "min_height": null,
            "min_width": null,
            "object_fit": null,
            "object_position": null,
            "order": null,
            "overflow": null,
            "overflow_x": null,
            "overflow_y": null,
            "padding": null,
            "right": null,
            "top": null,
            "visibility": null,
            "width": null
          }
        },
        "5d9b951b80ef40aa82f1aecaf55fc2d7": {
          "model_module": "@jupyter-widgets/base",
          "model_name": "LayoutModel",
          "model_module_version": "1.2.0",
          "state": {
            "_model_module": "@jupyter-widgets/base",
            "_model_module_version": "1.2.0",
            "_model_name": "LayoutModel",
            "_view_count": null,
            "_view_module": "@jupyter-widgets/base",
            "_view_module_version": "1.2.0",
            "_view_name": "LayoutView",
            "align_content": null,
            "align_items": null,
            "align_self": null,
            "border": null,
            "bottom": null,
            "display": null,
            "flex": null,
            "flex_flow": null,
            "grid_area": null,
            "grid_auto_columns": null,
            "grid_auto_flow": null,
            "grid_auto_rows": null,
            "grid_column": null,
            "grid_gap": null,
            "grid_row": null,
            "grid_template_areas": null,
            "grid_template_columns": null,
            "grid_template_rows": null,
            "height": null,
            "justify_content": null,
            "justify_items": null,
            "left": null,
            "margin": null,
            "max_height": null,
            "max_width": null,
            "min_height": null,
            "min_width": null,
            "object_fit": null,
            "object_position": null,
            "order": null,
            "overflow": null,
            "overflow_x": null,
            "overflow_y": null,
            "padding": null,
            "right": null,
            "top": null,
            "visibility": null,
            "width": null
          }
        },
        "0761269837b5405b9ca9423aee889b35": {
          "model_module": "@jupyter-widgets/controls",
          "model_name": "DescriptionStyleModel",
          "model_module_version": "1.5.0",
          "state": {
            "_model_module": "@jupyter-widgets/controls",
            "_model_module_version": "1.5.0",
            "_model_name": "DescriptionStyleModel",
            "_view_count": null,
            "_view_module": "@jupyter-widgets/base",
            "_view_module_version": "1.2.0",
            "_view_name": "StyleView",
            "description_width": ""
          }
        },
        "f1185cd1054343acb636594d1475c66a": {
          "model_module": "@jupyter-widgets/base",
          "model_name": "LayoutModel",
          "model_module_version": "1.2.0",
          "state": {
            "_model_module": "@jupyter-widgets/base",
            "_model_module_version": "1.2.0",
            "_model_name": "LayoutModel",
            "_view_count": null,
            "_view_module": "@jupyter-widgets/base",
            "_view_module_version": "1.2.0",
            "_view_name": "LayoutView",
            "align_content": null,
            "align_items": null,
            "align_self": null,
            "border": null,
            "bottom": null,
            "display": null,
            "flex": null,
            "flex_flow": null,
            "grid_area": null,
            "grid_auto_columns": null,
            "grid_auto_flow": null,
            "grid_auto_rows": null,
            "grid_column": null,
            "grid_gap": null,
            "grid_row": null,
            "grid_template_areas": null,
            "grid_template_columns": null,
            "grid_template_rows": null,
            "height": null,
            "justify_content": null,
            "justify_items": null,
            "left": null,
            "margin": null,
            "max_height": null,
            "max_width": null,
            "min_height": null,
            "min_width": null,
            "object_fit": null,
            "object_position": null,
            "order": null,
            "overflow": null,
            "overflow_x": null,
            "overflow_y": null,
            "padding": null,
            "right": null,
            "top": null,
            "visibility": null,
            "width": null
          }
        },
        "24fe6ea26ac44a5da776ebb4040fad7b": {
          "model_module": "@jupyter-widgets/controls",
          "model_name": "ProgressStyleModel",
          "model_module_version": "1.5.0",
          "state": {
            "_model_module": "@jupyter-widgets/controls",
            "_model_module_version": "1.5.0",
            "_model_name": "ProgressStyleModel",
            "_view_count": null,
            "_view_module": "@jupyter-widgets/base",
            "_view_module_version": "1.2.0",
            "_view_name": "StyleView",
            "bar_color": null,
            "description_width": ""
          }
        },
        "30c8301dce9a45b1a73a7ace4f23cf5e": {
          "model_module": "@jupyter-widgets/base",
          "model_name": "LayoutModel",
          "model_module_version": "1.2.0",
          "state": {
            "_model_module": "@jupyter-widgets/base",
            "_model_module_version": "1.2.0",
            "_model_name": "LayoutModel",
            "_view_count": null,
            "_view_module": "@jupyter-widgets/base",
            "_view_module_version": "1.2.0",
            "_view_name": "LayoutView",
            "align_content": null,
            "align_items": null,
            "align_self": null,
            "border": null,
            "bottom": null,
            "display": null,
            "flex": null,
            "flex_flow": null,
            "grid_area": null,
            "grid_auto_columns": null,
            "grid_auto_flow": null,
            "grid_auto_rows": null,
            "grid_column": null,
            "grid_gap": null,
            "grid_row": null,
            "grid_template_areas": null,
            "grid_template_columns": null,
            "grid_template_rows": null,
            "height": null,
            "justify_content": null,
            "justify_items": null,
            "left": null,
            "margin": null,
            "max_height": null,
            "max_width": null,
            "min_height": null,
            "min_width": null,
            "object_fit": null,
            "object_position": null,
            "order": null,
            "overflow": null,
            "overflow_x": null,
            "overflow_y": null,
            "padding": null,
            "right": null,
            "top": null,
            "visibility": null,
            "width": null
          }
        },
        "80f25080c113495da8ea57b288ade04d": {
          "model_module": "@jupyter-widgets/controls",
          "model_name": "DescriptionStyleModel",
          "model_module_version": "1.5.0",
          "state": {
            "_model_module": "@jupyter-widgets/controls",
            "_model_module_version": "1.5.0",
            "_model_name": "DescriptionStyleModel",
            "_view_count": null,
            "_view_module": "@jupyter-widgets/base",
            "_view_module_version": "1.2.0",
            "_view_name": "StyleView",
            "description_width": ""
          }
        },
        "efdfcc7b572345f9bd31b64b9a260d3a": {
          "model_module": "@jupyter-widgets/controls",
          "model_name": "HBoxModel",
          "model_module_version": "1.5.0",
          "state": {
            "_dom_classes": [],
            "_model_module": "@jupyter-widgets/controls",
            "_model_module_version": "1.5.0",
            "_model_name": "HBoxModel",
            "_view_count": null,
            "_view_module": "@jupyter-widgets/controls",
            "_view_module_version": "1.5.0",
            "_view_name": "HBoxView",
            "box_style": "",
            "children": [
              "IPY_MODEL_25cfbfbc61df48f5ac412ee418338468",
              "IPY_MODEL_e0eafa4dc9b240129bc35b1a75968ee0",
              "IPY_MODEL_b93de2330db34c1dab743be737cc0c38"
            ],
            "layout": "IPY_MODEL_5d0e45c795b94450ab811c62bac1083a"
          }
        },
        "25cfbfbc61df48f5ac412ee418338468": {
          "model_module": "@jupyter-widgets/controls",
          "model_name": "HTMLModel",
          "model_module_version": "1.5.0",
          "state": {
            "_dom_classes": [],
            "_model_module": "@jupyter-widgets/controls",
            "_model_module_version": "1.5.0",
            "_model_name": "HTMLModel",
            "_view_count": null,
            "_view_module": "@jupyter-widgets/controls",
            "_view_module_version": "1.5.0",
            "_view_name": "HTMLView",
            "description": "",
            "description_tooltip": null,
            "layout": "IPY_MODEL_5712ed56f875495aaf057a9bd929bc93",
            "placeholder": "​",
            "style": "IPY_MODEL_c276c63e87be418a8acfe2e9b7228680",
            "value": "Map: 100%"
          }
        },
        "e0eafa4dc9b240129bc35b1a75968ee0": {
          "model_module": "@jupyter-widgets/controls",
          "model_name": "FloatProgressModel",
          "model_module_version": "1.5.0",
          "state": {
            "_dom_classes": [],
            "_model_module": "@jupyter-widgets/controls",
            "_model_module_version": "1.5.0",
            "_model_name": "FloatProgressModel",
            "_view_count": null,
            "_view_module": "@jupyter-widgets/controls",
            "_view_module_version": "1.5.0",
            "_view_name": "ProgressView",
            "bar_style": "success",
            "description": "",
            "description_tooltip": null,
            "layout": "IPY_MODEL_02c0eb49fb68479ba3f84677a128037e",
            "max": 4136,
            "min": 0,
            "orientation": "horizontal",
            "style": "IPY_MODEL_c455d346097041d0a11fa1a46e23114c",
            "value": 4136
          }
        },
        "b93de2330db34c1dab743be737cc0c38": {
          "model_module": "@jupyter-widgets/controls",
          "model_name": "HTMLModel",
          "model_module_version": "1.5.0",
          "state": {
            "_dom_classes": [],
            "_model_module": "@jupyter-widgets/controls",
            "_model_module_version": "1.5.0",
            "_model_name": "HTMLModel",
            "_view_count": null,
            "_view_module": "@jupyter-widgets/controls",
            "_view_module_version": "1.5.0",
            "_view_name": "HTMLView",
            "description": "",
            "description_tooltip": null,
            "layout": "IPY_MODEL_856bb82cb799421c9fb12f45c3aa3693",
            "placeholder": "​",
            "style": "IPY_MODEL_58e977abd1254bf4bc84e05b52db06b1",
            "value": " 4136/4136 [00:01&lt;00:00, 2091.77 examples/s]"
          }
        },
        "5d0e45c795b94450ab811c62bac1083a": {
          "model_module": "@jupyter-widgets/base",
          "model_name": "LayoutModel",
          "model_module_version": "1.2.0",
          "state": {
            "_model_module": "@jupyter-widgets/base",
            "_model_module_version": "1.2.0",
            "_model_name": "LayoutModel",
            "_view_count": null,
            "_view_module": "@jupyter-widgets/base",
            "_view_module_version": "1.2.0",
            "_view_name": "LayoutView",
            "align_content": null,
            "align_items": null,
            "align_self": null,
            "border": null,
            "bottom": null,
            "display": null,
            "flex": null,
            "flex_flow": null,
            "grid_area": null,
            "grid_auto_columns": null,
            "grid_auto_flow": null,
            "grid_auto_rows": null,
            "grid_column": null,
            "grid_gap": null,
            "grid_row": null,
            "grid_template_areas": null,
            "grid_template_columns": null,
            "grid_template_rows": null,
            "height": null,
            "justify_content": null,
            "justify_items": null,
            "left": null,
            "margin": null,
            "max_height": null,
            "max_width": null,
            "min_height": null,
            "min_width": null,
            "object_fit": null,
            "object_position": null,
            "order": null,
            "overflow": null,
            "overflow_x": null,
            "overflow_y": null,
            "padding": null,
            "right": null,
            "top": null,
            "visibility": null,
            "width": null
          }
        },
        "5712ed56f875495aaf057a9bd929bc93": {
          "model_module": "@jupyter-widgets/base",
          "model_name": "LayoutModel",
          "model_module_version": "1.2.0",
          "state": {
            "_model_module": "@jupyter-widgets/base",
            "_model_module_version": "1.2.0",
            "_model_name": "LayoutModel",
            "_view_count": null,
            "_view_module": "@jupyter-widgets/base",
            "_view_module_version": "1.2.0",
            "_view_name": "LayoutView",
            "align_content": null,
            "align_items": null,
            "align_self": null,
            "border": null,
            "bottom": null,
            "display": null,
            "flex": null,
            "flex_flow": null,
            "grid_area": null,
            "grid_auto_columns": null,
            "grid_auto_flow": null,
            "grid_auto_rows": null,
            "grid_column": null,
            "grid_gap": null,
            "grid_row": null,
            "grid_template_areas": null,
            "grid_template_columns": null,
            "grid_template_rows": null,
            "height": null,
            "justify_content": null,
            "justify_items": null,
            "left": null,
            "margin": null,
            "max_height": null,
            "max_width": null,
            "min_height": null,
            "min_width": null,
            "object_fit": null,
            "object_position": null,
            "order": null,
            "overflow": null,
            "overflow_x": null,
            "overflow_y": null,
            "padding": null,
            "right": null,
            "top": null,
            "visibility": null,
            "width": null
          }
        },
        "c276c63e87be418a8acfe2e9b7228680": {
          "model_module": "@jupyter-widgets/controls",
          "model_name": "DescriptionStyleModel",
          "model_module_version": "1.5.0",
          "state": {
            "_model_module": "@jupyter-widgets/controls",
            "_model_module_version": "1.5.0",
            "_model_name": "DescriptionStyleModel",
            "_view_count": null,
            "_view_module": "@jupyter-widgets/base",
            "_view_module_version": "1.2.0",
            "_view_name": "StyleView",
            "description_width": ""
          }
        },
        "02c0eb49fb68479ba3f84677a128037e": {
          "model_module": "@jupyter-widgets/base",
          "model_name": "LayoutModel",
          "model_module_version": "1.2.0",
          "state": {
            "_model_module": "@jupyter-widgets/base",
            "_model_module_version": "1.2.0",
            "_model_name": "LayoutModel",
            "_view_count": null,
            "_view_module": "@jupyter-widgets/base",
            "_view_module_version": "1.2.0",
            "_view_name": "LayoutView",
            "align_content": null,
            "align_items": null,
            "align_self": null,
            "border": null,
            "bottom": null,
            "display": null,
            "flex": null,
            "flex_flow": null,
            "grid_area": null,
            "grid_auto_columns": null,
            "grid_auto_flow": null,
            "grid_auto_rows": null,
            "grid_column": null,
            "grid_gap": null,
            "grid_row": null,
            "grid_template_areas": null,
            "grid_template_columns": null,
            "grid_template_rows": null,
            "height": null,
            "justify_content": null,
            "justify_items": null,
            "left": null,
            "margin": null,
            "max_height": null,
            "max_width": null,
            "min_height": null,
            "min_width": null,
            "object_fit": null,
            "object_position": null,
            "order": null,
            "overflow": null,
            "overflow_x": null,
            "overflow_y": null,
            "padding": null,
            "right": null,
            "top": null,
            "visibility": null,
            "width": null
          }
        },
        "c455d346097041d0a11fa1a46e23114c": {
          "model_module": "@jupyter-widgets/controls",
          "model_name": "ProgressStyleModel",
          "model_module_version": "1.5.0",
          "state": {
            "_model_module": "@jupyter-widgets/controls",
            "_model_module_version": "1.5.0",
            "_model_name": "ProgressStyleModel",
            "_view_count": null,
            "_view_module": "@jupyter-widgets/base",
            "_view_module_version": "1.2.0",
            "_view_name": "StyleView",
            "bar_color": null,
            "description_width": ""
          }
        },
        "856bb82cb799421c9fb12f45c3aa3693": {
          "model_module": "@jupyter-widgets/base",
          "model_name": "LayoutModel",
          "model_module_version": "1.2.0",
          "state": {
            "_model_module": "@jupyter-widgets/base",
            "_model_module_version": "1.2.0",
            "_model_name": "LayoutModel",
            "_view_count": null,
            "_view_module": "@jupyter-widgets/base",
            "_view_module_version": "1.2.0",
            "_view_name": "LayoutView",
            "align_content": null,
            "align_items": null,
            "align_self": null,
            "border": null,
            "bottom": null,
            "display": null,
            "flex": null,
            "flex_flow": null,
            "grid_area": null,
            "grid_auto_columns": null,
            "grid_auto_flow": null,
            "grid_auto_rows": null,
            "grid_column": null,
            "grid_gap": null,
            "grid_row": null,
            "grid_template_areas": null,
            "grid_template_columns": null,
            "grid_template_rows": null,
            "height": null,
            "justify_content": null,
            "justify_items": null,
            "left": null,
            "margin": null,
            "max_height": null,
            "max_width": null,
            "min_height": null,
            "min_width": null,
            "object_fit": null,
            "object_position": null,
            "order": null,
            "overflow": null,
            "overflow_x": null,
            "overflow_y": null,
            "padding": null,
            "right": null,
            "top": null,
            "visibility": null,
            "width": null
          }
        },
        "58e977abd1254bf4bc84e05b52db06b1": {
          "model_module": "@jupyter-widgets/controls",
          "model_name": "DescriptionStyleModel",
          "model_module_version": "1.5.0",
          "state": {
            "_model_module": "@jupyter-widgets/controls",
            "_model_module_version": "1.5.0",
            "_model_name": "DescriptionStyleModel",
            "_view_count": null,
            "_view_module": "@jupyter-widgets/base",
            "_view_module_version": "1.2.0",
            "_view_name": "StyleView",
            "description_width": ""
          }
        },
        "e7574ee050e24958bf0fd66b41f133f9": {
          "model_module": "@jupyter-widgets/controls",
          "model_name": "HBoxModel",
          "model_module_version": "1.5.0",
          "state": {
            "_dom_classes": [],
            "_model_module": "@jupyter-widgets/controls",
            "_model_module_version": "1.5.0",
            "_model_name": "HBoxModel",
            "_view_count": null,
            "_view_module": "@jupyter-widgets/controls",
            "_view_module_version": "1.5.0",
            "_view_name": "HBoxView",
            "box_style": "",
            "children": [
              "IPY_MODEL_3666c1a03a3447de88cb75e7fb31ba1c",
              "IPY_MODEL_08c2fd710a7445f38f4aa274669f7de1",
              "IPY_MODEL_0b54f1fa2d5b470ebd9e7854d2dcc882"
            ],
            "layout": "IPY_MODEL_2b43965618c74260937c048c8de50e9f"
          }
        },
        "3666c1a03a3447de88cb75e7fb31ba1c": {
          "model_module": "@jupyter-widgets/controls",
          "model_name": "HTMLModel",
          "model_module_version": "1.5.0",
          "state": {
            "_dom_classes": [],
            "_model_module": "@jupyter-widgets/controls",
            "_model_module_version": "1.5.0",
            "_model_name": "HTMLModel",
            "_view_count": null,
            "_view_module": "@jupyter-widgets/controls",
            "_view_module_version": "1.5.0",
            "_view_name": "HTMLView",
            "description": "",
            "description_tooltip": null,
            "layout": "IPY_MODEL_d9b037cfabff4e4f8812a71377b3b021",
            "placeholder": "​",
            "style": "IPY_MODEL_b64ae77e5c224793ae57dd163385edf9",
            "value": "Downloading builder script: "
          }
        },
        "08c2fd710a7445f38f4aa274669f7de1": {
          "model_module": "@jupyter-widgets/controls",
          "model_name": "FloatProgressModel",
          "model_module_version": "1.5.0",
          "state": {
            "_dom_classes": [],
            "_model_module": "@jupyter-widgets/controls",
            "_model_module_version": "1.5.0",
            "_model_name": "FloatProgressModel",
            "_view_count": null,
            "_view_module": "@jupyter-widgets/controls",
            "_view_module_version": "1.5.0",
            "_view_name": "ProgressView",
            "bar_style": "success",
            "description": "",
            "description_tooltip": null,
            "layout": "IPY_MODEL_0288e1ffd5f54497b401d95be1de90bd",
            "max": 2472,
            "min": 0,
            "orientation": "horizontal",
            "style": "IPY_MODEL_4f44d83c1de04c3eae576a73cde27706",
            "value": 2472
          }
        },
        "0b54f1fa2d5b470ebd9e7854d2dcc882": {
          "model_module": "@jupyter-widgets/controls",
          "model_name": "HTMLModel",
          "model_module_version": "1.5.0",
          "state": {
            "_dom_classes": [],
            "_model_module": "@jupyter-widgets/controls",
            "_model_module_version": "1.5.0",
            "_model_name": "HTMLModel",
            "_view_count": null,
            "_view_module": "@jupyter-widgets/controls",
            "_view_module_version": "1.5.0",
            "_view_name": "HTMLView",
            "description": "",
            "description_tooltip": null,
            "layout": "IPY_MODEL_584682d2359a45898f108697a22f0f97",
            "placeholder": "​",
            "style": "IPY_MODEL_051f2195974e46d09d815f4b4507f2cb",
            "value": " 6.33k/? [00:00&lt;00:00, 224kB/s]"
          }
        },
        "2b43965618c74260937c048c8de50e9f": {
          "model_module": "@jupyter-widgets/base",
          "model_name": "LayoutModel",
          "model_module_version": "1.2.0",
          "state": {
            "_model_module": "@jupyter-widgets/base",
            "_model_module_version": "1.2.0",
            "_model_name": "LayoutModel",
            "_view_count": null,
            "_view_module": "@jupyter-widgets/base",
            "_view_module_version": "1.2.0",
            "_view_name": "LayoutView",
            "align_content": null,
            "align_items": null,
            "align_self": null,
            "border": null,
            "bottom": null,
            "display": null,
            "flex": null,
            "flex_flow": null,
            "grid_area": null,
            "grid_auto_columns": null,
            "grid_auto_flow": null,
            "grid_auto_rows": null,
            "grid_column": null,
            "grid_gap": null,
            "grid_row": null,
            "grid_template_areas": null,
            "grid_template_columns": null,
            "grid_template_rows": null,
            "height": null,
            "justify_content": null,
            "justify_items": null,
            "left": null,
            "margin": null,
            "max_height": null,
            "max_width": null,
            "min_height": null,
            "min_width": null,
            "object_fit": null,
            "object_position": null,
            "order": null,
            "overflow": null,
            "overflow_x": null,
            "overflow_y": null,
            "padding": null,
            "right": null,
            "top": null,
            "visibility": null,
            "width": null
          }
        },
        "d9b037cfabff4e4f8812a71377b3b021": {
          "model_module": "@jupyter-widgets/base",
          "model_name": "LayoutModel",
          "model_module_version": "1.2.0",
          "state": {
            "_model_module": "@jupyter-widgets/base",
            "_model_module_version": "1.2.0",
            "_model_name": "LayoutModel",
            "_view_count": null,
            "_view_module": "@jupyter-widgets/base",
            "_view_module_version": "1.2.0",
            "_view_name": "LayoutView",
            "align_content": null,
            "align_items": null,
            "align_self": null,
            "border": null,
            "bottom": null,
            "display": null,
            "flex": null,
            "flex_flow": null,
            "grid_area": null,
            "grid_auto_columns": null,
            "grid_auto_flow": null,
            "grid_auto_rows": null,
            "grid_column": null,
            "grid_gap": null,
            "grid_row": null,
            "grid_template_areas": null,
            "grid_template_columns": null,
            "grid_template_rows": null,
            "height": null,
            "justify_content": null,
            "justify_items": null,
            "left": null,
            "margin": null,
            "max_height": null,
            "max_width": null,
            "min_height": null,
            "min_width": null,
            "object_fit": null,
            "object_position": null,
            "order": null,
            "overflow": null,
            "overflow_x": null,
            "overflow_y": null,
            "padding": null,
            "right": null,
            "top": null,
            "visibility": null,
            "width": null
          }
        },
        "b64ae77e5c224793ae57dd163385edf9": {
          "model_module": "@jupyter-widgets/controls",
          "model_name": "DescriptionStyleModel",
          "model_module_version": "1.5.0",
          "state": {
            "_model_module": "@jupyter-widgets/controls",
            "_model_module_version": "1.5.0",
            "_model_name": "DescriptionStyleModel",
            "_view_count": null,
            "_view_module": "@jupyter-widgets/base",
            "_view_module_version": "1.2.0",
            "_view_name": "StyleView",
            "description_width": ""
          }
        },
        "0288e1ffd5f54497b401d95be1de90bd": {
          "model_module": "@jupyter-widgets/base",
          "model_name": "LayoutModel",
          "model_module_version": "1.2.0",
          "state": {
            "_model_module": "@jupyter-widgets/base",
            "_model_module_version": "1.2.0",
            "_model_name": "LayoutModel",
            "_view_count": null,
            "_view_module": "@jupyter-widgets/base",
            "_view_module_version": "1.2.0",
            "_view_name": "LayoutView",
            "align_content": null,
            "align_items": null,
            "align_self": null,
            "border": null,
            "bottom": null,
            "display": null,
            "flex": null,
            "flex_flow": null,
            "grid_area": null,
            "grid_auto_columns": null,
            "grid_auto_flow": null,
            "grid_auto_rows": null,
            "grid_column": null,
            "grid_gap": null,
            "grid_row": null,
            "grid_template_areas": null,
            "grid_template_columns": null,
            "grid_template_rows": null,
            "height": null,
            "justify_content": null,
            "justify_items": null,
            "left": null,
            "margin": null,
            "max_height": null,
            "max_width": null,
            "min_height": null,
            "min_width": null,
            "object_fit": null,
            "object_position": null,
            "order": null,
            "overflow": null,
            "overflow_x": null,
            "overflow_y": null,
            "padding": null,
            "right": null,
            "top": null,
            "visibility": null,
            "width": null
          }
        },
        "4f44d83c1de04c3eae576a73cde27706": {
          "model_module": "@jupyter-widgets/controls",
          "model_name": "ProgressStyleModel",
          "model_module_version": "1.5.0",
          "state": {
            "_model_module": "@jupyter-widgets/controls",
            "_model_module_version": "1.5.0",
            "_model_name": "ProgressStyleModel",
            "_view_count": null,
            "_view_module": "@jupyter-widgets/base",
            "_view_module_version": "1.2.0",
            "_view_name": "StyleView",
            "bar_color": null,
            "description_width": ""
          }
        },
        "584682d2359a45898f108697a22f0f97": {
          "model_module": "@jupyter-widgets/base",
          "model_name": "LayoutModel",
          "model_module_version": "1.2.0",
          "state": {
            "_model_module": "@jupyter-widgets/base",
            "_model_module_version": "1.2.0",
            "_model_name": "LayoutModel",
            "_view_count": null,
            "_view_module": "@jupyter-widgets/base",
            "_view_module_version": "1.2.0",
            "_view_name": "LayoutView",
            "align_content": null,
            "align_items": null,
            "align_self": null,
            "border": null,
            "bottom": null,
            "display": null,
            "flex": null,
            "flex_flow": null,
            "grid_area": null,
            "grid_auto_columns": null,
            "grid_auto_flow": null,
            "grid_auto_rows": null,
            "grid_column": null,
            "grid_gap": null,
            "grid_row": null,
            "grid_template_areas": null,
            "grid_template_columns": null,
            "grid_template_rows": null,
            "height": null,
            "justify_content": null,
            "justify_items": null,
            "left": null,
            "margin": null,
            "max_height": null,
            "max_width": null,
            "min_height": null,
            "min_width": null,
            "object_fit": null,
            "object_position": null,
            "order": null,
            "overflow": null,
            "overflow_x": null,
            "overflow_y": null,
            "padding": null,
            "right": null,
            "top": null,
            "visibility": null,
            "width": null
          }
        },
        "051f2195974e46d09d815f4b4507f2cb": {
          "model_module": "@jupyter-widgets/controls",
          "model_name": "DescriptionStyleModel",
          "model_module_version": "1.5.0",
          "state": {
            "_model_module": "@jupyter-widgets/controls",
            "_model_module_version": "1.5.0",
            "_model_name": "DescriptionStyleModel",
            "_view_count": null,
            "_view_module": "@jupyter-widgets/base",
            "_view_module_version": "1.2.0",
            "_view_name": "StyleView",
            "description_width": ""
          }
        }
      }
    }
  },
  "nbformat": 4,
  "nbformat_minor": 0
}